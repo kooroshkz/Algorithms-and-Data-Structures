{
 "cells": [
  {
   "cell_type": "markdown",
   "id": "23475a6f",
   "metadata": {
    "editable": false,
    "slideshow": {
     "slide_type": ""
    },
    "tags": []
   },
   "source": [
    "# Welcome to Lab 11: Greedy Algorithms 1 & Hash Tables\n",
    "\n",
    "In this lab, we will cover greedy algorithms. These are algorithms that at each point in the algorithm make the most optimal decision. Depending on the algorithm and the problem (state-space) this can lead to optimal or suboptimal solutions. This will be demonstrated during the lab. At the end of the lab, we will also practice with some hash tables.\n",
    "\n",
    "Throughout the exercise, you will be extending the classes by completing code stubs in their respective cells. You do not need to copy the code, it is enough to work in the cell under each exercise. Note that there are separate cells provided where you can (and should) test your code. During the exercises, you will (through customMagics) obtain a Python file (.py) which you should run against a set of unittests. Please avoid writing any unnecessary code in cells containing the `%%execwritefile` command. Doing this could alter the file `.py` and make it syntactically incorrect or interfere with the unittests. To prevent this stick to the following rules:'\n",
    " - ***Do not remove cells that start with ``%%execwritefile`` and do not remove that line.***\n",
    " - If a cell contains a `%%execwritefile` command at the top and a class definition you need to complete the given methods and adding helper methods is allowed, but do **not** add new functions or Python script to the cells (like global variables).\n",
    " - If a cell contains a `%%execwritefile` command at the top and **not** a class definition you must complete the given functions and you are free to add helper functions, new classes, and Python script that contains for example global variables. Note, that the use of global variables is almost always wrong except for a few use cases such as RNG for the numpy random generator methods.\n",
    " - If a cell does **not** contain a `%%execwritefile` command you can plot things, print variables, and write test cases. Here, you are free to do whatever you want.\n",
    " - If a cell does **not** contain a `%%execwritefile` command it should not contain functional code that is needed to run other functions or classes. The reason is that it is not copied to the `.py`. So, it can not be used during the unittesting.\n",
    "\n",
    "You do not need to look at the `customMagic.py` nor do more than glimpse at the test file, your exercise is contained in this workbook unless specified differently in this notebook's instructions. \n",
    "\n",
    "***Hint: Jupyter Notebooks saves variables between runs. If you get unexpected results try restarting the kernel, this deletes any saved variables.*** \n",
    "\n",
    "Please fill in your student name down below"
   ]
  },
  {
   "cell_type": "code",
   "execution_count": null,
   "id": "78cf4ce6-3998-4c5b-b2fb-d8b83c6336fc",
   "metadata": {
    "editable": true,
    "slideshow": {
     "slide_type": ""
    },
    "tags": []
   },
   "outputs": [],
   "source": [
    "# FILL IN YOU STUDENT NUMBER\n",
    "student = 3893995\n",
    "\n",
    "# Set this to false if you want the default screen width.\n",
    "WIDE_SCREEN = True"
   ]
  },
  {
   "cell_type": "code",
   "execution_count": null,
   "id": "2f51569f",
   "metadata": {
    "ExecuteTime": {
     "end_time": "2024-01-19T10:20:08.920263757Z",
     "start_time": "2024-01-19T10:20:08.907961698Z"
    },
    "editable": false,
    "slideshow": {
     "slide_type": ""
    },
    "tags": []
   },
   "outputs": [],
   "source": [
    "from custommagics import CustomMagics\n",
    "import timeit\n",
    "\n",
    "if WIDE_SCREEN:\n",
    "    import notebook\n",
    "    from IPython.display import display, HTML\n",
    "\n",
    "    if int(notebook.__version__.split(\".\")[0]) >= 7:    \n",
    "        display(HTML(\n",
    "            '<style>'\n",
    "                '.jp-Notebook { padding-left: 1% !important; padding-right: 1% !important; width:100% !important; } '\n",
    "            '</style>'\n",
    "        ))\n",
    "    else:\n",
    "        display(HTML(\"<style>.container { width:98% !important; }</style>\"))\n",
    "\n",
    "get_ipython().register_magics(CustomMagics)"
   ]
  },
  {
   "cell_type": "code",
   "execution_count": null,
   "id": "dc271cbf-ca64-4f94-b215-4306c69b5667",
   "metadata": {
    "ExecuteTime": {
     "end_time": "2024-01-19T10:20:13.144182399Z",
     "start_time": "2024-01-19T10:20:12.693456275Z"
    },
    "editable": true,
    "slideshow": {
     "slide_type": ""
    },
    "tags": []
   },
   "outputs": [],
   "source": [
    "%%execwritefile exercise11_{student}_notebook.py 0 \n",
    "\n",
    "# DO NOT CHANGE THIS CELL.\n",
    "# THESE ARE THE ONLY IMPORTS YOU ARE ALLOWED TO USE:\n",
    "\n",
    "import numpy as np\n",
    "import copy\n",
    "import networkx as nx\n",
    "import matplotlib.pyplot as plt\n",
    "\n",
    "RNG = np.random.default_rng()"
   ]
  },
  {
   "cell_type": "code",
   "execution_count": null,
   "id": "022add5f-abf2-48f4-9416-3e579f078a80",
   "metadata": {},
   "outputs": [],
   "source": [
    "plt.matplotlib.rcParams['figure.figsize'] = [30, 10]"
   ]
  },
  {
   "cell_type": "markdown",
   "id": "8940fb1c-7ab3-474b-b795-ca06dbb6ee9f",
   "metadata": {
    "editable": false,
    "slideshow": {
     "slide_type": ""
    },
    "tags": []
   },
   "source": [
    "# 1.0 Fair Splitting Problem\n",
    "\n",
    "In this exercise, we will have a look at a simple problem where we try to fairly split a list into two list with as close as possible total sum. However, we will implement it in a two ways using greedy algorithms. The basic greedy algorithm we will use works as follows, loop through the input list and at either the value of the list to list1 or list2 depending on the sum of list1 and list2. Before you implement this algorithm think about the following questions: \"What is the complexity of this algorithm, and how does it compare to an exhaustive search algorithm?\" and \"Would this algorithm always find the optimal solution?\"."
   ]
  },
  {
   "cell_type": "code",
   "execution_count": null,
   "id": "69a8c618-572b-4b29-9205-b967979f883b",
   "metadata": {},
   "outputs": [],
   "source": [
    "%%execwritefile exercise11_{student}_notebook.py 100 -a -s\n",
    "\n",
    "def fair_splitting_basic(list_):\n",
    "    \"\"\"\n",
    "    This function solves the fair splitting problem by looping through the `list_`.\n",
    "\n",
    "    Note that the value should be added to the second list if the sum of both lists is equal.\n",
    "\n",
    "    :param list_: A list with values\n",
    "    :type list_: list[int]\n",
    "    :return:: Two lists with a similar sum.\n",
    "    :rtype: tuple[list[int]]\n",
    "    \"\"\"\n",
    "    raise NotImplementedError(\"Please complete this function.\")\n"
   ]
  },
  {
   "cell_type": "markdown",
   "id": "64d4f49a-79e6-491f-b36a-bee6ef346cb1",
   "metadata": {
    "editable": false,
    "slideshow": {
     "slide_type": ""
    },
    "tags": []
   },
   "source": [
    "## Test your code\n",
    "\n",
    "In the cell below, you can test your `fair_splitting_basic` function."
   ]
  },
  {
   "cell_type": "code",
   "execution_count": null,
   "id": "fdabb7b7-8ab7-4edb-ab31-9fbfb18266d8",
   "metadata": {},
   "outputs": [],
   "source": [
    "# Type your testing code here\n",
    "fair_splitting_basic([1, 2, 4, 16, 25, 3, 5])"
   ]
  },
  {
   "cell_type": "markdown",
   "id": "ae9ef2ee-ead9-402e-9075-82bfebd77762",
   "metadata": {
    "editable": false,
    "slideshow": {
     "slide_type": ""
    },
    "tags": []
   },
   "source": [
    "## 1.1 Fair Splitting Problem (Sorted)\n",
    "\n",
    "In the previous exercise, we implemented the basic greedy algorithm to solve the fair splitting problem. Here, we will try to make sure that the algorithm always returns the optimal solution, assuming the list consists only of positive numbers. We will do this by sorting the list before we loop through it and split it. Why would this guarantee an optimal solution? Does it matter if we sort the list in ascending or descending order? Did this alter the complexity of the algorithm compared to the basic implementation? Would this algorithm still guarantee an optimal solution if negative numbers where also allowed in the list and could you make it work for negative numbers as well?\n"
   ]
  },
  {
   "cell_type": "code",
   "execution_count": null,
   "id": "8623ecff-b863-477e-a64d-e4493f88f4fc",
   "metadata": {},
   "outputs": [],
   "source": [
    "%%execwritefile exercise11_{student}_notebook.py 110 -a -s\n",
    "\n",
    "def fair_splitting_sorted(list_):\n",
    "    \"\"\"\n",
    "    This function solves the fair splitting problem by first sorting the `list_`.\n",
    "\n",
    "    Note that the value should be added to the second list if the sum of both lists is equal.\n",
    "\n",
    "    :param list_: A list with values\n",
    "    :type list_: list[int]\n",
    "    :return:: Two lists with a similar sum.\n",
    "    :rtype: tuple[list[int]]\n",
    "    \"\"\"\n",
    "    raise NotImplementedError(\"Please complete this function.\")\n",
    "    "
   ]
  },
  {
   "cell_type": "markdown",
   "id": "83af9b3d-3509-4b12-b216-6a945f8f43dc",
   "metadata": {
    "editable": false,
    "slideshow": {
     "slide_type": ""
    },
    "tags": []
   },
   "source": [
    "## Test your code\n",
    "\n",
    "In the cell below, you can test your `fair_splitting_sorted` function."
   ]
  },
  {
   "cell_type": "code",
   "execution_count": null,
   "id": "beb58110-c4e7-49d1-b523-f0f4a7566744",
   "metadata": {},
   "outputs": [],
   "source": [
    "# Type your testing code here\n",
    "fair_splitting_sorted([1, 2, 4, 16, 25, 3, 5])"
   ]
  },
  {
   "cell_type": "markdown",
   "id": "eb8b0434-fa90-430c-be02-93340b6c92d3",
   "metadata": {
    "editable": false,
    "slideshow": {
     "slide_type": ""
    },
    "tags": []
   },
   "source": [
    "## 2.0 Flashlight problem\n",
    "\n",
    "In this problem, we have an unstable bridge that we want to cross at night. At most two people can cross the bridge at the same time and they need to use a flashlight when walking over the bridge. There is only one flashlight and they can not through it back, so at least one person must bring back the flashlight. Each person has a different walking speed and if two people walk together their combined speed is the speed of the slowest person. The input to the problem is a list of the time it takes each person to cross the bridge. What would be an optimal solution to the problem with the following input `[1,5,2,10]`? Make a greedy pseudo algorithm to solve the general problem and check if this is similar to the optimal problem for the previous example. What would be the complexity of this greedy algorithm?"
   ]
  },
  {
   "cell_type": "code",
   "execution_count": null,
   "id": "86040850-cec8-40e2-b03e-b8bde61a141b",
   "metadata": {},
   "outputs": [],
   "source": [
    "%%execwritefile exercise11_{student}_notebook.py 200 -a -s\n",
    "\n",
    "def flashlight_problem(crossing_time):\n",
    "    \"\"\"\n",
    "    This function solves the flashlight problem and calculates the total time it takes to cross the bridge.\n",
    "\n",
    "    :param crossing_time: A list of the time it takes each person to cross the bridge.\n",
    "    :type crossing_time: list[int]\n",
    "    :return: The total time it takes for the group to cross the bridge\n",
    "    :rtype: int\n",
    "    \"\"\"\n",
    "    raise NotImplementedError(\"Please complete this function.\")\n"
   ]
  },
  {
   "cell_type": "markdown",
   "id": "ab67430c-6336-4db2-9fa6-b57bd9cc8c63",
   "metadata": {
    "editable": false,
    "slideshow": {
     "slide_type": ""
    },
    "tags": []
   },
   "source": [
    "## Test your code\n",
    "\n",
    "In the cell below, you can test your `flashlight_problem` function."
   ]
  },
  {
   "cell_type": "code",
   "execution_count": null,
   "id": "3fd1d40c-5d6f-4db7-abb0-a2895603fabf",
   "metadata": {},
   "outputs": [],
   "source": [
    "# Type your testing code here\n",
    "flashlight_problem([1,5,2,10])"
   ]
  },
  {
   "cell_type": "markdown",
   "id": "176613a7-ccb1-4d6b-9417-bd0c01a71545",
   "metadata": {
    "editable": false,
    "slideshow": {
     "slide_type": ""
    },
    "tags": []
   },
   "source": [
    "# 3.0 Maximum Path Sum (Greedy)\n",
    "\n",
    "In exercise 2.0 of lab 9, we solved the maximum path sum problem. However, even after using dynamic programming it still had a complexity of $O(n^2)$. We can reduce this complexity even further by using a greedy algorithm. Try to find a greedy solution of $O(n)$. What would be a possible downside of such a greedy algorithm? \n",
    "\n",
    "### Below you find the explanation of lab 9 exercise 2.0:\n",
    "\n",
    "----------------------------------------------\n",
    " \n",
    "In this exercise, we will solve a more general version of one of the [euler project](https://projecteuler.net/problem=18) problems. In this problem, we have a triangle of numbers where paths exist from the top of the triangle to the bottom of the triangle. Your job is to find the path with the smallest sum. Below, you can see a screenshot of the example in the Euler problem.\n",
    "\n",
    "<img src=\"path_sum.png\" alt=\"drawing\"/>\n",
    "\n",
    "A good way to solve this problem is by using top-down dynamic programming. Think about what the recurrence relation is for this problem. We will generate a random triangle of numbers as a triangle object that contains the top node. Each Node then contains two other nodes that are the lower left and lower right node. Note, that this triangle object is not a binary tree but a graph as, from a tree datastructure point of view, parents share the same children. In the `Node` object, we will call it `left` and `right` referring to the lower left and lower right nodes.\n",
    "\n",
    "Before, you start solving this problem check how the `Node` and `Triangle` classes work and implement a representation for the `Triangle` class. If you want you can skip this step but it is a good recursion problem to solve.\n",
    "\n",
    "----------------------------------------------\n",
    "\n",
    "***Implement, your greedy algorithm below!***"
   ]
  },
  {
   "cell_type": "code",
   "execution_count": null,
   "id": "df8ac929-197d-4b7d-978d-c2bbd70979d1",
   "metadata": {
    "editable": false,
    "slideshow": {
     "slide_type": ""
    },
    "tags": []
   },
   "outputs": [],
   "source": [
    "%%execwritefile exercise11_{student}_notebook.py 300 -a -s\n",
    "\n",
    "class Node():\n",
    "    def __init__(self, value, left=None, right=None):\n",
    "        \"\"\"\n",
    "        This creates a node object containing the value and its lower right and left node.\n",
    "\n",
    "        :param value: The value of the node\n",
    "        :type value: int\n",
    "        :param left: The lower left node, defaults to None\n",
    "        :type left: Node\n",
    "        :param right: The lower right\n",
    "        :type right: Node        \n",
    "        \"\"\"\n",
    "        self.value = value\n",
    "        self.left = left\n",
    "        self.right = right\n",
    "\n",
    "    def __lt__(self, other):\n",
    "        \"\"\"\n",
    "        This makes the use of lesser than and higher than between nodes possible.\n",
    "        \"\"\"\n",
    "        return self.value < other.value\n",
    "\n",
    "    def __repr__(self):\n",
    "        \"\"\"\n",
    "        This is the representation of the Node.\n",
    "        You can adjust it to your own preference.\n",
    "        \"\"\"\n",
    "        return f\"Node({self.value})\"\n",
    "\n",
    "class Triangle():\n",
    "    \"\"\"\n",
    "    This class has one object attribute:\n",
    "        :param top: The top node of the triangle\n",
    "        :type top: Node\n",
    "    \"\"\"\n",
    "    \n",
    "    def __init__(self, min_=1, max_=100, height=10):\n",
    "        \"\"\"\n",
    "        This creates a random triangle object as explained above.\n",
    "\n",
    "        :param min: The minimum value that can be generated as value for a node\n",
    "        :type min: int\n",
    "        :param max: The maximum value that can be generated as value for a node\n",
    "        :type max: int\n",
    "        :param depth: The height of the triangle.\n",
    "        :type depth: int\n",
    "        \"\"\"\n",
    "        # Initialize all nodes\n",
    "        rows = []\n",
    "        for row in range(1, height+1):\n",
    "            rows.append([Node(RNG.integers(min_, max_)) for _ in range(row)])\n",
    "\n",
    "        # Connect all nodes\n",
    "        for i, row in enumerate(rows[:-1]):\n",
    "            for j, cell in enumerate(row):\n",
    "                cell.right = rows[i+1][j+1]\n",
    "                cell.left  = rows[i+1][j]\n",
    "\n",
    "        self.top = rows[0][0]\n",
    "        self.height = height\n",
    "\n",
    "    def show(self, path=None):\n",
    "        \"\"\"\n",
    "        This method shows the current triangle.\n",
    "        \"\"\"\n",
    "        graph = nx.Graph()\n",
    "\n",
    "        pos = {}\n",
    "        row = [self.top]\n",
    "        for i in range(self.height):\n",
    "            for j, node in enumerate(row):\n",
    "                if node.left is not None:\n",
    "                    graph.add_edge(node, node.left)\n",
    "                    graph.add_edge(node, node.right)\n",
    "                    \n",
    "                graph.add_node(node)\n",
    "                pos[node] = (j * 2 + (self.height-i), -i)\n",
    "                \n",
    "            row = [row[0].left] + [n.right for n in row]\n",
    "            \n",
    "        nx.draw_networkx(graph, \n",
    "                         pos,\n",
    "                         labels = {node: node.value for node in pos},\n",
    "                         node_color=\"w\",\n",
    "                         with_labels=True,\n",
    "                         node_size=600,\n",
    "                         width=1)\n",
    "        \n",
    "        if path is not None:\n",
    "            edgelist = [(node, path[i+1]) for i, node in enumerate(path[:-1])]\n",
    "            nx.draw_networkx_edges(graph, \n",
    "                                   pos, \n",
    "                                   edgelist,\n",
    "                                   edge_color='r',\n",
    "                                   width=4)\n",
    "        plt.show()"
   ]
  },
  {
   "cell_type": "code",
   "execution_count": null,
   "id": "9380add3-4e5d-4219-9be2-077621640f8f",
   "metadata": {},
   "outputs": [],
   "source": [
    "%%execwritefile exercise11_{student}_notebook.py 310 -a -s\n",
    "\n",
    "def greedy_path_sum(triangle):\n",
    "    \"\"\"\n",
    "    This function finds the maximum sum path in the triangle using a greedy algorithm.\n",
    "\n",
    "    Note that you always take the right node if the left node and right node are equal.\n",
    "\n",
    "    :param triangle: The triangle for which you need to calculate the maximum path sum\n",
    "    :type triangle: Triangle\n",
    "    :return: The sum of the path from the top node of the triangle and the path that gives this sum\n",
    "    :rtype: int, list[Node]\n",
    "    \"\"\"\n",
    "    raise NotImplementedError(\"Please complete this function.\")\n"
   ]
  },
  {
   "cell_type": "markdown",
   "id": "36e3f56e-97ee-4273-aac0-87cb27c2399a",
   "metadata": {
    "editable": false,
    "slideshow": {
     "slide_type": ""
    },
    "tags": []
   },
   "source": [
    "## Test your code\n",
    "\n",
    "In the cell below, you can test your code for the `greedy_path_sum` class."
   ]
  },
  {
   "cell_type": "code",
   "execution_count": null,
   "id": "ba6fb420-e5f7-4f3d-8299-42bcc1e9315c",
   "metadata": {},
   "outputs": [],
   "source": [
    "triangle = Triangle(height=15)\n",
    "value, path = greedy_path_sum(triangle)\n",
    "print(f\"The maximum value in the triangle is {value} consisting of the values: {path}\")\n",
    "triangle.show(path)"
   ]
  },
  {
   "cell_type": "markdown",
   "id": "ee85b73f-a499-432d-959a-8eb297febf08",
   "metadata": {
    "editable": false,
    "slideshow": {
     "slide_type": ""
    },
    "tags": []
   },
   "source": [
    "# 4.0 Knapsack Problem\n",
    "\n",
    "Last, week we saw how to solve the knapsack problem in polynomial time. This week, we will make a greedy algorithm to solve the problem reducing the complexity even further. Make a pseudo-algorithm to solve the knapsack problem using a greedy algorithm. What is the complexity of this algorithm? And does it always find the optimal solution?"
   ]
  },
  {
   "cell_type": "code",
   "execution_count": null,
   "id": "225b4090-34ae-4add-8784-d11ad91ddf54",
   "metadata": {},
   "outputs": [],
   "source": [
    "%%execwritefile exercise11_{student}_notebook.py 400 -a -s\n",
    "\n",
    "def knapsack_problem(max_weight, items):\n",
    "    \"\"\"\n",
    "    This function solves the knapsack problem and returns the value you can fit in the knapsack given the max weight and the items.\n",
    "    It also returns which items lead to this value.\n",
    "\n",
    "    :param max_weight: The maximum weight that is allowed in the knapsack.\n",
    "    :type max_weight: int\n",
    "    :param items: The items set you can choose from. Each item has a weight and value represented by a (weight, value) pair.\n",
    "    :type items: list[tuple[int]]\n",
    "    :return: The total value in the knapsack and the items that are added (by index).\n",
    "    :rtype: int, list[int]\n",
    "    \"\"\" \n",
    "    raise NotImplementedError(\"Please complete this function.\")\n"
   ]
  },
  {
   "cell_type": "markdown",
   "id": "fc4b3032-1784-4dfe-889e-9f7294d0a98a",
   "metadata": {
    "editable": false,
    "slideshow": {
     "slide_type": ""
    },
    "tags": []
   },
   "source": [
    "## Test your code\n",
    "\n",
    "In the cell below, you can test your `knapsack_problem` function. Compare it to the `knapsack` algorithm of previous lab, does it give the same result?"
   ]
  },
  {
   "cell_type": "code",
   "execution_count": null,
   "id": "85acd8d0-1451-4109-b42e-cf13206bdf31",
   "metadata": {},
   "outputs": [],
   "source": [
    "# Type your testing code here\n",
    "number_of_items = RNG.integers(2,11)\n",
    "max_weight = 8\n",
    "items = [(RNG.integers(1,5), RNG.integers(10,21)) for i in range(number_of_items)]\n",
    "print(items)\n",
    "knapsack_problem(max_weight, items)"
   ]
  },
  {
   "cell_type": "markdown",
   "id": "4c55a639-9713-4a68-9313-f44a1685e787",
   "metadata": {
    "editable": false,
    "slideshow": {
     "slide_type": ""
    },
    "tags": []
   },
   "source": [
    "# 5.0 Hash Tables\n",
    "\n",
    "In this exercise, we will practice making hash tables to recreate a simplified version of the native Python `set` datastructure. As you have learned in the lecture, a hashtable consists of a list of `M` \"buckets\", where a bucket is a list of items. Suppose we have `N` items in our set. Ideally, these `N` items are spread evenly across the `M` buckets, leading to an `N/M` runtime to add, find, or delete an item. For example, if we have 460 items and 20 buckets and the items are spread out evenly, then checking to see if a given item is in the set means iterating over a list of only 23 items since each list contains 23 items.\n",
    "\n",
    "Let's try building a set called `IntegerSet` that is based on this principle that works for integers. Suppose `M=10`. In this case, we'd use modulus 10 to give each integer an index between 0 and 10. In this example, 3 and 13 are in the same place in the array (therefore in the same bucket) because they have the same hash function output.\n",
    "\n",
    "You have to implement three methods similar to the native `set` datastructure: `add`, `__contains__`, and `remove`. Furthermore, we also need a method to calculate where a value needs to be placed in the array, which is done with the `get_bucket_number` method. "
   ]
  },
  {
   "cell_type": "code",
   "execution_count": null,
   "id": "5a593062-70b2-4090-a999-eff24dfbabe9",
   "metadata": {},
   "outputs": [],
   "source": [
    "%%execwritefile exercise11_{student}_notebook.py 500 -a -s\n",
    "\n",
    "class IntegerSet():\n",
    "    def __init__(self, M):\n",
    "        \"\"\"\n",
    "        This initialized the hashtable. This should include making an array of the proper length and object type.\n",
    "\n",
    "        :param M: The number of buckets in the hashtable.\n",
    "        :type size: int\n",
    "        \"\"\"        \n",
    "        self.M = M\n",
    "        self.hash_table = np.empty(M, dtype=object)  # make an empty array of type object. This can now be any Python object\n",
    "        self.hash_table[...] = [[] for _ in range(M)]  # fill each element of the array with an empty lists\n",
    "\n",
    "    def get_bucket_number(self, value):\n",
    "        \"\"\"\n",
    "        This is the function that determines which bucket to use.\n",
    "\n",
    "        :param value: The integer for which we want to know the bucket number. The result is just the value mod the number of buckets.\n",
    "        :type value: int\n",
    "        :return: The index in the hash table of the value.\n",
    "        :rtype: int\n",
    "        \"\"\"\n",
    "        raise NotImplementedError(\"Please complete this method.\")\n",
    "    \n",
    "    def add(self, value):\n",
    "        \"\"\"\n",
    "        This method adds a value to the IntegerSet.\n",
    "        Note, that the value should be placed at the right index.\n",
    "        If the index already contains elements then it should be added to the end of the list.\n",
    "\n",
    "        Important, because we are making a set, you should check if the value is already in the list of the correct index.\n",
    "        If so, you should not add it again.\n",
    "        \n",
    "        :param value: The integer that we want to add to the set.\n",
    "        :type value: int\n",
    "        \"\"\"\n",
    "        raise NotImplementedError(\"Please complete this method.\")\n",
    "\n",
    "    def __contains__(self, value):\n",
    "        \"\"\"\n",
    "        This method checks if a value is in a list.\n",
    "        This magic/dunder method is called in the following syntax: `value in integer_set`, \n",
    "        where integer_set is an object of this class.\n",
    "        \n",
    "        Note, that this is essentially a search method.\n",
    "\n",
    "        :param value: The integer that we are searching in the set.\n",
    "        :type value: int\n",
    "        :return: This returns if the value is found or not\n",
    "        :rtype: bool\n",
    "        \"\"\"\n",
    "        raise NotImplementedError(\"Please complete this method.\")   \n",
    "\n",
    "    def remove(self, value):\n",
    "        \"\"\"\n",
    "        This method removes value from the set.\n",
    "\n",
    "        :param value: The integer that we are deleting from the set.\n",
    "        :type value: int\n",
    "        \"\"\"\n",
    "        raise NotImplementedError(\"Please complete this method.\")\n",
    "        \n",
    "    def __repr__(self):\n",
    "        \"\"\"\n",
    "        Representation of the IntegerSet.\n",
    "        Currently, it shows the hash table, where each row is an index in the table.\n",
    "        You can change it to anything you like, for example, you could represent it as a set of integers.\n",
    "        \"\"\"\n",
    "        return \"[\" + \",\\n \".join(map(repr, self.hash_table)) + \"]\""
   ]
  },
  {
   "cell_type": "markdown",
   "id": "54a92d64-4cc1-4bb5-a6f3-284a114c12b5",
   "metadata": {
    "editable": false,
    "slideshow": {
     "slide_type": ""
    },
    "tags": []
   },
   "source": [
    "## Test your code\n",
    "\n",
    "In the cell below, you can test your `IntegerSet` class. \n",
    "\n",
    "***Make, sure that all methods work. In the example below we only add some values.***"
   ]
  },
  {
   "cell_type": "code",
   "execution_count": null,
   "id": "8a2503d0-ae67-4c4e-9a9d-fd6959bb215d",
   "metadata": {},
   "outputs": [],
   "source": [
    "integer_list = IntegerSet(10)\n",
    "for value in RNG.integers(15, size=15):\n",
    "    print(f\"Adding {value} to the set.\")\n",
    "    integer_list.add(value)\n",
    "integer_list"
   ]
  },
  {
   "cell_type": "markdown",
   "id": "3e013b36-6716-4f0c-bfc1-7ee30c966e47",
   "metadata": {
    "editable": false,
    "slideshow": {
     "slide_type": ""
    },
    "tags": []
   },
   "source": [
    "## 5.1 Hash Tables (Strings)\n",
    "\n",
    "Above we build a data structure that could only store integers. Let's modify the data structure so that it can store any type, e.g. strings. \n",
    "\n",
    "We only need to change the `get_bucket_number` function to make this work. Therefore, we will inherit (hear copy-paste) the previous class and overwrite the `get_bucket_number` function. \n",
    "\n",
    "Converting arbitrary data types to a bucket number is challenging. For example, how would you know which bucket number should contain put the word \"cat\"? We discussed some ways to do this in lecture. Luckily, your data structure doesn't have to do this work! Converting objects into integers is so important (because of hash tables) that there is a built-in function called `hash` that is defined for a bunch of different types, e.g. strings. That is, the `hash` function of Python will turn any object into an integer if this object has a hash function implemented. Such an object is called \"hashable\".\n",
    "\n",
    "In fact, if you can use an object in a \"normal\" `set` or `dict` than it has a `hash` function defined. \n",
    "\n",
    "***Now, adjust the `get_bucket_number` such that it works for any hashable object.*** Hint: The code is very simple."
   ]
  },
  {
   "cell_type": "code",
   "execution_count": null,
   "id": "916f48b8-522b-420a-b172-9f04210e4761",
   "metadata": {},
   "outputs": [],
   "source": [
    "%%execwritefile exercise11_{student}_notebook.py 510 -a -s\n",
    "\n",
    "class Set(IntegerSet):\n",
    "    def get_bucket_number(self, item):\n",
    "        \"\"\"\n",
    "        This is the hash function that is used to calculate the index in the hash table given a value.\n",
    "\n",
    "        :param item: The hashable object for which we want to know the index in the hash table.\n",
    "        :type item: object \n",
    "        :return: The index in the hash table of the item of type object.\n",
    "        :rtype: int\n",
    "        \"\"\"\n",
    "        raise NotImplementedError(\"Please complete this method.\")\n"
   ]
  },
  {
   "cell_type": "markdown",
   "id": "2ad801cc-c311-4cba-b304-ebd6311ce248",
   "metadata": {
    "editable": false,
    "slideshow": {
     "slide_type": ""
    },
    "tags": []
   },
   "source": [
    "## Test your code\n",
    "\n",
    "In the cell below, you can test your `Set` class. \n",
    "\n",
    "***Note, that the example below adds some random character to the set, however, make sure that other hashable objects such as strings, int, or tuples also work.***"
   ]
  },
  {
   "cell_type": "code",
   "execution_count": null,
   "id": "c5f4d33a-048a-4951-ad56-ffdf60a7283f",
   "metadata": {},
   "outputs": [],
   "source": [
    "integer_list = Set(10)\n",
    "for value in RNG.integers(65, 123, size=25):\n",
    "    value = chr(value)  # This turns an integer into an ASCII character.\n",
    "    print(f\"Adding {value} to the set.\")\n",
    "    integer_list.add(value)\n",
    "integer_list"
   ]
  },
  {
   "cell_type": "markdown",
   "id": "2c3e25e3",
   "metadata": {
    "editable": false,
    "slideshow": {
     "slide_type": ""
    },
    "tags": []
   },
   "source": [
    "# 6.0 UNITTESTS\n",
    "\n",
    "During this assignment, we copied all your code to the following **.py** file **\"exercise11_{student}_notebook.py\"**. You also tested your code along the way. However, it is possible that there are still a few errors. Therefore, it is good to run some unittest when you complete all coding. This gives you an extra chance to spot mistakes. Here, we added some unittest for you to use. Note, that they are merely a check to see if your **.py** is correct.\n",
    "\n",
    "From this point onwards we strongly advise renaming the **\"exercise11_{student}_notebook.py\"** file to the correct file name that you need to hand in **\"exercise11_{student}.py\"**. Now, you can adjust the **\"exercise11_{student}.py\"** file without the risk of overwriting it when you run the notebook again. This also enables the possibility to run the unittests. Note, that from now on if you make a change in the Python file and you want to go back to the notebook later that you also make this change in the notebook. To run the unittests go to the **\"unit_test.py\"** file and run the file in either PyCharm, VSCode, or a terminal. You can run it in a terminal using the following command: `python -m unittest --verbose unit_test.py`. `--verbose` is optional but gives you more details about which tests fail and which succeed.\n",
    "\n",
    "You are allowed to add your own unittests. \n",
    "\n",
    "## Uploading to Brightspace for Bonus\n",
    "\n",
    "Next, you can upload your Python file with the correct name on brightspace in the bonus assignment. Follow the instructions on this brightspace page carefully to have a successful submission. After you get the feedback for this exercise you can either continue working in the Python file to fix possible bugs or you can go back to the notebook and remake the Python file. ***Please be careful, do not update your code in both the Python file and notebook at the same time!***. If you go back to the notebook do not forget to update the notebook with any changes you made within the Python file. In this case, it is best to just delete the Python file as soon as you copied all changes."
   ]
  },
  {
   "cell_type": "code",
   "execution_count": null,
   "id": "b782953e-41e7-4de5-920d-f8389f6371ff",
   "metadata": {},
   "outputs": [],
   "source": []
  }
 ],
 "metadata": {
  "kernelspec": {
   "display_name": "Python 3 (ipykernel)",
   "language": "python",
   "name": "python3"
  },
  "language_info": {
   "codemirror_mode": {
    "name": "ipython",
    "version": 3
   },
   "file_extension": ".py",
   "mimetype": "text/x-python",
   "name": "python",
   "nbconvert_exporter": "python",
   "pygments_lexer": "ipython3",
   "version": "3.11.5"
  }
 },
 "nbformat": 4,
 "nbformat_minor": 5
}
