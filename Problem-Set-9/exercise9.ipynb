{
 "cells": [
  {
   "cell_type": "markdown",
   "id": "23475a6f",
   "metadata": {
    "editable": false,
    "slideshow": {
     "slide_type": ""
    },
    "tags": []
   },
   "source": [
    "# Welcome to Lab 9: Dynamic Programming 1\n",
    "\n",
    "In this lab, we will see how dynamic programming can speed up our algorithms and possibly reduce their complexity.\n",
    "\n",
    "Throughout the exercise, you will be extending the classes by completing code stubs in their respective cells. You do not need to copy the code, it is enough to work in the cell under each exercise. Note that there are separate cells provided where you can (and should) test your code. During the exercises, you will (through customMagics) obtain a Python file (.py) which you should run against a set of unittests. Please avoid writing any unnecessary code in cells containing the `%%execwritefile` command. Doing this could alter the file `.py` and make it syntactically incorrect or interfere with the unittests. To prevent this stick to the following rules:'\n",
    " - ***Do not remove cells that start with ``%%execwritefile`` and do not remove that line.***\n",
    " - If a cell contains a `%%execwritefile` command at the top and a class definition you need to complete the given methods and adding helper methods is allowed, but do **not** add new functions or Python script to the cells (like global variables).\n",
    " - If a cell contains a `%%execwritefile` command at the top and **not** a class definition you must complete the given functions and you are free to add helper functions, new classes, and Python script that contains for example global variables. Note, that the use of global variables is almost always wrong except for a few use cases such as RNG for the numpy random generator methods.\n",
    " - If a cell does **not** contain a `%%execwritefile` command you can plot things, print variables, and write test cases. Here, you are free to do whatever you want.\n",
    " - If a cell does **not** contain a `%%execwritefile` command it should not contain functional code that is needed to run other functions or classes. The reason is that it is not copied to the `.py`. So, it can not be used during the unittesting.\n",
    "\n",
    "You do not need to look at the `customMagic.py` nor do more than glimpse at the test file, your exercise is contained in this workbook unless specified differently in this notebook's instructions. \n",
    "\n",
    "***Hint: Jupyter Notebooks saves variables between runs. If you get unexpected results try restarting the kernel, this deletes any saved variables.*** \n",
    "\n",
    "Please fill in your student name down below"
   ]
  },
  {
   "cell_type": "code",
   "execution_count": null,
   "id": "78cf4ce6-3998-4c5b-b2fb-d8b83c6336fc",
   "metadata": {
    "editable": true,
    "slideshow": {
     "slide_type": ""
    },
    "tags": []
   },
   "outputs": [],
   "source": [
    "# FILL IN YOU STUDENT NUMBER\n",
    "student = 1000000\n",
    "\n",
    "# Set this to false if you want the default screen width.\n",
    "WIDE_SCREEN = True"
   ]
  },
  {
   "cell_type": "code",
   "execution_count": null,
   "id": "2f51569f",
   "metadata": {
    "ExecuteTime": {
     "end_time": "2024-01-19T10:20:08.920263757Z",
     "start_time": "2024-01-19T10:20:08.907961698Z"
    },
    "editable": false,
    "slideshow": {
     "slide_type": ""
    },
    "tags": []
   },
   "outputs": [],
   "source": [
    "from custommagics import CustomMagics\n",
    "import timeit\n",
    "\n",
    "if WIDE_SCREEN:\n",
    "    import notebook\n",
    "    from IPython.display import display, HTML\n",
    "\n",
    "    if int(notebook.__version__.split(\".\")[0]) >= 7:    \n",
    "        display(HTML(\n",
    "            '<style>'\n",
    "                '.jp-Notebook { padding-left: 1% !important; padding-right: 1% !important; width:100% !important; } '\n",
    "            '</style>'\n",
    "        ))\n",
    "    else:\n",
    "        display(HTML(\"<style>.container { width:98% !important; }</style>\"))\n",
    "\n",
    "get_ipython().register_magics(CustomMagics)"
   ]
  },
  {
   "cell_type": "code",
   "execution_count": null,
   "id": "dc271cbf-ca64-4f94-b215-4306c69b5667",
   "metadata": {
    "ExecuteTime": {
     "end_time": "2024-01-19T10:20:13.144182399Z",
     "start_time": "2024-01-19T10:20:12.693456275Z"
    },
    "editable": false,
    "slideshow": {
     "slide_type": ""
    },
    "tags": []
   },
   "outputs": [],
   "source": [
    "%%execwritefile exercise9_{student}_notebook.py 0 \n",
    "\n",
    "# DO NOT CHANGE THIS CELL.\n",
    "# THESE ARE THE ONLY IMPORTS YOU ARE ALLOWED TO USE:\n",
    "\n",
    "import numpy as np\n",
    "import copy\n",
    "import networkx as nx\n",
    "import matplotlib.pyplot as plt\n",
    "\n",
    "RNG = np.random.default_rng()"
   ]
  },
  {
   "cell_type": "code",
   "execution_count": null,
   "id": "022add5f-abf2-48f4-9416-3e579f078a80",
   "metadata": {},
   "outputs": [],
   "source": [
    "plt.matplotlib.rcParams['figure.figsize'] = [30, 10]"
   ]
  },
  {
   "cell_type": "markdown",
   "id": "8940fb1c-7ab3-474b-b795-ca06dbb6ee9f",
   "metadata": {
    "editable": false,
    "slideshow": {
     "slide_type": ""
    },
    "tags": []
   },
   "source": [
    "# 1.0 Fibonacci Sequence\n",
    "\n",
    "The Fibonacci sequence is a well-known example of dynamic programming, with the basic idea that each number only depends on the previous two numbers and never changes. Try, to find a recurrence relation for the Fibonacci sequence before you continue reading. Does using dynamic programming change the complexity of calculating the Fibonacci sequence?\n",
    "\n",
    "In this exercise, we will implement the sequence in three ways and later will measure the performances. First, we will implement a basic Fibonacci sequence without dynamic programming. Second, we will use bottom-up dynamic programming. Lastly, we will use top-down dynamic programming to calculate a Fibonacci number. \n",
    "\n",
    "Implement `recursive_fibo` below. If you forgot how the Fibonacci sequence works here is a [link](https://en.wikipedia.org/wiki/Fibonacci_sequence) to the wiki."
   ]
  },
  {
   "cell_type": "code",
   "execution_count": null,
   "id": "69a8c618-572b-4b29-9205-b967979f883b",
   "metadata": {},
   "outputs": [],
   "source": [
    "%%execwritefile exercise9_{student}_notebook.py 100 -a -s\n",
    "\n",
    "def recursive_fibo(n):\n",
    "    \"\"\"\n",
    "    This function calculates the nth Fibonacci sequence number.\n",
    "\n",
    "    Note, that in this lab we will define the Fibonacci sequence as follows:\n",
    "    $fibo(0) = 0$ and $fibo(1) = 1$\n",
    "    \"\"\"\n",
    "    raise NotImplementedError(\"Please complete this function.\")\n",
    "    "
   ]
  },
  {
   "cell_type": "markdown",
   "id": "64d4f49a-79e6-491f-b36a-bee6ef346cb1",
   "metadata": {
    "editable": false,
    "slideshow": {
     "slide_type": ""
    },
    "tags": []
   },
   "source": [
    "## Test your code\n",
    "\n",
    "In the cell below, you can test your `recursive_fibo` function."
   ]
  },
  {
   "cell_type": "code",
   "execution_count": null,
   "id": "fdabb7b7-8ab7-4edb-ab31-9fbfb18266d8",
   "metadata": {},
   "outputs": [],
   "source": [
    "# Type your testing code here\n"
   ]
  },
  {
   "cell_type": "markdown",
   "id": "1ec8978d-006a-49ef-aed9-337491f098b0",
   "metadata": {
    "editable": false,
    "slideshow": {
     "slide_type": ""
    },
    "tags": []
   },
   "source": [
    "## 1.1 Fibonacci Sequence Bottom-Up Dynamic Programming\n",
    "\n",
    "Bottom-up dynamic programming means that you start with the smallest value and build larger numbers. In the case of the Fibonacci sequence, you start with $fibo(0) = 0$ and $fibo(1) = 1$. Now, we need something to save all Fibonacci numbers therefore we use a class. Note, that we could even store the numbers in a class attribute instead of an object attribute, however, this would mean that you have to restart the notebook to get a clean test results. Therefore, we will use object attributes."
   ]
  },
  {
   "cell_type": "code",
   "execution_count": null,
   "id": "cf3f6f08-7786-4fe4-b3bd-0ccb68182707",
   "metadata": {},
   "outputs": [],
   "source": [
    "%%execwritefile exercise9_{student}_notebook.py 110 -a -s\n",
    "\n",
    "class FibonacciBottomUp():\n",
    "    \"\"\"\n",
    "    This class has one object attribute:\n",
    "        :param fibo_numbers: A dictionary with the Fibonacci number, where the dictionary works like this: fibo(key) = value\n",
    "        :type fibo_numbers: dict[int, int]\n",
    "    \"\"\"\n",
    "    def __init__(self):\n",
    "        \"\"\"\n",
    "        Here the Fibonacci numbers are initialized for the function because they are always the same.\n",
    "        \"\"\"\n",
    "        self.fibo_numbers = {0: 0, 1: 1}\n",
    "\n",
    "    def __call__(self, n):\n",
    "        \"\"\"\n",
    "        This method calculates the nth Fibonacci number using bottom-up dynamic programming.\n",
    "\n",
    "        :param n: The nth Fibonacci number\n",
    "        :type n: int\n",
    "        :return: fibo(n)\n",
    "        :rtype: int\n",
    "        \"\"\"\n",
    "        raise NotImplementedError(\"Please complete this method.\")\n",
    "            \n",
    "    def step(self, n):\n",
    "        \"\"\"\n",
    "        This calculates recursively the nth Fibonacci number.\n",
    "        \n",
    "        :param n: The nth Fibonacci number\n",
    "        :type n: int\n",
    "        :return: fibo(n)\n",
    "        :rtype: int\n",
    "        \"\"\"\n",
    "        raise NotImplementedError(\"Please complete this method.\")\n"
   ]
  },
  {
   "cell_type": "markdown",
   "id": "d1775940-b874-4f99-9157-1a34c3099915",
   "metadata": {
    "editable": false,
    "slideshow": {
     "slide_type": ""
    },
    "tags": []
   },
   "source": [
    "## Test your code\n",
    "\n",
    "In the cell below, you can test your `FibonacciBottomUp` class."
   ]
  },
  {
   "cell_type": "code",
   "execution_count": null,
   "id": "bf8bcef4-2bb5-4ca7-bb2c-166822b1be34",
   "metadata": {},
   "outputs": [],
   "source": [
    "# Type your testing code here\n"
   ]
  },
  {
   "cell_type": "markdown",
   "id": "eeab21f8-10ab-4532-b365-680bbad8ea0c",
   "metadata": {
    "editable": false,
    "slideshow": {
     "slide_type": ""
    },
    "tags": []
   },
   "source": [
    "## 1.2 Fibonacci Sequence Top-Down Dynamic Programming\n",
    "\n",
    "Top-down dynamic programming means that you start with the value you want to know and then calculate which numbers you need to be able to calculate it. In the case of the Fibonacci sequence, you start with the $n$ that you want to know and then calculate all the smaller numbers. Note, that instead of a base case, you can fill the fibonacci numbers with $fibo(0) = 0$ and $fibo(1) = 1$. \n",
    "\n",
    "Hint: Only the main loop in call is different between top-down and bottom-up"
   ]
  },
  {
   "cell_type": "code",
   "execution_count": null,
   "id": "ee07d2f5-248e-45dd-aa83-343a4b7d758b",
   "metadata": {},
   "outputs": [],
   "source": [
    "%%execwritefile exercise9_{student}_notebook.py 120 -a -s\n",
    "\n",
    "class FibonacciTopDown(FibonacciBottomUp):\n",
    "    def __call__(self, n):\n",
    "        \"\"\"\n",
    "        This method calculates the nth Fibonacci number using top-down dynamic programming.\n",
    "\n",
    "        :param n: The nth Fibonacci number\n",
    "        :type n: int\n",
    "        :return: fibo(n)\n",
    "        :rtype: int\n",
    "        \"\"\"\n",
    "        raise NotImplementedError(\"Please complete this method.\")\n",
    "        "
   ]
  },
  {
   "cell_type": "markdown",
   "id": "e546461a-0cc3-4392-b7d7-c8dee309bcdb",
   "metadata": {
    "editable": false,
    "slideshow": {
     "slide_type": ""
    },
    "tags": []
   },
   "source": [
    "## Test your code\n",
    "\n",
    "In the cell below, you can test your `FibonacciTopDown` class."
   ]
  },
  {
   "cell_type": "code",
   "execution_count": null,
   "id": "7d582de5-d002-40c9-b15f-6ae4c0f4dcb6",
   "metadata": {},
   "outputs": [],
   "source": [
    "# Type your testing code here\n"
   ]
  },
  {
   "cell_type": "markdown",
   "id": "f91f5121-bb2a-45bc-bb21-7718d743cbd9",
   "metadata": {
    "editable": false,
    "slideshow": {
     "slide_type": ""
    },
    "tags": []
   },
   "source": [
    "## 1.3 Fibonacci Sequence Non-Recursive Dynamic Programming\n",
    "\n",
    "So far, we have seen both algorithms implemented using recursion, however, you can also use a bottom-up approach using an iterative algorithm, where you fill in the table (from the theory) that you use for the recurrence equation.\n",
    "\n",
    "Below, we will implement such an approach. Start by making an array that represents the table and then use a bottom-up approach to fill the table.\n"
   ]
  },
  {
   "cell_type": "code",
   "execution_count": null,
   "id": "d2e5ccf4-9f12-4ffd-b9a6-6eca2ace8b12",
   "metadata": {},
   "outputs": [],
   "source": [
    "%%execwritefile exercise9_{student}_notebook.py 130 -a -s\n",
    "\n",
    "def fibonacci(max_):\n",
    "    \"\"\"\n",
    "    The maximum Fibonacci number you want to calculate.\n",
    "\n",
    "    Note that if max_ = 5 then fibo(max_) = fibo(5) = 5, in other words, max_ is the nth index starting from 0.\n",
    "\n",
    "    :param max_: The maximum Fibonacci number you want to calculate, this includes max_.\n",
    "    :type max_: int\n",
    "    :return: The table with all Fibonacci numbers till `max_`\n",
    "    :rtype: ndarray[int, (max_)]\n",
    "    \"\"\"\n",
    "    raise NotImplementedError(\"Please complete this function.\")"
   ]
  },
  {
   "cell_type": "markdown",
   "id": "09b454d3-c441-4bb9-8d10-01599c5ed768",
   "metadata": {
    "editable": false,
    "slideshow": {
     "slide_type": ""
    },
    "tags": []
   },
   "source": [
    "## Test your code\n",
    "\n",
    "In the cell below, you can test your `fibonacci` function."
   ]
  },
  {
   "cell_type": "code",
   "execution_count": null,
   "id": "9071b9b6-2b6b-4de9-8526-a1ff128f29ff",
   "metadata": {},
   "outputs": [],
   "source": [
    "# Type your testing code here\n"
   ]
  },
  {
   "cell_type": "markdown",
   "id": "2caedda6-5060-499a-80c1-9d0d06b2fd6f",
   "metadata": {
    "editable": false,
    "slideshow": {
     "slide_type": ""
    },
    "tags": []
   },
   "source": [
    "## 1.4 Factorial\n",
    "\n",
    "Let's test a different sequence before we start testing the different implementations for the Fibonacci sequence. Here, we will implement the factorial sequence. Again create the recurrence relation for the factorial sequence. This sequence consists of all factorial numbers starting with 0! then 1!, 2!, 3!, etc.. Does the complexity of the algorithm to calculate this sequence also change using dynamic programming?\n",
    "\n",
    "Below, implement a recursive function to calculate the nth factorial number.\n"
   ]
  },
  {
   "cell_type": "code",
   "execution_count": null,
   "id": "9b20964c-cdc6-4f6c-823d-a7986e2f07d3",
   "metadata": {},
   "outputs": [],
   "source": [
    "%%execwritefile exercise9_{student}_notebook.py 140 -a -s\n",
    "\n",
    "def recursive_fact(n):\n",
    "    \"\"\"\n",
    "    This function calculates the nth factorial number.\n",
    "\n",
    "    Note, that $fact(0) = 1$ and $fact(1) = 1$\n",
    "    \"\"\"\n",
    "    raise NotImplementedError(\"Please complete this function.\")\n"
   ]
  },
  {
   "cell_type": "markdown",
   "id": "66c8599d-7c1a-4f2b-8c78-e152dc44e9ca",
   "metadata": {
    "editable": false,
    "slideshow": {
     "slide_type": ""
    },
    "tags": []
   },
   "source": [
    "## Test your code\n",
    "\n",
    "In the cell below, you can test your `recursive_fact` function."
   ]
  },
  {
   "cell_type": "code",
   "execution_count": null,
   "id": "2c747aa6-f32a-4ac2-a160-f14faf098692",
   "metadata": {},
   "outputs": [],
   "source": [
    "# Type your testing code here\n"
   ]
  },
  {
   "cell_type": "markdown",
   "id": "7d3b1602-e7a0-4b34-a6df-f179149e03d2",
   "metadata": {
    "editable": false,
    "slideshow": {
     "slide_type": ""
    },
    "tags": []
   },
   "source": [
    "## 1.5 Factorial Top-Down Dynamic Programming\n",
    "\n",
    "Below, implement a top-down dynamic programming algorithm to calculate the nth factorial number. "
   ]
  },
  {
   "cell_type": "code",
   "execution_count": null,
   "id": "81efe669-50d4-463a-b8de-82e6d38b8fbd",
   "metadata": {},
   "outputs": [],
   "source": [
    "%%execwritefile exercise9_{student}_notebook.py 150 -a -s\n",
    "\n",
    "class Factorial():\n",
    "    \"\"\"\n",
    "    This class has one object attribute:\n",
    "        :param fact_numbers: A dictionary with the Factorial numbers, where the dictionary works like this: fact(key) = value\n",
    "        :type fact_numbers: dict[int, int]\n",
    "    \"\"\"\n",
    "    def __init__(self):\n",
    "        \"\"\"\n",
    "        Here the Factorial numbers are initialized for the function because they are always the same.\n",
    "        \"\"\"\n",
    "        self.fact_numbers = {0: 1}\n",
    "\n",
    "    def __call__(self, n):\n",
    "        \"\"\"\n",
    "        This method calculates the nth Factorial number using top-down dynamic programming.\n",
    "\n",
    "        :param n: The nth Fibonacci number\n",
    "        :type n: int\n",
    "        :return: fact(n)\n",
    "        :rtype: int\n",
    "        \"\"\"\n",
    "        raise NotImplementedError(\"Please complete this method.\")\n",
    "            \n",
    "    def step(self, n):\n",
    "        \"\"\"\n",
    "        This calculates recursively the nth Factorial number.\n",
    "        \n",
    "        :param n: The nth Fibonacci number\n",
    "        :type n: int\n",
    "        :return: fact(n)\n",
    "        :rtype: int\n",
    "        \"\"\"\n",
    "        raise NotImplementedError(\"Please complete this method.\")\n"
   ]
  },
  {
   "cell_type": "markdown",
   "id": "67e10986-cd74-4651-a470-0c8ae1974bf7",
   "metadata": {
    "editable": false,
    "slideshow": {
     "slide_type": ""
    },
    "tags": []
   },
   "source": [
    "## Test your code\n",
    "\n",
    "In the cell below, you can test your `FibonacciBottomUp` function."
   ]
  },
  {
   "cell_type": "code",
   "execution_count": null,
   "id": "7d27e963-e781-46f5-8285-46a11633780f",
   "metadata": {},
   "outputs": [],
   "source": [
    "# Type your testing code here\n"
   ]
  },
  {
   "cell_type": "markdown",
   "id": "6915c6b6-8d3c-446a-9d3c-5e640153c219",
   "metadata": {
    "editable": false,
    "slideshow": {
     "slide_type": ""
    },
    "tags": []
   },
   "source": [
    "## 1.6 One-Time Performance Tests\n",
    "\n",
    "Below you can see how long it takes for each algorithm to calculate a certain number in the sequences. Check if your expectations about the complexity match with the results. \n",
    "\n",
    "Note, that in these tests only one number is calculated. Would the results be different if we calculate multiple numbers?"
   ]
  },
  {
   "cell_type": "code",
   "execution_count": null,
   "id": "64386eb0-3bf8-4e85-b478-93d56debcdfd",
   "metadata": {
    "editable": false,
    "slideshow": {
     "slide_type": ""
    },
    "tags": []
   },
   "outputs": [],
   "source": [
    "fibo_number = 35\n",
    "factorial_number = 1000\n",
    "\n",
    "print(\"Starting measuring performance ...\")\n",
    "print(f\"Calculating the {fibo_number}th fibonacci number, using the basic recursive implementation for the fibonacci sequence, took:\\t\\t\\t\",\n",
    "      format(timeit.timeit(f\"recursive_fibo({fibo_number})\",\n",
    "                    setup=\"from __main__ import recursive_fibo\",\n",
    "                    number=1), \".6f\"),\n",
    "      \"seconds\")\n",
    "print(f\"Calculating the {fibo_number}th fibonacci number, using the bottom-up dynamic programming for the fibonacci sequence, took:\\t\\t\\t\",\n",
    "      format(timeit.timeit(f\"FibonacciBottomUp()({fibo_number})\",\n",
    "                    setup=\"from __main__ import FibonacciBottomUp\",\n",
    "                    number=1), \".6f\"),\n",
    "      \"seconds\")\n",
    "print(f\"Calculating the {fibo_number}th fibonacci number, using the top-down dynamic programming for the fibonacci sequence, took:\\t\\t\\t\\t\",\n",
    "      format(timeit.timeit(f\"FibonacciTopDown()({fibo_number})\",\n",
    "                    setup=\"from __main__ import FibonacciTopDown\",\n",
    "                    number=1), \".6f\"),\n",
    "      \"seconds\")\n",
    "print(f\"Calculating the {fibo_number}th fibonacci number, using the bottom-up dynamic programming (non-recursive) for the fibonacci sequence, took:\\t\",\n",
    "      format(timeit.timeit(f\"fibonacci({fibo_number})\",\n",
    "                    setup=\"from __main__ import fibonacci\",\n",
    "                    number=1), \".6f\"),\n",
    "      \"seconds\")\n",
    "print(f\"Calculating the {factorial_number}th factorial number, using the basic recursive implementation for the factorial sequence, took:\\t\\t\\t\",\n",
    "      format(timeit.timeit(f\"recursive_fact({factorial_number})\",\n",
    "                    setup=\"from __main__ import recursive_fact\",\n",
    "                    number=1), \".6f\"),\n",
    "      \"seconds\")\n",
    "print(f\"Calculating the {factorial_number}th factorial number, using the top-down dynamic programming for the factorial sequence, took:\\t\\t\\t\",\n",
    "      format(timeit.timeit(f\"Factorial()({factorial_number})\",\n",
    "                    setup=\"from __main__ import Factorial\",\n",
    "                    number=1), \".6f\"),\n",
    "      \"seconds\")"
   ]
  },
  {
   "cell_type": "markdown",
   "id": "a3755615-d277-4b1c-a916-a4d7155284de",
   "metadata": {
    "editable": false,
    "slideshow": {
     "slide_type": ""
    },
    "tags": []
   },
   "source": [
    "## 1.7 Several Calculations Performance Tests\n",
    "\n",
    "Below, you can see the results of the performance test if we want to calculate multiple number using the algorithms in this exercise."
   ]
  },
  {
   "cell_type": "code",
   "execution_count": null,
   "id": "c3323d92-5b79-488a-8443-898ce7da8321",
   "metadata": {
    "editable": false,
    "slideshow": {
     "slide_type": ""
    },
    "tags": []
   },
   "outputs": [],
   "source": [
    "fibo_number = 35\n",
    "factorial_number = 1000\n",
    "\n",
    "print(\"Starting measuring performance ...\")\n",
    "print(f\"Calculating the first {fibo_number}th fibonacci numbers, using the basic recursive implementation for the fibonacci sequence, took:\\t\\t\\t\",\n",
    "      format(timeit.timeit(f\"[recursive_fibo(i) for i in range(2, {fibo_number})]\",\n",
    "                    setup=\"from __main__ import recursive_fibo\",\n",
    "                    number=1), \".6f\"),\n",
    "      \"seconds\")\n",
    "print(f\"Calculating the first {fibo_number}th fibonacci numbers, using the bottom-up dynamic programming for the fibonacci sequence, took:\\t\\t\\t\\t\",\n",
    "      format(timeit.timeit(f\"f = FibonacciBottomUp()\\n[f(i) for i in range(2, {fibo_number})]\",\n",
    "                    setup=\"from __main__ import FibonacciBottomUp\",\n",
    "                    number=1), \".6f\"),\n",
    "      \"seconds\")\n",
    "print(f\"Calculating the first {fibo_number}th fibonacci numbers, using the top-down dynamic programming for the fibonacci sequence, took:\\t\\t\\t\\t\",\n",
    "      format(timeit.timeit(f\"f = FibonacciTopDown()\\n[f(i) for i in range(2, {fibo_number})]\",\n",
    "                    setup=\"from __main__ import FibonacciTopDown\",\n",
    "                    number=1), \".6f\"),\n",
    "      \"seconds\")\n",
    "print(f\"Calculating the first {fibo_number}th fibonacci numbers, using the bottom-up dynamic programming (non-recursive) for the fibonacci sequence, took:\\t\\t\",\n",
    "      format(timeit.timeit(f\"[fibonacci(i) for i in range(2, {fibo_number})]\",\n",
    "                    setup=\"from __main__ import fibonacci\",\n",
    "                    number=1), \".6f\"),\n",
    "      \"seconds\")\n",
    "print(f\"Calculating the first {factorial_number}th factorial numbers, using the basic recursive implementation for the factorial sequence, took:\\t\\t\\t\",\n",
    "      format(timeit.timeit(f\"[recursive_fact(i) for i in range({factorial_number})]\",\n",
    "                    setup=\"from __main__ import recursive_fact\",\n",
    "                    number=1), \".6f\"),\n",
    "      \"seconds\")\n",
    "print(f\"Calculating the first {factorial_number}th factorial numbers, using the top-down dynamic programming for the factorial sequence, took:\\t\\t\\t\",\n",
    "      format(timeit.timeit(f\"f = Factorial()\\n[f(i) for i in range({factorial_number})]\",\n",
    "                    setup=\"from __main__ import Factorial\",\n",
    "                    number=1), \".6f\"),\n",
    "      \"seconds\")"
   ]
  },
  {
   "attachments": {},
   "cell_type": "markdown",
   "id": "c3538d35-9f4e-4433-a349-36046a2311e8",
   "metadata": {
    "editable": false,
    "slideshow": {
     "slide_type": ""
    },
    "tags": []
   },
   "source": [
    "# 2.0 Maximum Path Sum \n",
    "\n",
    "In this exercise, we will solve a more general version of one of the [euler project](https://projecteuler.net/problem=18) problems. In this problem, we have a triangle of numbers where paths exist from the top of the triangle to the bottom of the triangle. Your job is to find the path with the smallest sum. Below, you can see a screenshot of the example in the Euler problem.\n",
    "\n",
    "<img src=\"path_sum.png\" alt=\"drawing\"/>\n",
    "\n",
    "A good way to solve this problem is by using top-down dynamic programming. Think about what the recurrence relation is for this problem. We will generate a random triangle of numbers as a triangle object that contains the top node. Each Node then contains two other nodes that are the lower left and lower right node. Note, that this triangle object is not a binary tree but a graph as, from a tree datastructure point of view, parents share the same children. In the `Node` object, we will call it `left` and `right` referring to the lower left and lower right nodes.\n",
    "\n",
    "Before, you start solving this problem check how the `Node` and `Triangle` classes work and implement a representation for the `Triangle` class. If you want you can skip this step but it is a good recursion problem to solve."
   ]
  },
  {
   "cell_type": "code",
   "execution_count": null,
   "id": "9abbf7b1-324f-458b-8ef6-7247f2795af1",
   "metadata": {
    "editable": true,
    "slideshow": {
     "slide_type": ""
    },
    "tags": []
   },
   "outputs": [],
   "source": [
    "%%execwritefile exercise9_{student}_notebook.py 200 -a -s\n",
    "\n",
    "class Node():\n",
    "    def __init__(self, value, left=None, right=None):\n",
    "        \"\"\"\n",
    "        This creates a node object containing the value and its lower right and left node.\n",
    "\n",
    "        :param value: The value of the node\n",
    "        :type value: int\n",
    "        :param left: The lower left node, defaults to None\n",
    "        :type left: Node\n",
    "        :param right: The lower right\n",
    "        :type right: Node        \n",
    "        \"\"\"\n",
    "        self.value = value\n",
    "        self.left = left\n",
    "        self.right = right\n",
    "\n",
    "    def __repr__(self):\n",
    "        \"\"\"\n",
    "        This is the representation of the Node.\n",
    "        You can adjust it to your own preference.\n",
    "        \"\"\"\n",
    "        return f\"Node({self.value})\"\n",
    "\n",
    "class Triangle():\n",
    "    \"\"\"\n",
    "    This class has one object attribute:\n",
    "        :param top: The top node of the triangle\n",
    "        :type top: Node\n",
    "    \"\"\"\n",
    "    \n",
    "    def __init__(self, min_=1, max_=100, height=10):\n",
    "        \"\"\"\n",
    "        This creates a random triangle object as explained above.\n",
    "\n",
    "        :param min: The minimum value that can be generated as value for a node\n",
    "        :type min: int\n",
    "        :param max: The maximum value that can be generated as value for a node\n",
    "        :type max: int\n",
    "        :param depth: The height of the triangle.\n",
    "        :type depth: int\n",
    "        \"\"\"\n",
    "        # Initialize all nodes\n",
    "        rows = []\n",
    "        for row in range(1, height+1):\n",
    "            rows.append([Node(RNG.integers(min_, max_)) for _ in range(row)])\n",
    "\n",
    "        # Connect all nodes\n",
    "        for i, row in enumerate(rows[:-1]):\n",
    "            for j, cell in enumerate(row):\n",
    "                cell.right = rows[i+1][j+1]\n",
    "                cell.left  = rows[i+1][j]\n",
    "\n",
    "        self.top = rows[0][0]\n",
    "        self.height = height\n",
    "\n",
    "    def __repr__(self):\n",
    "        \"\"\"\n",
    "        The representation of a Triangle object.\n",
    "        It might be useful to create a (static) helper method.\n",
    "        This should look as follows (for the example given above):\n",
    "        \n",
    "        [3]\n",
    "        [7, 4]\n",
    "        [2, 4, 6]\n",
    "        [8, 5, 9, 3]\n",
    "\n",
    "        Thus, each row is represented as a list and each row ends with a new line.\n",
    "        \"\"\"\n",
    "        raise NotImplementedError(\"Please complete this method.\")\n",
    "\n",
    "    def show(self, path=None):\n",
    "        \"\"\"\n",
    "        This method shows the current triangle.\n",
    "        \"\"\"\n",
    "        graph = nx.Graph()\n",
    "\n",
    "        pos = {}\n",
    "        row = [self.top]\n",
    "        for i in range(self.height):\n",
    "            for j, node in enumerate(row):\n",
    "                if node.left is not None:\n",
    "                    graph.add_edge(node, node.left)\n",
    "                    graph.add_edge(node, node.right)\n",
    "                    \n",
    "                graph.add_node(node)\n",
    "                pos[node] = (j * 2 + (self.height-i), -i)\n",
    "                \n",
    "            row = [row[0].left] + [n.right for n in row]\n",
    "            \n",
    "        nx.draw_networkx(graph, \n",
    "                         pos,\n",
    "                         labels = {node: node.value for node in pos},\n",
    "                         node_color=\"w\",\n",
    "                         with_labels=True,\n",
    "                         node_size=600,\n",
    "                         width=1)\n",
    "        \n",
    "        if path is not None:\n",
    "            edgelist = [(node, path[i+1]) for i, node in enumerate(path[:-1])]\n",
    "            nx.draw_networkx_edges(graph, \n",
    "                                   pos, \n",
    "                                   edgelist,\n",
    "                                   edge_color='r',\n",
    "                                   width=4)\n",
    "        plt.show()"
   ]
  },
  {
   "cell_type": "markdown",
   "id": "07175ccf-ff0d-4548-88c0-b523b2ebadb5",
   "metadata": {
    "editable": false,
    "slideshow": {
     "slide_type": ""
    },
    "tags": []
   },
   "source": [
    "## Test your code\n",
    "\n",
    "In the cell below, you can test your representation of the `Triangle` class."
   ]
  },
  {
   "cell_type": "code",
   "execution_count": null,
   "id": "54b1ab66-7b68-4721-9953-7eadee8e424e",
   "metadata": {},
   "outputs": [],
   "source": [
    "triangle = Triangle(height=10)\n",
    "print(triangle)\n",
    "triangle.show()"
   ]
  },
  {
   "attachments": {},
   "cell_type": "markdown",
   "id": "d920f190-c47b-4f0b-a793-847ad148be5e",
   "metadata": {
    "editable": false,
    "slideshow": {
     "slide_type": ""
    },
    "tags": []
   },
   "source": [
    "## 2.1 Maximum Path Sum \n",
    "\n",
    "Now, that we have a good visualization and representation of the `Triangle` solve the problem of finding the path with the maximum sum. This problem should be solved using Divide & Conquer and dynamic programming. Think about why you should use both techniques. How would the complexity change if you do not use dynamic programming?\n",
    "\n",
    "Note, that for this problem we can not use a \"static\" memory because each problem is unique. Therefore, we need to reinialize the memory everytime we solve a triangle problem.\n",
    "\n",
    "***Before, you start programming make a pseudocode for your approach.***"
   ]
  },
  {
   "cell_type": "code",
   "execution_count": null,
   "id": "606abc39-3738-4d7b-9f03-b68e3b9f78f9",
   "metadata": {},
   "outputs": [],
   "source": [
    "%%execwritefile exercise9_{student}_notebook.py 210 -a -s\n",
    "\n",
    "class MaximumPathSum():\n",
    "    \"\"\"\n",
    "    This class has the following object attributes when the object are called:\n",
    "        :parem partial_path_sum: The dynamic programming memory, here the maximum sum and the corresponding path (next node) for each node are saved.\n",
    "        :type partial_path_sum: dict[Node, tuple[Node, int]]\n",
    "    \"\"\"\n",
    "    \n",
    "    def __call__(self, triangle):\n",
    "        \"\"\"\n",
    "        This method calculated the maximum sum path in the triangle.\n",
    "\n",
    "        :param triangle: The triangle for which you need to calculate the maximum path sum\n",
    "        :type triangle: Triangle\n",
    "        :return: The sum of the path from the top node of the triangle and the path that gives this sum\n",
    "        :rtype: int, list[Node]\n",
    "        \"\"\"\n",
    "        self.partial_path_sum = {}\n",
    "        raise NotImplementedError(\"Please complete this method.\")\n",
    "\n",
    "    def step(self, node):\n",
    "        \"\"\"\n",
    "        One divide and conquer step to calculate the maximum path sum\n",
    "\n",
    "        :param node: The current node\n",
    "        :type node: Node\n",
    "        :return: The sum of the path from this node\n",
    "        :rtype: int\n",
    "        \"\"\"\n",
    "        raise NotImplementedError(\"Please complete this method.\")\n",
    "\n",
    "    def find_path(self, node):\n",
    "        \"\"\"\n",
    "        Find the path with the highest sum.\n",
    "\n",
    "        :param node: The starting node of the path, top of the triangle\n",
    "        :type node: Node\n",
    "        :return: The path that gives the largest sum\n",
    "        :rtype: list[Node]\n",
    "        \"\"\"\n",
    "        raise NotImplementedError(\"Please complete this method.\")\n",
    "        "
   ]
  },
  {
   "cell_type": "markdown",
   "id": "3b62575b-95e3-4743-9a89-c23aa73cab86",
   "metadata": {
    "editable": false,
    "slideshow": {
     "slide_type": ""
    },
    "tags": []
   },
   "source": [
    "## Test your code\n",
    "\n",
    "In the cell below, you can test your code for the `MaximumPathSum` class."
   ]
  },
  {
   "cell_type": "code",
   "execution_count": null,
   "id": "2c86217f-285c-4f90-aa37-7ad3706770e7",
   "metadata": {},
   "outputs": [],
   "source": [
    "triangle = Triangle(height=20)\n",
    "value, path = MaximumPathSum()(triangle)\n",
    "print(f\"The maximum value in the triangle is {value} consisting of the values: {path}\")\n",
    "triangle.show(path)"
   ]
  },
  {
   "cell_type": "markdown",
   "id": "620bba04-1643-4c38-bd1c-c4ad2569ac22",
   "metadata": {
    "editable": false,
    "slideshow": {
     "slide_type": ""
    },
    "tags": []
   },
   "source": [
    "# 3.0 Calculating Prime Numbers\n",
    "\n",
    "In this exercise, we will efficiently calculate prime numbers using bottom-up dynamic programming. A number is a prime number if it is only divisible by itself or 1. Therefore, we can use three facts to check if a number is prime:\n",
    " - If a number is not divisible by any other prime number then it is also not divisible by all other numbers. Reason: All non-prime numbers consist of a multiplication of prime numbers. So, if a number would be divisible by a non-prime number it would also be divisible by a prime number.\n",
    " - If we checked all numbers up to the square root of the number and none of the numbers are a proper divisor then we know that the number is a prime number. Reason: All numbers larger than the square root of the number have an outcome lower than the square root of the number and we already checked those.\n",
    " - A proper divisor of a number is a positive whole number excluding zero and one.\n",
    "\n",
    "***Now, think of an algorithm that uses these facts to create an effective bottom-up dynamic programming approach for calculating prime numbers***"
   ]
  },
  {
   "cell_type": "code",
   "execution_count": null,
   "id": "50a7669a-371f-4538-8f3a-65aee3daca8f",
   "metadata": {
    "editable": true,
    "slideshow": {
     "slide_type": ""
    },
    "tags": []
   },
   "outputs": [],
   "source": [
    "%%execwritefile exercise9_{student}_notebook.py 300 -a -s\n",
    "\n",
    "class Primes():\n",
    "    \"\"\"\n",
    "    This class has the following object attributes:\n",
    "        :param primes: The list of prime numbers.\n",
    "        :type primes: list[int]\n",
    "    \"\"\"\n",
    "    def __init__(self):\n",
    "        \"\"\"\n",
    "        Prime numbers do not change. So, we can use the same \"memory\" every time we run the callable object we initiate here.\n",
    "        \"\"\"\n",
    "        self.primes = [2, 3]\n",
    "\n",
    "    def __call__(self, max_):\n",
    "        \"\"\"\n",
    "        Calculate all prime numbers up to the `max_` number\n",
    "\n",
    "        :param max_: The largest number to check if it is prime.\n",
    "        :param max_: int\n",
    "        \"\"\"        \n",
    "        raise NotImplementedError(\"Please complete this method.\")\n",
    "                \n",
    "    def __repr__(self):\n",
    "        \"\"\"\n",
    "        Representation of the class objects, you can change it however you like.\n",
    "        \"\"\"\n",
    "        return str(self.primes)"
   ]
  },
  {
   "cell_type": "markdown",
   "id": "40a4c5d3-3f2e-4ae8-aed7-e526730f7fc1",
   "metadata": {
    "editable": false,
    "slideshow": {
     "slide_type": ""
    },
    "tags": []
   },
   "source": [
    "## Test your code\n",
    "\n",
    "In the cell below, you can test your code for the `Primes` class."
   ]
  },
  {
   "cell_type": "code",
   "execution_count": null,
   "id": "094108a0-85c0-4c66-a7d3-37f7144ac48e",
   "metadata": {
    "editable": true,
    "jp-MarkdownHeadingCollapsed": true,
    "slideshow": {
     "slide_type": ""
    },
    "tags": []
   },
   "outputs": [],
   "source": [
    "# Test your code here\n"
   ]
  },
  {
   "cell_type": "markdown",
   "id": "2c3e25e3",
   "metadata": {
    "editable": false,
    "slideshow": {
     "slide_type": ""
    },
    "tags": []
   },
   "source": [
    "# 4.0 UNITTESTS\n",
    "\n",
    "During this assignment, we copied all your code to the following **.py** file **\"exercise9_{student}_notebook.py\"**. You also tested your code along the way. However, it is possible that there are still a few errors. Therefore, it is good to run some unittest when you complete all coding. This gives you an extra chance to spot mistakes. Here, we added some unittest for you to use. Note, that they are merely a check to see if your **.py** is correct.\n",
    "\n",
    "From this point onwards we strongly advise renaming the **\"exercise9_{student}_notebook.py\"** file to the correct file name that you need to hand in **\"exercise9_{student}.py\"**. Now, you can adjust the **\"exercise9_{student}.py\"** file without the risk of overwriting it when you run the notebook again. This also enables the possibility to run the unittests. Note, that from now on if you make a change in the Python file and you want to go back to the notebook later that you also make this change in the notebook. To run the unittests go to the **\"unit_test.py\"** file and run the file in either PyCharm, VSCode, or a terminal. You can run it in a terminal using the following command: `python -m unittest --verbose unit_test.py`. `--verbose` is optional but gives you more details about which tests fail and which succeed.\n",
    "\n",
    "You are allowed to add your own unittests. \n",
    "\n",
    "## Uploading to Brightspace for Bonus\n",
    "\n",
    "Next, you can upload your Python file with the correct name on brightspace in the bonus assignment. Follow the instructions on this brightspace page carefully to have a successful submission. After you get the feedback for this exercise you can either continue working in the Python file to fix possible bugs or you can go back to the notebook and remake the Python file. ***Please be careful, do not update your code in both the Python file and notebook at the same time!***. If you go back to the notebook do not forget to update the notebook with any changes you made within the Python file. In this case, it is best to just delete the Python file as soon as you copied all changes.\n",
    "\n",
    "***NOTE, that you can now also upload the exercises from week 1! The process is exactly the same only there is no unittest.***"
   ]
  },
  {
   "cell_type": "code",
   "execution_count": null,
   "id": "b31894c7-deff-42b0-8d83-f7a8ecbd2eab",
   "metadata": {},
   "outputs": [],
   "source": []
  },
  {
   "cell_type": "code",
   "execution_count": null,
   "id": "e6116787-7e10-4caa-82e0-770781b5c506",
   "metadata": {},
   "outputs": [],
   "source": []
  }
 ],
 "metadata": {
  "kernelspec": {
   "display_name": "Python 3 (ipykernel)",
   "language": "python",
   "name": "python3"
  },
  "language_info": {
   "codemirror_mode": {
    "name": "ipython",
    "version": 3
   },
   "file_extension": ".py",
   "mimetype": "text/x-python",
   "name": "python",
   "nbconvert_exporter": "python",
   "pygments_lexer": "ipython3",
   "version": "3.11.5"
  }
 },
 "nbformat": 4,
 "nbformat_minor": 5
}
