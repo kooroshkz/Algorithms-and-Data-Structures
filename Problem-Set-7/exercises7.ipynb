{
 "cells": [
  {
   "cell_type": "markdown",
   "id": "23475a6f",
   "metadata": {
    "editable": false,
    "slideshow": {
     "slide_type": ""
    },
    "tags": []
   },
   "source": [
    "# Welcome to Lab 7: Divide & Conquer and Decrease & Conquer\n",
    "\n",
    "In this lab, we will implement several divide & conquer algorithms. However, not all experts would agree that they are divide & conquer algorithms. Sometimes, a distinction is made between divide & conquer and decrease & conquer. Here, divide & conquer must divide the problem into equally sized problems that both are solved by using the divide & conquer algorithm. Decrease & conquer covers all algorithms where the problem is solved by reducing the size of the problem into a smaller problem. Note, that decrease & conquer is not an official name for an algorithm. It can also be called divide & conquer with decrease by one. For each variation of the divide & conquer algorithms, we will implement one example which are merge sort, factorial, binary search, and greatest common divisor. Next week, we will work on some harder divide and conquer problems.\n",
    "\n",
    "Throughout the exercise, you will be extending the classes by completing code stubs in their respective cells. You do not need to copy the code, it is enough to work in the cell under each exercise. Note that there are separate cells provided where you can (and should) test your code. During the exercises, you will (through customMagics) obtain a Python file (.py) which you should run against a set of unittests. Please avoid writing any unnecessary code in cells containing the `%%execwritefile` command. Doing this could alter the file `.py` and make it syntactically incorrect or interfere with the unittests. To prevent this stick to the following rules:'\n",
    " - ***Do not remove cells that start with ``%%execwritefile`` and do not remove that line.***\n",
    " - If a cell contains a `%%execwritefile` command at the top and a class definition you need to complete the given methods and adding helper methods is allowed, but do **not** add new functions or Python script to the cells (like global variables).\n",
    " - If a cell contains a `%%execwritefile` command at the top and **not** a class definition you must complete the given functions and you are free to add helper functions, new classes, and Python script that contains for example global variables. Note, that the use of global variables is almost always wrong except for a few use cases such as RNG for the numpy random generator methods.\n",
    " - If a cell does **not** contain a `%%execwritefile` command you can plot things, print variables, and write test cases. Here, you are free to do whatever you want.\n",
    " - If a cell does **not** contain a `%%execwritefile` command it should not contain functional code that is needed to run other functions or classes. The reason is that it is not copied to the `.py`. So, it can not be used during the unittesting.\n",
    "\n",
    "You do not need to look at the `customMagic.py` nor do more than glimpse at the test file, your exercise is contained in this workbook unless specified differently in this notebook's instructions. \n",
    "\n",
    "***Hint: Jupyter Notebooks saves variables between runs. If you get unexpected results try restarting the kernel, this deletes any saved variables.*** \n",
    "\n",
    "Please fill in your student name down below"
   ]
  },
  {
   "cell_type": "code",
   "execution_count": 6,
   "id": "78cf4ce6-3998-4c5b-b2fb-d8b83c6336fc",
   "metadata": {
    "editable": true,
    "slideshow": {
     "slide_type": ""
    },
    "tags": []
   },
   "outputs": [],
   "source": [
    "# FILL IN YOU STUDENT NUMBER\n",
    "student = 3893995\n",
    "\n",
    "# Set this to false if you want the default screen width.\n",
    "WIDE_SCREEN = True"
   ]
  },
  {
   "cell_type": "code",
   "execution_count": 7,
   "id": "2f51569f",
   "metadata": {
    "ExecuteTime": {
     "end_time": "2024-01-19T10:20:08.920263757Z",
     "start_time": "2024-01-19T10:20:08.907961698Z"
    },
    "editable": false,
    "slideshow": {
     "slide_type": ""
    },
    "tags": []
   },
   "outputs": [
    {
     "data": {
      "text/html": [
       "<style>.jp-Notebook { padding-left: 1% !important; padding-right: 1% !important; width:100% !important; } </style>"
      ],
      "text/plain": [
       "<IPython.core.display.HTML object>"
      ]
     },
     "metadata": {},
     "output_type": "display_data"
    }
   ],
   "source": [
    "from custommagics import CustomMagics\n",
    "\n",
    "if WIDE_SCREEN:\n",
    "    import notebook\n",
    "    from IPython.display import display, HTML\n",
    "\n",
    "    if int(notebook.__version__.split(\".\")[0]) >= 7:    \n",
    "        display(HTML(\n",
    "            '<style>'\n",
    "                '.jp-Notebook { padding-left: 1% !important; padding-right: 1% !important; width:100% !important; } '\n",
    "            '</style>'\n",
    "        ))\n",
    "    else:\n",
    "        display(HTML(\"<style>.container { width:98% !important; }</style>\"))\n",
    "\n",
    "get_ipython().register_magics(CustomMagics)"
   ]
  },
  {
   "cell_type": "code",
   "execution_count": 8,
   "id": "dc271cbf-ca64-4f94-b215-4306c69b5667",
   "metadata": {
    "ExecuteTime": {
     "end_time": "2024-01-19T10:20:13.144182399Z",
     "start_time": "2024-01-19T10:20:12.693456275Z"
    },
    "editable": false,
    "slideshow": {
     "slide_type": ""
    },
    "tags": []
   },
   "outputs": [
    {
     "name": "stdout",
     "output_type": "stream",
     "text": [
      "exercise7_3893995_notebook.py is backup to exercise7_3893995_notebook_backup.py\n",
      "Overwriting exercise7_3893995_notebook.py\n"
     ]
    }
   ],
   "source": [
    "%%execwritefile exercise7_{student}_notebook.py 0 \n",
    "\n",
    "# DO NOT CHANGE THIS CELL.\n",
    "# THESE ARE THE ONLY IMPORTS YOU ARE ALLOWED TO USE:\n",
    "\n",
    "import numpy as np\n",
    "import copy\n",
    "import networkx as nx\n",
    "import matplotlib.pyplot as plt\n",
    "\n",
    "RNG = np.random.default_rng()"
   ]
  },
  {
   "cell_type": "code",
   "execution_count": 9,
   "id": "022add5f-abf2-48f4-9416-3e579f078a80",
   "metadata": {
    "editable": true,
    "slideshow": {
     "slide_type": ""
    },
    "tags": []
   },
   "outputs": [],
   "source": [
    "plt.matplotlib.rcParams['figure.figsize'] = [6, 4]"
   ]
  },
  {
   "cell_type": "markdown",
   "id": "d5816301-29dd-43d4-82c6-9d818214993d",
   "metadata": {
    "editable": false,
    "slideshow": {
     "slide_type": ""
    },
    "tags": []
   },
   "source": [
    "# Divide & Conquer vs Decrease & Conquer\n",
    "\n",
    "Below, you can find a table with which algorithm is discussed in which exercise.\n",
    "\n",
    "| **_Algorithm_**                       | **_Exercise_**              |\n",
    "|---------------------------------------|-----------------------------|\n",
    "| Divide & Conquer                      | 1.0 Merge Sort              |\n",
    "| Decrease By One & Conquer             | 2.0 Factorial       |\n",
    "| Decrease By Constant Factor & Conquer | 3.0 Binary Search           |\n",
    "| Decrease By Variable Size & Conquer   | 4.0 Greatest Common Divisor |\n",
    "\n",
    "As mentioned in the introduction, decrease & conquer algorithms do not divide the problem into two subset problems but decrease the problem size into an easier-to-solve problem. Decrease & conquer can also be separated into three subvariants decrease by one, decrease by constant, and decrease by variable size. Here, decrease by one is your basic recursion which is often used to solve problems in an easier way for example calculating the sum of a list by taking the first value and adding it to the sum of the rest of the list. Often these problems can also be solved iteratively. Decrease by a constant or variable size are often used to reduce the complexity but they are simple problems where a simple step can reduce the problem in half. For example, searching for a variable in a binary search tree is decrease & conquer with a variable size. Later, we will see that searching a variable in a balanced binary search tree is decrease & conquer with a constant factor. Below, you can see the schematic differences of the algorithms. Decrease & conquer with a variable size is not included as it is schematically similar to decrease & conquer with a constant factor.\n",
    "\n",
    "<img src=\"differences.png\" alt=\"drawing\" width=\"1308\"/>\n",
    "\n",
    "# 1.0 Merge Sort\n",
    "\n",
    "Merge is one of the classical examples of recursion and divide and conquer. Here, we will split the merge sort into two algorithms the merging of the lists called `merge` and the recursive part, `step` that splits the lists into two. We already saw merge sort in ITP, so for more details you can read the \"Merge sort\" section of the [ITP assignment](https://joshhug.github.io/LeidenITP/assignments/assignment4/#merge-sort), you do not have to read the whole text! In this text, you can find two algorithms on how to merge two sorted lists. Additionally, you can also find a link to the wiki page.\n",
    "\n",
    "Before, you start programming write a pseudo algorithm and think about why merge sort is a typical example of divide and conquor."
   ]
  },
  {
   "cell_type": "code",
   "execution_count": 10,
   "id": "7ec3f61e-2c1f-4b17-80aa-49670cda4dd3",
   "metadata": {
    "editable": true,
    "slideshow": {
     "slide_type": ""
    },
    "tags": []
   },
   "outputs": [
    {
     "name": "stdout",
     "output_type": "stream",
     "text": [
      "Appending to exercise7_3893995_notebook.py\n"
     ]
    }
   ],
   "source": [
    "%%execwritefile exercise7_{student}_notebook.py 10 -a -s\n",
    "\n",
    "class MergeSort():\n",
    "    def __call__(self, list_):\n",
    "        \"\"\"\n",
    "        This method sorts a list and returns the sorted list.\n",
    "        Note, that if two elements are equal the order should not change. \n",
    "        This is also known as the sorting algorithm is stable.\n",
    "\n",
    "        :param list_: An unsorted list that needs to be sorted.\n",
    "        :type list_: list[int/float]\n",
    "        :return: The sorted list.\n",
    "        :rtype: list[int/float]\n",
    "        \"\"\"\n",
    "        return self.step(list_)\n",
    "\n",
    "    def step(self, list_):\n",
    "        \"\"\"\n",
    "        One step in the merge sort algorithm.\n",
    "        Here, you split the list sort them both, and then merge them.\n",
    "\n",
    "        :param list_: An unsorted list that needs to be sorted.\n",
    "        :type list_: list[int/float]\n",
    "        :return: The sorted list.\n",
    "        :rtype: list[int/float]\n",
    "        \"\"\"\n",
    "        if len(list_) <= 1:\n",
    "            return list_\n",
    "        mid = len(list_) // 2\n",
    "        left = self.step(list_[:mid])\n",
    "        right = self.step(list_[mid:])\n",
    "        return self.merge(left, right)\n",
    "\n",
    "    @staticmethod\n",
    "    def merge(list1, list2):\n",
    "        \"\"\"\n",
    "        This method merges two sorted lists into one sorted list.\n",
    "\n",
    "        :param list1: A sorted list that needs to be merged.\n",
    "        :type list1: list[int/float]\n",
    "        :param list2: A sorted list that needs to be merged.\n",
    "        :type list2: list[int/float]\n",
    "        :return: The sorted list.\n",
    "        :rtype: list[int/float]\n",
    "        \"\"\"\n",
    "        result = []\n",
    "        i = j = 0\n",
    "        while i < len(list1) and j < len(list2):\n",
    "            if list1[i] <= list2[j]:\n",
    "                result.append(list1[i])\n",
    "                i += 1\n",
    "            else:\n",
    "                result.append(list2[j])\n",
    "                j += 1\n",
    "        result.extend(list1[i:])\n",
    "        result.extend(list2[j:])\n",
    "        return result\n",
    "        \n"
   ]
  },
  {
   "cell_type": "markdown",
   "id": "f9595d27-f294-4d75-af95-40a00d793fa1",
   "metadata": {
    "editable": false,
    "slideshow": {
     "slide_type": ""
    },
    "tags": []
   },
   "source": [
    "## Test your code\n",
    "\n",
    "In the cell below, you can test your code for the `MergeSort` class. Think about various ways how you can test if it works, think about edge cases. For example, make an empty list or just a list with random values."
   ]
  },
  {
   "cell_type": "code",
   "execution_count": 11,
   "id": "412000fb-ec84-43cb-98df-2eae0d4ae8f6",
   "metadata": {
    "editable": true,
    "slideshow": {
     "slide_type": ""
    },
    "tags": []
   },
   "outputs": [
    {
     "name": "stdout",
     "output_type": "stream",
     "text": [
      "[1, 2, 3, 4, 5, 6, 7, 8]\n",
      "[0, 1, 2, 3, 4, 5, 6, 7, 8]\n",
      "[0, 1, 2, 3, 4, 5, 6, 7, 8, 9]\n",
      "[0, 1, 1, 2, 3, 4, 5, 6, 7, 8, 9]\n",
      "[0, 1, 1, 2, 3, 3, 4, 5, 6, 7, 8, 9]\n",
      "[0, 1, 1, 2, 2, 3, 3, 4, 5, 6, 7, 8, 9]\n",
      "[0, 1, 1, 2, 2, 3, 3, 4, 4, 5, 6, 7, 8, 9]\n",
      "[0, 1, 1, 2, 2, 3, 3, 4, 4, 5, 5, 6, 7, 8, 9]\n"
     ]
    }
   ],
   "source": [
    "# Type your testing code here\n",
    "\n",
    "# Test the MergeSort class\n",
    "merge_sort = MergeSort()\n",
    "print(merge_sort([1, 3, 2, 4, 5, 7, 6, 8]))\n",
    "print(merge_sort([1, 3, 2, 4, 5, 7, 6, 8, 0]))\n",
    "print(merge_sort([1, 3, 2, 4, 5, 7, 6, 8, 0, 9]))\n",
    "print(merge_sort([1, 3, 2, 4, 5, 7, 6, 8, 0, 9, 1]))\n",
    "print(merge_sort([1, 3, 2, 4, 5, 7, 6, 8, 0, 9, 1, 3]))\n",
    "print(merge_sort([1, 3, 2, 4, 5, 7, 6, 8, 0, 9, 1, 3, 2]))\n",
    "print(merge_sort([1, 3, 2, 4, 5, 7, 6, 8, 0, 9, 1, 3, 2, 4]))\n",
    "print(merge_sort([1, 3, 2, 4, 5, 7, 6, 8, 0, 9, 1, 3, 2, 4, 5]))\n"
   ]
  },
  {
   "cell_type": "markdown",
   "id": "8940fb1c-7ab3-474b-b795-ca06dbb6ee9f",
   "metadata": {
    "editable": false,
    "slideshow": {
     "slide_type": ""
    },
    "tags": []
   },
   "source": [
    "# 2.0 Factorial\n",
    "\n",
    "Calculating $n$ factorial is a typical decrease by one & conquer algorithm. Where, each step you reduce the size of n by one. So, the algorithm consists of multiplying $n$ times factorial($n-1$). Note, that $0! = 1$ which is read as 0 factorial is equal to one. \n",
    "\n",
    "Think about a pseudo algorithm to calculate factorial($n$) and implement it down below. Due to the simplicity of the algorithm, we will use a function instead of a callable class to implement it."
   ]
  },
  {
   "cell_type": "code",
   "execution_count": 12,
   "id": "69a8c618-572b-4b29-9205-b967979f883b",
   "metadata": {
    "editable": true,
    "slideshow": {
     "slide_type": ""
    },
    "tags": []
   },
   "outputs": [
    {
     "name": "stdout",
     "output_type": "stream",
     "text": [
      "Appending to exercise7_3893995_notebook.py\n"
     ]
    }
   ],
   "source": [
    "%%execwritefile exercise7_{student}_notebook.py 20 -a -s\n",
    "\n",
    "def factorial_recursion(n):\n",
    "    \"\"\"\n",
    "    This function calculates the nth factorial recursively.\n",
    "\n",
    "    :param n: The nth factorial number\n",
    "    :type n: int\n",
    "    :return: n!\n",
    "    :type: int\n",
    "    \"\"\"\n",
    "    if n == 0:\n",
    "        return 1\n",
    "    return n * factorial_recursion(n - 1)"
   ]
  },
  {
   "cell_type": "markdown",
   "id": "645edb44-647a-476d-bb20-33a28b61fc78",
   "metadata": {
    "editable": false,
    "slideshow": {
     "slide_type": ""
    },
    "tags": []
   },
   "source": [
    "## Test your code\n",
    "\n",
    "In the cell below, you can test your `factorial_recursion` function."
   ]
  },
  {
   "cell_type": "code",
   "execution_count": 13,
   "id": "fdabb7b7-8ab7-4edb-ab31-9fbfb18266d8",
   "metadata": {},
   "outputs": [
    {
     "name": "stdout",
     "output_type": "stream",
     "text": [
      "120\n",
      "720\n"
     ]
    }
   ],
   "source": [
    "# Type your testing code here\n",
    "\n",
    "print(factorial_recursion(5))\n",
    "print(factorial_recursion(6))\n"
   ]
  },
  {
   "cell_type": "markdown",
   "id": "6c3969f4-c07d-4df3-ad1e-12ab3ffe118a",
   "metadata": {
    "editable": false,
    "slideshow": {
     "slide_type": ""
    },
    "tags": []
   },
   "source": [
    "# 3.0 Binary Search\n",
    "\n",
    "In lab 2, we tackled binary search trees which are a good datastructure to do binary search in. This is especially true if we have balanced binary search trees. A balanced binary search tree is a tree where all branches have the same length $\\pm$ 1.  In the theory questions, we calculated that the complexity of a search algorithm in a complete binary search tree is $\\Theta(\\log(n))$. A complete binary search tree is a special version of a balanced binary search tree, but both have the same complexity. Think about why this is the case. \n",
    "\n",
    "So, one way to calculate the complexity is to look at the maximum height of a binary search tree. However, another way is to look at what each node in the tree represents. In a balanced binary search tree, the root node is the median value of all values in the tree. So, if the value is smaller than the root value you go left which effectively makes your search space half as big. So, in every step of your search algorithm, the search space is divided by two. This is basically what binary search is, however, in a list it requires a bit more effort where you need to look up the median of the list in every step. So both search in a balanced binary search tree and binary search on a list are example of decrease by a constant factor & conquer.\n",
    "\n",
    "So, one step of a binary search algorithm finds the median, given a minimum and maximum value, and checks if the value you are looking for is higher or lower, and discards values that are not in the correct range. Now, you do this step over and over until the value that you are looking for is the median or there are no values left. For example, let's say we have a list `[1,3,6,10,15]` and we are looking for the value `3`. \n",
    "\n",
    "```\n",
    "Value = 3\n",
    "\n",
    "Step 1:\n",
    "    minimum = 1\n",
    "    maximum = 15\n",
    "    medium  = 6\n",
    "\n",
    "    value is smaller than 6, so the maximum is now 6.\n",
    "\n",
    "Step 2:\n",
    "    minimum = 1\n",
    "    maximum = 6\n",
    "    medium  = 3\n",
    "\n",
    "    medium equals value, thus, return True and index of the found value  \n",
    "```\n",
    "\n",
    "Before you start this exercise, make a pseudo-algorithm for this recursive binary search algorithm. \n",
    "\n",
    "***Note, that the list must be sorted to make this algorithm work.***"
   ]
  },
  {
   "cell_type": "code",
   "execution_count": 14,
   "id": "c24c9a1b-77be-4596-a830-0a81bdc982a5",
   "metadata": {
    "editable": true,
    "slideshow": {
     "slide_type": ""
    },
    "tags": []
   },
   "outputs": [
    {
     "name": "stdout",
     "output_type": "stream",
     "text": [
      "Appending to exercise7_3893995_notebook.py\n"
     ]
    }
   ],
   "source": [
    "%%execwritefile exercise7_{student}_notebook.py 30 -a -s\n",
    "\n",
    "class BinarySearch():\n",
    "    \"\"\"\n",
    "    A binary search class that can be used to make a callable object \n",
    "    which given a list and a value returns the index of the value.\n",
    "\n",
    "    After __call__ the object has two attributes:\n",
    "        :param list: A sorted list with values.\n",
    "        :type list: list\n",
    "        :param value: The value that you are searching for.\n",
    "        :type value: int\n",
    "    \"\"\"\n",
    "    def __call__(self, list_, value):\n",
    "        \"\"\"\n",
    "        This method finds the index of a value in a list\n",
    "        if a list does not have the value you should return None.\n",
    "\n",
    "        :param list_: A sorted list with values.\n",
    "        :type list_: list[int]\n",
    "        :param value: The value that you are searching for.\n",
    "        :type value: int\n",
    "        :return: index of the found value.\n",
    "        :rtype: int\n",
    "        \"\"\"\n",
    "        self.list = list_\n",
    "        self.value = value\n",
    "        return self.step(0, len(list_))\n",
    "    \n",
    "    def step(self, min_index, max_index):\n",
    "        \"\"\"\n",
    "        This is one step in the binary search algorithm.\n",
    "        No helper methods are given but if you want you can create\n",
    "        for example a next_step method or base_case method.\n",
    "\n",
    "        :param min_index: The left index of your search space, thus the minimum value of your search space.\n",
    "        :type min_index: int\n",
    "        :param max_index: The right index of your search space, thus the maximum value of your search space.\n",
    "        type max_index: int\n",
    "        :return: index of the found value.\n",
    "        :rtype: int\n",
    "        \"\"\"\n",
    "        if min_index >= max_index:\n",
    "            return None\n",
    "        mid = (min_index + max_index) // 2\n",
    "        if self.list[mid] == self.value:\n",
    "            return mid\n",
    "        if self.list[mid] < self.value:\n",
    "            return self.step(mid + 1, max_index)\n",
    "        return self.step(min_index, mid)"
   ]
  },
  {
   "cell_type": "markdown",
   "id": "44d6e203-3cc4-4d7d-a865-92fe2313ec3b",
   "metadata": {
    "editable": false,
    "slideshow": {
     "slide_type": ""
    },
    "tags": []
   },
   "source": [
    "## Test your code\n",
    "\n",
    "In the cell below, you can test your code for the `BinarySearch` class. Think about various ways how you can test if it works, think about edge cases. For example, make a list of values and search for the median value, minimum or maximum value, and a value that does not exits. "
   ]
  },
  {
   "cell_type": "code",
   "execution_count": 15,
   "id": "804f11be-4740-4c27-9e75-c574a647c077",
   "metadata": {
    "editable": true,
    "slideshow": {
     "slide_type": ""
    },
    "tags": []
   },
   "outputs": [
    {
     "name": "stdout",
     "output_type": "stream",
     "text": [
      "4\n",
      "0\n"
     ]
    }
   ],
   "source": [
    "# Type your testing code here\n",
    "\n",
    "# Test the BinarySearch class\n",
    "binary_search = BinarySearch()\n",
    "print(binary_search([1, 2, 3, 4, 5, 6, 7, 8, 9], 5))\n",
    "print(binary_search([1, 2, 3, 4, 5, 6, 7, 8, 9], 1))"
   ]
  },
  {
   "cell_type": "markdown",
   "id": "2212de2a-0ca8-4d03-a0f6-2a79083f6aaa",
   "metadata": {
    "editable": false,
    "slideshow": {
     "slide_type": ""
    },
    "tags": []
   },
   "source": [
    "# 4.0 Greatest Common Divisor\n",
    "\n",
    "The greatest common divisor algorithm of Euclid is also a decrease by various size and conquer algorithm, where you reduce the size of the problem with a various size and then use the same algorithm on the reduced size. Think about why Euclid's algorithm is a decrease by a various size algorithm and not a decrease by a constant factor or by one algorithm. You can watch lecture one if you forgot how Euclid's algorithm works, but here is a small recap. \n",
    "\n",
    "The greatest common divisor (gcd) of $a$ and $b$, where $a > b$, is equivalent to the gcd of $b$ and $a$ mod $b$. Therefore, you can reduce the size of the problem by substituting the second values to solve the problem. Note, that you found the gcd if $a$ and $b$ are multiples of each other where the smallest of the two is the gcd.\n",
    "\n",
    "Before you start this exercise, make a pseudo-algorithm for this recursive algorithm. Due to the simplicity of the algorithm, we will use a function instead of a callable class to implement it."
   ]
  },
  {
   "cell_type": "code",
   "execution_count": 16,
   "id": "18f7c4b1-df6b-44b3-b88b-aeb906a753b9",
   "metadata": {
    "editable": true,
    "slideshow": {
     "slide_type": ""
    },
    "tags": []
   },
   "outputs": [
    {
     "name": "stdout",
     "output_type": "stream",
     "text": [
      "Appending to exercise7_3893995_notebook.py\n"
     ]
    }
   ],
   "source": [
    "%%execwritefile exercise7_{student}_notebook.py 40 -a -s\n",
    "\n",
    "def gcd(a, b):\n",
    "    \"\"\"\n",
    "    This function calculates the greatest common divisor of a and b.\n",
    "    \"\"\"\n",
    "    if b == 0:\n",
    "        return a\n",
    "    return gcd(b, a % b)"
   ]
  },
  {
   "cell_type": "markdown",
   "id": "4ce9c60c-099c-4215-998e-a694e3f2a8fe",
   "metadata": {
    "editable": false,
    "slideshow": {
     "slide_type": ""
    },
    "tags": []
   },
   "source": [
    "## Test your code\n",
    "\n",
    "In the cell below, you can test your code for the `MergeSort` class. Think about various ways how you can test if it works, think about edge cases. For example, make an empty list or just a list with random values."
   ]
  },
  {
   "cell_type": "code",
   "execution_count": 17,
   "id": "540af09d-77a3-407c-a238-9c5a94bc7d24",
   "metadata": {},
   "outputs": [
    {
     "name": "stdout",
     "output_type": "stream",
     "text": [
      "5\n"
     ]
    }
   ],
   "source": [
    "# Type your testing code here\n",
    "\n",
    "print(gcd(10, 5))"
   ]
  },
  {
   "cell_type": "markdown",
   "id": "2c3e25e3",
   "metadata": {
    "editable": false,
    "slideshow": {
     "slide_type": ""
    },
    "tags": []
   },
   "source": [
    "# 5.0 UNITTESTS\n",
    "\n",
    "During this assignment, we copied all your code to the following **.py** file **\"exercise7_{student}_notebook.py\"**. You also tested your code along the way. However, it is possible that there are still a few errors. Therefore, it is good to run some unittest when you complete all coding. This gives you an extra chance to spot mistakes. Here, we added some unittest for you to use. Note, that they are merely a check to see if your **.py** is correct.\n",
    "\n",
    "From this point onwards we strongly advise renaming the **\"exercise7_{student}_notebook.py\"** file to the correct file name that you need to hand in **\"exercise7_{student}.py\"**. Now, you can adjust the **\"exercise7_{student}.py\"** file without the risk of overwriting it when you run the notebook again. This also enables the possibility to run the unittests. Note, that from now on if you make a change in the Python file and you want to go back to the notebook later that you also make this change in the notebook. To run the unittests go to the **\"unit_test.py\"** file and run the file in either PyCharm, VSCode, or a terminal. You can run it in a terminal using the following command: `python -m unittest --verbose unit_test.py`. `--verbose` is optional but gives you more details about which tests fail and which succeed.\n",
    "\n",
    "You are allowed to add your own unittests. \n",
    "\n",
    "## Uploading to Brightspace for Bonus\n",
    "\n",
    "Next, you can upload your Python file with the correct name on brightspace in the bonus assignment. Follow the instructions on this brightspace page carefully to have a successful submission. After you get the feedback for this exercise you can either continue working in the Python file to fix possible bugs or you can go back to the notebook and remake the Python file. ***Please be careful, do not update your code in both the Python file and notebook at the same time!***. If you go back to the notebook do not forget to update the notebook with any changes you made within the Python file. In this case, it is best to just delete the Python file as soon as you copied all changes.\n",
    "\n",
    "***NOTE, that you can now also upload the exercises from week 1! The process is exactly the same only there is no unittest.***"
   ]
  },
  {
   "cell_type": "code",
   "execution_count": null,
   "id": "b31894c7-deff-42b0-8d83-f7a8ecbd2eab",
   "metadata": {},
   "outputs": [],
   "source": []
  }
 ],
 "metadata": {
  "kernelspec": {
   "display_name": "Python 3 (ipykernel)",
   "language": "python",
   "name": "python3"
  },
  "language_info": {
   "codemirror_mode": {
    "name": "ipython",
    "version": 3
   },
   "file_extension": ".py",
   "mimetype": "text/x-python",
   "name": "python",
   "nbconvert_exporter": "python",
   "pygments_lexer": "ipython3",
   "version": "3.11.7"
  }
 },
 "nbformat": 4,
 "nbformat_minor": 5
}
