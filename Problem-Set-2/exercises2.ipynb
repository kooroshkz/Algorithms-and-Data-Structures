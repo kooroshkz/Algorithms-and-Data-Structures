{
 "cells": [
  {
   "cell_type": "markdown",
   "id": "23475a6f",
   "metadata": {
    "editable": false,
    "slideshow": {
     "slide_type": ""
    },
    "tags": []
   },
   "source": [
    "# Welcome to Week 2: Trees \\& Nodes\n",
    "\n",
    "In this week's programming exercise, you will be working on implementing a Tree and Node class in Python. Throughout the exercise, you will be extending the class Tree by completing code stubs in their respective cells. You do not need to copy the code, it is enough to work in the cell under each exercise. Note that there are separate cells provided where you can (and should) test your code. During the exercise, you will (through customMagics) obtain a Python file (.py) which you should run against a set of unittests. Please avoid writing any unnecessary code in cells containing the `%%execwritefile` command. Doing this could alter the file `.py` and make it syntactically incorrect or interfere with the unittests. To prevent this stick to the following rules:'\n",
    " - ***Do not remove cells that start with ``%%execwritefile`` and do not remove that line.***\n",
    " - If a cell contains a `%%execwritefile` command at the top and a class definition you need to complete the given methods and adding helper methods is allowed, but do **not** add new functions or Python script to the cells (like global variables). ***Note, that a helper method must start with a \"_\"***.\n",
    " - If a cell contains a `%%execwritefile` command at the top and **not** a class definition you must complete the given functions and you are free to add helper functions, new classes, and Python script that contains for example global variables. Note, that the use of global variables is almost always wrong except for a few use cases such as RNG for the numpy random generator methods.\n",
    " - If a cell does **not** contain a `%%execwritefile` command you can plot things, print variables, and write test cases. Here, you are free to do whatever you want.\n",
    " - If a cell does **not** contain a `%%execwritefile` command it should not contain functional code that is needed to run other functions or classes. The reason is that it is not copied to the `.py`. So, it can not be used during the unittesting.\n",
    "\n",
    "You do not need to look at the customMagic.py nor do more than glimpse at the test file, your exercise is contained in this workbook unless specified differently in this notebook's instructions. \n",
    "\n",
    "This exercise is given as a Jupyter notebook, you might run this in your browser by starting a notebook server or through VScode (PyCharm only allows for read-only mode for jupyter notebooks, unless you have Pycharm-pro which is a paid version or you need a student license). The simplest way to [install jupyter](https://docs.jupyter.org/en/latest/install/notebook-classic.html) notebooks is by installing [Anaconda](https://docs.anaconda.com/free/anaconda/install/), a custom python distribution and packagemanager used for Data Science. If you do not want to install all of Anaconda you can also install jupyter via pip: ``pip3 install jupyter`` (`pip3` or `pip` will work depending on how you installed python3). You can find a tutorial for running the notebook [here](https://jupyter-notebook.readthedocs.io/en/latest/notebook.html). With VScode the IDE should guide you in installing the correct packages. \n",
    "\n",
    "***Hint: Jupyter Notebooks saves variables between runs. If you get unexpected results try restarting the kernel, this deletes any saved variables.*** \n",
    "\n",
    "Please fill in your student name down below"
   ]
  },
  {
   "cell_type": "code",
   "execution_count": null,
   "id": "78cf4ce6-3998-4c5b-b2fb-d8b83c6336fc",
   "metadata": {
    "editable": true,
    "slideshow": {
     "slide_type": ""
    },
    "tags": []
   },
   "outputs": [],
   "source": [
    "# FILL IN YOU STUDENT NUMBER\n",
    "student = 3893995\n",
    "\n",
    "# Set this to false if you want the default screen width.\n",
    "WIDE_SCREEN = True"
   ]
  },
  {
   "cell_type": "code",
   "execution_count": null,
   "id": "2f51569f",
   "metadata": {
    "ExecuteTime": {
     "end_time": "2024-01-19T10:20:08.920263757Z",
     "start_time": "2024-01-19T10:20:08.907961698Z"
    },
    "editable": false,
    "slideshow": {
     "slide_type": ""
    },
    "tags": []
   },
   "outputs": [],
   "source": [
    "from custommagics import CustomMagics\n",
    "\n",
    "# Set this to false if you want the default screen width.\n",
    "WIDE_SCREEN = True\n",
    "\n",
    "if WIDE_SCREEN:\n",
    "    import notebook\n",
    "    from IPython.display import display, HTML\n",
    "\n",
    "    if int(notebook.__version__.split(\".\")[0]) >= 7:    \n",
    "        display(HTML(\n",
    "            '<style>'\n",
    "                '.jp-Notebook { padding-left: 1% !important; padding-right: 1% !important; width:100% !important; } '\n",
    "            '</style>'\n",
    "        ))\n",
    "    else:\n",
    "        display(HTML(\"<style>.container { width:98% !important; }</style>\"))\n",
    "\n",
    "get_ipython().register_magics(CustomMagics)\n",
    "\n"
   ]
  },
  {
   "cell_type": "code",
   "execution_count": null,
   "id": "f0d2899e",
   "metadata": {
    "ExecuteTime": {
     "end_time": "2024-01-19T10:20:13.144182399Z",
     "start_time": "2024-01-19T10:20:12.693456275Z"
    },
    "editable": false,
    "slideshow": {
     "slide_type": ""
    },
    "tags": []
   },
   "outputs": [],
   "source": [
    "%%execwritefile exercise2_{student}_notebook.py 0 \n",
    "\n",
    "# DO NOT CHANGE THIS CELL.\n",
    "# THESE ARE THE ONLY IMPORTS YOU ARE ALLOWED TO USE:\n",
    "\n",
    "import numpy as np\n",
    "import networkx as nx\n",
    "import matplotlib.pyplot as plt\n",
    "import copy\n",
    "from tree import hierarchy_pos\n",
    "\n",
    "RNG = np.random.default_rng()"
   ]
  },
  {
   "cell_type": "code",
   "execution_count": null,
   "id": "dc674e1b",
   "metadata": {
    "ExecuteTime": {
     "end_time": "2024-01-19T10:20:14.188805398Z",
     "start_time": "2024-01-19T10:20:14.175386296Z"
    },
    "editable": true,
    "slideshow": {
     "slide_type": ""
    },
    "tags": []
   },
   "outputs": [],
   "source": [
    "plt.matplotlib.rcParams['figure.figsize'] = [20, 8]"
   ]
  },
  {
   "cell_type": "markdown",
   "id": "4e940455",
   "metadata": {
    "editable": false,
    "slideshow": {
     "slide_type": ""
    },
    "tags": []
   },
   "source": [
    "# 1.0 Tree Node\n",
    "\n",
    "The following code outlines the stub of a Node class. Study how this class works, ensure you thoroughly study the docstrings to get a clear idea of how the class ought to be implemented. \n",
    "\n",
    "Your task is to complete the `__repr__` magic method. This is for easier bug fixing. For example, if you later search a node you can print this node in a way that you understand the print. There is no format that you need to adhere to nor is this mandatory. However, it is rather useful as the alternative would be printing attributes of node objects which takes more time."
   ]
  },
  {
   "cell_type": "code",
   "execution_count": null,
   "id": "8fcae4cd-d88c-4022-b778-3d0051928f2a",
   "metadata": {
    "editable": true,
    "slideshow": {
     "slide_type": ""
    },
    "tags": []
   },
   "outputs": [],
   "source": [
    "%%execwritefile exercise2_{student}_notebook.py 10 -a -s\n",
    "\n",
    "class Node():\n",
    "    \"\"\"\n",
    "    This class creates node objects which can be used to build any kind of Tree \n",
    "    that has at most two children and the nodes contain values.\n",
    "\n",
    "    Attributes:\n",
    "        :param self.info: The value of the node.\n",
    "        :type self.info: int\n",
    "        :param self.left: The left child of this node, defaults to None.\n",
    "        :type self.left: Node, optional \n",
    "        :param self.left: The right child of this node, defaults to None.\n",
    "        :type self.left: Node, optional \n",
    "    \"\"\"\n",
    "    def __init__(self, info, left=None, right=None):\n",
    "        self.info = info\n",
    "        self.left = left\n",
    "        self.right = right\n",
    "\n",
    "    def __repr__(self):\n",
    "        \"\"\"\n",
    "        This returns a representation of a Node object.\n",
    "\n",
    "        :return: A string representing the Node object.\n",
    "        :rtype: str\n",
    "        \"\"\"\n",
    "        # Change this to anything you like, such that you can easily print a Node object.\n",
    "        return super(Node, self).__repr__()"
   ]
  },
  {
   "cell_type": "markdown",
   "id": "44d0f584-b5ad-4719-99aa-62723e0bf777",
   "metadata": {
    "editable": false,
    "slideshow": {
     "slide_type": ""
    },
    "tags": []
   },
   "source": [
    "## Test your code\n",
    "\n",
    "In the cell below you can test your code from the cell above (ensure you run the cell beforehand) to validate if `__repr__` works as you intended.\n",
    "To do this create a `Node` object and print it."
   ]
  },
  {
   "cell_type": "code",
   "execution_count": null,
   "id": "40259d5c-e45e-4c12-81a8-c04b793df821",
   "metadata": {
    "ExecuteTime": {
     "end_time": "2024-01-19T10:20:17.818054163Z",
     "start_time": "2024-01-19T10:20:17.775181352Z"
    },
    "editable": true,
    "slideshow": {
     "slide_type": ""
    },
    "tags": []
   },
   "outputs": [],
   "source": [
    "Node(10)"
   ]
  },
  {
   "cell_type": "markdown",
   "id": "27bc178d-da32-43c8-9916-aca3c70334fe",
   "metadata": {
    "editable": false,
    "slideshow": {
     "slide_type": ""
    },
    "tags": []
   },
   "source": [
    "# 2.0 Binary (Search) Tree \n",
    "\n",
    "The following code outlines the stub of a Binary (Search) Tree class. Study how these classes work, and ensure you thoroughly study the docstrings to get a clear idea of how the class ought to be implemented. \n",
    "\n",
    "Your task is to complete the `search` and `add` class methods of the `BinarySearchTree` and implement the `add` function for the `BinaryTree` class.\n",
    "\n",
    "For your convenience, we have added a way to visualize the binary (search) tree of a `BinaryTree`-object or `BinarySearchTree`-object via the `show()` method. "
   ]
  },
  {
   "cell_type": "code",
   "execution_count": null,
   "id": "ec8ab449",
   "metadata": {
    "ExecuteTime": {
     "end_time": "2024-01-19T10:20:15.997402528Z",
     "start_time": "2024-01-19T10:20:15.935996738Z"
    },
    "editable": true,
    "slideshow": {
     "slide_type": ""
    },
    "tags": []
   },
   "outputs": [],
   "source": [
    "%%execwritefile exercise2_{student}_notebook.py 20 -a -s\n",
    "\n",
    "class BinaryTree():\n",
    "    \"\"\"\n",
    "    This class creates binary tree objects.\n",
    "    The tree itself is stored recursively. \n",
    "    This means that you can only access the root node directly, \n",
    "    while other nodes can be accessed through the root node. \n",
    "    (Later in this exercise you will implement several of these methods)\n",
    "\n",
    "    Attributes:\n",
    "        :param self.root: The root node of the binary tree, defaults to None.\n",
    "        :type self.root: Node, optional\n",
    "    \"\"\"\n",
    "    def __init__(self, root=None):\n",
    "        \"\"\"\n",
    "        This initializes a binary tree object.\n",
    "        Note, that this creates by default an empty tree.\n",
    "        \"\"\"\n",
    "        self.root = root\n",
    "\n",
    "    def add(self, value):\n",
    "        \"\"\"    \n",
    "        Adds a new node to the binary tree, this should be placed randomly at any empty leaf node.\n",
    "    \n",
    "        :param value: The value to be added.\n",
    "        :type value: int\n",
    "        \"\"\"\n",
    "        raise NotImplementedError(\"Please complete this method\")\n",
    "\n",
    "    def show(self, show_compact=False):\n",
    "        \"\"\"\n",
    "        This method shows the tree, where the root node is colored blue, \n",
    "        the left nodes are colored green, and the right nodes are colored red.\n",
    "\n",
    "        :param show_compact: This gives the option to show a compact form of the tree. \n",
    "                             This means that if a node has only one child it will be shown below it instead of left or right.\n",
    "                             This parameter defaults to False\n",
    "        :type show_compact: boolean, optional\n",
    "        \"\"\"\n",
    "        if self.root is None:\n",
    "            raise ValueError(\"This is an empty tree and can not be show.\")\n",
    "            \n",
    "        # Recursively add all edges and nodes.\n",
    "        def add_node_edge(G, color_map, parent_graph_node, node):\n",
    "            # In case of printing a binary tree check if a node exists\n",
    "            if node.info in G:\n",
    "                i = 2\n",
    "                while f\"{node.info}_{i}\" in G:\n",
    "                    i += 1\n",
    "                node_name = f\"{node.info}_{i}\"\n",
    "            else:\n",
    "                node_name = node.info\n",
    "            G.add_node(node_name)\n",
    "\n",
    "            # Make root node or edge to parent node\n",
    "            if parent_graph_node is not None:\n",
    "                G.add_edge(parent_graph_node, node_name)\n",
    "            else:\n",
    "                color_map.append(\"blue\")\n",
    "            \n",
    "            if node.left is not None:\n",
    "                color_map.append(\"green\")\n",
    "                add_node_edge(G, color_map, node_name, node.left)\n",
    "            elif node.right is not None and not show_compact:\n",
    "                G.add_node(f\"N{node_name}\")\n",
    "                G.add_edge(node_name, f\"N{node_name}\")\n",
    "                \n",
    "            if node.right is not None:\n",
    "                color_map.append(\"red\")\n",
    "                add_node_edge(G, color_map, node_name, node.right)\n",
    "            elif node.left is not None and not show_compact:\n",
    "                G.add_node(f\"N{node_name}\")\n",
    "                G.add_edge(node_name, f\"N{node_name}\")\n",
    "        \n",
    "        # Make the graph\n",
    "        G = nx.DiGraph()\n",
    "        color_map = []\n",
    "        add_node_edge(G, color_map, None, self.root)\n",
    "        name_root = self.root.info\n",
    "\n",
    "        # Generate the node positions\n",
    "        pos = hierarchy_pos(G, root=self.root.info, leaf_vs_root_factor=1)\n",
    "        new_pos = {k:v for k,v in pos.items() if str(k)[0] != 'N'}\n",
    "        k = G.subgraph(new_pos.keys())\n",
    "\n",
    "        if isinstance(self, BinarySearchTree) or isinstance(self, BinarySearchTreeDouble):\n",
    "            nx.draw(k, pos=new_pos, node_color=color_map, with_labels=True, node_size=600)\n",
    "        else:\n",
    "            nx.draw(k, pos=new_pos, with_labels=True, node_size=600)\n",
    "\n",
    "        # Set the plot settings\n",
    "        x, y = zip(*pos.values())\n",
    "        x_min, x_max = min(x), max(x)\n",
    "        plt.xlim(1.01*x_min-0.01*x_max, 1.01*x_max-0.01*x_min)\n",
    "        plt.ylim(min(y)-0.05, max(y)+0.05)\n",
    "        plt.show()"
   ]
  },
  {
   "cell_type": "code",
   "execution_count": null,
   "id": "5ee8c58c-715d-43c2-b26b-3a907751d30e",
   "metadata": {
    "editable": true,
    "slideshow": {
     "slide_type": ""
    },
    "tags": []
   },
   "outputs": [],
   "source": [
    "%%execwritefile exercise2_{student}_notebook.py 40 -a -s\n",
    "\n",
    "class BinarySearchTree(BinaryTree):\n",
    "    \"\"\"\n",
    "    This class creates binary tree objects.\n",
    "    The tree itself is stored recursively. \n",
    "    This means that you can only access the root node directly, \n",
    "    while other nodes can be accessed through the root node. \n",
    "    (Later in this exercise you will implement several of these methods)\n",
    "\n",
    "    Attributes:\n",
    "        :param self.root: The root node of the binary tree, defaults to None.\n",
    "        :type self.root: Node, optional\n",
    "    \"\"\"\n",
    "    def search(self, value):\n",
    "        \"\"\"\n",
    "        Returns a Tuple with the following two items:\n",
    "         - the parent of the node with a certain value\n",
    "         - the node with a certain value\n",
    "        Note that having access to the parent will prove useful in\n",
    "        other functions, such as adding and removing.\n",
    "    \n",
    "        If the tree does not contain the value, return\n",
    "        the parent of the node where it should have been\n",
    "        placed, and a None value.\n",
    "    \n",
    "        :param value: The value that you are searching.\n",
    "        :param type: int\n",
    "        :return: Tuple of the nodes as described above.\n",
    "        :rtype: Node, Node\n",
    "        \"\"\"\n",
    "        raise NotImplementedError(\"Please complete this method\")\n",
    "    \n",
    "    def add(self, value):\n",
    "        \"\"\"    \n",
    "        Adds a new node to the binary search tree, respecting the condition that\n",
    "        for each node, all values in the left sub-tree are smaller than its value,\n",
    "        and all values in the right subtree are greater than its value.\n",
    "        Only add the node with the value, if it does not exist yet in the tree.\n",
    "    \n",
    "        :param value: The value to be added.\n",
    "        :type value: int\n",
    "        \"\"\"\n",
    "        raise NotImplementedError(\"Please complete this method\")"
   ]
  },
  {
   "cell_type": "code",
   "execution_count": null,
   "id": "530f5a5b-5998-456d-b364-c528c08197e2",
   "metadata": {
    "editable": false,
    "slideshow": {
     "slide_type": ""
    },
    "tags": []
   },
   "outputs": [],
   "source": [
    "%%execwritefile exercise2_{student}_notebook.py 60 -a -s\n",
    "\n",
    "class BinarySearchTreeDouble(BinaryTree):\n",
    "    \"\"\"\n",
    "    This is needed for the expert test part 3.0, which is optional and can be ignored for now.\n",
    "    However, this cell must be run, otherwise, the show method breaks!!!\n",
    "    \"\"\"\n",
    "    pass"
   ]
  },
  {
   "cell_type": "markdown",
   "id": "01d94a79",
   "metadata": {
    "editable": false,
    "slideshow": {
     "slide_type": ""
    },
    "tags": []
   },
   "source": [
    "## Test your code\n",
    "\n",
    "In the cell below you can test your code from the cell above (ensure you run the cell beforehand) to validate if `add` and `search` work as intended.\n",
    "To do this create a `BinarySearchTree` object, add nodes to the tree using `add`, and then use `show` to verify that your implementation works correctly. \n",
    "Additionally, you could add some print statements to check if the search method works correctly and repeat the same process for a `BinaryTree` object."
   ]
  },
  {
   "cell_type": "code",
   "execution_count": null,
   "id": "256fa5b9",
   "metadata": {
    "ExecuteTime": {
     "end_time": "2024-01-19T10:20:17.818054163Z",
     "start_time": "2024-01-19T10:20:17.775181352Z"
    },
    "editable": true,
    "slideshow": {
     "slide_type": ""
    },
    "tags": []
   },
   "outputs": [],
   "source": [
    "size = 50\n",
    "tree = BinarySearchTree(Node(size*2))\n",
    "\n",
    "for value in RNG.integers(0, size*4, size):\n",
    "    tree.add(value)\n",
    "    \n",
    "tree.show(False)"
   ]
  },
  {
   "cell_type": "markdown",
   "id": "9129cdc1",
   "metadata": {
    "editable": false,
    "slideshow": {
     "slide_type": ""
    },
    "tags": []
   },
   "source": [
    "## 2.1 Tree Statistic (Counting leafs, get height \\& highest value)\n",
    "\n",
    "We continue the work of building the Tree implementations. Here, we will add some methods that contain some simple statistics about a `BinaryTree` or `BinarySearchTree` object.\n",
    "These statistics include: counting the number of leafs, getting the height of the tree, and getting the highest values (for both any binary tree and a binary search tree)."
   ]
  },
  {
   "cell_type": "code",
   "execution_count": null,
   "id": "95b701e2",
   "metadata": {
    "ExecuteTime": {
     "end_time": "2024-01-19T10:20:19.703415021Z",
     "start_time": "2024-01-19T10:20:19.658051921Z"
    },
    "editable": true,
    "slideshow": {
     "slide_type": ""
    },
    "tags": []
   },
   "outputs": [],
   "source": [
    "%%execwritefile exercise2_{student}_notebook.py 21 -a -c -s\n",
    "\n",
    "class BinaryTree(BinaryTree):\n",
    "    @staticmethod\n",
    "    def get_highest_subtree_value(subtree):\n",
    "        \"\"\"\n",
    "        Gets the highest value out of a subsection of a binary tree (not a binary search tree!!).\n",
    "        This should be a recursive method.\n",
    "\n",
    "        :param subtree: The node of the subtree.\n",
    "        :type subtree: Node\n",
    "        :return: The highest value within this subtree.\n",
    "        :rtype: int\n",
    "        \"\"\"\n",
    "        raise NotImplementedError(\"Please complete this method\")\n",
    "        \n",
    "    def get_highest_value(self):\n",
    "        \"\"\"\n",
    "        Gets the highest value out of a binary tree (not a binary search tree!!).\n",
    "        This function should use the recursive static method `_get_highest_subtree_value`.\n",
    "\n",
    "        :return: The highest value within this tree.\n",
    "        :rtype: int\n",
    "        \"\"\"\n",
    "        raise NotImplementedError(\"Please complete this method\")\n",
    "        \n",
    "    @staticmethod\n",
    "    def count_subtree_leafs(subtree):\n",
    "        \"\"\"\n",
    "        Counts the number of leafs in a subsection of a binary tree.\n",
    "        This should be a recursive method.\n",
    "    \n",
    "        :param subtree: The root of the subtree.\n",
    "        :type subtree: Node\n",
    "        :return: The number of leafs in the subtree.\n",
    "        :rtype: int\n",
    "        \"\"\"\n",
    "        raise NotImplementedError(\"Please complete this method\")\n",
    "\n",
    "    def count_leafs(self):\n",
    "        \"\"\"\n",
    "        Counts the number of leafs in a binary tree.\n",
    "        This method should use the recursive method `count_subtree_leafs`.\n",
    "            \n",
    "        :return: The number of leafs in the tree.\n",
    "        :rtype: int\n",
    "        \"\"\"\n",
    "        raise NotImplementedError(\"Please complete this method\")\n",
    "\n",
    "    @staticmethod\n",
    "    def get_subtree_height(subtree):\n",
    "        \"\"\"\n",
    "        Determines the height of a subsection of a binary tree. \n",
    "        This should be a recursive method.\n",
    "    \n",
    "        :param subtree: The root of the subtree.\n",
    "        :type subtree: Node\n",
    "        :return: The height of the subtree.\n",
    "        :rtype: int\n",
    "        \"\"\"\n",
    "        raise NotImplementedError(\"Please complete this method\")\n",
    "\n",
    "    def get_height(self):\n",
    "        \"\"\"\n",
    "        Determines the height of a binary tree.\n",
    "        This method should use the recursive method `get_subtree_height`.\n",
    "\n",
    "        :return: The height of the tree.\n",
    "        :rtype: int\n",
    "        \"\"\"\n",
    "        raise NotImplementedError(\"Please complete this method\")"
   ]
  },
  {
   "cell_type": "code",
   "execution_count": null,
   "id": "7503ab81-7684-409c-a363-43bb37a16132",
   "metadata": {
    "editable": true,
    "slideshow": {
     "slide_type": ""
    },
    "tags": []
   },
   "outputs": [],
   "source": [
    "%%execwritefile exercise2_{student}_notebook.py 41 -a -c -s\n",
    "\n",
    "class BinarySearchTree(BinarySearchTree, BinaryTree):   \n",
    "    def get_highest_value(self, subtree=None):\n",
    "        \"\"\"\n",
    "        Gets the highest value out of a binary search tree.\n",
    "        Implement a faster algorithm compared to a general binary tree highest value algorithm given that this is a binary search tree.\n",
    "        If no arguments are given this method should give the highest value of the whole tree.\n",
    "\n",
    "        Note, that an empty tree has a negative infinite value as the highest value.\n",
    "        \n",
    "        :param subtree: The root of the subtree, defaults to None.\n",
    "        :type subtree: Node\n",
    "        :return: The highest value within this (sub)tree.\n",
    "        :rtype: int\n",
    "        \"\"\"\n",
    "        raise NotImplementedError(\"Please complete this method\")"
   ]
  },
  {
   "cell_type": "markdown",
   "id": "6dd56e39",
   "metadata": {
    "editable": false,
    "slideshow": {
     "slide_type": ""
    },
    "tags": []
   },
   "source": [
    "## Test your code\n",
    "\n",
    "In the cell below you can test your code from the cells above (ensure you run the cells beforehand) to validate if `get_highest_value` (for both trees), `get_height`, and `get_highest_value` work as intended. To do this create a `BinaryTree` object, add nodes to the tree using `add`, and then use `show` to visualize the tree. Next print the statistic of the tree and verify that your implementation works correctly. Repeat the same process for a `BinarySearchTree` object."
   ]
  },
  {
   "cell_type": "code",
   "execution_count": null,
   "id": "f2c97149-09dc-4607-a327-d19d516c94c1",
   "metadata": {
    "editable": true,
    "slideshow": {
     "slide_type": ""
    },
    "tags": []
   },
   "outputs": [],
   "source": [
    "size = 50\n",
    "tree = BinaryTree(Node(size*2))\n",
    "\n",
    "for value in RNG.integers(0, size*4, size):\n",
    "    tree.add(value)\n",
    "    \n",
    "tree.show(True)\n",
    "\n",
    "print(\"The highest value is:\", tree.get_highest_value())\n",
    "print(\"The number of leaf nodes is:\", tree.count_leafs())\n",
    "print(\"The height of the tree is:\", tree.get_height())"
   ]
  },
  {
   "cell_type": "markdown",
   "id": "af680531-f180-47a5-bc16-d80ba9586112",
   "metadata": {
    "editable": false,
    "slideshow": {
     "slide_type": ""
    },
    "tags": []
   },
   "source": [
    "## 2.2 Check Binary Search Tree\n",
    "\n",
    "We continue the work of building the Binary Search Tree implementation. Here, we will implement a method to check if a binary search tree is valid.\n",
    "To check if a tree is a valid binary search tree it can be helpful to implement two helper functions: `get_highest_value` and `get_lowest_value`.\n",
    "Previously, we already implemented the `get_highest_value` method so you only have to implement the `get_lowest_value` and `is_binary_search_tree` method below. "
   ]
  },
  {
   "cell_type": "code",
   "execution_count": null,
   "id": "bf4ec7c2-acd0-475b-8d5d-0d63bfee1298",
   "metadata": {
    "editable": true,
    "slideshow": {
     "slide_type": ""
    },
    "tags": []
   },
   "outputs": [],
   "source": [
    "%%execwritefile exercise2_{student}_notebook.py 42 -a -c -s\n",
    "\n",
    "class BinarySearchTree(BinarySearchTree):   \n",
    "    def get_lowest_value(self, subtree=None):\n",
    "        \"\"\"\n",
    "        Gets the lowest value out of a binary search tree.\n",
    "        Implement a faster algorithm compared to a general binary tree lowest value algorithm given that this is a binary search tree.\n",
    "        If no arguments are given this method should give the lowest value of the whole tree.\n",
    "\n",
    "        Note, that an empty tree has a positive infinite value as the highest value.\n",
    "\n",
    "        :param subtree: The root of the subtree, defaults to None.\n",
    "        :type subtree: Node\n",
    "        :return: The lowest value within this (sub)tree.\n",
    "        :rtype: int\n",
    "        \"\"\"\n",
    "        raise NotImplementedError(\"Please complete this method\")\n",
    "\n",
    "    def is_binary_search_tree(self, subtree=None):\n",
    "        \"\"\"\n",
    "        Returns whether the tree is a valid binary search tree. \n",
    "        Hint: You can implement this as a recursive method. \n",
    "        You can under some assumptions make use of\n",
    "        get_lowest_value and get_highest_value.\n",
    "        If no arguments are given this method should check if the whole tree is a valid binary search tree.\n",
    "\n",
    "        :param subtree: The root of the subtree, defaults to None.\n",
    "        :type subtree: Node\n",
    "        :return: true iff it is a valid binary search tree\n",
    "        :rtype: Boolean\n",
    "        \"\"\"\n",
    "        raise NotImplementedError(\"Please complete this method\")"
   ]
  },
  {
   "cell_type": "markdown",
   "id": "da0333de-3604-4ffb-a28e-dd6f138ad4fb",
   "metadata": {
    "editable": false,
    "slideshow": {
     "slide_type": ""
    },
    "tags": []
   },
   "source": [
    "## Test your code\n",
    "\n",
    "In the cell below you can test your code from the cells above (ensure you run the cells beforehand) to validate if `is_binary_search_tree` works as intended. To do this create a `BinarySearchTree` object, add nodes to the tree using `add`, and then use `show` to visualize the tree. Next print if the `BinarySearchTree` is indeed a binary search tree.\n",
    "\n",
    "Additionally, you can also make a `BinarySearchTree` that is not a binary search tree and check if `is_binary_search_tree` gives False as answer."
   ]
  },
  {
   "cell_type": "code",
   "execution_count": null,
   "id": "4e958fd6-3ddf-4c12-b764-b081d92c743d",
   "metadata": {
    "editable": true,
    "slideshow": {
     "slide_type": ""
    },
    "tags": []
   },
   "outputs": [],
   "source": [
    "size = 50\n",
    "tree = BinarySearchTree(Node(size*2))\n",
    "\n",
    "for value in RNG.integers(0, size*4, size):\n",
    "    tree.add(value)\n",
    "    \n",
    "tree.show()\n",
    "print(\"Is this tree a binary search tree?\", tree.is_binary_search_tree())"
   ]
  },
  {
   "cell_type": "markdown",
   "id": "f0f7bce6-cb0f-4f5c-8632-c21e67d56faa",
   "metadata": {
    "editable": false,
    "slideshow": {
     "slide_type": ""
    },
    "tags": []
   },
   "source": [
    "## 2.2 Remove a Node (Binary Search Tree)\n",
    "\n",
    "We continue the work of building the Binary Search Tree implementation. Here, we will implement a method to remove a value from a binary search tree.\n",
    "When removing a value or in other words a node the rules of a binary search tree can not be violated. This means that for each node, all values in the left sub-tree are smaller than its value,\n",
    "and all values in the right subtree are greater than its value. If a value does not exist in the tree you do not need to do anything."
   ]
  },
  {
   "cell_type": "code",
   "execution_count": null,
   "id": "4dcdb39b-24a2-4cbe-a791-17d122464961",
   "metadata": {
    "editable": true,
    "slideshow": {
     "slide_type": ""
    },
    "tags": []
   },
   "outputs": [],
   "source": [
    "%%execwritefile exercise2_{student}_notebook.py 43 -a -c -s\n",
    "\n",
    "class BinarySearchTree(BinarySearchTree):   \n",
    "    def remove(self, value):\n",
    "        \"\"\"\n",
    "        Removes a node from the binary search tree. \n",
    "    \n",
    "        :param value: The value that needs to be deleted.\n",
    "        :type value: int\n",
    "        \"\"\"\n",
    "        raise NotImplementedError(\"Please complete this method\")"
   ]
  },
  {
   "cell_type": "markdown",
   "id": "5b44d798-976c-4a8b-a6a5-864500ea321f",
   "metadata": {
    "editable": false,
    "slideshow": {
     "slide_type": ""
    },
    "tags": []
   },
   "source": [
    "## Test your code\n",
    "\n",
    "In the cell below you can test your code from the cells above (ensure you run the cells beforehand) to check if `remove` works as intended. To do this create a `BinarySearchTree` object, add nodes to the tree using `add`, and then use `show` to visualize the tree. Next, remove any node and show the tree again. Now, you can check if the node is correctly removed.\n",
    "\n",
    "Additionally, you can use `is_binary_search_tree` to check if the tree is still a binary search tree. There are a lot more way to check your solution so feel free to do any test in the cell below."
   ]
  },
  {
   "cell_type": "code",
   "execution_count": null,
   "id": "298eca31-bb41-46b5-9846-a15046907983",
   "metadata": {
    "editable": true,
    "slideshow": {
     "slide_type": ""
    },
    "tags": []
   },
   "outputs": [],
   "source": [
    "size = 50\n",
    "tree = BinarySearchTree(Node(size*2))\n",
    "\n",
    "values = set()\n",
    "for value in RNG.integers(0, size*4, size):\n",
    "    tree.add(value)\n",
    "    values.add(value)\n",
    "    \n",
    "tree.show()\n",
    "print(\"remove\", value := RNG.choice(list(values)))\n",
    "tree.remove(value)\n",
    "tree.show()\n"
   ]
  },
  {
   "cell_type": "markdown",
   "id": "2b0c7098-2941-4591-98b5-ac0cfe19470e",
   "metadata": {
    "editable": false,
    "slideshow": {
     "slide_type": ""
    },
    "tags": []
   },
   "source": [
    "# 3.0 Double-linked Tree\n",
    "\n",
    "## ***All exercises below are additional content for extra practice, they only count for a small percentage of the bonus (TestExpert). So, you can skip to section [4.0 Unittests](#4.0-UNITTESTS) if you do not want to do these exercises.***\n",
    "\n",
    "Linked lists are useful data structures, but a double-linked list is often more appropriate. The downside of the double-linked list is that it takes more memory on your computer (per object you need to save which node comes next and which came before). However, the major advantage is that you can go through them front-to-back but also back-to-front. Also, often when doing operations it makes the code easier and faster, such operations could be, inserting a value before another value in the list. With a double-linked list, you can search for the value and then go back a step to update the list. With a single linked list you either need to go through the list twice or constantly save the previous and current objects in the list.\n",
    "\n",
    "This idea of going both ways in a double-linked list can also be applied to trees and is often the preferred implementation of a tree. A double-linked tree can be made by not only storing the children in a node but also the parents. Below, we will implement such a Node. Later, we will make some methods of the double-linked tree."
   ]
  },
  {
   "cell_type": "code",
   "execution_count": null,
   "id": "de33b01b-03fd-4039-b2cf-b277da979fb0",
   "metadata": {
    "editable": true,
    "slideshow": {
     "slide_type": ""
    },
    "tags": []
   },
   "outputs": [],
   "source": [
    "%%execwritefile exercise2_{student}_notebook.py 50 -a -s\n",
    "\n",
    "class NodeD():\n",
    "    \"\"\"\n",
    "    This class creates node objects which can be used to build any kind of Tree \n",
    "    that has at most two children and the nodes contain values.\n",
    "\n",
    "    Attributes:\n",
    "        :param self.info: The value of the node.\n",
    "        :type self.info: int\n",
    "        :param self.parent: The parent of this node, defaults to None.\n",
    "        :type self.parent: Node, optional \n",
    "        :param self.left: The left child of this node, defaults to None.\n",
    "        :type self.left: Node, optional \n",
    "        :param self.left: The right child of this node, defaults to None.\n",
    "        :type self.left: Node, optional \n",
    "    \"\"\"\n",
    "    def __init__(self, info, parent=None, left=None, right=None):\n",
    "        self.info = info\n",
    "        self.parent = parent\n",
    "        self.left = left\n",
    "        self.right = right\n",
    "\n",
    "    def __repr__(self):\n",
    "        \"\"\"\n",
    "        This returns a representation of a Node object.\n",
    "\n",
    "        :return: A string representing the Node object.\n",
    "        :rtype: str\n",
    "        \"\"\"\n",
    "        # Change this to anything you like, such that you can easily print a Node object.\n",
    "        return super(NodeD, self).__repr__() "
   ]
  },
  {
   "cell_type": "markdown",
   "id": "50d0932a-7161-4f64-8bcc-cccea26cb2f7",
   "metadata": {
    "editable": false,
    "slideshow": {
     "slide_type": ""
    },
    "tags": []
   },
   "source": [
    "## Test your code\n",
    "\n",
    "In the cell below you can test your code from the cell above (ensure you run the cell beforehand) to validate if __repr__ works as you intended. To do this create a Node object and print it."
   ]
  },
  {
   "cell_type": "code",
   "execution_count": null,
   "id": "3a9e46e5-df90-4aa4-808c-444b3cd2b85f",
   "metadata": {
    "editable": true,
    "slideshow": {
     "slide_type": ""
    },
    "tags": []
   },
   "outputs": [],
   "source": [
    "# Write code here"
   ]
  },
  {
   "cell_type": "markdown",
   "id": "74bf5b89-bdce-4728-87fe-6d3467f7d842",
   "metadata": {
    "editable": false,
    "slideshow": {
     "slide_type": ""
    },
    "tags": []
   },
   "source": [
    "# 3.1 Binary Search Tree \n",
    "\n",
    "The following code outlines the stub of a Binary Search Tree class. Study how this class works, and ensure you thoroughly study the docstrings to get a clear idea of how the class ought to be implemented. \n",
    "\n",
    "Your task is to complete the `search`, `add`, and `remove` class methods of the `BinarySearchTree`.\n",
    "\n",
    "For your convenience, we have added a way to visualize the binary search tree of a `BinarySearchTree`-object via the `show()` method. "
   ]
  },
  {
   "cell_type": "code",
   "execution_count": null,
   "id": "ff7696d1-f161-40f3-ab32-950cfa20ae8f",
   "metadata": {
    "editable": true,
    "slideshow": {
     "slide_type": ""
    },
    "tags": []
   },
   "outputs": [],
   "source": [
    "%%execwritefile exercise2_{student}_notebook.py 60 -a -s\n",
    "\n",
    "class BinarySearchTreeDouble(BinaryTree):\n",
    "    \"\"\"\n",
    "    This class creates binary tree objects with double-linked nodes (NodeD).\n",
    "    The tree itself is stored recursively. \n",
    "    This means that you can only access the root node directly, \n",
    "    while other nodes can be accessed through the root node. \n",
    "\n",
    "    Attributes:\n",
    "        :param self.root: The root node of the binary tree, defaults to None.\n",
    "        :type self.root: Node, optional\n",
    "    \"\"\"\n",
    "    def __init__(self, root=None):\n",
    "        \"\"\"\n",
    "        This initializes a binary tree object.\n",
    "        Note, that this creates an empty tree\n",
    "        \"\"\"\n",
    "        self.root = root\n",
    "    \n",
    "    def search(self, value):\n",
    "        \"\"\"\n",
    "        Returns a NodeD with the value that was searched for.\n",
    "        Note, that NodeD objects already have access to the parent.\n",
    "        So, it does not need to be returned.\n",
    "    \n",
    "        If the tree does not contain the value, return None.\n",
    "    \n",
    "        :param value: The value that you are searching.\n",
    "        :param type: int\n",
    "        :return: The NodeD with attribute info equal to value\n",
    "        :rtype: NodeD\n",
    "        \"\"\"\n",
    "        raise NotImplementedError(\"Please complete this method\")\n",
    "\n",
    "    def add(self, value):\n",
    "        \"\"\"    \n",
    "        Adds a new node to the binary search tree, respecting the condition that\n",
    "        for each node, all values in the left sub-tree are smaller than its value,\n",
    "        and all values in the right subtree are greater than its value.\n",
    "        Only add the node with the value, if it does not exist yet in the tree.\n",
    "    \n",
    "        :param value: The value to be added.\n",
    "        :type value: int\n",
    "        \"\"\"\n",
    "        raise NotImplementedError(\"Please complete this method\")\n",
    "\n",
    "    def remove(self, value):\n",
    "        \"\"\"\n",
    "        Removes a node from the binary search tree. \n",
    "    \n",
    "        :param value: The value that needs to be deleted.\n",
    "        :type value: int\n",
    "        \"\"\"\n",
    "        raise NotImplementedError(\"Please complete this method\")"
   ]
  },
  {
   "cell_type": "markdown",
   "id": "bc8c1cd8-0984-4336-8338-f728963c222f",
   "metadata": {
    "editable": false,
    "slideshow": {
     "slide_type": ""
    },
    "tags": []
   },
   "source": [
    "## Test your code\n",
    "\n",
    "In the cell below you can test your code from the cell above (ensure you run the cell beforehand) to validate if `add`, `remove`, and `search` work as intended.\n",
    "To do this create a `BinarySearchTreeDouble` object, add nodes to the tree using `add`, and then use `show` to verify that your implementation works correctly. \n",
    "Additionally, you could add some print statements to check if the search method works correctly and use `remove` and `show` to see if `remove` works correctly."
   ]
  },
  {
   "cell_type": "code",
   "execution_count": null,
   "id": "0ec2a5bd-9b84-4dd0-9681-a4b725a60894",
   "metadata": {
    "editable": true,
    "slideshow": {
     "slide_type": ""
    },
    "tags": []
   },
   "outputs": [],
   "source": [
    "# Write code here"
   ]
  },
  {
   "cell_type": "markdown",
   "id": "909200e1-3dac-4d6b-a766-873e9044ffa5",
   "metadata": {
    "editable": false,
    "slideshow": {
     "slide_type": ""
    },
    "tags": []
   },
   "source": [
    "# 4.0 List Representation of a Tree\n",
    "\n",
    "Until now, we supplied you with a `show` method to check your work. However, normally classes do not come with preprogrammed `show` methods and it is often up to you to write a good representation method for the class for debugging and testing. Representation of a class is made with `__repr__`. \n",
    "\n",
    "*Note, that `__str__` is not the same as this is the method to convert an object of your class to a string, which can be something totally different than the `__repr__`.*\n",
    "\n",
    "Implement the `__repr__` magic method down below for the `BinaryTree` class which makes it also work for the `BinaryTreeSearch` class through inheritance. The inheritance is done for you throughout this assignment.\n",
    "\n",
    "For this exercise, the representation of a tree will be a recursively nested list. The rules are stated below the examples. For example, a tree with one node (info=10) looks like this: `[10]`. Below, you can find a few more elaborate examples.\n",
    "\n",
    "Example 1: \\\n",
    "`root(info=10) -> [left(info=5), right(info=15)]` will have the representation\\\n",
    "`[10 -> [5, 15]]`\n",
    "\n",
    "Example 2: \\\n",
    "`root(info=5) -> [left(None), right(info=10) -> [left(None), right(info=15)]]` will have the representation\\\n",
    "`[5 -> [10 -> [15]]`\n",
    "\n",
    "Example 3: A tree that is made by adding the following values to an empty tree in the order: 5,3,1,10,7,6,8,12, will have the representation\\\n",
    "`[5 -> [3 -> [1], 10 -> [7 -> [6, 8], 12]]]`\n",
    "\n",
    "The rules are:\n",
    " - The representation of the Node is used to represent a node. In the example, the representation of the node is assumed to be the `info` of the node.\n",
    " - To signal a parent-child relation a ` -> ` is used with on either side a white space.\n",
    " - After an arrow follows a list with the left and right child separated by a comma, see example 1. Thus the first item in the list is the left child and the second item is the right child.\n",
    " - If a child has its own children then this is again indicated with an arrow.\n",
    " - Note, that a comma has no white space on the left and one on the right.\n",
    " - An empty tree is represented by an empty list, thus `self.root = None` -> `[]`.\n",
    "\n",
    "***Important note, the print statement in python converts everything to a string if it is not a string. Therefore, it uses the `__str__` magic method of objects. If you want to use `__repr__` you need to use `print(repr(obj))` unless `__str__` is not overwritten by you as the default of `__str__` is calling `__repr__`.***"
   ]
  },
  {
   "cell_type": "code",
   "execution_count": null,
   "id": "288c4a88-ce51-4509-86c9-574c88368b3b",
   "metadata": {
    "editable": true,
    "slideshow": {
     "slide_type": ""
    },
    "tags": []
   },
   "outputs": [],
   "source": [
    "%%execwritefile exercise2_{student}_notebook.py 22 -a -s -c\n",
    "\n",
    "class BinaryTree(BinaryTree):\n",
    "    def __repr__(self):\n",
    "        \"\"\"\n",
    "        This returns the representation of a tree. See above, for how this should look like.\n",
    "        \"\"\"\n",
    "        raise NotImplementedError(\"Please complete this method\")"
   ]
  },
  {
   "cell_type": "code",
   "execution_count": null,
   "id": "dd17af89-f9df-4e0e-b976-a55397f44643",
   "metadata": {
    "editable": false,
    "slideshow": {
     "slide_type": ""
    },
    "tags": []
   },
   "outputs": [],
   "source": [
    "class BinarySearchTree(BinarySearchTree, BinaryTree):\n",
    "    \"\"\"\n",
    "    Run this cell, otherwise, __repr__ does not work for the BinarySearchTree!!!\n",
    "    \"\"\"\n",
    "    pass\n",
    "\n",
    "class BinarySearchTreeDouble(BinarySearchTreeDouble, BinaryTree):\n",
    "    \"\"\"\n",
    "    Run this cell, otherwise, __repr__ does not work for the BinarySearchTreeDouble!!!\n",
    "    \"\"\"\n",
    "    pass"
   ]
  },
  {
   "cell_type": "markdown",
   "id": "d68379ca-f4f3-49be-afe4-815879e765c8",
   "metadata": {
    "editable": false,
    "slideshow": {
     "slide_type": ""
    },
    "tags": []
   },
   "source": [
    "## Test your code\n",
    "\n",
    "In the cell below you can test your code from the cell above (ensure you run the cell beforehand) to validate if `__repr__` works as you intended.\n",
    "To do this create a `Node` object and print it."
   ]
  },
  {
   "cell_type": "code",
   "execution_count": null,
   "id": "aa3c84c6-ab20-4c95-ae10-1f185c06d809",
   "metadata": {
    "editable": true,
    "slideshow": {
     "slide_type": ""
    },
    "tags": []
   },
   "outputs": [],
   "source": [
    "# Write code here"
   ]
  },
  {
   "cell_type": "markdown",
   "id": "2c3e25e3",
   "metadata": {
    "editable": false,
    "slideshow": {
     "slide_type": ""
    },
    "tags": []
   },
   "source": [
    "# 5.0 UNITTESTS\n",
    "\n",
    "During this assignment, we copied all your code to the following **.py** file **\"exercise2_{student}_notebook.py\"**. You also tested your code along the way. However, it is possible that there are still a few errors. Therefore, it is good to run some unittest when you complete all coding. This gives you an extra chance to spot mistakes. Here, we added some unittest for you to use. Note, that they are merely a check to see if your **.py** is correct.\n",
    "\n",
    "From this point onwards we strongly advise renaming the **\"exercise2_{student}_notebook.py\"** file to the correct file name that you need to hand in **\"exercise2_{student}.py\"**. Now, you can adjust the **\"exercise2_{student}.py\"** file without the risk of overwriting it when you run the notebook again. This also enables the possibility to run the unittests. Note, that from now on if you make a change in the Python file and you want to go back to the notebook later that you also make this change in the notebook. To run the unittests go to the **\"unit_test.py\"** file and run the file in either PyCharm, VSCode, or a terminal. You can run it in a terminal using the following command: `python -m unittest --verbose unit_test.py`. `--verbose` is optional but gives you more details about which tests fail and which succeed.\n",
    "\n",
    "You are allowed to add your own unittests. \n",
    "\n",
    "## Uploading to Brightspace for Bonus\n",
    "\n",
    "Next, you can upload your Python file with the correct name on brightspace in the bonus assignment. Follow the instructions on this brightspace page carefully to have a successful submission. After you get the feedback for this exercise you can either continue working in the Python file to fix possible bugs or you can go back to the notebook and remake the Python file. ***Please be careful, do not update your code in both the Python file and notebook at the same time!***. If you go back to the notebook do not forget to update the notebook with any changes you made within the Python file. In this case, it is best to just delete the Python file as soon as you copied all changes.\n",
    "\n",
    "***NOTE, that you can now also upload the exercises from week 1! The process is exactly the same only there is no unittest.***"
   ]
  },
  {
   "cell_type": "code",
   "execution_count": null,
   "id": "4dcdfeb7-fc20-4d18-b490-c466409023a7",
   "metadata": {
    "editable": true,
    "slideshow": {
     "slide_type": ""
    },
    "tags": []
   },
   "outputs": [],
   "source": []
  }
 ],
 "metadata": {
  "kernelspec": {
   "display_name": "Python 3 (ipykernel)",
   "language": "python",
   "name": "python3"
  },
  "language_info": {
   "codemirror_mode": {
    "name": "ipython",
    "version": 3
   },
   "file_extension": ".py",
   "mimetype": "text/x-python",
   "name": "python",
   "nbconvert_exporter": "python",
   "pygments_lexer": "ipython3",
   "version": "3.11.5"
  }
 },
 "nbformat": 4,
 "nbformat_minor": 5
}
