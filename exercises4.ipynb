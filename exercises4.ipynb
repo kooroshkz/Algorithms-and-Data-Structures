{
 "cells": [
  {
   "cell_type": "markdown",
   "id": "23475a6f",
   "metadata": {
    "editable": false,
    "slideshow": {
     "slide_type": ""
    },
    "tags": []
   },
   "source": [
    "# Welcome to Week 4: State-Space \\& Graph Traversal\n",
    "\n",
    "In this week's programming exercise, you will be working on several problems with different state-spaces and how to search for answers in these state-spaces. Throughout the exercise, you will be extending the classes by completing code stubs in their respective cells. You do not need to copy the code, it is enough to work in the cell under each exercise. Note that there are separate cells provided where you can (and should) test your code. During the exercises, you will (through customMagics) obtain a Python file (.py) which you should run against a set of unittests. Please avoid writing any unnecessary code in cells containing the `%%execwritefile` command. Doing this could alter the file `.py` and make it syntactically incorrect or interfere with the unittests. To prevent this stick to the following rules:'\n",
    " - ***Do not remove cells that start with ``%%execwritefile`` and do not remove that line.***\n",
    " - If a cell contains a `%%execwritefile` command at the top and a class definition you need to complete the given methods and adding helper methods is allowed, but do **not** add new functions or Python script to the cells (like global variables).\n",
    " - If a cell contains a `%%execwritefile` command at the top and **not** a class definition you must complete the given functions and you are free to add helper functions, new classes, and Python script that contains for example global variables. Note, that the use of global variables is almost always wrong except for a few use cases such as RNG for the numpy random generator methods.\n",
    " - If a cell does **not** contain a `%%execwritefile` command you can plot things, print variables, and write test cases. Here, you are free to do whatever you want.\n",
    " - If a cell does **not** contain a `%%execwritefile` command it should not contain functional code that is needed to run other functions or classes. The reason is that it is not copied to the `.py`. So, it can not be used during the unittesting.\n",
    "\n",
    "You do not need to look at the `customMagic.py` nor do more than glimpse at the test file, your exercise is contained in this workbook unless specified differently in this notebook's instructions. \n",
    "\n",
    "***Hint: Jupyter Notebooks saves variables between runs. If you get unexpected results try restarting the kernel, this deletes any saved variables.*** \n",
    "\n",
    "Please fill in your student name down below"
   ]
  },
  {
   "cell_type": "code",
   "execution_count": 74,
   "id": "78cf4ce6-3998-4c5b-b2fb-d8b83c6336fc",
   "metadata": {
    "editable": true,
    "slideshow": {
     "slide_type": ""
    },
    "tags": []
   },
   "outputs": [],
   "source": [
    "# FILL IN YOU STUDENT NUMBER\n",
    "student = 4003748\n",
    "\n",
    "# Set this to false if you want the default screen width.\n",
    "WIDE_SCREEN = True"
   ]
  },
  {
   "cell_type": "code",
   "execution_count": 75,
   "id": "2f51569f",
   "metadata": {
    "ExecuteTime": {
     "end_time": "2024-01-19T10:20:08.920263757Z",
     "start_time": "2024-01-19T10:20:08.907961698Z"
    },
    "editable": false,
    "slideshow": {
     "slide_type": ""
    },
    "tags": []
   },
   "outputs": [
    {
     "data": {
      "text/html": [
       "<style>.container { width:98% !important; }</style>"
      ],
      "text/plain": [
       "<IPython.core.display.HTML object>"
      ]
     },
     "metadata": {},
     "output_type": "display_data"
    }
   ],
   "source": [
    "from custommagics import CustomMagics\n",
    "import timeit\n",
    "import matplotlib.pyplot as plt\n",
    "\n",
    "if WIDE_SCREEN:\n",
    "    import notebook\n",
    "    from IPython.display import display, HTML\n",
    "\n",
    "    if int(notebook.__version__.split(\".\")[0]) >= 7:    \n",
    "        display(HTML(\n",
    "            '<style>'\n",
    "                '.jp-Notebook { padding-left: 1% !important; padding-right: 1% !important; width:100% !important; } '\n",
    "            '</style>'\n",
    "        ))\n",
    "    else:\n",
    "        display(HTML(\"<style>.container { width:98% !important; }</style>\"))\n",
    "\n",
    "get_ipython().register_magics(CustomMagics)\n",
    "\n"
   ]
  },
  {
   "cell_type": "code",
   "execution_count": 76,
   "id": "dc271cbf-ca64-4f94-b215-4306c69b5667",
   "metadata": {
    "ExecuteTime": {
     "end_time": "2024-01-19T10:20:13.144182399Z",
     "start_time": "2024-01-19T10:20:12.693456275Z"
    },
    "editable": false,
    "slideshow": {
     "slide_type": ""
    },
    "tags": []
   },
   "outputs": [
    {
     "name": "stdout",
     "output_type": "stream",
     "text": [
      "exercise4_4003748_notebook.py is backup to exercise4_4003748_notebook_backup.py\n",
      "Overwriting exercise4_4003748_notebook.py\n"
     ]
    }
   ],
   "source": [
    "%%execwritefile exercise4_{student}_notebook.py 0 \n",
    "\n",
    "# DO NOT CHANGE THIS CELL.\n",
    "# THESE ARE THE ONLY IMPORTS YOU ARE ALLOWED TO USE:\n",
    "\n",
    "import numpy as np\n",
    "import copy\n",
    "from collections import defaultdict, deque\n",
    "\n",
    "RNG = np.random.default_rng()"
   ]
  },
  {
   "cell_type": "code",
   "execution_count": 77,
   "id": "dc674e1b",
   "metadata": {
    "ExecuteTime": {
     "end_time": "2024-01-19T10:20:14.188805398Z",
     "start_time": "2024-01-19T10:20:14.175386296Z"
    },
    "editable": true,
    "slideshow": {
     "slide_type": ""
    },
    "tags": []
   },
   "outputs": [],
   "source": [
    "plt.matplotlib.rcParams['figure.figsize'] = [8, 3]"
   ]
  },
  {
   "cell_type": "markdown",
   "id": "07959588-d099-407e-8ecd-87fc96fe7c79",
   "metadata": {
    "editable": false,
    "slideshow": {
     "slide_type": ""
    },
    "tags": []
   },
   "source": [
    "# Classes as Functions \\& The `__call__` Method\n",
    "\n",
    "This week, we will use classes a bit different than we have seen so far. Therefore, please read this explanation if you are not familiar with the idea that an object (of a class) can be used as a function. Similar to last week, you do not have to make your own callable classes because the framework is already given but it helps you understand how it works.\n",
    "\n",
    "## Callable Object\n",
    "\n",
    "The term callable object refers to objects that are callable aka where you can give it some input in round brackets and they return an answer. So far all of you have used these kinds of objects namely when making functions. The name of functions is technically also a callable object. Below you can see a function called `some_function` which makes `some_function` an object which can be called as follows: `some_function(10)`. Thus `some_function` is an object and when you put round brackets `()` behind it you execute the code that you wrote in the `def`. \n",
    "\n",
    "```python\n",
    "def some_function(variable1):\n",
    "    print(variable1)\n",
    "```\n",
    "\n",
    "Some of you also might have seen lambda functions which also create callable objects but they are not directly stored in a variable. Therefore they are called a nameless function. However, you could give still store it in a variable which makes that variable a callable object. Below, we used a lambda function to create the same functionality as the `def` function above. Note, this is not how you should use lambda functions, but it illustrates what a callable object is.\n",
    "\n",
    "```python\n",
    "some_function = lambda variable1: print(variable1)\n",
    "```\n",
    "\n",
    "## Creating Callable Objects with Classes\n",
    "\n",
    "While functions are very useful, they can quickly explode in complexity. To solve this you can create helper functions, however, if all your helper functions and main function use the same variables it becomes very messy if you add a lot of arguments for each (helper) function. You might be tempted to solve this with global variables but this is really bad practice because if a file contains multiple algorithms and helper functions you do not know which global variable belongs to which algorithm. A more structured way of solving this is using classes, where you can add as much helper methods in the class as you want and you can use the object attributes to store variables that all (helper) methods need. This brings us to the magic method `__call__`, if you implement the `__call__` method in a class the objects of the class become callable and when you call them the `__call__` method is executed. To demonstrate this we will make a class that creates objects with the same functionality as the function above. In the example below `some_function` can now be used as a \"normal\" function where you call it as follows: `some_function(10)`.\n",
    "\n",
    "```python\n",
    "class SpecialFunction():\n",
    "    def __call__(self, variable1):\n",
    "        print(variable1)\n",
    "\n",
    "some_function = SpecialFunction()  # create the callable object\n",
    "```\n",
    "\n",
    "Now, you can add extra (helper) methods to your class to make the code more structured and readable and use object attributes to store variables across multiple methods. Often, these kind of classes do not have an `__init__` method and the attributes are initialized in `__call__` depending on the given arguments of `__call__`. In exercises [2](#2.0-State-Space-for-Permutations) and [3.3.1](#3.3.1-Breadth-First-Search-Framework) you can find frameworks for depth-first and breadth-first search that use these kind of classes."
   ]
  },
  {
   "cell_type": "markdown",
   "id": "3b5e73e3-21fa-4b8e-8841-fdadc5c0e6a6",
   "metadata": {
    "editable": false,
    "slideshow": {
     "slide_type": ""
    },
    "tags": []
   },
   "source": [
    "# 1.0 Implicit State-Space Graph for Alternating Disks\n",
    "\n",
    "In the theory questions, you designed an algorithm to solve the alternating disks problem (question 5). Here, you will program your solution. However, before you start think about the state-space and if you actively track it in your algorithm. By actively tracking, we mean that you can easily go back one step and make a different choice. Don't worry if your approach looks something like this: Go through the list, if you encounter a light disk to the left of a dark disk swap them, and keep going through the list until all the light disks are to the left of the dark disks. This is a perfect solution for the problem, however, for more difficult problems that have multiple solutions (and we want all of them) we might need a more structured approach. This will be tackled in problem [2.0 State-Space of Permutations](#2.0-State-Space-of-Permutations).\n",
    "   \n"
   ]
  },
  {
   "cell_type": "code",
   "execution_count": 78,
   "id": "5a0aee40-c215-4c5f-94e5-b5f21824363e",
   "metadata": {
    "editable": true,
    "slideshow": {
     "slide_type": ""
    },
    "tags": []
   },
   "outputs": [
    {
     "name": "stdout",
     "output_type": "stream",
     "text": [
      "Appending to exercise4_4003748_notebook.py\n"
     ]
    }
   ],
   "source": [
    "%%execwritefile exercise4_{student}_notebook.py 10 -a -s\n",
    "\n",
    "def alternating_disks(n):\n",
    "    \"\"\"\n",
    "    This function solves the alternating disks problem for a row with size 2*n containing n light disks and n dark disks.\n",
    "    The function returns an array with n ones (light disks) and n zeros (dark disks).\n",
    "    Use the function swap to change the position of two disks.\n",
    "    \n",
    "    :param n: Number of light or dark disks\n",
    "    :type n: int\n",
    "    :return: The ordered list (light is 1 and dark is 0)\n",
    "    :rtpye: np.ndarray[(2*n), int]\n",
    "    \"\"\"\n",
    "    disks = np.array(list(zip(np.ones(n), np.zeros(n)))).flatten()\n",
    "    i = 0\n",
    "    while 1 in disks[n:] and i < 2 * n - 2:\n",
    "        if disks[i] != disks[i + 1] and disks[i] == 0:\n",
    "            swap(disks, i)\n",
    "        i += 1\n",
    "        # we might need several traversals through the list\n",
    "        if i == 2 * n - 2:\n",
    "            i = 0\n",
    "    return disks\n",
    "def swap(disks, i):\n",
    "    \"\"\"\n",
    "    This function swaps the disks i and i+1 in the array disks.\n",
    "    This is a helper function for alternating_disks.\n",
    "\n",
    "    :param disks: Array containing the light and dark disks\n",
    "    :type disks: np.ndarray[(2*n), int]\n",
    "    :param i: Position of the disk that needs to be swapped\n",
    "    :type i: int\n",
    "    \"\"\"\n",
    "    disks[i], disks[i + 1] = disks[i + 1], disks[i]"
   ]
  },
  {
   "cell_type": "markdown",
   "id": "ac5eab22-8188-42e2-9e52-12f5d2a8468a",
   "metadata": {
    "editable": false,
    "slideshow": {
     "slide_type": ""
    },
    "tags": []
   },
   "source": [
    "## Test your code\n",
    "\n",
    "Below, you can test your code for the function `alternating_disks`."
   ]
  },
  {
   "cell_type": "code",
   "execution_count": 79,
   "id": "d410e2b3-90b4-4d34-b2af-32c019493366",
   "metadata": {
    "editable": true,
    "slideshow": {
     "slide_type": ""
    },
    "tags": []
   },
   "outputs": [
    {
     "data": {
      "text/plain": [
       "array([1., 1., 1., 1., 1., 1., 1., 1., 1., 1., 1., 1., 1., 1., 1., 1., 1.,\n",
       "       1., 1., 1., 1., 1., 1., 1., 1., 1., 1., 1., 1., 1., 1., 1., 1., 1.,\n",
       "       1., 1., 1., 1., 1., 1., 1., 1., 1., 1., 1., 1., 1., 1., 1., 1., 1.,\n",
       "       1., 1., 1., 1., 1., 1., 1., 1., 1., 1., 1., 1., 1., 1., 1., 1., 1.,\n",
       "       1., 1., 1., 1., 1., 1., 1., 1., 1., 1., 1., 1., 1., 1., 1., 1., 1.,\n",
       "       1., 1., 1., 1., 1., 1., 1., 1., 1., 1., 1., 1., 1., 1., 1., 1., 1.,\n",
       "       1., 1., 1., 1., 1., 1., 1., 1., 1., 1., 1., 1., 1., 1., 1., 1., 1.,\n",
       "       1., 1., 1., 1., 1., 1., 1., 1., 1., 1., 1., 1., 1., 1., 1., 1., 1.,\n",
       "       1., 1., 1., 1., 1., 1., 1., 1., 1., 1., 1., 1., 1., 1., 0., 0., 0.,\n",
       "       0., 0., 0., 0., 0., 0., 0., 0., 0., 0., 0., 0., 0., 0., 0., 0., 0.,\n",
       "       0., 0., 0., 0., 0., 0., 0., 0., 0., 0., 0., 0., 0., 0., 0., 0., 0.,\n",
       "       0., 0., 0., 0., 0., 0., 0., 0., 0., 0., 0., 0., 0., 0., 0., 0., 0.,\n",
       "       0., 0., 0., 0., 0., 0., 0., 0., 0., 0., 0., 0., 0., 0., 0., 0., 0.,\n",
       "       0., 0., 0., 0., 0., 0., 0., 0., 0., 0., 0., 0., 0., 0., 0., 0., 0.,\n",
       "       0., 0., 0., 0., 0., 0., 0., 0., 0., 0., 0., 0., 0., 0., 0., 0., 0.,\n",
       "       0., 0., 0., 0., 0., 0., 0., 0., 0., 0., 0., 0., 0., 0., 0., 0., 0.,\n",
       "       0., 0., 0., 0., 0., 0., 0., 0., 0., 0., 0., 0., 0., 0., 0., 0., 0.,\n",
       "       0., 0., 0., 0., 0., 0., 0., 0., 0., 0., 0.])"
      ]
     },
     "execution_count": 79,
     "metadata": {},
     "output_type": "execute_result"
    }
   ],
   "source": [
    "# write here your code to test alternating_disks\n",
    "alternating_disks(150)"
   ]
  },
  {
   "cell_type": "markdown",
   "id": "4e940455",
   "metadata": {
    "editable": false,
    "slideshow": {
     "slide_type": ""
    },
    "tags": []
   },
   "source": [
    "# 2.0 State-Space for Permutations\n",
    "\n",
    "Above, we implemented `alternating_disks` using a function that only uses actions that we know lead to the correct solution. So, the state-space only contains states and actions that lead to the solution. However, in each state, the possible correct actions are hard to predetermine as they depend on which state-space you are currently in. In a relatively simple algorithm, this is not hard to implement in a single function where we just quickly search for it. This is basically what the step \"Go through the list and if you encounter a light disk to the left of a dark disk swap them\" does. However, making a single function, for a recursive search algorithm that needs to return every possible solution path (a series of actions that lead to a correct solution), is relatively hard. Therefore, we will introduce a framework that can be used for any state-space problem. This framework can then either only use valid state-spaces, e.g., as we saw in the lecture in the wolf, goat, and cabbage problem, or can use any state-space defined by all actions. For example, for the wolf, goat, and cabbage problem, this would mean that the first action is not only limited to taking the goat but can also be taking the wolf or cabbage.\n",
    "\n",
    "We will do a similar exercise by making permutations of a list. First, we will use a state-space that only leads to correct solutions then we will use a more general state-space filter out wrong solutions. To do all this we will make use of the framework explained below.\n",
    "\n",
    "***Before, you start programming think about how to make permutations on paper and think about a pseudo algorithm.***"
   ]
  },
  {
   "cell_type": "code",
   "execution_count": 80,
   "id": "b8c1887a-8d51-4c12-9dcb-e847ba9ec6eb",
   "metadata": {
    "editable": false,
    "slideshow": {
     "slide_type": ""
    },
    "tags": []
   },
   "outputs": [],
   "source": [
    "class DepthFirstSearchFramework():\n",
    "    def __call__(self, problem):\n",
    "        \"\"\"\n",
    "        This method is used to initialize the problem and solve it.\n",
    "\n",
    "        Hint: __call__ is the magic method used when using round brackets, \n",
    "        .i.e, it makes the object callable. For example:\n",
    "            s = StateSpace()\n",
    "            s(problem)  # This calls the __call__ method of the object s.\n",
    "        \"\"\"\n",
    "        ...\n",
    "        results = self.step(...)\n",
    "        ...\n",
    "        return ...\n",
    "    \n",
    "    def step(self, args):\n",
    "        \"\"\"\n",
    "        Step is the recursive part of the depth-first search.\n",
    "        Each step contains of several substeps:\n",
    "         - Check if you are in the base case and act upon it.\n",
    "         - Go through all possible actions you can take in this state-space and for each action do the following:\n",
    "           - Apply the action, this can be changing the state-space or adding something the a list.\n",
    "           - Go to the next step, this makes it depth-first search as you don't explore all options \n",
    "             fist but do one action and then go to the next. In next_step, you can also generate \n",
    "             the next possible actions if needed.\n",
    "             When going back up the tree to return the value you can also do some updating.\n",
    "             For example, in permutations you can all permutations of the next step and you have to \n",
    "             loop through them to generate all permutations including the chosen action.\n",
    "           - Do clean up, for example if you delete something from a list to do the step \n",
    "             then you need to reverse it to be able to do another action.\n",
    "             Another, (expensive) option instead of cleanup would be copying statespace,\n",
    "             so you do not need to reverse the action as you still have the original statespace.\n",
    "            \n",
    "        Note, that in this template we made a method for next step, but you can do the same for\n",
    "        applying the action, clean up, or the base case. Often, you do this to make your code more\n",
    "        structured, i.e., more readable.\n",
    "        \"\"\"\n",
    "        # base case\n",
    "        if ...:\n",
    "            return ...\n",
    "\n",
    "        # chose one action and go to the next step\n",
    "        for action in actions:\n",
    "            # Apply the action\n",
    "            ...\n",
    "\n",
    "            self.next_step()\n",
    "            ...\n",
    "            # keep going if you want all possible solutions or return here if one solution is enough.\n",
    "\n",
    "            # Clean up\n",
    "            ...\n",
    "\n",
    "    def next_step(self):\n",
    "        \"\"\"\n",
    "        This method helps us determine the next actions given the current state-space.\n",
    "\n",
    "        If each state-space this method does not do much, but it still can adjust a counter \n",
    "        to know which recursive depth we are if this is needed. \n",
    "        However, if each state-space has its own set of actions for example in the wolf, goat, cabbage problem\n",
    "        You determine the next actions in this method.\n",
    "        \"\"\"\n",
    "        # generate next action\n",
    "        ...\n",
    "\n",
    "        # call step\n",
    "        self.step()\n",
    "\n",
    "    def is_correct(self):\n",
    "        \"\"\"\n",
    "        If you depth-first search can find state-spaces that are incorrect you need some method to check if the state-space is correct.\n",
    "\n",
    "        This method can be called at three points in your algorithm:\n",
    "         - At the end (in __call__), you go through all answer and filter them.\n",
    "         - If you reach the base-case, this is often done if you are only interested in one result.\n",
    "         - When you take an action, to check if the partial answer is correct. We comeback to this in lecture 5.\n",
    "        \"\"\"\n",
    "        if ...:\n",
    "            return True\n",
    "        return False    "
   ]
  },
  {
   "cell_type": "code",
   "execution_count": 81,
   "id": "8180acb9-105e-4990-a478-12509c39989a",
   "metadata": {
    "editable": true,
    "slideshow": {
     "slide_type": ""
    },
    "tags": []
   },
   "outputs": [
    {
     "name": "stdout",
     "output_type": "stream",
     "text": [
      "Appending to exercise4_4003748_notebook.py\n"
     ]
    }
   ],
   "source": [
    "%%execwritefile exercise4_{student}_notebook.py 20 -a -s\n",
    "\n",
    "class Permutations():\n",
    "    def __call__(self, list_):\n",
    "        \"\"\"\n",
    "        This method gives all the permutations of the list.\n",
    "        This is done by generating them first using step and\n",
    "        then filtering them using `self.is_correct`.\n",
    "\n",
    "        :param list_: The list containing all the elements.\n",
    "        :type list_: list[Objects]\n",
    "        :return: A list with all possible permutations.\n",
    "        :rtype: list[list[Objects]]\n",
    "        \"\"\"\n",
    "        # Nothing needs to be initialized or filter. So just call self.step\n",
    "        return self.step(list_)\n",
    "        \n",
    "    def step(self, list_):\n",
    "        \"\"\"\n",
    "        This method adds one value to the new permutated list and\n",
    "        and calls next_step to generate a new set of actions.\n",
    "\n",
    "        :param list_: The list containing all the possible elements (that are valid actions)\n",
    "        :type list_: list\n",
    "        :return: A list containing all the permutations, from the current space-state.\n",
    "        :type: list[list[Objects]]\n",
    "        \"\"\"\n",
    "        # base case\n",
    "        if len(list_) == 0:\n",
    "            return [[]]\n",
    "        \n",
    "        permutations = []\n",
    "        for index in range(len(list_)):\n",
    "            for action in self.next_step(list_, index):\n",
    "                action.append(list_[index])\n",
    "                permutations.append(action)\n",
    "        \n",
    "        return permutations\n",
    "\n",
    "        \n",
    "\n",
    "\n",
    "\n",
    "    def next_step(self, list_, index):\n",
    "        \"\"\"\n",
    "        This method generates the actions that are possible for the next step and calls step.\n",
    "        These actions consist of the elements of the list that are not yet in the new permutated list.\n",
    "\n",
    "        :param list_: The list containing all the possible elements (that are valid actions)\n",
    "                      from the previous state-space.\n",
    "        :type list_: list\n",
    "        :param index: The index of the element that is used as action in the previous step.\n",
    "        :type index: int\n",
    "        :return: This method returns what self.step returns\n",
    "        :type: list[list[Objects]]\n",
    "        \"\"\"\n",
    "        # generate next action\n",
    "        new_list = list_\n",
    "        new_list = new_list[:index] + new_list[index + 1:]\n",
    "        return self.step(new_list)"
   ]
  },
  {
   "cell_type": "code",
   "execution_count": null,
   "id": "e1754282",
   "metadata": {},
   "outputs": [],
   "source": []
  },
  {
   "cell_type": "markdown",
   "id": "ca8bbcc7-9f12-496c-9bb9-f2d1182a1193",
   "metadata": {
    "editable": false,
    "slideshow": {
     "slide_type": ""
    },
    "tags": []
   },
   "source": [
    "## Test your code\n",
    "\n",
    "Below, you can test your permutation algorithm."
   ]
  },
  {
   "cell_type": "code",
   "execution_count": 82,
   "id": "d721a5b6-2ec4-4555-ba78-c499d42cd028",
   "metadata": {},
   "outputs": [
    {
     "data": {
      "text/plain": [
       "[[3, 2, 1], [2, 3, 1], [3, 1, 2], [1, 3, 2], [2, 1, 3], [1, 2, 3]]"
      ]
     },
     "execution_count": 82,
     "metadata": {},
     "output_type": "execute_result"
    }
   ],
   "source": [
    "# Type your testing code here\n",
    "Permutations()([1,2,3])"
   ]
  },
  {
   "cell_type": "markdown",
   "id": "8fa0391c-3b0b-4c37-928f-f57e59cd384a",
   "metadata": {
    "editable": false,
    "slideshow": {
     "slide_type": ""
    },
    "tags": []
   },
   "source": [
    "## 2.1 Permutations with Replacement\n",
    "\n",
    "Above, we implemented a permutation algorithm that only finds correct state-spaces but we need to do extra work to generate the actions. Another approach would be to use another state-space, where we define the state-space as a list where each index can be any element of the original list independent of what the other indices contain. In other words, we use the same state-sapce that you would use to make permutations with replacement.\n",
    "\n",
    "This makes `next_step` a lot easier, however, now we need `is_correct` to filter out incorrect solutions aka we have to search through the whole state-space which final states are correct and which are not.\n",
    "\n",
    "**Note, in this exercise we assume that all elements in the list are unique!**\n",
    "\n",
    "***Before, you start programming think about how to make permutations on paper if the indices are independent and think about a pseudo algorithm.***"
   ]
  },
  {
   "cell_type": "code",
   "execution_count": 83,
   "id": "97e7afa7-7de8-4013-b1f7-f96786c8d30c",
   "metadata": {
    "editable": true,
    "slideshow": {
     "slide_type": ""
    },
    "tags": []
   },
   "outputs": [
    {
     "name": "stdout",
     "output_type": "stream",
     "text": [
      "Appending to exercise4_4003748_notebook.py\n"
     ]
    }
   ],
   "source": [
    "%%execwritefile exercise4_{student}_notebook.py 25 -a -s\n",
    "\n",
    "class PermutationsWithReplacement():\n",
    "    def __call__(self, list_):\n",
    "        \"\"\"\n",
    "        This method gives all the permutations of the list.\n",
    "        This is done by generating them first using step and\n",
    "        then filtering them using `self.is_correct`.\n",
    "        \n",
    "        :param list_: The list containing all the unique elements.\n",
    "        :type list_: list\n",
    "        :return: A list with all possible permutations.\n",
    "        :rtype: list[list[Objects]]\n",
    "        \"\"\"\n",
    "        # all actions are the same, so it is helpful to make an object attribute.\n",
    "        self.list = list_\n",
    "        # filter out all incorrect state-spaces and return all permutations of self.list\n",
    "        return [x for x in self.step(0) if self.is_correct(x)]\n",
    "\n",
    "    def step(self, i):\n",
    "        \"\"\"\n",
    "        This method adds one value to the new permutated list and\n",
    "        and calls next_step to generate a new set of actions.\n",
    "        \n",
    "        :param i: A counter how many elements are added to the new permutation.\n",
    "        :type i: int\n",
    "        :return: A list containing all the permutations, from the current space-state.\n",
    "        :type: list[list[Objects]]\n",
    "        \"\"\"\n",
    "        # add all combinations of elemnets to the new list\n",
    "        # base case\n",
    "        if i == len(self.list):\n",
    "            return [[]]\n",
    "        \n",
    "        \n",
    "        permutations = []\n",
    "        for index in range(len(self.list)):\n",
    "            # call the next step to generate available actions\n",
    "            for action in self.next_step(i):\n",
    "                action.append(self.list[index])\n",
    "                permutations.append(action)\n",
    "                \n",
    "        return permutations\n",
    "            \n",
    "            \n",
    "\n",
    "    def next_step(self, i):\n",
    "        \"\"\"\n",
    "        This method generates the actions that are possible for the next step and calls step.\n",
    "        These actions consist of all elements of the original list.\n",
    "\n",
    "        :param i: An counter how many elements are added to the new permutation.\n",
    "        :type i: int\n",
    "        :return: This method returns what self.step returns\n",
    "        :type: list[list[Objects]]\n",
    "        \"\"\"\n",
    "        return self.step(i + 1)\n",
    "    \n",
    "    def is_correct(self, permutation):\n",
    "        \"\"\"\n",
    "        This method returns if the state-space is correct aka if it is a permutation.\n",
    "\n",
    "        :param permutation: A possible permutation of self.list\n",
    "        :type permutation: list[Objects]\n",
    "        :return: Return if the permutation variable is or is not a permutation.\n",
    "        :rtype: boolean\n",
    "        \"\"\"\n",
    "        # check if the list contains unique elements\n",
    "        if len(permutation) == len(set(permutation)):\n",
    "            return True\n",
    "        return False\n",
    "    \n"
   ]
  },
  {
   "cell_type": "markdown",
   "id": "0cdb9cf8-21bd-456e-8f55-b9667806a188",
   "metadata": {
    "editable": false,
    "slideshow": {
     "slide_type": ""
    },
    "tags": []
   },
   "source": [
    "## Test your code\n",
    "\n",
    "Below, you can test your permutation algorithm using the class `PermutationsWithReplacement`. Also, check if it is the same as the previous class Permutations."
   ]
  },
  {
   "cell_type": "code",
   "execution_count": 84,
   "id": "ab912428-0d75-4d57-bf21-7e385e6b0baf",
   "metadata": {
    "editable": true,
    "slideshow": {
     "slide_type": ""
    },
    "tags": []
   },
   "outputs": [
    {
     "data": {
      "text/plain": [
       "[[3, 2, 1], [2, 3, 1], [3, 1, 2], [1, 3, 2], [2, 1, 3], [1, 2, 3]]"
      ]
     },
     "execution_count": 84,
     "metadata": {},
     "output_type": "execute_result"
    }
   ],
   "source": [
    "# Type your testing code here\n",
    "PermutationsWithReplacement()([1,2,3])"
   ]
  },
  {
   "cell_type": "markdown",
   "id": "432cae39-a432-4501-8c29-c4ea72aed161",
   "metadata": {
    "editable": false,
    "slideshow": {
     "slide_type": ""
    },
    "tags": []
   },
   "source": [
    "# 3.0 Different State-Spaces\n",
    "\n",
    "For a lot of problems, there is no unambiguous state-space or even an unambiguous datastructure that fits the problem. This is also shown above. There are many trade-offs when it comes down to choosing a correct state-space for your problem and this is often connected to what kind of algorithm you use. In this exercise, we will focus on two different state-spaces but also two different datastructures to see what the difference can be.\n",
    "\n",
    "## 3.1 Solving The Manhattan Problem Using Arrays\n",
    "\n",
    "The problem we want to solve is to find every possible fastest route in a small part of Manhattan. As input, we have a simplified photograph of the area and we want to go from the top left corner of the map to the bottom right corner, see the image below.\n",
    "\n",
    "![Manhattan.png](Manhattan.png)\n",
    "\n",
    "With a bit of computer-vision this image can be transformed into the following array, where a 1 is a road and 0 is a house:\n",
    "```python\n",
    "road_grid = np.array([\n",
    "    [1, 1, 1, 1, 1, 1, 1, 1, 1, 1, 1, 1, 1],\n",
    "    [1, 0, 0, 0, 0, 1, 0, 0, 1, 0, 0, 0, 1],\n",
    "    [1, 0, 0, 0, 0, 1, 0, 0, 1, 0, 0, 0, 1],\n",
    "    [1, 0, 0, 0, 0, 1, 0, 0, 1, 0, 0, 0, 1],\n",
    "    [1, 1, 1, 1, 1, 1, 1, 1, 1, 1, 1, 1, 1],\n",
    "    [1, 0, 0, 0, 0, 1, 0, 0, 1, 0, 0, 0, 1],\n",
    "    [1, 0, 0, 0, 0, 1, 0, 0, 1, 0, 0, 0, 1],\n",
    "    [1, 0, 0, 0, 0, 1, 0, 0, 1, 0, 0, 0, 1],\n",
    "    [1, 1, 1, 1, 1, 1, 1, 1, 1, 1, 1, 1, 1],\n",
    "])\n",
    "```\n",
    "\n",
    "So, given the array above we can make a search algorithm that finds all the fastest routes. However, there are a few obstacles in designing such an algorithm. One obstacle is that it is easy to walk in circles or to find a suboptimal route. Therefore, in this problem we assume that going right and down is always fast and going up or left is always wrong (as in you create a loop or you are slower).\n",
    "\n",
    "Given the framework above, design an algorithm that works for every possible Manhattan grid, given the assumptions above. This problem is inspired by the [Manhattan distance/geometry](https://en.wikipedia.org/wiki/Taxicab_geometry) (just for a bit of background you do not need it to make the algorithm. \n",
    "\n",
    "***Before you start coding, try to work out an example on paper and write down a pseudo algorithm. Also, think about what the state-space in this case is.***\n"
   ]
  },
  {
   "cell_type": "code",
   "execution_count": 85,
   "id": "1821c165-d11f-4363-8427-1ef8cc5574b4",
   "metadata": {
    "editable": true,
    "slideshow": {
     "slide_type": ""
    },
    "tags": []
   },
   "outputs": [
    {
     "name": "stdout",
     "output_type": "stream",
     "text": [
      "Appending to exercise4_4003748_notebook.py\n"
     ]
    }
   ],
   "source": [
    "%%execwritefile exercise4_{student}_notebook.py 30 -a -s\n",
    "\n",
    "class ManhattanProblem():\n",
    "    def __call__(self, road_grid):\n",
    "        \"\"\"\n",
    "        This method gives all the fastest routes through this part of Manhattan.\n",
    "        You always start top left and end bottom right.\n",
    "        This is done by calling step which should return a list of routes, \n",
    "        where a route consists of a list of coordinates.\n",
    "\n",
    "        :param road_grid: The array containing information where a house (zero) or a road (one) is.\n",
    "        :type road_grid: np.ndarray[(Any, Any), int]\n",
    "        :return: A list with all possible routes, where a route consists of a list of coordinates.\n",
    "        :rtype: list[list[tuple[int]]]\n",
    "        \"\"\"\n",
    "        self.grid = road_grid\n",
    "        return self.next_step((0,0))  # We already are in the first state-space so we need to generate the next actions.\n",
    "        \n",
    "    def step(self, pos, actions):\n",
    "        \"\"\"\n",
    "        This method does one step in the depth-first search in the Manhattan grid.\n",
    "        One step consists of adding one coordinate (tuple) to the route and\n",
    "        generating all possible routes from this coordinate in the grid,\n",
    "        this is done recursively.\n",
    "\n",
    "        :param pos: The current coordinate in the grid.\n",
    "        :type pos: tuple[int]\n",
    "        :param actions: List of possible next coordinates.\n",
    "        :type actions: list[tuple[int]]\n",
    "        :return: All possible route with this position as starting point.\n",
    "        :rtype: list[list[tuple[int]]]\n",
    "        \"\"\"\n",
    "        if pos == (len(self.grid) - 1, len(self.grid[0]) - 1):\n",
    "            return [[pos]]\n",
    "        \n",
    "        paths = []\n",
    "        for action in actions:\n",
    "            for path in self.next_step(action):\n",
    "                paths.append([pos] + path)\n",
    "        \n",
    "        return paths\n",
    "\n",
    "\n",
    "    def next_step(self, pos):\n",
    "        \"\"\"\n",
    "        Here, we check which actions we can take depending on the current position in the grid.\n",
    "        Then, we call next step with the current position and next possible actions.\n",
    "\n",
    "        :param pos: The current coordinate in the grid.\n",
    "        :type pos: tuple[int]\n",
    "        :return: This method returns what self.step returns\n",
    "        :rtype: list[list[tuple[int]]]\n",
    "        \"\"\"\n",
    "        pos_candidates = []\n",
    "        grid = self.grid\n",
    "        if pos[0] + 1 < len(grid) and grid[pos[0] + 1][pos[1]] == 1:\n",
    "            pos_candidates.append((pos[0] + 1, pos[1]))\n",
    "        if pos[1] + 1 < len(grid[0]) and grid[pos[0]][pos[1] + 1] == 1:\n",
    "            pos_candidates.append((pos[0], pos[1] + 1))\n",
    "        \n",
    "        return self.step(pos, pos_candidates)"
   ]
  },
  {
   "cell_type": "markdown",
   "id": "f97e10a4-eb41-464c-9cf9-a0eeb59e1b1c",
   "metadata": {
    "editable": false,
    "slideshow": {
     "slide_type": ""
    },
    "tags": []
   },
   "source": [
    "## Test your code\n",
    "\n",
    "Below, you can test your algorithm. Make sure that you test various road grids and that your algorithm works for all of them. To give you a head start, a simple one-block road network is provided."
   ]
  },
  {
   "cell_type": "code",
   "execution_count": 86,
   "id": "03eff647-d43d-44c8-ad3e-a99c965ba5bf",
   "metadata": {},
   "outputs": [
    {
     "name": "stdout",
     "output_type": "stream",
     "text": [
      "[(0, 0), (1, 0), (2, 0), (3, 0), (4, 0), (5, 0), (6, 0), (7, 0), (8, 0), (8, 1), (8, 2), (8, 3), (8, 4), (8, 5), (8, 6), (8, 7), (8, 8), (8, 9), (8, 10), (8, 11), (8, 12)]\n",
      "[(0, 0), (1, 0), (2, 0), (3, 0), (4, 0), (4, 1), (4, 2), (4, 3), (4, 4), (4, 5), (5, 5), (6, 5), (7, 5), (8, 5), (8, 6), (8, 7), (8, 8), (8, 9), (8, 10), (8, 11), (8, 12)]\n",
      "[(0, 0), (1, 0), (2, 0), (3, 0), (4, 0), (4, 1), (4, 2), (4, 3), (4, 4), (4, 5), (4, 6), (4, 7), (4, 8), (5, 8), (6, 8), (7, 8), (8, 8), (8, 9), (8, 10), (8, 11), (8, 12)]\n",
      "[(0, 0), (1, 0), (2, 0), (3, 0), (4, 0), (4, 1), (4, 2), (4, 3), (4, 4), (4, 5), (4, 6), (4, 7), (4, 8), (4, 9), (4, 10), (4, 11), (4, 12), (5, 12), (6, 12), (7, 12), (8, 12)]\n",
      "[(0, 0), (0, 1), (0, 2), (0, 3), (0, 4), (0, 5), (1, 5), (2, 5), (3, 5), (4, 5), (5, 5), (6, 5), (7, 5), (8, 5), (8, 6), (8, 7), (8, 8), (8, 9), (8, 10), (8, 11), (8, 12)]\n",
      "[(0, 0), (0, 1), (0, 2), (0, 3), (0, 4), (0, 5), (1, 5), (2, 5), (3, 5), (4, 5), (4, 6), (4, 7), (4, 8), (5, 8), (6, 8), (7, 8), (8, 8), (8, 9), (8, 10), (8, 11), (8, 12)]\n",
      "[(0, 0), (0, 1), (0, 2), (0, 3), (0, 4), (0, 5), (1, 5), (2, 5), (3, 5), (4, 5), (4, 6), (4, 7), (4, 8), (4, 9), (4, 10), (4, 11), (4, 12), (5, 12), (6, 12), (7, 12), (8, 12)]\n",
      "[(0, 0), (0, 1), (0, 2), (0, 3), (0, 4), (0, 5), (0, 6), (0, 7), (0, 8), (1, 8), (2, 8), (3, 8), (4, 8), (5, 8), (6, 8), (7, 8), (8, 8), (8, 9), (8, 10), (8, 11), (8, 12)]\n",
      "[(0, 0), (0, 1), (0, 2), (0, 3), (0, 4), (0, 5), (0, 6), (0, 7), (0, 8), (1, 8), (2, 8), (3, 8), (4, 8), (4, 9), (4, 10), (4, 11), (4, 12), (5, 12), (6, 12), (7, 12), (8, 12)]\n",
      "[(0, 0), (0, 1), (0, 2), (0, 3), (0, 4), (0, 5), (0, 6), (0, 7), (0, 8), (0, 9), (0, 10), (0, 11), (0, 12), (1, 12), (2, 12), (3, 12), (4, 12), (5, 12), (6, 12), (7, 12), (8, 12)]\n"
     ]
    }
   ],
   "source": [
    "# Test your code here\n",
    "\n",
    "# road_grid = np.array([\n",
    "#     [1, 1, 1, 1, 1, 1],\n",
    "#     [1, 0, 0, 0, 0, 1],\n",
    "#     [1, 0, 0, 0, 0, 1],\n",
    "#     [1, 0, 0, 0, 0, 1],\n",
    "#     [1, 1, 1, 1, 1, 1],\n",
    "# ])\n",
    "road_grid = np.array([\n",
    "    [1, 1, 1, 1, 1, 1, 1, 1, 1, 1, 1, 1, 1],\n",
    "    [1, 0, 0, 0, 0, 1, 0, 0, 1, 0, 0, 0, 1],\n",
    "    [1, 0, 0, 0, 0, 1, 0, 0, 1, 0, 0, 0, 1],\n",
    "    [1, 0, 0, 0, 0, 1, 0, 0, 1, 0, 0, 0, 1],\n",
    "    [1, 1, 1, 1, 1, 1, 1, 1, 1, 1, 1, 1, 1],\n",
    "    [1, 0, 0, 0, 0, 1, 0, 0, 1, 0, 0, 0, 1],\n",
    "    [1, 0, 0, 0, 0, 1, 0, 0, 1, 0, 0, 0, 1],\n",
    "    [1, 0, 0, 0, 0, 1, 0, 0, 1, 0, 0, 0, 1],\n",
    "    [1, 1, 1, 1, 1, 1, 1, 1, 1, 1, 1, 1, 1],\n",
    "])\n",
    "# print(road_grid[0][0])\n",
    "for route in ManhattanProblem()(road_grid):\n",
    "    print(route)"
   ]
  },
  {
   "cell_type": "markdown",
   "id": "c9f1ee46-cd0f-4715-8643-5da5bf40af94",
   "metadata": {
    "editable": false,
    "slideshow": {
     "slide_type": ""
    },
    "tags": []
   },
   "source": [
    "## 3.2 The Manhattan Problem Using Graphs\n",
    "\n",
    "In the previous solution for the Manhattan problem, we used a state-space that included all road positions. However, this uses a lot of resources not only in memory but also in speed. A lot of decisions in this state-space could be phrased in English as \"just keep going\". The graph representation of this state-space would look something like:\n",
    "\n",
    "<img src=\"ManhattanGraph.png\" alt=\"drawing\" width=\"700\"/>\n",
    "\n",
    "If you look at the graph above, you could say that all nodes that are \"just keep going\" nodes, can be removed from the graph as they do not change the outcome of the routes. This would result in the graph below, which is much smaller and quicker to traverse. However, making this graph is not as straight forward and a separate algorithm is required to do it. This leads to the trade-off of how many times are you using the graph and is it worth it to transform it to the smaller graph representation. The important is that both are valid state-space representations.\n",
    "\n",
    "<img src=\"ManhattanGraphSmall.png\" alt=\"drawing\" width=\"200\"/>\n",
    "\n",
    "Below, you can find a Node class that is used to build a graph representing the road network. Please, make sure you understand the attributes and how this class would make a whole graph. You do not have to build anything with the class but the Node class represents the graph. Of course, this problem could also be solved using an adjacency list. Here, we use a Node class to let you practice with different datastructures. You can also find an algorithm that transforms an array representation into a small graph representation. This is given to let you test both algorithms on the same array. You can ignore the code itself which is also NOT an example of how to write good code. "
   ]
  },
  {
   "cell_type": "code",
   "execution_count": 87,
   "id": "df38b0a3-3489-4bca-8d43-17aecd2f0f98",
   "metadata": {
    "editable": true,
    "slideshow": {
     "slide_type": ""
    },
    "tags": []
   },
   "outputs": [
    {
     "name": "stdout",
     "output_type": "stream",
     "text": [
      "Appending to exercise4_4003748_notebook.py\n"
     ]
    }
   ],
   "source": [
    "%%execwritefile exercise4_{student}_notebook.py 32 -a -s\n",
    "\n",
    "class Node():\n",
    "    \"\"\"\n",
    "    This Node class forms a graph where each node contains directed edges to the other nodes.\n",
    "\n",
    "    Attributes:\n",
    "        :param info: The coordinate of the Node\n",
    "        :type info: tuple[(2,), int]\n",
    "        :param edges: A list of Nodes which are the directed edges from this Node.\n",
    "        :type edges: list[Node]\n",
    "    \"\"\"\n",
    "    def __init__(self, info):\n",
    "        self.info = info\n",
    "        self.edges = []\n",
    "\n",
    "    def set_edges(self, edges):\n",
    "        self.edges = edges\n",
    "\n",
    "    def __repr__(self):\n",
    "        # return f\"Node{self.info}\"  # you can choose which representation you like or make one yourself.\n",
    "        return f\"Node{self.info} -> {[e.info for e in self.edges]}\"\n"
   ]
  },
  {
   "cell_type": "code",
   "execution_count": 88,
   "id": "9f8a9fea-e118-49b8-8a31-848f8b2f429c",
   "metadata": {
    "editable": false,
    "slideshow": {
     "slide_type": ""
    },
    "tags": []
   },
   "outputs": [
    {
     "name": "stdout",
     "output_type": "stream",
     "text": [
      "Appending to exercise4_4003748_notebook.py\n"
     ]
    }
   ],
   "source": [
    "%%execwritefile exercise4_{student}_notebook.py 33 -a -s\n",
    "\n",
    "def make_graph(grid):\n",
    "    # if the grid is effectively one dimensional\n",
    "    if 1 in grid.shape:\n",
    "        start = Node((0,0))\n",
    "        start.edges = [Node((grid.shape[0]-1, grid.shape[1]-1))]\n",
    "        return start\n",
    "    \n",
    "    # add start and end nodes\n",
    "    row_col_nodes = defaultdict(list)\n",
    "    col_row_nodes = defaultdict(list)\n",
    "    for i, row in enumerate(grid):\n",
    "        for j, cell in enumerate(row):\n",
    "            row_adj = sum([row[j-1], row[j+1]] if j > 0 and j < grid.shape[1]-1 else [row[j+1] if j == 0 else row[j-1]])  # check if there is an adjacent road horizontally\n",
    "            col_adj = sum([grid[i-1, j], grid[i+1, j]] if i > 0 and i < grid.shape[0]-1 else [grid[i+1,j] if i == 0 else grid[i-1,j]]) # check if there is an adjacent road vertically\n",
    "            # junction if both vertically and horizontally there is a road and you are standing on a road. \n",
    "            if cell and row_adj and col_adj:\n",
    "                row_col_nodes[i] += [j]\n",
    "                col_row_nodes[j] += [i]\n",
    "\n",
    "    # make nodes\n",
    "    nodes = {}\n",
    "    for row, cols in row_col_nodes.items():\n",
    "        for col in cols:\n",
    "            nodes[(row, col)] = Node((row,col))\n",
    "\n",
    "    # connect nodes\n",
    "    for (row, col), node in nodes.items():\n",
    "        edges = []\n",
    "        if col + 1 < grid.shape[1] and grid[row, col + 1]:  # go left and find next node\n",
    "            edges.append(nodes[row, row_col_nodes[row][row_col_nodes[row].index(col)+1]])\n",
    "        if row + 1 < grid.shape[0] and grid[row + 1, col]: # go down and find next node\n",
    "            edges.append(nodes[col_row_nodes[col][col_row_nodes[col].index(row)+1], col])\n",
    "        node.set_edges(edges)\n",
    "            \n",
    "    return nodes[(0,0)]"
   ]
  },
  {
   "cell_type": "markdown",
   "id": "f69b07a1-95a2-4cc3-b57a-fb930e27e6e6",
   "metadata": {
    "editable": false,
    "slideshow": {
     "slide_type": ""
    },
    "tags": []
   },
   "source": [
    "### 3.2.1 Solve The Problem\n",
    "\n",
    "In the exercise below, you will make an algorithm to traverse the smaller graph. You can use the function `make_graph` to test your algorithm."
   ]
  },
  {
   "cell_type": "code",
   "execution_count": 89,
   "id": "5200206e-6a2f-4bb9-a5e9-e9d346cc333e",
   "metadata": {
    "editable": true,
    "slideshow": {
     "slide_type": ""
    },
    "tags": []
   },
   "outputs": [
    {
     "name": "stdout",
     "output_type": "stream",
     "text": [
      "Appending to exercise4_4003748_notebook.py\n"
     ]
    }
   ],
   "source": [
    "%%execwritefile exercise4_{student}_notebook.py 35 -a -s\n",
    "\n",
    "class ManhattanProblemDepth():\n",
    "    def __call__(self, road_graph):\n",
    "        \"\"\"\n",
    "        This method gives all the fastest routes through this part of Manhattan.\n",
    "        You start with the first node `road_graph` and you end if you are at the end node.\n",
    "        You can assume there are no dead ends in the graph.\n",
    "        This is done by calling step which should return a list of routes, \n",
    "        where a route consists of a list of coordinates.\n",
    "\n",
    "        :param road_graph: The start Node of the graph.\n",
    "        :type road_graph: Node\n",
    "        :return: A list with all possible routes, where a route consists of a list of coordinates.\n",
    "        :rtype: list[list[tuple[int]]]\n",
    "        \"\"\"\n",
    "        return self.step(road_graph)\n",
    "        \n",
    "    def step(self, node):\n",
    "        \"\"\"\n",
    "        This method does one step in the depth-first search in the Manhattan grid.\n",
    "        One step consists of adding one coordinate (tuple) to the route and\n",
    "        generating all possible routes from this coordinate in the grid.\n",
    "\n",
    "        :param node: A Node, that contains the current coordinate in the grid.\n",
    "        :type node: Node\n",
    "        :return: All possible routes with this position as starting point.\n",
    "        :rtype: list[list[tuple[int]]]\n",
    "        \"\"\"\n",
    "        if not node.edges:\n",
    "            return [[node.info]]\n",
    "\n",
    "        paths = []\n",
    "        for edge in node.edges:\n",
    "            for path in self.next_step(edge):\n",
    "                paths.append([node.info] + path)\n",
    "\n",
    "        return paths\n",
    "\n",
    "    def next_step(self, node):\n",
    "        \"\"\"\n",
    "        Becaues, we are traversing the state-space graph itself explicitly, \n",
    "        there is nothing to do in next_step, as the next actions are encoded by the edges.\n",
    "\n",
    "        :param node: A Node, that contains the current coordinate in the grid.\n",
    "        :type node: Node\n",
    "        :return: This method returns what self.step returns\n",
    "        :rtype: list[list[tuple[int]]]\n",
    "        \"\"\"\n",
    "        return self.step(node)"
   ]
  },
  {
   "cell_type": "markdown",
   "id": "2375d372-24e5-48fb-8bb2-2ffe524d5156",
   "metadata": {
    "editable": false,
    "slideshow": {
     "slide_type": ""
    },
    "tags": []
   },
   "source": [
    "## Test your code\n",
    "\n",
    "Below, you can test your algorithm. Make sure that you test various road grids and that your algorithm works for all of them. To give you a head start, a simple one-block road network is provided. Also, check the difference between the two algorithms. Are the paths different? Does one generate more paths?"
   ]
  },
  {
   "cell_type": "code",
   "execution_count": 90,
   "id": "4ae185a9-32c8-4d5c-8840-b80d6ace77de",
   "metadata": {
    "editable": true,
    "slideshow": {
     "slide_type": ""
    },
    "tags": []
   },
   "outputs": [
    {
     "name": "stdout",
     "output_type": "stream",
     "text": [
      "[[(0, 0), (0, 5), (4, 5)], [(0, 0), (4, 0), (4, 5)]]\n",
      "[[(0, 0), (1, 0), (2, 0), (3, 0), (4, 0), (4, 1), (4, 2), (4, 3), (4, 4), (4, 5)], [(0, 0), (0, 1), (0, 2), (0, 3), (0, 4), (0, 5), (1, 5), (2, 5), (3, 5), (4, 5)]]\n"
     ]
    }
   ],
   "source": [
    "road_grid = np.array([\n",
    "    [1, 1, 1, 1, 1, 1],\n",
    "    [1, 0, 0, 0, 0, 1],\n",
    "    [1, 0, 0, 0, 0, 1],\n",
    "    [1, 0, 0, 0, 0, 1],\n",
    "    [1, 1, 1, 1, 1, 1],\n",
    "])\n",
    "\n",
    "road_graph = make_graph(road_grid)\n",
    "print(ManhattanProblemDepth()(road_graph))\n",
    "print(ManhattanProblem()(road_grid))"
   ]
  },
  {
   "cell_type": "markdown",
   "id": "c2f4c70f-e373-4a4a-8968-6c97ed022405",
   "metadata": {
    "editable": false,
    "slideshow": {
     "slide_type": ""
    },
    "tags": []
   },
   "source": [
    "## 3.3 Breadth-First Search on the Manhatten \n",
    "\n",
    "Now, that we have the road graph we can also apply a breadth-first search to it. \n",
    "\n",
    "### 3.3.1 Breadth-First Search Framework\n",
    "\n",
    "Often breadth-first search is implemented using a while loop and a queue. In each iteration, you explore all possible paths for each state in the queue. So, in contrast to depth-first search, we do not need any recursion. However, the recursion did a lot of \"remembering\" for us. Now, we really need to store all the information ourselves. Therefore, dividing your code into several methods is still good practice. Below, you can find a framework to do this.\n",
    "\n",
    "***Hint: deque (queue and stack) has special methods to make it function as a queue and stack compared to a normal list, see [documentation](https://docs.python.org/3/library/collections.html#collections.deque.append).***"
   ]
  },
  {
   "cell_type": "code",
   "execution_count": 91,
   "id": "a90cb8d4-fa75-4ec4-906b-754c71d5a0e9",
   "metadata": {
    "editable": false,
    "slideshow": {
     "slide_type": ""
    },
    "tags": []
   },
   "outputs": [],
   "source": [
    "class BreadthFirstSearchFramework():\n",
    "    def __call__(self, problem):      \n",
    "        \"\"\"\n",
    "        Here, you can initialize all variables to solve this problem.\n",
    "        You always need a queue and history. \n",
    "        However, it might also be useful to have another variable to store the end result.\n",
    "\n",
    "        The history can store only the nodes that you visited (thus a set) or store the nodes \n",
    "        that you visited and some information about them (thus a dictionary).\n",
    "        This information can be how you got here or the current cost, etc.\n",
    "        \"\"\" \n",
    "        self.queue = deque(...)  # propper datastructure, however, a list would work as well\n",
    "        self.history = {...}\n",
    "        self.store_result = ...\n",
    "\n",
    "        # call the main loop\n",
    "        self.main_loop(...)\n",
    "\n",
    "        # return the answer(s)\n",
    "        return self.store_result\n",
    "\n",
    "    def main_loop(self, args):\n",
    "        \"\"\"\n",
    "        This method \"controls\" the breadth-first search.\n",
    "        Here, you loop through the queue and each iteration.\n",
    "        you check for the base case (end node) and \n",
    "        take the steps that you can take from this node.\n",
    "        \"\"\"\n",
    "        # keep going through the queue until ...\n",
    "            # pop the first item\n",
    "            \n",
    "            # check base case\n",
    "            \n",
    "            # Loop through all actions and take these steps\n",
    "            # for action in self.next_step():\n",
    "            #     ...\n",
    "\n",
    "    def base_case(self, args):\n",
    "        \"\"\"\n",
    "        Here, you can check if you are in the base case or a final node.\n",
    "        If so do the necessary steps. Depending on the problem you can either\n",
    "        return if you found the base case or not return anything.\n",
    "        This could help control if you to stop searching or not.\n",
    "        \"\"\"\n",
    "        if ...:\n",
    "            # Do base case action\n",
    "            ...\n",
    "\n",
    "        # Possibly return something\n",
    "        return ...\n",
    "\n",
    "    def step(self, args):\n",
    "        \"\"\"\n",
    "        Here, you can write code to take one step.\n",
    "\n",
    "        Often a step involves checking if you already visited the node and\n",
    "        depending on the answer do something else. For example, often if you \n",
    "        already visited the node you do not add it again to the queue, however,\n",
    "        you might want to do something with the history (if you store additional information in it).\n",
    "        \"\"\"\n",
    "        if ...:\n",
    "            # append node to queue\n",
    "            ...\n",
    "            \n",
    "            # update history\n",
    "            self.update_history(...)\n",
    "        else:\n",
    "            # update history (optional)\n",
    "            self.update_history(...)\n",
    "\n",
    "    def next_step(self, args):\n",
    "        \"\"\"\n",
    "        Similar to depth-first search if it is not trivial what the next actions are\n",
    "        it is good to make a separate method for them.\n",
    "        \"\"\"\n",
    "        # Gather possible action given the current state\n",
    "        ...\n",
    "\n",
    "    def update_history(self, args):\n",
    "        \"\"\"\n",
    "        If you have a more complex history then just the set of nodes you visited.\n",
    "        It might help to have a separate method to handle the history.\n",
    "        \"\"\"\n",
    "        # update or set the history\n",
    "        ...\n",
    "    "
   ]
  },
  {
   "cell_type": "code",
   "execution_count": 113,
   "id": "0136b0d1-6413-440d-ace8-ff4b4a9b3c4b",
   "metadata": {
    "editable": true,
    "slideshow": {
     "slide_type": ""
    },
    "tags": []
   },
   "outputs": [
    {
     "name": "stdout",
     "output_type": "stream",
     "text": [
      "Replace existing code exercise4_4003748_notebook.py\n"
     ]
    }
   ],
   "source": [
    "%%execwritefile exercise4_{student}_notebook.py 37 -a -s\n",
    "\n",
    "class ManhattanProblemBreadth():   \n",
    "    def __call__(self, road_graph):      \n",
    "        \"\"\"\n",
    "        This method gives all the fastest routes through this part of Manhattan.\n",
    "        You start with the first node `road_graph` and you end if you are at the end node.\n",
    "        You can assume there are no dead ends in the graph.\n",
    "\n",
    "        Hint: The history is already given as a dictionary with as keys all the nodes in the state-space graph and\n",
    "        as values all possible routes that lead to this node.\n",
    "\n",
    "        This class instance should at least contain the following attributes after being called:\n",
    "            :param queue: A queue that contains all the nodes that need to be visited.\n",
    "            :type queue: collections.deque\n",
    "            :param history: A dictionary containing the nodes that are visited and all routes that lead to that node.\n",
    "            :type history: dict[Node, set[tuple[tuple]]]\n",
    "\n",
    "        :param road_graph: The start Node of the graph.\n",
    "        :type road_graph: Node\n",
    "        :return: A list with all possible routes, where a route consists of a list of coordinates.\n",
    "        :rtype: list[list[tuple[int]]]\n",
    "        \"\"\"\n",
    "        self.queue = deque([road_graph])  # propper datastructure, however, a list would work as well\n",
    "        self.history = {road_graph: {(road_graph.info,)}}\n",
    "        self.final_node = None\n",
    "        self.main_loop()\n",
    "        output_list = sorted(list(self.history[self.final_node]))\n",
    "        # output_list = self.history[self.final_node]\n",
    "        new_list = [list(path) for path in output_list]\n",
    "        return new_list\n",
    "\n",
    "    def main_loop(self):\n",
    "        \"\"\"\n",
    "        This method contains the logic of the breadth-first search for the Manhattan problem.\n",
    "\n",
    "        It does not have any inputs nor outputs. \n",
    "        Hint, use object attributes to store results.\n",
    "        \"\"\"\n",
    "        while self.queue:\n",
    "            current_node = self.queue.popleft()\n",
    "            if self.base_case(current_node):\n",
    "                 continue\n",
    "            for sub_node in self.next_step(current_node):\n",
    "                self.step(current_node, sub_node)\n",
    "\n",
    "            \n",
    "\n",
    "    def base_case(self, node):\n",
    "        \"\"\"\n",
    "        This method checks if the current node is the base code, i.e., final node.\n",
    "\n",
    "        :param node: The current node\n",
    "        :type node: Node\n",
    "        \"\"\"\n",
    "\n",
    "        if not node.edges:\n",
    "            self.final_node = node\n",
    "            return True\n",
    "        \n",
    "        return False\n",
    "            \n",
    "    def step(self, node, new_node):\n",
    "        \"\"\"\n",
    "        One breadth-first search step.\n",
    "        Here, you add new nodes to the queue and update the history.\n",
    "\n",
    "        :param node: The current node\n",
    "        :type node: Node\n",
    "        :param new_node: The next node that can be visited from the current node\n",
    "        :type new_node: Node        \n",
    "        \"\"\"\n",
    "        if node not in self.queue:\n",
    "            self.queue.append(new_node)\n",
    "            self.update_history(node, new_node)\n",
    "\n",
    "\n",
    "    def next_step(self, node):\n",
    "        \"\"\"\n",
    "        This method returns the next possible actions.\n",
    "\n",
    "        :param node: The current node\n",
    "        :type node: Node\n",
    "        :return: A list with possible next nodes that can be visited from the current node.\n",
    "        :rtype: list[Node]  \n",
    "        \"\"\"\n",
    "        return node.edges\n",
    "\n",
    "    def update_history(self, node, new_node):\n",
    "        \"\"\"\n",
    "        For more complex histories it is good to have a separate method to \n",
    "        set or update the history.\n",
    "        \n",
    "        :param node: The current node\n",
    "        :type node: Node\n",
    "        :param new_node: The next node that can be visited from the current node\n",
    "        :type new_node: Node    \n",
    "        \"\"\"\n",
    "        if new_node not in self.history.keys():\n",
    "            self.history[new_node] = set()\n",
    "        for path in self.history[node]: \n",
    "            self.history[new_node].add(path + (new_node.info,))\n",
    "            # self.history[new_node]\n",
    "    \n"
   ]
  },
  {
   "cell_type": "markdown",
   "id": "45411f48-1820-4318-bfdd-bc4737f4758d",
   "metadata": {
    "editable": false,
    "slideshow": {
     "slide_type": ""
    },
    "tags": []
   },
   "source": [
    "## Test your code\n",
    "\n",
    "Below, you can test your algorithm. Make sure that you test various road grids and that your algorithm works for all of them. To give you a head start, a simple one-block road network is provided. Also, check the difference between the three algorithms. Are the paths different? Does one generate more paths?"
   ]
  },
  {
   "cell_type": "code",
   "execution_count": 114,
   "id": "c9e5b5cd-70cb-47b8-b7d6-82157c5e9a80",
   "metadata": {},
   "outputs": [
    {
     "name": "stdout",
     "output_type": "stream",
     "text": [
      "[[(0, 0), (0, 5), (0, 8), (0, 12), (4, 12), (8, 12)], [(0, 0), (0, 5), (0, 8), (4, 8), (4, 12), (8, 12)], [(0, 0), (0, 5), (0, 8), (4, 8), (8, 8), (8, 12)], [(0, 0), (0, 5), (4, 5), (4, 8), (4, 12), (8, 12)], [(0, 0), (0, 5), (4, 5), (4, 8), (8, 8), (8, 12)], [(0, 0), (0, 5), (4, 5), (8, 5), (8, 8), (8, 12)], [(0, 0), (4, 0), (4, 5), (4, 8), (4, 12), (8, 12)], [(0, 0), (4, 0), (4, 5), (4, 8), (8, 8), (8, 12)], [(0, 0), (4, 0), (4, 5), (8, 5), (8, 8), (8, 12)], [(0, 0), (4, 0), (8, 0), (8, 5), (8, 8), (8, 12)]]\n"
     ]
    }
   ],
   "source": [
    "road_grid = np.array([\n",
    "    [1, 1, 1, 1, 1, 1, 1, 1, 1, 1, 1, 1, 1],\n",
    "    [1, 0, 0, 0, 0, 1, 0, 0, 1, 0, 0, 0, 1],\n",
    "    [1, 0, 0, 0, 0, 1, 0, 0, 1, 0, 0, 0, 1],\n",
    "    [1, 0, 0, 0, 0, 1, 0, 0, 1, 0, 0, 0, 1],\n",
    "    [1, 1, 1, 1, 1, 1, 1, 1, 1, 1, 1, 1, 1],\n",
    "    [1, 0, 0, 0, 0, 1, 0, 0, 1, 0, 0, 0, 1],\n",
    "    [1, 0, 0, 0, 0, 1, 0, 0, 1, 0, 0, 0, 1],\n",
    "    [1, 0, 0, 0, 0, 1, 0, 0, 1, 0, 0, 0, 1],\n",
    "    [1, 1, 1, 1, 1, 1, 1, 1, 1, 1, 1, 1, 1],\n",
    "])\n",
    "\n",
    "road_graph = make_graph(road_grid)\n",
    "print(ManhattanProblemBreadth()(road_graph))\n",
    "# for route in ManhattanProblemBreadth()(road_graph):\n",
    "#     print(route)\n",
    "# for route in ManhattanProblemDepth()(road_graph):\n",
    "#     print(route)\n",
    "# for route in ManhattanProblem()(road_grid):\n",
    "#     print(route)"
   ]
  },
  {
   "cell_type": "markdown",
   "id": "5414a481-dab9-4b83-9786-701a8f91bf47",
   "metadata": {
    "editable": false,
    "slideshow": {
     "slide_type": ""
    },
    "tags": []
   },
   "source": [
    "# 4.0 Tower of Hanoi\n",
    "\n",
    "## ***All exercises below are additional content for extra practice, they only count for a small percentage of the bonus (TestExpert). So, you can skip to section [5.0 Unittests](#5.0-UNITTESTS) if you do not want to do these exercises.***\n",
    "\n",
    "In Introduction To Programming, we have seen an algorithm to solve the tower of Hanoi which does not use the state-spaces but generates a series of instructions how you can solve any tower as fast as possible, see [link](https://joshhug.github.io/LeidenITP/labs/lab10/#exercise-7-tower-of-hanoi-challenge-hard-or-very-hard) for an explanation how this fast approach works. However, this is not an easy algorithm to come up with. Often the fastest algorithm to solve a problem is unknown which means that we need to use search algorithms. Therefore, we will implement a depth-first search and breadth-first search to solve the Tower of Hanoi. To make it a bit easier we only consider actions that generate correct state-spaces and we are not interested in the fastest path to solve the problem. So, any path that leads to a correct solution is good. Below, you can see the state-space of the tower of Hanoi with 3 disks if you only allow valid actions.\n",
    "\n",
    "<img src=\"hanoi.png\" alt=\"drawing\" width=\"600\"/>\n",
    "\n",
    "As you can see, this state-space has a lot of cycles in the solution graph. Finding a correct solution path in a cyclic state-space graph is much harder than in a state-space that is a tree or at least an acyclic graph. The reason is that you can keep taking actions that leads you in circles and you never reach an end node. One way to solve this problem is to remember which state you already visited and discard any path that visited a state more than once.\n",
    "\n",
    "## 4.1 Tower of Hanoi Fast Algorithm (no search)\n",
    "\n",
    "Let's first implement the Fast algorithm, such that we have a way to know for any problem size (number of disks) what the best solution path is, see [link](https://joshhug.github.io/LeidenITP/labs/lab10/#exercise-7-tower-of-hanoi-challenge-hard-or-very-hard) for explanation. Note, that this algorithms does not search through the tree because the first recursive step just assumes that it can find a solution to move a tower with size n-1. The state-spaces that are visited in the first recursive step can be visualized as seen below.\n",
    "\n",
    "<img src=\"hanoi_fast.png\" alt=\"drawing\" width=\"600\"/>\n"
   ]
  },
  {
   "cell_type": "code",
   "execution_count": 94,
   "id": "f563cb88-13a5-42b6-bb1f-6238b38dc81e",
   "metadata": {
    "editable": true,
    "slideshow": {
     "slide_type": ""
    },
    "tags": []
   },
   "outputs": [
    {
     "name": "stdout",
     "output_type": "stream",
     "text": [
      "Appending to exercise4_4003748_notebook.py\n"
     ]
    }
   ],
   "source": [
    "%%execwritefile exercise4_{student}_notebook.py 40 -a -s\n",
    "\n",
    "class TowerOfHanoiFast():\n",
    "    def __call__(self, n):\n",
    "        \"\"\"\n",
    "        This method solves the tower of Hanoi according to the fast algorithm.\n",
    "        The output should be a list containing all the moves to solve the problem.\n",
    "        A move is a tuple with two integers containing from which rod to which rod.\n",
    "        For example, move (0,2) is place the top disk of rod 0 onto rod 2.\n",
    "        Also, the attribute towers should contain the end solution where all disks are \n",
    "        in the correct order on rod 2.\n",
    "\n",
    "        This class instance should at least contain the following attributes after being called:\n",
    "            :param tower: A tuple with the tree rods each rod is represented by a list \n",
    "                          with integers where the integer is the size of the disk.\n",
    "            :type tower: tuple[list[int]]\n",
    "\n",
    "        Hint 1: It might be easier to first generate the moves and then apply them to the towers.\n",
    "        Hint 2: The argument \"n\" is not needed for the algorithm but can help. \n",
    "                It is however needed if you do hint 1.\n",
    "\n",
    "        :param n: This is the height of the tower, i.e., the number of disks.\n",
    "        :type n: int\n",
    "        :return: A list containing all the moves to solve the tower of Hanoi with n disks.\n",
    "        :rtype: list[tuple[int]]\n",
    "        \"\"\"\n",
    "        self.towers = (list(range(n, 0, -1)), [], [])\n",
    "\n",
    "        raise NotImplementedError(\"Please complete this method\")\n",
    "\n",
    "    def step(self, source, aux, dest, n=0):\n",
    "        \"\"\"\n",
    "        This method can be used as the recursive part of the algorithm\n",
    "\n",
    "        :param source: The rod that has the current (sub)tower that needs to be moved.\n",
    "        :type source: int\n",
    "        :param aux: The auxiliary rod that can be used to transfer all disks to the destination rod.\n",
    "        :type aux: int\n",
    "        :param dest: The destination rod where the (sub)tower needs to go.\n",
    "        :type dest: int\n",
    "        :param n: The height of the current tower that is moved, default to 0.\n",
    "        :type n: int, optional\n",
    "        \"\"\"\n",
    "        raise NotImplementedError(\"Please complete this method\")"
   ]
  },
  {
   "cell_type": "markdown",
   "id": "c3cbc252-12d6-4207-81b9-a0b214c98396",
   "metadata": {
    "editable": false,
    "slideshow": {
     "slide_type": ""
    },
    "tags": []
   },
   "source": [
    "## Test your code\n",
    "\n",
    "Below, you can test your algorithm. Make sure that you test various numbers of disks and that your algorithm works for all of them. To give you a head start, the tower of Hanoi with 3 disks is provided."
   ]
  },
  {
   "cell_type": "code",
   "execution_count": 95,
   "id": "4427bec8-5d91-4d3a-af98-16c5267b9262",
   "metadata": {},
   "outputs": [
    {
     "ename": "NotImplementedError",
     "evalue": "Please complete this method",
     "output_type": "error",
     "traceback": [
      "\u001b[1;31m---------------------------------------------------------------------------\u001b[0m",
      "\u001b[1;31mNotImplementedError\u001b[0m                       Traceback (most recent call last)",
      "Cell \u001b[1;32mIn[95], line 1\u001b[0m\n\u001b[1;32m----> 1\u001b[0m moves \u001b[38;5;241m=\u001b[39m TowerOfHanoiFast()(\u001b[38;5;241m3\u001b[39m)\n\u001b[0;32m      2\u001b[0m moves, \u001b[38;5;28mlen\u001b[39m(moves)\n",
      "Cell \u001b[1;32mIn[94], line 27\u001b[0m, in \u001b[0;36mTowerOfHanoiFast.__call__\u001b[1;34m(self, n)\u001b[0m\n\u001b[0;32m      3\u001b[0m \u001b[38;5;250m\u001b[39m\u001b[38;5;124;03m\"\"\"\u001b[39;00m\n\u001b[0;32m      4\u001b[0m \u001b[38;5;124;03mThis method solves the tower of Hanoi according to the fast algorithm.\u001b[39;00m\n\u001b[0;32m      5\u001b[0m \u001b[38;5;124;03mThe output should be a list containing all the moves to solve the problem.\u001b[39;00m\n\u001b[1;32m   (...)\u001b[0m\n\u001b[0;32m     23\u001b[0m \u001b[38;5;124;03m:rtype: list[tuple[int]]\u001b[39;00m\n\u001b[0;32m     24\u001b[0m \u001b[38;5;124;03m\"\"\"\u001b[39;00m\n\u001b[0;32m     25\u001b[0m \u001b[38;5;28mself\u001b[39m\u001b[38;5;241m.\u001b[39mtowers \u001b[38;5;241m=\u001b[39m (\u001b[38;5;28mlist\u001b[39m(\u001b[38;5;28mrange\u001b[39m(n, \u001b[38;5;241m0\u001b[39m, \u001b[38;5;241m-\u001b[39m\u001b[38;5;241m1\u001b[39m)), [], [])\n\u001b[1;32m---> 27\u001b[0m \u001b[38;5;28;01mraise\u001b[39;00m \u001b[38;5;167;01mNotImplementedError\u001b[39;00m(\u001b[38;5;124m\"\u001b[39m\u001b[38;5;124mPlease complete this method\u001b[39m\u001b[38;5;124m\"\u001b[39m)\n",
      "\u001b[1;31mNotImplementedError\u001b[0m: Please complete this method"
     ]
    }
   ],
   "source": [
    "moves = TowerOfHanoiFast()(3)\n",
    "moves, len(moves)"
   ]
  },
  {
   "cell_type": "markdown",
   "id": "adf500f1-8412-4869-9b14-35dc29ebb63d",
   "metadata": {
    "editable": false,
    "slideshow": {
     "slide_type": ""
    },
    "tags": []
   },
   "source": [
    "## 4.2 Tower of Hanoit Depth-First Search\n",
    "\n",
    "Here, we will implement a depth-first search algorithm to traverse the state-space of any tower of Hanoi problem. There is a new problem when traversing the state-space of a tower of Hanoi problem because we can go in circles as the graph is cyclic. This can also be seen in the state-space images of the tower of Hanoi. One way of solving this problem is to add some kind of memory to the depth-first-search algorithm that prevents us from walking in circles. The easiest way to accomplish this is to have a new attribute that stores which states are already visited and when you come across a state you already visited you just go back and don't continue exploring. This problem is similar to the breadth-first search history problem.\n",
    "\n",
    "The possible actions for each state-space are given in the class attribute `possible_action`. The path you will find with depth-first search given this order does not give the optimal solution. Is there an order of `possible_action` actions that leads to the optimal solution? Below, you can see the solution you should find when using the given order of possible actions.\n",
    "\n",
    "<img src=\"hanoi_depth.png\" alt=\"drawing\" width=\"600\"/>\n",
    "\n",
    "***Before, you start programming think about a pseudo algorithm that could traverse the state-space of a tower of Hanoi with 3 disks as shown above.***"
   ]
  },
  {
   "cell_type": "code",
   "execution_count": null,
   "id": "1fdc0cd7-ae28-46d5-bc8b-f92bc1ba7c6b",
   "metadata": {
    "editable": true,
    "slideshow": {
     "slide_type": ""
    },
    "tags": []
   },
   "outputs": [],
   "source": [
    "%%execwritefile exercise4_{student}_notebook.py 44 -a -s\n",
    "\n",
    "class TowerOfHanoiDepth():\n",
    "    # All possible actions for any tower of Hanoi State-space\n",
    "    possible_actions = [(0, 1), \n",
    "                        (0, 2), \n",
    "                        (1, 2), \n",
    "                        (2, 1), \n",
    "                        (1, 0), \n",
    "                        (2, 0)] \n",
    "\n",
    "    def __call__(self, n):\n",
    "        \"\"\"\n",
    "        This method uses depth-first search to find a solution to solve the tower of Hanoi.\n",
    "        The output should be a list containing all the moves to solve the problem.\n",
    "        A move is a tuple with two integers containing from which rod to which rod.\n",
    "        For example, move (0,2) is place the top disk of rod 0 onto rod 2.\n",
    "        Also, the attribute towers should contain the end solution where all disks are \n",
    "        in the correct order on rod 2.\n",
    "\n",
    "        This class instance should at least contain the following attributes after being called:\n",
    "            :param tower: A tuple with the tree rods each rod is represented by a list \n",
    "                          with integers where the integer is the size of the disk.\n",
    "            :type tower: tuple[list[int]]\n",
    "            :param moves: A list with all the moves to solve the problem\n",
    "            :typem moves: list[tuple[int]]\n",
    "            :param history: A set containing all states that are already visited.\n",
    "            :type history: set[tuple[tuple[int]]]\n",
    "\n",
    "        :param n: This is the height of the tower, i.e., the number of disks.\n",
    "        :type n: int\n",
    "        :return: A list containing all the moves to solve the tower of Hanoi with n disks.\n",
    "        :rtype: list[tuple[int]]\n",
    "        \"\"\"\n",
    "        self.moves = []  # a list to store the moves\n",
    "        self.towers = (list(range(n, 0, -1)), [], [])\n",
    "        self.history = {self.to_hashable_state(self.towers)}\n",
    "        self.next_step()  # we first need the know which the next actions can be before we can take a step\n",
    "        return self.moves\n",
    "\n",
    "    @staticmethod\n",
    "    def to_hashable_state(state):\n",
    "        \"\"\"\n",
    "        This method makes a state into a hashable object.\n",
    "        \n",
    "        As we have seen last week sets can quickly find objects.\n",
    "        However, to do this these objects must be hashable.\n",
    "        A simple rule to know if a type is hashable is to ask if it is immutable,\n",
    "        if not then often it is also not hashable because if you change the value\n",
    "        the output of the hash function would also change.\n",
    "\n",
    "        :param state: A current state of the tower of Hanoi problem, i.e., the current rod disk configuration.\n",
    "        :type state: tuple[list[int]]\n",
    "        :return: A state space that is hashable. In this case, also immutable.\n",
    "        :rtype: tuple[tuple[int]]\n",
    "        \"\"\"\n",
    "        raise NotImplementedError(\"Please complete this method\")        \n",
    "\n",
    "    def step(self, actions):\n",
    "        \"\"\"\n",
    "        One step in the recursive depth-first search algorithm.\n",
    "\n",
    "        Hint1: Do not forget to check if state has already been visited and \n",
    "               update the history as needed.\n",
    "        Hint2: You only need to find one path, so as long as the path is correct\n",
    "               you do not to explore any more possible actions.\n",
    "\n",
    "        :param actions: A set of correct actions that can taken from this state.\n",
    "        :type actions: list[tuple[int]]\n",
    "        :return: If the current step is correct or not\n",
    "        :rtype: boolean\n",
    "        \"\"\"\n",
    "        raise NotImplementedError(\"Please complete this method\")\n",
    "    \n",
    "    def next_step(self):\n",
    "        \"\"\"\n",
    "        This method helps us determine the next set of correct actions.\n",
    "        This set of correct actions should be a subset of the class attribute `possible_actions`.\n",
    "\n",
    "        :return: If the current step is correct or not\n",
    "        :rtype: boolean\n",
    "        \"\"\"\n",
    "        raise NotImplementedError(\"Please complete this method\")\n",
    "\n",
    "    def do_move(self, action):\n",
    "        \"\"\"\n",
    "        This is a helper method that does one move.\n",
    "        One move consists of changing one disk from one rod to another and\n",
    "        to save it the move.\n",
    "        \n",
    "        :param action: A correct action that is taken from this state.\n",
    "        :type action: tuple[int]\n",
    "        \"\"\"\n",
    "        raise NotImplementedError(\"Please complete this method\")\n",
    "\n",
    "    def clean_up(self, action):\n",
    "        \"\"\"\n",
    "        Clean up the previous move, if the current action taken does not lead to a correct solution.\n",
    "        For example, you got stuck because there are no moves that go to a state that is not visited.\n",
    "\n",
    "        :param action: A correct action that is taken from this state.\n",
    "        :type action: tuple[int]\n",
    "        \"\"\"\n",
    "        raise NotImplementedError(\"Please complete this method\")"
   ]
  },
  {
   "cell_type": "markdown",
   "id": "cda22dd4-e041-44f3-acac-56b84a076976",
   "metadata": {
    "editable": false,
    "slideshow": {
     "slide_type": ""
    },
    "tags": []
   },
   "source": [
    "## Test your code\n",
    "\n",
    "Below, you can test your algorithm. Make sure that you test various numbers of disks and that your algorithm works for all of them. To give you a head start, the tower of Hanoi with 3 disks is provided."
   ]
  },
  {
   "cell_type": "code",
   "execution_count": null,
   "id": "ad9fa7a2-a21b-4927-9223-dfc108c5e39e",
   "metadata": {},
   "outputs": [],
   "source": [
    "moves = TowerOfHanoiDepth()(3)\n",
    "moves, len(moves)"
   ]
  },
  {
   "cell_type": "markdown",
   "id": "be71c0cd-620c-4dca-99bb-f240590f8900",
   "metadata": {
    "editable": false,
    "slideshow": {
     "slide_type": ""
    },
    "tags": []
   },
   "source": [
    "## 4.3 Tower of Hanoi Breadth-First Search\n",
    "\n",
    "Here, we will implement a breadth-first search algorithm for the tower of Hanoi. Similar to the Manhattan problem, we need to store not only the visited states but also the path that was taken. However, this time it is a little bit easier as we are only interested in one solution. Therefore each history only contains one path. Before, with the depth-first search algorithm, we saw that no possible order of action could lead to the optimal path. Before you run the algorithm think about whether breadth-first search always, sometimes, or never finds the optimal solution. In the image below, we indicated the first three layers of the depth-first search algorithm, to help you understand how breadth-first search works on this state-space.\n",
    "\n",
    "<img src=\"hanoi_breadth.png\" alt=\"drawing\" width=\"800\"/>\n",
    "\n",
    "***Before, you start programming think about a pseudo algorithm that could traverse the state-space of a tower of Hanoi with 3 disks as shown above.***"
   ]
  },
  {
   "cell_type": "code",
   "execution_count": null,
   "id": "56a61579-a192-4eb9-8366-7636d2a3b57b",
   "metadata": {
    "editable": true,
    "slideshow": {
     "slide_type": ""
    },
    "tags": []
   },
   "outputs": [],
   "source": [
    "%%execwritefile exercise4_{student}_notebook.py 48 -a -s\n",
    "\n",
    "class TowerOfHanoiBreadth():   \n",
    "    # All possible actions for any tower of Hanoi State-space\n",
    "    possible_actions = [(0, 1), \n",
    "                        (0, 2), \n",
    "                        (1, 2), \n",
    "                        (2, 1), \n",
    "                        (1, 0), \n",
    "                        (2, 0)] \n",
    "\n",
    "    def __call__(self, n):      \n",
    "        \"\"\"\n",
    "        This method uses breadth-first search to find a solution to solve the tower of Hanoi.\n",
    "        The output should be a list containing all the moves to solve the problem.\n",
    "        A move is a tuple with two integers containing from which rod to which rod.\n",
    "        For example, move (0,2) is place the top disk of rod 0 onto rod 2.\n",
    "        Also, the attribute towers should contain the end solution where all disks are \n",
    "        in the correct order on rod 2.\n",
    "\n",
    "        This class instance should at least contain the following attributes after being called:\n",
    "            :param moves: A list with all the moves to solve the problem\n",
    "            :typem moves: list[tuple[int]]\n",
    "            :param history: A dictionary containing all states that are already visited as keys \n",
    "                            and with the values the moves to get there.\n",
    "            :type history: dict[tuple[tuple[int]], list[tuple[int]]]\n",
    "\n",
    "        :param n: This is the height of the tower, i.e., the number of disks.\n",
    "        :type n: int\n",
    "        :return: A list containing all the moves to solve the tower of Hanoi with n disks.\n",
    "        :rtype: list[tuple[int]]\n",
    "        \"\"\"\n",
    "        towers = (list(range(n, 0, -1)), [], [])\n",
    "        self.queue = deque([copy.deepcopy(towers)])  # propper datastructure, however, a list would work as well\n",
    "        self.history = {self.to_hashable_state(towers): []}\n",
    "        \n",
    "        raise NotImplementedError(\"Please complete this method\")\n",
    "\n",
    "    def main_loop(self):\n",
    "        \"\"\"\n",
    "        This method contains the logic of the breadth-first search for the towers of Hanoi problem.\n",
    "\n",
    "        It does not have any inputs nor outputs. \n",
    "        Hint, use object attributes to store results.\n",
    "        \"\"\"\n",
    "        raise NotImplementedError(\"Please complete this method\")\n",
    "\n",
    "    @staticmethod\n",
    "    def to_hashable_state(towers):\n",
    "        \"\"\"\n",
    "        This method makes a state into a hashable object.\n",
    "        \n",
    "        As we have seen last week sets can quickly find objects.\n",
    "        However, to do this these objects must be hashable.\n",
    "        A simple rule to know if a type is hashable is to ask if it is immutable,\n",
    "        if not then often it is also not hashable because if you change the value\n",
    "        the output of the hash function would also change.\n",
    "\n",
    "        :param towers: A current state of the tower of Hanoi problem, i.e., the current rod disk configuration.\n",
    "        :type towers: tuple[list[int]]\n",
    "        :return: A state space that is hashable. In this case, also immutable.\n",
    "        :rtype: tuple[tuple[int]]\n",
    "        \"\"\"\n",
    "        raise NotImplementedError(\"Please complete this method\")\n",
    "    \n",
    "    def base_case(self, towers):\n",
    "        \"\"\"\n",
    "        This method checks if the current state is the final state, where\n",
    "        all disks are on the last rod in the correct order.\n",
    "\n",
    "        :param tower: A tuple with the tree rods each rod is represented by a list \n",
    "                      with integers where the integer is the size of the disk.\n",
    "        :type tower: tuple[list[int]]\n",
    "        \"\"\"\n",
    "        raise NotImplementedError(\"Please complete this method\")\n",
    "\n",
    "    def step(self, towers, action):\n",
    "        \"\"\"\n",
    "        One breadth-first search step.\n",
    "        Here, you add new states to the queue, and update the history.\n",
    "\n",
    "        Hint: To create a new state, you need to make a copy of the current towers and\n",
    "              then adjust them otherwise the towers for all states are adjusted.\n",
    "        \n",
    "        :param tower: A tuple with the tree rods each rod is represented by a list \n",
    "                      with integers where the integer is the size of the disk.\n",
    "        :type tower: tuple[list[int]]\n",
    "        :param action: A correct action that is taken from this state.\n",
    "        :type action: tuple[int]\n",
    "        \"\"\"\n",
    "        raise NotImplementedError(\"Please complete this method\")\n",
    "\n",
    "    def next_step(self, towers):\n",
    "        \"\"\"\n",
    "        This method helps us determine the next set of correct actions.\n",
    "        This set of correct actions should be a subset of the class attribute `possible_actions`.\n",
    "        \n",
    "        :param tower: A tuple with the tree rods each rod is represented by a list \n",
    "                      with integers where the integer is the size of the disk.\n",
    "        :type tower: tuple[list[int]]\n",
    "        :return: The list of possible next actions\n",
    "        :rtype: list[tuple[int]\n",
    "        \"\"\"\n",
    "        raise NotImplementedError(\"Please complete this method\")"
   ]
  },
  {
   "cell_type": "markdown",
   "id": "9c6ec63f-c4af-470f-b51d-42bfd783b160",
   "metadata": {
    "editable": false,
    "slideshow": {
     "slide_type": ""
    },
    "tags": []
   },
   "source": [
    "## Test your code\n",
    "\n",
    "Below, you can test your algorithm. Make sure that you test various numbers of disks and that your algorithm works for all of them. To give you a head start, the tower of Hanoi with 3 disks is provided."
   ]
  },
  {
   "cell_type": "code",
   "execution_count": null,
   "id": "2faa5dfa-a0d5-4914-818a-4b9d1910d542",
   "metadata": {},
   "outputs": [],
   "source": [
    "moves = TowerOfHanoiBreadth()(3)\n",
    "moves, len(moves)"
   ]
  },
  {
   "cell_type": "markdown",
   "id": "2c3e25e3",
   "metadata": {
    "editable": false,
    "slideshow": {
     "slide_type": ""
    },
    "tags": []
   },
   "source": [
    "# 5.0 UNITTESTS\n",
    "\n",
    "During this assignment, we copied all your code to the following **.py** file **\"exercise4_{student}_notebook.py\"**. You also tested your code along the way. However, it is possible that there are still a few errors. Therefore, it is good to run some unittest when you complete all coding. This gives you an extra chance to spot mistakes. Here, we added some unittest for you to use. Note, that they are merely a check to see if your **.py** is correct.\n",
    "\n",
    "From this point onwards we strongly advise renaming the **\"exercise4_{student}_notebook.py\"** file to the correct file name that you need to hand in **\"exercise4_{student}.py\"**. Now, you can adjust the **\"exercise4_{student}.py\"** file without the risk of overwriting it when you run the notebook again. This also enables the possibility to run the unittests. Note, that from now on if you make a change in the Python file and you want to go back to the notebook later that you also make this change in the notebook. To run the unittests go to the **\"unit_test.py\"** file and run the file in either PyCharm, VSCode, or a terminal. You can run it in a terminal using the following command: `python -m unittest --verbose unit_test.py`. `--verbose` is optional but gives you more details about which tests fail and which succeed.\n",
    "\n",
    "You are allowed to add your own unittests. \n",
    "\n",
    "## Uploading to Brightspace for Bonus\n",
    "\n",
    "Next, you can upload your Python file with the correct name on brightspace in the bonus assignment. Follow the instructions on this brightspace page carefully to have a successful submission. After you get the feedback for this exercise you can either continue working in the Python file to fix possible bugs or you can go back to the notebook and remake the Python file. ***Please be careful, do not update your code in both the Python file and notebook at the same time!***. If you go back to the notebook do not forget to update the notebook with any changes you made within the Python file. In this case, it is best to just delete the Python file as soon as you copied all changes.\n",
    "\n",
    "***NOTE, that you can now also upload the exercises from week 1! The process is exactly the same only there is no unittest.***"
   ]
  },
  {
   "cell_type": "code",
   "execution_count": null,
   "id": "83fd0eaa-fd1f-4c1c-b51b-0f27825e8998",
   "metadata": {
    "editable": false,
    "slideshow": {
     "slide_type": ""
    },
    "tags": []
   },
   "outputs": [],
   "source": []
  }
 ],
 "metadata": {
  "kernelspec": {
   "display_name": "Python 3 (ipykernel)",
   "language": "python",
   "name": "python3"
  },
  "language_info": {
   "codemirror_mode": {
    "name": "ipython",
    "version": 3
   },
   "file_extension": ".py",
   "mimetype": "text/x-python",
   "name": "python",
   "nbconvert_exporter": "python",
   "pygments_lexer": "ipython3",
   "version": "3.11.4"
  }
 },
 "nbformat": 4,
 "nbformat_minor": 5
}
