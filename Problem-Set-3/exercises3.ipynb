{
 "cells": [
  {
   "cell_type": "markdown",
   "id": "23475a6f",
   "metadata": {
    "editable": false,
    "slideshow": {
     "slide_type": ""
    },
    "tags": []
   },
   "source": [
    "# Welcome to Week 3: Linked List & complexity\n",
    "\n",
    "In this week's programming exercise, you will be working on implementing various linked list classes in Python, coding various algorithms, and checking if you can notice the difference in complexity. Throughout the exercise, you will be extending the classes by completing code stubs in their respective cells. You do not need to copy the code, it is enough to work in the cell under each exercise. Note that there are separate cells provided where you can (and should) test your code. During the exercises, you will (through customMagics) obtain a Python file (.py) which you should run against a set of unittests. Please avoid writing any unnecessary code in cells containing the `%%execwritefile` command. Doing this could alter the file `.py` and make it syntactically incorrect or interfere with the unittests. To prevent this stick to the following rules:'\n",
    " - ***Do not remove cells that start with ``%%execwritefile`` and do not remove that line.***\n",
    " - If a cell contains a `%%execwritefile` command at the top and a class definition you need to complete the given methods and adding helper methods is allowed, but do **not** add new functions or Python script to the cells (like global variables).\n",
    " - If a cell contains a `%%execwritefile` command at the top and **not** a class definition you must complete the given functions and you are free to add helper functions, new classes, and Python script that contains for example global variables. Note, that the use of global variables is almost always wrong except for a few use cases such as RNG for the numpy random generator methods.\n",
    " - If a cell does **not** contain a `%%execwritefile` command you can plot things, print variables, and write test cases. Here, you are free to do whatever you want.\n",
    " - If a cell does **not** contain a `%%execwritefile` command it should not contain functional code that is needed to run other functions or classes. The reason is that it is not copied to the `.py`. So, it can not be used during the unittesting.\n",
    "\n",
    "You do not need to look at the `customMagic.py` nor do more than glimpse at the test file, your exercise is contained in this workbook unless specified differently in this notebook's instructions. \n",
    "\n",
    "This exercise is given as a Jupyter notebook, you might run this in your browser by starting a notebook server or through VScode (PyCharm only allows for read-only mode for jupyter notebooks, unless you have Pycharm-pro which is a paid version or you need a student license). The simplest way to [install jupyter](https://docs.jupyter.org/en/latest/install/notebook-classic.html) notebooks is by installing [Anaconda](https://docs.anaconda.com/free/anaconda/install/), a custom python distribution and packagemanager used for Data Science. If you do not want to install all of Anaconda you can also install jupyter via pip: ``pip3 install jupyter`` (`pip3` or `pip` will work depending on how you installed python3). You can find a tutorial for running the notebook [here](https://jupyter-notebook.readthedocs.io/en/latest/notebook.html). With VScode the IDE should guide you in installing the correct packages. \n",
    "\n",
    "***Hint: Jupyter Notebooks saves variables between runs. If you get unexpected results try restarting the kernel, this deletes any saved variables.*** \n",
    "\n",
    "Please fill in your student name down below"
   ]
  },
  {
   "cell_type": "code",
   "execution_count": 1,
   "id": "78cf4ce6-3998-4c5b-b2fb-d8b83c6336fc",
   "metadata": {
    "editable": true,
    "slideshow": {
     "slide_type": ""
    },
    "tags": []
   },
   "outputs": [],
   "source": [
    "# FILL IN YOU STUDENT NUMBER\n",
    "student = 3893995\n",
    "\n",
    "# Show binary search tree in performance demo\n",
    "ADD_TREE_TO_DEMO = False\n",
    "\n",
    "# Set this to false if you want the default screen width.\n",
    "WIDE_SCREEN = True"
   ]
  },
  {
   "cell_type": "markdown",
   "id": "42262d23-0f53-4cca-890e-6a35fcdadd41",
   "metadata": {
    "editable": true,
    "slideshow": {
     "slide_type": ""
    },
    "tags": []
   },
   "source": [
    "### ***IMPORTANT, add the exercise2_{studentnummer}.py file from last week to the same folder as this notebook or set ADD_TREE_TO_DEMO on False!***"
   ]
  },
  {
   "cell_type": "code",
   "execution_count": 2,
   "id": "2f51569f",
   "metadata": {
    "ExecuteTime": {
     "end_time": "2024-01-19T10:20:08.920263757Z",
     "start_time": "2024-01-19T10:20:08.907961698Z"
    },
    "editable": false,
    "slideshow": {
     "slide_type": ""
    },
    "tags": []
   },
   "outputs": [
    {
     "data": {
      "text/html": [
       "<style>.jp-Notebook { padding-left: 1% !important; padding-right: 1% !important; width:100% !important; } </style>"
      ],
      "text/plain": [
       "<IPython.core.display.HTML object>"
      ]
     },
     "metadata": {},
     "output_type": "display_data"
    }
   ],
   "source": [
    "from custommagics import CustomMagics\n",
    "import timeit\n",
    "import matplotlib.pyplot as plt\n",
    "\n",
    "if ADD_TREE_TO_DEMO:\n",
    "    try:\n",
    "        # import your code from last week\n",
    "        m = __import__(f\"exercise2_{student}\")\n",
    "    except ModuleNotFoundError:\n",
    "        raise ModuleNotFoundError(f\"exercise2_{student}.py was not found! \\\n",
    "    Please make sure that you put this file in the same folder as this notebook.\")\n",
    "    else:\n",
    "        # find all imports, either with __all__ or dir\n",
    "        try:\n",
    "            attrlist = m.__all__\n",
    "        except AttributeError:\n",
    "            attrlist = dir(m)\n",
    "        \n",
    "        # Add all your code from last to this namespace, i.e., you can now use BinarySearchTree as if you wrote it in this file. \n",
    "        for attr in attrlist:\n",
    "            if attr[:2] != \"__\":\n",
    "                globals()[attr] = getattr(m, attr)\n",
    "\n",
    "if WIDE_SCREEN:\n",
    "    import notebook\n",
    "    from IPython.display import display, HTML\n",
    "\n",
    "    if int(notebook.__version__.split(\".\")[0]) >= 7:    \n",
    "        display(HTML(\n",
    "            '<style>'\n",
    "                '.jp-Notebook { padding-left: 1% !important; padding-right: 1% !important; width:100% !important; } '\n",
    "            '</style>'\n",
    "        ))\n",
    "    else:\n",
    "        display(HTML(\"<style>.container { width:98% !important; }</style>\"))\n",
    "\n",
    "get_ipython().register_magics(CustomMagics)\n",
    "\n"
   ]
  },
  {
   "cell_type": "code",
   "execution_count": 3,
   "id": "dc271cbf-ca64-4f94-b215-4306c69b5667",
   "metadata": {
    "ExecuteTime": {
     "end_time": "2024-01-19T10:20:13.144182399Z",
     "start_time": "2024-01-19T10:20:12.693456275Z"
    },
    "editable": false,
    "slideshow": {
     "slide_type": ""
    },
    "tags": []
   },
   "outputs": [
    {
     "name": "stdout",
     "output_type": "stream",
     "text": [
      "Writing exercise3_3893995_notebook.py\n"
     ]
    }
   ],
   "source": [
    "%%execwritefile exercise3_{student}_notebook.py 0 \n",
    "\n",
    "# DO NOT CHANGE THIS CELL.\n",
    "# THESE ARE THE ONLY IMPORTS YOU ARE ALLOWED TO USE:\n",
    "\n",
    "import numpy as np\n",
    "import networkx as nx\n",
    "import matplotlib.pyplot as plt\n",
    "import copy\n",
    "\n",
    "RNG = np.random.default_rng()"
   ]
  },
  {
   "cell_type": "code",
   "execution_count": 4,
   "id": "dc674e1b",
   "metadata": {
    "ExecuteTime": {
     "end_time": "2024-01-19T10:20:14.188805398Z",
     "start_time": "2024-01-19T10:20:14.175386296Z"
    },
    "editable": true,
    "slideshow": {
     "slide_type": ""
    },
    "tags": []
   },
   "outputs": [],
   "source": [
    "plt.matplotlib.rcParams['figure.figsize'] = [8, 3]"
   ]
  },
  {
   "cell_type": "markdown",
   "id": "8b2f618a-5de2-49c1-8589-74d041c87208",
   "metadata": {
    "editable": false,
    "slideshow": {
     "slide_type": ""
    },
    "tags": []
   },
   "source": [
    "# A Quick Pedagogical Note\n",
    "\n",
    "In this exercise, we will implement our own list datastructures and while this gives a good idea of how they work you should not use them when normally programming in Python. You should use the dedicated Python datastructures. For a general list implementation, you can just use `list()` and otherwise there is often a fast implementation for specific datastructures such as queues."
   ]
  },
  {
   "cell_type": "markdown",
   "id": "b5cdc3cc-3203-4a15-a773-24fec6c79c2d",
   "metadata": {
    "editable": false,
    "slideshow": {
     "slide_type": ""
    },
    "tags": []
   },
   "source": [
    "# Inheritance \n",
    "\n",
    "*This paragraph is not needed to make the exercises but without it some parts can feel like magic.*\n",
    "\n",
    "In this exercise, we will actively use inheritance to make our classes. However, don't worry you do not need to use it yourself and we will only use it to reduce the amount of code we need to write. So, to simplify it a bit you can see inheritance as a coping-pasting code from one class to the other. To be able to do this exercise you need to understand the following things about inheritance:\n",
    " 1. To use inheritance you put the class you want to copy-paste to the new class inside the brackets. For example `class Queue(LinkedList): ...`, here all the content of the `LinkedList` class is copied to `Queue`. Again, this is done for you during this exercise. You can see inheritance as a tree, where all code from nodes above the current node is copied to the current node. In other words, all code from classes higher up in the tree is inherited by this class. \n",
    " 2. Each class can only have one method with the same name, thus if you use the same name for a method twice in a class the first instance of the method will be overwritten by the second. This works the same for inheritance, if `LinkedList` contains a method `pop` and you use the same method name `pop` in `Queue` then the `pop` method defined in `Queue` will overwrite it. Note, that in `LinkedList` `pop` is not overwritten as that class does not \"see\" the `Queue` class as it sits higher in the tree. Again, all methods that need to be redefined are given. you only need to understand that you can use methods of the class that you inherit from.\n",
    " 3. To add even more flexibility, you can overwrite a method in your new class but copy the code from the old method into the new method. This is done with `super({class_name}, self).{method_you_want_to_copy}(arguments)`. This copies all code from the \"method_you_want_to_copy\" into the new method (usually with the same name). Again, you do not need yo use it your self, but you need to understand what it does if you see it.\n",
    "\n",
    "Let's go through some examples of why we need this behavior and why it is useful:\n",
    " 1. A double-linked list is the same as a linked list but with some extras, therefore it makes sense to copy everything from the linked list implementation to the double-linked list implementation and only overwrite some methods. Thus the first point is very useful.\n",
    " 2. Now let's look at a specific method in the classes linked list and double linked list. Let's say we have a nice `__repr__` method to visualize a linked list. Then instead of copy-pasting this `__repr__` method to each class, we can use inheritance to do this for us. This has also the added benefit of making the code DRY because now you either have a correct implementation of `__repr__` or you don't. Compared to not using inheritance where each class can be correct or incorrect independently of each other.\n",
    " 3. Sometimes a method for two classes is the same but one class needs a bit more code. Again, a linked list has only a start node while a double-linked list has a start and end node. So, you can use the following code:\n",
    "\n",
    "```\n",
    "class LinkedList():\n",
    "    def __init__(self, start):\n",
    "        self.start = start\n",
    "\n",
    "class DoubleLinkedList(LinkedList):\n",
    "    def __init__(self, start, end):\n",
    "        super(DoubleLinkedList).__init__(start)  # This would be similar to just typing \"self.start = start\".\n",
    "        self.end = end\n",
    "```"
   ]
  },
  {
   "cell_type": "markdown",
   "id": "4e940455",
   "metadata": {
    "editable": false,
    "slideshow": {
     "slide_type": ""
    },
    "tags": []
   },
   "source": [
    "# 1.0 Nodes/Links\n",
    "\n",
    "The following code outlines the stub of a `Link` class and a `DLink` class. Study how these classes work and ensure you thoroughly study the docstrings to get a clear idea of how the class ought to be implemented. This `Link` class is the basis for all single-linked lists and the `DLink` class is used for double-linked lists.\n",
    "\n",
    "For both classes implement the `__repr__` method to be able to debug your code. This is useful when, for example, if you later search for a value you can print this \"node\" in a way that you understand the print. There is no format that you need to adhere to nor is this mandatory. However, it is rather useful as the alternative would be printing attributes of node objects which takes more time.\n",
    "\n",
    "While you could implement the `__repr__` method for both classes separately, we could also use inheritance where the DLink class uses the `__repr__` of the `Link` class. Below, you can find the framework to use inheritance."
   ]
  },
  {
   "cell_type": "code",
   "execution_count": 5,
   "id": "8fcae4cd-d88c-4022-b778-3d0051928f2a",
   "metadata": {
    "editable": true,
    "slideshow": {
     "slide_type": ""
    },
    "tags": []
   },
   "outputs": [
    {
     "name": "stdout",
     "output_type": "stream",
     "text": [
      "Appending to exercise3_3893995_notebook.py\n"
     ]
    }
   ],
   "source": [
    "%%execwritefile exercise3_{student}_notebook.py 10 -a -s\n",
    "\n",
    "class Link():\n",
    "    \"\"\"\n",
    "    This class creates a node that can be used to build any kind of linked list.\n",
    "    Note, that we called it Link to distinguish this class from the DLink class\n",
    "    which is used as nodes for double-linked lists.\n",
    "    \n",
    "    Attributes:\n",
    "        :param self.info: The value of the node.\n",
    "        :type self.info: int\n",
    "        :param self.next: The next node in the linked list, defaults to None.\n",
    "        :type self.next: List, optional \n",
    "    \"\"\"\n",
    "    def __init__(self, info, next=None):\n",
    "        self.info = info\n",
    "        self.next = next\n",
    "\n",
    "    def __repr__(self):\n",
    "        \"\"\"\n",
    "        This returns a representation of a Link object.\n",
    "\n",
    "        :return: A string representing the Link object.\n",
    "        :rtype: str\n",
    "        \"\"\"\n",
    "        if self.next is None:\n",
    "            return f'{self.info}'\n",
    "        # Change this to anything you like, such that you can easily print a Node object.\n",
    "        return f\"{self.info}, {self.next.__repr__()}\" \n",
    "\n",
    "class DLink(Link):\n",
    "    \"\"\"\n",
    "    This class creates a node that can be used to build any kind of double-linked list.\n",
    "    Note, that we called it DLink to distinguish this class from the Link class\n",
    "    which is used as nodes for linked lists.\n",
    "    \n",
    "    Attributes:\n",
    "        :param self.info: The value of the node. (inherited)\n",
    "        :type self.info: int\n",
    "        :param self.next: The next node in the double-linked list, defaults to None. (inherited)\n",
    "        :type self.next: DList, optional \n",
    "        :param self.prev: The previous node in the double-linked list, defaults to None.\n",
    "        :type self.prev: DList, optional         \n",
    "    \"\"\"\n",
    "    def __init__(self, info, previous=None, next=None):\n",
    "        super(DLink, self).__init__(info, next)  # Inherrit the init method of Link. You can think of this as copy-pasting the link init here.\n",
    "        self.prev = previous"
   ]
  },
  {
   "cell_type": "markdown",
   "id": "44d0f584-b5ad-4719-99aa-62723e0bf777",
   "metadata": {
    "editable": false,
    "slideshow": {
     "slide_type": ""
    },
    "tags": []
   },
   "source": [
    "## Test your code\n",
    "\n",
    "In the cell below you can test your code from the cell above (ensure you run the cell beforehand) to validate if `__repr__` works as you intended.\n",
    "You can do this by creating a `(D)Link` object and printing it."
   ]
  },
  {
   "cell_type": "code",
   "execution_count": 6,
   "id": "40259d5c-e45e-4c12-81a8-c04b793df821",
   "metadata": {
    "ExecuteTime": {
     "end_time": "2024-01-19T10:20:17.818054163Z",
     "start_time": "2024-01-19T10:20:17.775181352Z"
    },
    "editable": true,
    "slideshow": {
     "slide_type": ""
    },
    "tags": []
   },
   "outputs": [
    {
     "data": {
      "text/plain": [
       "(10, 10)"
      ]
     },
     "execution_count": 6,
     "metadata": {},
     "output_type": "execute_result"
    }
   ],
   "source": [
    "Link(10), DLink(10)"
   ]
  },
  {
   "cell_type": "markdown",
   "id": "00acca5d-dd9d-444b-9802-076148acf4b7",
   "metadata": {
    "editable": false,
    "slideshow": {
     "slide_type": ""
    },
    "tags": []
   },
   "source": [
    "# 2.0 Basic Linked Lists\n",
    "\n",
    "Here, we will implement a general single-linked list and a general double-linked list. Study how these classes work and ensure you thoroughly study the docstrings to get a clear idea of how the class ought to be implemented. \n",
    "\n",
    "Also, implement the `__repr__` method. Here, the `__repr__` method must be a list of the `Link` Representations. So, assuming that the `Link` representation is just the `info` of the object. Then a `BasicLinkedList` with the nodes representing the numbers 5,3,8 should be printed as: `[5, 3, 8]`, where each representation of the `BasicLinkedList` starts and ends with a square bracket, and each `Link` representation is separated by a comma and space like this: `, `.  Make sure you follow these rules precisely otherwise the autograder will not give you any points. An empty list should be represented as `[]`. In other words, your representation of your linked list should be the same as the representation of the default Python list.\n",
    "\n",
    "Due to inheritance, the `BasicDLinkedList` class should have the same `__repr__` as the `BasicLinkedList` class."
   ]
  },
  {
   "cell_type": "code",
   "execution_count": 7,
   "id": "1fc296f8-eeb2-46b1-bcbf-f261d07ee463",
   "metadata": {
    "editable": true,
    "slideshow": {
     "slide_type": ""
    },
    "tags": []
   },
   "outputs": [
    {
     "name": "stdout",
     "output_type": "stream",
     "text": [
      "Appending to exercise3_3893995_notebook.py\n"
     ]
    }
   ],
   "source": [
    "%%execwritefile exercise3_{student}_notebook.py 20 -a -s\n",
    "\n",
    "class BasicLinkedList():\n",
    "    \"\"\"\n",
    "    This class creates linked list objects.\n",
    "    The most basic implementation of a linked list stores \n",
    "    only the start of the list and nothing else.\n",
    "    This is what we will use during this exercise.\n",
    "    \n",
    "    This means that you can only access the start node directly, \n",
    "    while other nodes can be accessed through the start node. \n",
    "\n",
    "    Attributes:\n",
    "        :param self.start: The start node of the single-linked list, defaults to None.\n",
    "        :type self.start: Link, optional\n",
    "    \"\"\"\n",
    "    def __init__(self, start=None):\n",
    "        \"\"\"\n",
    "        This initializes a single linked list object.\n",
    "        Note, that this creates by default an empty list.\n",
    "        \"\"\"\n",
    "        self.start = start\n",
    "        \n",
    "    def __repr__(self):\n",
    "        \"\"\"\n",
    "        This returns a representation of a LinkedList object.\n",
    "\n",
    "        :return: A string representing the LinkedList object.\n",
    "        :rtype: str\n",
    "        \"\"\"\n",
    "        if self.start is None:\n",
    "            return '[]'\n",
    "        return f'[{repr(self.start)}]'\n",
    "\n",
    "class BasicDLinkedList(BasicLinkedList):\n",
    "    \"\"\"\n",
    "    This class creates double-linked list objects.\n",
    "    A double-linked list stores both the start and end of a list.\n",
    "    This is what we will use during this exercise.\n",
    "    \n",
    "    This means that you can only access the start and end node directly, \n",
    "    while other nodes can be accessed through either the start node or the end node. \n",
    "\n",
    "    Note, that this class uses DLink objects and note Link objects.\n",
    "    \n",
    "    Attributes:\n",
    "        :param self.start: The start node of the double-linked list, defaults to None.\n",
    "        :type self.start: DLink, optional\n",
    "        :param self.end: The end node of the double-linked list, defaults to None.\n",
    "        :type self.end: DLink, optional\n",
    "    \"\"\"\n",
    "    \n",
    "    def __init__(self, start=None, end=None):\n",
    "        \"\"\"\n",
    "        This initializes a basic double-linked list object.\n",
    "        Note, that this creates by default an empty list.\n",
    "        \"\"\"\n",
    "        super(BasicDLinkedList, self).__init__(start)  # Inherrit the init method of Link. You can think of this as copy-pasting the link init here.\n",
    "        if end is None:\n",
    "            self.end = start\n",
    "        else:\n",
    "            self.end = end"
   ]
  },
  {
   "cell_type": "markdown",
   "id": "34d43c82-66a7-4cbd-ac93-2ec3bfbd4541",
   "metadata": {
    "editable": false,
    "slideshow": {
     "slide_type": ""
    },
    "tags": []
   },
   "source": [
    "## Test your code\n",
    "\n",
    "In the cell below you can test your code from the cell above (ensure you run the cell beforehand) to validate if `__repr__` works as intended.\n",
    "You can do this by creating a `BasicLinkedList` or `BasicDLinkedList` object and printing it."
   ]
  },
  {
   "cell_type": "code",
   "execution_count": 8,
   "id": "0f4ae991-cb82-4490-ac4d-da37735fff06",
   "metadata": {
    "editable": true,
    "slideshow": {
     "slide_type": ""
    },
    "tags": []
   },
   "outputs": [
    {
     "data": {
      "text/plain": [
       "([10], [], [10, 5])"
      ]
     },
     "execution_count": 8,
     "metadata": {},
     "output_type": "execute_result"
    }
   ],
   "source": [
    "# Note, that the third print uses the double linked list and not the single\n",
    "BasicLinkedList(Link(10)), BasicLinkedList(), BasicDLinkedList(Link(10, Link(5)))"
   ]
  },
  {
   "cell_type": "markdown",
   "id": "fe165be0-c206-48a2-b8e5-0793017a901f",
   "metadata": {
    "editable": false,
    "slideshow": {
     "slide_type": ""
    },
    "tags": []
   },
   "source": [
    "## 3.0 Queues using Single-Linked Lists (pop \\& append)\n",
    "\n",
    "Here, we will make a queue that uses a single-linked list `QueueSingle` which has the same `__repr__` and `__init__` as `BasicLinkedList` but also has `pop` and `append` to complete the functionality of a queue. Study how this class works and ensure you thoroughly study the docstrings to get a clear idea of how the class ought to be implemented."
   ]
  },
  {
   "cell_type": "code",
   "execution_count": 9,
   "id": "4f33abcd-75f9-40cf-888e-1720955efda3",
   "metadata": {
    "editable": true,
    "slideshow": {
     "slide_type": ""
    },
    "tags": []
   },
   "outputs": [
    {
     "name": "stdout",
     "output_type": "stream",
     "text": [
      "Appending to exercise3_3893995_notebook.py\n"
     ]
    }
   ],
   "source": [
    "%%execwritefile exercise3_{student}_notebook.py 21 -a -s\n",
    "\n",
    "class QueueSingle(BasicLinkedList):\n",
    "    \"\"\"\n",
    "    This class has the same attributes, initialization, and representation as the BasicLinkedList.\n",
    "    \"\"\"\n",
    "    def pop(self):\n",
    "        \"\"\"\n",
    "        This method removes the first element in the queue and returns it.\n",
    "        \n",
    "        If the list is empty raise the following error \"IndexError: pop from empty list.\"\n",
    "        You can do this with \"raise IndexError(message)\"\n",
    "\n",
    "        :return: This returns the info of the first link in the linked list.\n",
    "        :rtype: int\n",
    "        \"\"\"\n",
    "        if self.start is None:\n",
    "            raise IndexError(\"pop from empty list\")\n",
    "        else:\n",
    "            value = self.start.info\n",
    "            self.start = self.start.next\n",
    "            return value\n",
    "\n",
    "    def append(self, value):\n",
    "        \"\"\"\n",
    "        This method adds a new element to the queue.\n",
    "        In a queue, an element is always placed at the end of the linked list.\n",
    "\n",
    "        :param value: This is the value that needs to be added to the linked list.\n",
    "        :type value: int\n",
    "        \"\"\"\n",
    "        if self.start is None:\n",
    "            self.start = Link(value)\n",
    "        else:\n",
    "            current = self.start\n",
    "            while current.next is not None:\n",
    "                current = current.next\n",
    "            current.next = Link(value)"
   ]
  },
  {
   "cell_type": "markdown",
   "id": "0fcaaa65-1674-46f3-98cc-d747ff3cbab0",
   "metadata": {
    "editable": false,
    "slideshow": {
     "slide_type": ""
    },
    "tags": []
   },
   "source": [
    "## Test your code\n",
    "\n",
    "In the cell below you can test your code from the cell above (ensure you run the cell beforehand). Here, you can validate if pop and append are correctly implemented. You can do this by creating a `QueueSingle` object, adding and removing nodes, and printing it. Below, you can find a minimal example."
   ]
  },
  {
   "cell_type": "code",
   "execution_count": 10,
   "id": "89b748dc-4e16-4d94-9104-0007517daec9",
   "metadata": {},
   "outputs": [
    {
     "data": {
      "text/plain": [
       "[5, 3, 8]"
      ]
     },
     "execution_count": 10,
     "metadata": {},
     "output_type": "execute_result"
    }
   ],
   "source": [
    "q = QueueSingle()\n",
    "for i in [5,3,8]:\n",
    "    q.append(i)\n",
    "q"
   ]
  },
  {
   "cell_type": "markdown",
   "id": "8de04c6f-4ee2-4b7e-8f9d-f575f7f339bb",
   "metadata": {
    "editable": false,
    "slideshow": {
     "slide_type": ""
    },
    "tags": []
   },
   "source": [
    "## 3.1 Queue\n",
    "\n",
    "Here, we will implement a queue datastructure that uses a double-linked list (more traditional). Study how the class `Queue` works and ensure you thoroughly study the docstrings to get a clear idea of how the class ought to be implemented. \n",
    "\n",
    "This `Queue` class uses the basic double-linked list implementation with additionally the methods `pop` and `append`. Therefore, we use inheritance using the class `BasicDLinkedList`."
   ]
  },
  {
   "cell_type": "code",
   "execution_count": 11,
   "id": "520aad3c-e8db-4000-b637-96f2fe74693f",
   "metadata": {
    "editable": true,
    "slideshow": {
     "slide_type": ""
    },
    "tags": []
   },
   "outputs": [
    {
     "name": "stdout",
     "output_type": "stream",
     "text": [
      "Appending to exercise3_3893995_notebook.py\n"
     ]
    }
   ],
   "source": [
    "%%execwritefile exercise3_{student}_notebook.py 30 -a -s\n",
    "\n",
    "class Queue(BasicDLinkedList):\n",
    "    \"\"\"\n",
    "    This class has the same attributes, initialization, and representation as the BasicDLinkedList.\n",
    "    \"\"\"\n",
    "    def pop(self):\n",
    "        \"\"\"\n",
    "        This method removes the first element in the queue and returns it.\n",
    "        \n",
    "        If the list is empty raise the following error \"IndexError: pop from empty list.\"\n",
    "        You can do this with \"raise IndexError(message)\"\n",
    "\n",
    "        :return: This returns the info of the first link in the linked list.\n",
    "        :rtype: int\n",
    "        \"\"\"\n",
    "        if self.start is None:\n",
    "            raise IndexError(\"pop from empty list\")\n",
    "        else:\n",
    "            value = self.start.info\n",
    "            self.start = self.start.next\n",
    "            if self.start is not None:\n",
    "                self.start.prev = None\n",
    "            return value\n",
    "\n",
    "    def append(self, value):\n",
    "        \"\"\"\n",
    "        This method adds a new element to the queue.\n",
    "        In a queue, an element is always placed at the end of the linked list.\n",
    "\n",
    "        :param value: This is the value that needs to be added to the queue.\n",
    "        :type value: int\n",
    "        \"\"\"\n",
    "        if self.start is None:\n",
    "            self.start = DLink(value)\n",
    "            self.end = self.start\n",
    "        else:\n",
    "            self.end.next = DLink(value, self.end)\n",
    "            self.end = self.end.next"
   ]
  },
  {
   "cell_type": "markdown",
   "id": "ca8bbcc7-9f12-496c-9bb9-f2d1182a1193",
   "metadata": {
    "editable": false,
    "slideshow": {
     "slide_type": ""
    },
    "tags": []
   },
   "source": [
    "## Test your code\n",
    "\n",
    "In the cell below you can test your code from the cell above (ensure you run the cell beforehand). Here, you can validate if `pop` and `append` are correctly implemented. You can do this by creating a `QueueSingle` object, adding and removing nodes, and printing it. Below, you can find a minimal example."
   ]
  },
  {
   "cell_type": "code",
   "execution_count": 12,
   "id": "d721a5b6-2ec4-4555-ba78-c499d42cd028",
   "metadata": {},
   "outputs": [
    {
     "name": "stdout",
     "output_type": "stream",
     "text": [
      "[5, 3, 8]\n"
     ]
    }
   ],
   "source": [
    "q = Queue()\n",
    "for i in [5,3,8]:\n",
    "    q.append(i)\n",
    "print(q)"
   ]
  },
  {
   "cell_type": "markdown",
   "id": "13ad8c87-aca6-4741-a6e2-060ff2baf639",
   "metadata": {
    "editable": false,
    "slideshow": {
     "slide_type": ""
    },
    "tags": []
   },
   "source": [
    "## 3.2 Queue vs QueueSingle (speed test)\n",
    "\n",
    "If you compare `Queue` and `QueueSingle`, you can see that `Queue` is a bit more difficult and needs more specific operations. However, if you compare the Big-O notation of the `pop` and `append` methods you can see a difference that would make one of the classes significantly faster. ***Make sure you do the theory question about queues implemented with single-linked list vs double-linked list before you continue.***\n",
    "\n",
    "Below, you can find a demo to see the results for the time it takes to either append or pop one node given that the queue contains 0 to $n$ items. You can also see the total time it takes to either pop or append $n$ items. In the demo, you can either show the results in log-log scale or linear scale (\"normal\" scale). The log-log scale shows the difference between the tests better, but the linear scale shows the complexity better. \n",
    "\n",
    "Hint: In log-log scale, a line that is twice as steep is increasing quadratic in linear scale. See below for an example."
   ]
  },
  {
   "cell_type": "code",
   "execution_count": 13,
   "id": "b1f1b898-e6d4-47cb-b8de-5ad0d466fb2d",
   "metadata": {
    "editable": true,
    "slideshow": {
     "slide_type": ""
    },
    "tags": []
   },
   "outputs": [],
   "source": [
    "SHOW_LOG_SCALE = True"
   ]
  },
  {
   "cell_type": "code",
   "execution_count": 14,
   "id": "6febde47-2957-4e16-9460-14378d7602a2",
   "metadata": {
    "editable": false,
    "slideshow": {
     "slide_type": ""
    },
    "tags": []
   },
   "outputs": [
    {
     "data": {
      "image/png": "[encoded data removed]",
      "text/plain": [
       "<Figure size 800x300 with 1 Axes>"
      ]
     },
     "metadata": {},
     "output_type": "display_data"
    }
   ],
   "source": [
    "plt.plot(np.arange(10), np.arange(10), linestyle='-', marker='x', label=\"linear\")\n",
    "plt.plot(np.arange(10), np.arange(10)**2, linestyle='-', marker='x', label=\"quadratic\")\n",
    "if SHOW_LOG_SCALE:\n",
    "    plt.xscale(\"log\")\n",
    "    plt.yscale(\"log\")\n",
    "plt.legend()\n",
    "plt.show()"
   ]
  },
  {
   "cell_type": "code",
   "execution_count": 15,
   "id": "ebe0ed8d-14ee-409a-bab2-e02ac6fe51f4",
   "metadata": {
    "editable": false,
    "slideshow": {
     "slide_type": ""
    },
    "tags": []
   },
   "outputs": [
    {
     "name": "stdout",
     "output_type": "stream",
     "text": [
      "Starting measuring performance ...\n",
      "busy timing size 1...\n",
      "busy timing size 3...\n",
      "busy timing size 10...\n",
      "busy timing size 31...\n",
      "busy timing size 100...\n",
      "busy timing size 316...\n",
      "busy timing size 1000...\n",
      "busy timing size 3162...\n",
      "busy timing size 10000...\n"
     ]
    },
    {
     "data": {
      "image/png": "[encoded data removed]",
      "text/plain": [
       "<Figure size 800x300 with 1 Axes>"
      ]
     },
     "metadata": {},
     "output_type": "display_data"
    },
    {
     "data": {
      "image/png": "[encoded data removed]",
      "text/plain": [
       "<Figure size 800x300 with 1 Axes>"
      ]
     },
     "metadata": {},
     "output_type": "display_data"
    }
   ],
   "source": [
    "def speed_test_append(q, n):\n",
    "    for i in range(n):\n",
    "        q.append(i)\n",
    "    return q\n",
    "\n",
    "def speed_test_pop(q, n):\n",
    "    for _ in range(n):\n",
    "        q.pop()\n",
    "\n",
    "\n",
    "print(\"Starting measuring performance ...\")\n",
    "q_s_a, q_d_a, q_s_p, q_d_p = [], [], [], []\n",
    "\n",
    "sizes = 10**np.arange(0, 4.5, 0.5)\n",
    "for n in sizes:\n",
    "    n = int(n)\n",
    "    print(f\"busy timing size {n}...\")\n",
    "    q_s_a.append(min(timeit.repeat(f\"speed_test_append(q, {n})\",\n",
    "                  setup=\"from __main__ import speed_test_append \\nq = Queue()\",\n",
    "                  globals={\"Queue\":QueueSingle},\n",
    "                  number=1,\n",
    "                  repeat=1))/n)\n",
    "    q_d_a.append(min(timeit.repeat(f\"speed_test_append(q, {n})\",\n",
    "                  setup=\"from __main__ import speed_test_append \\nq = Queue()\",\n",
    "                  globals={\"Queue\":Queue},\n",
    "                  number=1,\n",
    "                  repeat=1))/n)\n",
    "    q_s_p.append(min(timeit.repeat(f\"speed_test_pop(q, {n})\",\n",
    "                  setup=f\"from __main__ import speed_test_pop,speed_test_append \\nq = speed_test_append(Queue(), {n})\",\n",
    "                  globals={\"Queue\":QueueSingle},\n",
    "                  number=1,\n",
    "                  repeat=1))/n)\n",
    "    q_d_p.append(min(timeit.repeat(f\"speed_test_pop(q, {n})\",\n",
    "                  setup=f\"from __main__ import speed_test_pop,speed_test_append \\nq = speed_test_append(Queue(), {n})\",\n",
    "                  globals={\"Queue\":Queue},\n",
    "                  number=1,\n",
    "                  repeat=1))/n)\n",
    "\n",
    "plt.title(\"Average time it takes to append/pop one element when append/popping $n$ items.\")\n",
    "plt.plot(sizes, q_s_a, linestyle='-', marker='x', label=\"Single Linked Queue append\")\n",
    "plt.plot(sizes, q_d_a, linestyle='-', marker='x', label=\"Double Linked Queue append\")\n",
    "plt.plot(sizes, q_s_p, linestyle='-', marker='o', label=\"Single Linked Queue pop\")\n",
    "plt.plot(sizes, q_d_p, linestyle='-', marker='o', label=\"Double Linked Queue pop\")\n",
    "if SHOW_LOG_SCALE:\n",
    "    plt.xscale(\"log\")\n",
    "    plt.yscale(\"log\")\n",
    "plt.xlabel(\"size of the queue\")\n",
    "plt.ylabel(\"time (seconds)\")\n",
    "plt.legend()\n",
    "plt.show()\n",
    "\n",
    "plt.title(\"Total time it takes to append/pop $n$ elements.\")\n",
    "plt.plot(sizes, q_s_a*sizes, linestyle='-', marker='x', label=\"Single Linked Queue append\")\n",
    "plt.plot(sizes, q_d_a*sizes, linestyle='-', marker='x', label=\"Double Linked Queue append\")\n",
    "plt.plot(sizes, q_s_p*sizes, linestyle='-', marker='o', label=\"Single Linked Queue pop\")\n",
    "plt.plot(sizes, q_d_p*sizes, linestyle='-', marker='o', label=\"Double Linked Queue pop\")\n",
    "if SHOW_LOG_SCALE:\n",
    "    plt.xscale(\"log\")\n",
    "    plt.yscale(\"log\")\n",
    "plt.xlabel(\"size of the queue\")\n",
    "plt.ylabel(\"time (seconds)\")\n",
    "plt.legend()\n",
    "plt.show()"
   ]
  },
  {
   "cell_type": "markdown",
   "id": "4ea30b49-eab2-4a32-be25-7922ef05152e",
   "metadata": {
    "editable": false,
    "slideshow": {
     "slide_type": ""
    },
    "tags": []
   },
   "source": [
    "# 4.0 Search Complexity\n",
    "\n",
    "So far we have demonstrated, that choosing the right datastructure matters in terms of speed due to complexity. Often, a specific datastructure allows for a faster algorithm or even better complexity. In this part of the exercise, we will look at search complexity and speed. Below, you will implement a search algorithm for single and double-linked lists. We will also compare it to the binary search tree of last week and a native Python set. \n",
    "\n",
    "## 4.1 Single-Linked List\n",
    "\n",
    "Below, we will implement a `SingleLinkedList` class that inherits the `BasicLinkedList` class for the `__init__` and `__repr__`. You have to add the basic functionality `pop` and `insert` to the class by writing the methods `insert`, and `pop`. `pop` and `insert` work differently for a single-linked list compared to a queue (`pop` and `append`) because you can `pop` and `insert` values at any position in the list. "
   ]
  },
  {
   "cell_type": "code",
   "execution_count": 16,
   "id": "8180acb9-105e-4990-a478-12509c39989a",
   "metadata": {
    "editable": true,
    "slideshow": {
     "slide_type": ""
    },
    "tags": []
   },
   "outputs": [
    {
     "name": "stdout",
     "output_type": "stream",
     "text": [
      "Appending to exercise3_3893995_notebook.py\n"
     ]
    }
   ],
   "source": [
    "%%execwritefile exercise3_{student}_notebook.py 40 -a -s\n",
    "\n",
    "class SingleLinkedList(BasicLinkedList):\n",
    "    def pop(self, n):\n",
    "        \"\"\"\n",
    "        This method removes the nth element in the list and returns it.\n",
    "        \n",
    "        If the list is empty raise the following error \"IndexError: pop from empty list\".\n",
    "        You can do this with \"raise IndexError(message)\".\n",
    "\n",
    "        If the value of n is greater than or equal to the length of the list \n",
    "        raise the following error \"IndexError: pop index out of range\".\n",
    "        Again, You can do this with \"raise IndexError(message)\".\n",
    "\n",
    "        :param n: This value determines which Link info is returned and which Link needs to be removed.\n",
    "        :type n: int\n",
    "        :return: This returns the info of the nth link in the linked list.\n",
    "        :rtype: int\n",
    "        \"\"\"\n",
    "        if self.start is None:\n",
    "            raise IndexError(\"pop from empty list\")\n",
    "        if n == 0:\n",
    "            rem_node = self.start.info\n",
    "            self.start = self.start.next\n",
    "            return rem_node\n",
    "        current = self.start\n",
    "        while n>0:\n",
    "            if current is None:\n",
    "                raise IndexError(\"pop index out of range\")\n",
    "            prev = current\n",
    "            current = current.next\n",
    "            n-=1\n",
    "        if current is None:\n",
    "            raise IndexError(\"pop index out of range\")       \n",
    "        rem_node = current.info\n",
    "        prev.next = current.next\n",
    "        return rem_node     \n",
    "           \n",
    "    def insert(self, value, n):\n",
    "        \"\"\"\n",
    "        This method inserts at the nth element in the list a new value.\n",
    "        This means that all other values are essentially pushed one index ahead. \n",
    "        This is a consequence of inserting a value in the \"middle\" of the list.\n",
    "    \n",
    "        If the value of n is greater than the length of the list,\n",
    "        you need to insert the value at the end of the list.\n",
    "\n",
    "        :param value: This is the value that needs to be added to the linked list.\n",
    "        :type value: int\n",
    "        :param n: This value determines where the new value needs to be inserted.\n",
    "        :type n: int\n",
    "        \"\"\"\n",
    "        if self.start is None:\n",
    "            self.start = Link(value)\n",
    "            return\n",
    "        if n == 0:\n",
    "            self.start = Link(value, self.start)\n",
    "            return\n",
    "        current = self.start\n",
    "        while n > 1:\n",
    "            if current.next is None:\n",
    "                break\n",
    "            current = current.next\n",
    "            n -= 1\n",
    "        current.next = Link(value, current.next)"
   ]
  },
  {
   "cell_type": "markdown",
   "id": "c309fe92-4b16-4f33-84c6-119183d63b98",
   "metadata": {
    "editable": false,
    "slideshow": {
     "slide_type": ""
    },
    "tags": []
   },
   "source": [
    "## Test your code\n",
    "\n",
    "In the cell below you can test your code from the cell above (ensure you run the cell beforehand). Here, you can validate if `pop` and `insert` are correctly implemented. You can do this by creating a `SingleLinkedList` object, adding nodes, removing nodes, and printing the list. Below, you can find a minimal example."
   ]
  },
  {
   "cell_type": "code",
   "execution_count": 17,
   "id": "699fb6f7-fe66-4b04-a100-5a2a8c4e16e7",
   "metadata": {
    "editable": true,
    "slideshow": {
     "slide_type": ""
    },
    "tags": []
   },
   "outputs": [
    {
     "name": "stdout",
     "output_type": "stream",
     "text": [
      "[8, 3, 5]\n",
      "8\n",
      "3\n",
      "5\n"
     ]
    }
   ],
   "source": [
    "list_ = SingleLinkedList()\n",
    "for i in [5,3,8]:\n",
    "    list_.insert(i, 0)\n",
    "print(list_)\n",
    "\n",
    "for _ in range(3):\n",
    "    print(list_.pop(0))"
   ]
  },
  {
   "cell_type": "markdown",
   "id": "474c0fc6-4035-405e-820d-078a4cb87ae2",
   "metadata": {
    "editable": false,
    "slideshow": {
     "slide_type": ""
    },
    "tags": []
   },
   "source": [
    "## 4.2 Single-Linked List Search\n",
    "\n",
    "Below, we will complete the class `SingleLinkedList` by adding the method `search`. The search algorithm you need to implement is a very basic loop over all values in the list and if the list contains the value return `True` else return `False`."
   ]
  },
  {
   "cell_type": "code",
   "execution_count": 18,
   "id": "e75c834a-ab90-4f2f-8846-6e230c546ae9",
   "metadata": {},
   "outputs": [
    {
     "name": "stdout",
     "output_type": "stream",
     "text": [
      "Appending to exercise3_3893995_notebook.py\n"
     ]
    }
   ],
   "source": [
    "%%execwritefile exercise3_{student}_notebook.py 41 -a -s -c\n",
    "\n",
    "class SingleLinkedList(SingleLinkedList):\n",
    "    def search(self, value):\n",
    "        \"\"\"\n",
    "        This method is a basic search method to check if a value is in the list.\n",
    "        If the value is in the list return True otherwise return False.\n",
    "\n",
    "        :param value: This is the value that is searched for.\n",
    "        :type value: int\n",
    "        :return: A boolean is returned containing the answer if the search was successful.\n",
    "        :rtype: boolean\n",
    "        \"\"\"\n",
    "        current = self.start\n",
    "        while current is not None:\n",
    "            if current.info == value:\n",
    "                return True\n",
    "            current = current.next\n",
    "        return False"
   ]
  },
  {
   "cell_type": "markdown",
   "id": "5475e862-8092-4938-b15a-fd5cff894e33",
   "metadata": {
    "editable": false,
    "slideshow": {
     "slide_type": ""
    },
    "tags": []
   },
   "source": [
    "## Test your code\n",
    "\n",
    "In the cell below you can test your code from the cell above (ensure you run the cell beforehand). Here, you can validate if `search` is correctly implemented. You can do this by creating a `SingleLinkedList` object, adding nodes, and searching for certain values in the list. Below, you can find a minimal example."
   ]
  },
  {
   "cell_type": "code",
   "execution_count": 19,
   "id": "05ec8f55-eb56-4dfc-a776-769e45d3986f",
   "metadata": {},
   "outputs": [
    {
     "name": "stdout",
     "output_type": "stream",
     "text": [
      "True\n"
     ]
    }
   ],
   "source": [
    "list_ = SingleLinkedList()\n",
    "for i in [5,3,8]:\n",
    "    list_.insert(i, 0)\n",
    "print(list_.search(3))\n"
   ]
  },
  {
   "cell_type": "markdown",
   "id": "0b1dbab7-f6ee-4df0-a772-7de3e1faba74",
   "metadata": {
    "editable": false,
    "slideshow": {
     "slide_type": ""
    },
    "tags": []
   },
   "source": [
    "## 4.3 Double-Linked List\n",
    "\n",
    "Below, we will implement a `DoubleLinkedList` class that inherits the `BasicDLinkedList` class for the `__init__` and `__repr__`. You have to add the basic functionality `pop` and `insert` to the class by writing the methods `insert`, and `pop`. `pop` and `insert` work differently for a double-linked list compared to a queue (`pop` and `append`) because you can `pop` and `insert` values at any position in the list. \n",
    "\n",
    "Also, note that with a double-linked list the algorithms are a bit different than compared to a single-linked list as you do not have to update both what the previous `Link` was and the current."
   ]
  },
  {
   "cell_type": "code",
   "execution_count": 20,
   "id": "dcc79d67-8fa0-4e06-b76c-604b738ad9bc",
   "metadata": {},
   "outputs": [
    {
     "name": "stdout",
     "output_type": "stream",
     "text": [
      "Appending to exercise3_3893995_notebook.py\n"
     ]
    }
   ],
   "source": [
    "%%execwritefile exercise3_{student}_notebook.py 45 -a -s\n",
    "\n",
    "class DoubleLinkedList(BasicDLinkedList):\n",
    "    def pop(self, n):\n",
    "        \"\"\"\n",
    "        This method removes the nth element in the list and returns it.\n",
    "        \n",
    "        If the list is empty raise the following error \"IndexError: pop from empty list\".\n",
    "        You can do this with \"raise IndexError(message)\".\n",
    "\n",
    "        If the value of n is greater than or equal to the length of the list \n",
    "        raise the following error \"IndexError: pop index out of range\".\n",
    "        Again, You can do this with \"raise IndexError(message)\".\n",
    "\n",
    "        :param n: This value determines which DLink info is returned and which DLink needs to be removed.\n",
    "        :type n: int\n",
    "        :return: This returns the info of the nth link in the double-linked list.\n",
    "        :rtype: int\n",
    "        \"\"\"\n",
    "        if self.start is None:\n",
    "            raise IndexError(\"pop from empty list\")\n",
    "        if n == 0:\n",
    "            rem_node = self.start.info\n",
    "            self.start = self.start.next\n",
    "            if self.start is not None:\n",
    "                self.start.prev = None\n",
    "            return rem_node\n",
    "        current = self.start\n",
    "        while n > 0:\n",
    "            if current is None:\n",
    "                raise IndexError(\"pop index out of range\")\n",
    "            prev = current\n",
    "            current = current.next\n",
    "            n -= 1\n",
    "        if current is None:\n",
    "            raise IndexError(\"pop index out of range\")       \n",
    "        rem_node = current.info\n",
    "        prev.next = current.next\n",
    "        if current.next is not None:\n",
    "            current.next.prev = prev\n",
    "        return rem_node\n",
    "\n",
    "    def insert(self, value, n):\n",
    "        \"\"\"\n",
    "        This method inserts at the nth element in the list a new value.\n",
    "        This means that all other values are essentially pushed one index ahead. \n",
    "        This is a consequence of inserting a value in the \"middle\" of the list.\n",
    "     \n",
    "        If the value of n is greater than the length of the list,\n",
    "        you need to insert the value at the end of the list.\n",
    "\n",
    "        :param value: This is the value that needs to be added to the double-linked list.\n",
    "        :type value: int\n",
    "        :param n: This value determines where the new value needs to be inserted.\n",
    "        :type n: int\n",
    "        \"\"\"\n",
    "        if self.start is None:\n",
    "            self.start = DLink(value)\n",
    "            self.end = self.start\n",
    "            return\n",
    "        if n == 0:\n",
    "            self.start = DLink(value, next=self.start)\n",
    "            self.start.next.prev = self.start\n",
    "            return\n",
    "        current = self.start\n",
    "        while n > 1:\n",
    "            if current.next is None:\n",
    "                break\n",
    "            current = current.next\n",
    "            n -= 1\n",
    "        current.next = DLink(value, current, current.next)\n",
    "        if current.next.next is not None:\n",
    "            current.next.next.prev = current.next\n",
    "        else:\n",
    "            self.end = current.next"
   ]
  },
  {
   "cell_type": "markdown",
   "id": "cdbf6e4a-0377-4a78-aea8-db22d4498a8a",
   "metadata": {
    "editable": false,
    "slideshow": {
     "slide_type": ""
    },
    "tags": []
   },
   "source": [
    "## Test your code\n",
    "\n",
    "In the cell below you can test your code from the cell above (ensure you run the cell beforehand). Here, you can validate if `pop` and `insert` are correctly implemented. You can do this by creating a `DoubleLinkedList` object, adding nodes, removing nodes, and printing the list. Below, you can find a minimal example."
   ]
  },
  {
   "cell_type": "code",
   "execution_count": 21,
   "id": "680e9f2c-1e64-41b8-898b-1c8599baf107",
   "metadata": {},
   "outputs": [
    {
     "name": "stdout",
     "output_type": "stream",
     "text": [
      "[8, 3, 5]\n",
      "8\n",
      "3\n",
      "5\n"
     ]
    }
   ],
   "source": [
    "list_ = DoubleLinkedList()\n",
    "for i in [5,3,8]:\n",
    "    list_.insert(i, 0)\n",
    "print(list_)\n",
    "\n",
    "for _ in range(3):\n",
    "    print(list_.pop(0))"
   ]
  },
  {
   "cell_type": "markdown",
   "id": "3eb8d5f6-acf4-459f-b81c-6d2d8811eb39",
   "metadata": {
    "editable": false,
    "slideshow": {
     "slide_type": ""
    },
    "tags": []
   },
   "source": [
    "## 4.4 Double-Linked List Search\n",
    "\n",
    "Below, we will complete the class `DoubleLinkedList` by adding the method `search`. For a double-linked list the search algorithm is not as trivial as for a single-linked list because you have the option to search from the front of the list and from the back. \n",
    "\n",
    "In this exercise, you are free to any algorithm you like (somehow looping through the list is good enough). Is looping through the list from the back to the front faster then the search algorithm of the linked list? Can you make it somehow faster and think about if the complexity changes with these improvements or not? Later you can test if your algorithm is indeed faster than the single linked list search algorithm. Note, that this does not necessarily mean that the complexity is different."
   ]
  },
  {
   "cell_type": "code",
   "execution_count": 22,
   "id": "b52a6b85-d085-4ae0-bc6c-5c9c4c547761",
   "metadata": {},
   "outputs": [
    {
     "name": "stdout",
     "output_type": "stream",
     "text": [
      "Appending to exercise3_3893995_notebook.py\n"
     ]
    }
   ],
   "source": [
    "%%execwritefile exercise3_{student}_notebook.py 46 -a -s -c\n",
    "\n",
    "class DoubleLinkedList(DoubleLinkedList):\n",
    "    def search(self, value):\n",
    "        \"\"\"\n",
    "        This method is a basic search method to check if a value is in the list.\n",
    "        If the value is in the list return True otherwise return False.\n",
    "\n",
    "        :param value: This is the value that is searched for.\n",
    "        :type value: int\n",
    "        :return: A boolean is returned containing the answer if the search was successful.\n",
    "        :rtype: boolean\n",
    "        \"\"\"\n",
    "        current = self.start\n",
    "        while current is not None:\n",
    "            if current.info == value:\n",
    "                return True\n",
    "            current = current.next\n",
    "        return False"
   ]
  },
  {
   "cell_type": "markdown",
   "id": "67d488fa-0e86-4b62-93ad-3778b34fefa2",
   "metadata": {
    "editable": false,
    "slideshow": {
     "slide_type": ""
    },
    "tags": []
   },
   "source": [
    "## Test your code\n",
    "\n",
    "In the cell below you can test your code from the cell above (ensure you run the cell beforehand). Here, you can validate if `search` is correctly implemented. You can do this by creating a `DoubleLinkedList` object, adding nodes, and searching for certain values in the list. Below, you can find a minimal example."
   ]
  },
  {
   "cell_type": "code",
   "execution_count": 23,
   "id": "ff8f8a2a-f936-4309-bff2-66a9677287ef",
   "metadata": {},
   "outputs": [
    {
     "name": "stdout",
     "output_type": "stream",
     "text": [
      "True\n"
     ]
    }
   ],
   "source": [
    "list_ = DoubleLinkedList()\n",
    "for i in [5,3,8]:\n",
    "    list_.insert(i, 0)\n",
    "print(list_.search(8))\n"
   ]
  },
  {
   "cell_type": "markdown",
   "id": "f6e85df0-6d50-4eed-b9a3-09582e3113d6",
   "metadata": {
    "editable": false,
    "slideshow": {
     "slide_type": ""
    },
    "tags": []
   },
   "source": [
    "## 4.5 Search (speed test)\n",
    "\n",
    "Now that you have implemented 2 search algorithms in this lab and 1 in the previous lab, we can compare them in terms of speed and see how the complexity of each algorithm impacts the speeds when increasing the data size. Also, to give a hint on why set or dictionaries are good to use we will compare the search speeds in a set as well. Think about what the complexity of a search algorithm of a set could be. ***Make sure you do the theory question about search algorithms before running the demo!*** \n",
    "\n",
    "Note, that the binary search tree you implemented last week is not balanced. In this demo, we assume that it is by inserting values in an order that guarantees a balanced tree. Think about how this affects the complexity of the search algorithm. *As a side note, you can have a look at `fill_tree` how such balanced tree is made*.\n",
    "\n",
    "Below, you can find a demo to see the results for the average time it takes to search for an item if the datastructure contains $n$ items. In the demo, you can either show the results in log-log scale or linear scale (\"normal\" scale). The log-log scale shows the difference between the tests better, but the linear scale shows the complexity better. \n",
    "\n",
    "Hint: In log-log scale, a line that is twice as steep is increasing quadratic in linear scale. See the example in [3.2 Queue vs QueueSingle (speed test)](#3.2-Queue-vs-QueueSingle-(speed-test)). "
   ]
  },
  {
   "cell_type": "code",
   "execution_count": 24,
   "id": "942854fd-81a0-4397-aefd-36bf8be65410",
   "metadata": {},
   "outputs": [],
   "source": [
    "SHOW_LOG_SCALE = True"
   ]
  },
  {
   "cell_type": "code",
   "execution_count": 25,
   "id": "9cff4a45-efb2-47f1-aff5-2d963f1136ee",
   "metadata": {
    "editable": false,
    "slideshow": {
     "slide_type": ""
    },
    "tags": []
   },
   "outputs": [
    {
     "name": "stdout",
     "output_type": "stream",
     "text": [
      "Starting measuring performance ...\n",
      "busy timing size 1...\n",
      "busy timing size 3...\n",
      "busy timing size 10...\n",
      "busy timing size 31...\n",
      "busy timing size 100...\n",
      "busy timing size 316...\n",
      "busy timing size 1000...\n",
      "busy timing size 3162...\n",
      "busy timing size 10000...\n"
     ]
    },
    {
     "data": {
      "image/png": "[encoded data removed]",
      "text/plain": [
       "<Figure size 800x300 with 1 Axes>"
      ]
     },
     "metadata": {},
     "output_type": "display_data"
    }
   ],
   "source": [
    "def fill_list(list_, numbers):\n",
    "    for n in numbers:\n",
    "        list_.insert(n, 0)\n",
    "\n",
    "def fill_tree(tree, numbers):\n",
    "    if not len(numbers):\n",
    "        return\n",
    "        \n",
    "    mid = len(numbers) // 2\n",
    "    tree.add(numbers[mid])\n",
    "    fill_tree(tree, numbers[:mid])\n",
    "    fill_tree(tree, numbers[mid+1:])\n",
    "\n",
    "print(\"Starting measuring performance ...\")\n",
    "slist, dlist, sets, trees = [], [], [], []\n",
    "\n",
    "sizes = 10**np.arange(0, 4.5, 0.5)\n",
    "for n in sizes:\n",
    "    n = int(n)\n",
    "    print(f\"busy timing size {n}...\")\n",
    "    # numbers to be added to the datastructures\n",
    "    numbers = RNG.choice(list(range(n*10)), size=n, replace=False)\n",
    "\n",
    "    slist.append(np.mean(timeit.repeat(f\"list_.search(value)\",\n",
    "                  setup=f\"from __main__ import SingleLinkedList, fill_list \\nlist_ = SingleLinkedList() \\nfill_list(list_, numbers) \\nvalue = RNG.choice(numbers)\",\n",
    "                  globals={\"numbers\":numbers, \"RNG\":RNG},\n",
    "                  number=1,\n",
    "                  repeat=100)))\n",
    "    dlist.append(np.mean(timeit.repeat(f\"list_.search(value)\",\n",
    "                  setup=f\"from __main__ import DoubleLinkedList, fill_list \\nlist_ = DoubleLinkedList() \\nfill_list(list_, numbers) \\nvalue = RNG.choice(numbers)\",\n",
    "                  globals={\"numbers\":numbers, \"RNG\":RNG},\n",
    "                  number=1,\n",
    "                  repeat=100)))\n",
    "    sets.append(np.mean(timeit.repeat(f\"value in sets\",\n",
    "                  setup=f\"sets = set(numbers) \\nvalue = RNG.choice(numbers)\",\n",
    "                  globals={\"numbers\":numbers, \"RNG\":RNG},\n",
    "                  number=1,\n",
    "                  repeat=100)))\n",
    "    if ADD_TREE_TO_DEMO:\n",
    "        trees.append(np.mean(timeit.repeat(f\"tree.search(value)\",\n",
    "                      setup=f\"from __main__ import BinarySearchTree, fill_tree \\ntree = BinarySearchTree() \\nfill_tree(tree, sorted(numbers)) \\nvalue = RNG.choice(numbers)\",\n",
    "                      globals={\"numbers\":numbers, \"RNG\":RNG},\n",
    "                      number=1,\n",
    "                      repeat=100)))\n",
    "\n",
    "plt.title(\"Average time it takes to search one element when the datastructures contains $n$ items.\")\n",
    "plt.plot(sizes, slist, linestyle='-', marker='o', label=\"Single Linked List\")\n",
    "plt.plot(sizes, dlist, linestyle='-', marker='o', label=\"Double Linked List\")\n",
    "plt.plot(sizes, sets, linestyle='-', marker='x', label=\"Set\")\n",
    "if ADD_TREE_TO_DEMO:\n",
    "    plt.plot(sizes, trees, linestyle='-', marker='x', label=\"Binary Search Tree\")\n",
    "if SHOW_LOG_SCALE:\n",
    "    plt.xscale(\"log\")\n",
    "    plt.yscale(\"log\")\n",
    "plt.xlabel(\"size of the queue\")\n",
    "plt.ylabel(\"time (seconds)\")\n",
    "plt.legend()\n",
    "plt.show()\n"
   ]
  },
  {
   "cell_type": "markdown",
   "id": "2c3e25e3",
   "metadata": {
    "editable": false,
    "slideshow": {
     "slide_type": ""
    },
    "tags": []
   },
   "source": [
    "# 5.0 UNITTESTS\n",
    "\n",
    "During this assignment, we copied all your code to the following **.py** file **\"exercise3_{student}_notebook.py\"**. You also tested your code along the way. However, it is possible that there are still a few errors. Therefore, it is good to run some unittest when you complete all coding. This gives you an extra chance to spot mistakes. Here, we added some unittest for you to use. Note, that they are merely a check to see if your **.py** is correct.\n",
    "\n",
    "From this point onwards we strongly advise renaming the **\"exercise3_{student}_notebook.py\"** file to the correct file name that you need to hand in **\"exercise3_{student}.py\"**. Now, you can adjust the **\"exercise3_{student}.py\"** file without the risk of overwriting it when you run the notebook again. This also enables the possibility to run the unittests. Note, that from now on if you make a change in the Python file and you want to go back to the notebook later that you also make this change in the notebook. To run the unittests go to the **\"unit_test.py\"** file and run the file in either PyCharm, VSCode, or a terminal. You can run it in a terminal using the following command: `python -m unittest --verbose unit_test.py`. `--verbose` is optional but gives you more details about which tests fail and which succeed.\n",
    "\n",
    "You are allowed to add your own unittests. \n",
    "\n",
    "## Uploading to Brightspace for Bonus\n",
    "\n",
    "Next, you can upload your Python file with the correct name on brightspace in the bonus assignment. Follow the instructions on this brightspace page carefully to have a successful submission. After you get the feedback for this exercise you can either continue working in the Python file to fix possible bugs or you can go back to the notebook and remake the Python file. ***Please be careful, do not update your code in both the Python file and notebook at the same time!***. If you go back to the notebook do not forget to update the notebook with any changes you made within the Python file. In this case, it is best to just delete the Python file as soon as you copied all changes.\n",
    "\n",
    "***NOTE, that you can now also upload the exercises from week 1! The process is exactly the same only, you can redownload the zip for unittests.***"
   ]
  },
  {
   "cell_type": "code",
   "execution_count": null,
   "id": "733b5607-283e-478f-890f-62d4d683e5a0",
   "metadata": {
    "editable": true,
    "slideshow": {
     "slide_type": ""
    },
    "tags": []
   },
   "outputs": [],
   "source": []
  }
 ],
 "metadata": {
  "kernelspec": {
   "display_name": "Python 3 (ipykernel)",
   "language": "python",
   "name": "python3"
  },
  "language_info": {
   "codemirror_mode": {
    "name": "ipython",
    "version": 3
   },
   "file_extension": ".py",
   "mimetype": "text/x-python",
   "name": "python",
   "nbconvert_exporter": "python",
   "pygments_lexer": "ipython3",
   "version": "3.10.13"
  }
 },
 "nbformat": 4,
 "nbformat_minor": 5
}
