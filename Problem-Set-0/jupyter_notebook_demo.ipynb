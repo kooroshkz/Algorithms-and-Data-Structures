{
 "cells": [
  {
   "cell_type": "markdown",
   "id": "35c1184d",
   "metadata": {
    "editable": false,
    "slideshow": {
     "slide_type": ""
    },
    "tags": []
   },
   "source": [
    "# Welcome to Week 1 - demo\n",
    "\n",
    "Assignments will be given as a Jupyter notebook, you might run this in your browser by starting a notebook inside a terminal or through VScode (PyCharm only allows for read-only mode for jupyter notebooks, unless you have pycharm-pro which is a paid version or you need a student license, but this is not recommended). The simplest way to [install jupyter](https://docs.jupyter.org/en/latest/install/notebook-classic.html) notebooks is by installing [Anaconda](https://docs.anaconda.com/free/anaconda/install/), a custom python distribution and packagemanager used for Data Science. If you do not want to install all of Anaconda you can also install jupyter via pip: `pip3 install jupyter` (`pip3` or `pip` will work depending on how you installed python3). You can find a tutorial for running the notebook [here](https://jupyter-notebook.readthedocs.io/en/latest/notebook.html). With VScode the IDE should guide you in installing the correct packages. \n",
    "\n",
    "Here, we will look at the difference between running a jupyter notebook vs a .py file. Important to note is that this does not change how Python works. In other words, you are still writing Python but now you have to opportunity to run pieces of your code instead of your whole code at once. This also means that variables are saved when you run a cell block and that they can be used later on. \n",
    "\n",
    "There are two major traps that you can fall into running your code in a random order and using variables that are saved but no longer in any code. Similar to a Python file (where you do not have a choice) it is recommended to run your code/cells sequentially. Also, it is highly recommended that ever so often you restart the notebook `Kernel`-> `Restart` to clear all variables. This can solve many issues such as trying to fix a bug where you misted changing one variable name which gives a weird behavior (or the same wrong output) but it does not give an error as it is still in the memory of the notebook.\n",
    "\n",
    "## Exercise 1a\n",
    "\n",
    "In this exercise, you will make a simple addition function."
   ]
  },
  {
   "cell_type": "code",
   "execution_count": null,
   "id": "8d2fdb84",
   "metadata": {
    "editable": true,
    "slideshow": {
     "slide_type": ""
    },
    "tags": []
   },
   "outputs": [],
   "source": [
    "def add(a, b):\n",
    "    raise NotImplementedError(\"Please finish this function.\")"
   ]
  },
  {
   "cell_type": "markdown",
   "id": "9b108195",
   "metadata": {
    "editable": false,
    "slideshow": {
     "slide_type": ""
    },
    "tags": []
   },
   "source": [
    "## Testing\n",
    "\n",
    "It is always good to test your code during the developement. This can be by simply printing some results to check if the output is correct. Other option are using print statements inside the functions/methods or using a debugger. Below, you will find one test case and you can add some more yourself."
   ]
  },
  {
   "cell_type": "code",
   "execution_count": null,
   "id": "98bf6cde",
   "metadata": {
    "editable": true,
    "slideshow": {
     "slide_type": ""
    },
    "tags": []
   },
   "outputs": [],
   "source": [
    "print(add(1, 1))"
   ]
  },
  {
   "cell_type": "markdown",
   "id": "9ce52ab7",
   "metadata": {
    "editable": false,
    "slideshow": {
     "slide_type": ""
    },
    "tags": []
   },
   "source": [
    "## Exercise 1b\n",
    "\n",
    "Notebooks work a bit different then python files because you can essentially run parts of your .py file in any order (sequential order is highly recommended). Also, you can run the same cell several times to fix a problem while not having to bother running the rest of the code. However, it is still python code and if you copy-paste the code above in a `.py` file and run it the results should be the same.\n",
    "\n",
    "***Copy-paste the two coding cells above to the demo.py file and run it***\n"
   ]
  },
  {
   "cell_type": "markdown",
   "id": "62794022",
   "metadata": {
    "editable": false,
    "slideshow": {
     "slide_type": ""
    },
    "tags": []
   },
   "source": [
    "## Exercise 2a\n",
    "\n",
    "While it is easy to copy-paste all your code to a .py file, it is a bit cumbersome therefore we made a jupyter notebook command `%%execwritefile` that copies the content of the cell into a `.py` file. Below, you can see how this works. Note, that the demo.py will be overwritten by this command. \n",
    "\n",
    "### Also, do not remove the `%%execwritefile` command when working on future exercises or assignments.  \n",
    "\n",
    "Here, you will remake exercise 1a and see how it works. Test cells are often not copied to the `.py` file because their purpose is to check your progress. "
   ]
  },
  {
   "cell_type": "code",
   "execution_count": null,
   "id": "cf9a9ad5",
   "metadata": {
    "editable": true,
    "slideshow": {
     "slide_type": ""
    },
    "tags": []
   },
   "outputs": [],
   "source": [
    "# This cell imports %%execwritefile command (executes cell and writes it into a file). \n",
    "from custommagics import CustomMagics\n",
    "get_ipython().register_magics(CustomMagics)"
   ]
  },
  {
   "cell_type": "code",
   "execution_count": null,
   "id": "e6af5452-fd1d-4e13-b95e-1f93b81b1fd2",
   "metadata": {},
   "outputs": [],
   "source": [
    "%%execwritefile demo.py 0\n",
    "\n",
    "def add(a, b):\n",
    "    raise NotImplementedError(\"Please finish this function.\")"
   ]
  },
  {
   "cell_type": "markdown",
   "id": "191813d3-cb95-4be5-900c-529854e7f165",
   "metadata": {
    "editable": false,
    "slideshow": {
     "slide_type": ""
    },
    "tags": []
   },
   "source": [
    "### Testing\n",
    "\n",
    "Below, you can again test your function. Note, that when you open `demo.py` only the `add` function is copied to `demo.py`."
   ]
  },
  {
   "cell_type": "code",
   "execution_count": null,
   "id": "ae764956",
   "metadata": {
    "editable": true,
    "slideshow": {
     "slide_type": ""
    },
    "tags": []
   },
   "outputs": [],
   "source": [
    "print(add(1, 1))"
   ]
  }
 ],
 "metadata": {
  "kernelspec": {
   "display_name": "Python 3 (ipykernel)",
   "language": "python",
   "name": "python3"
  },
  "language_info": {
   "codemirror_mode": {
    "name": "ipython",
    "version": 3
   },
   "file_extension": ".py",
   "mimetype": "text/x-python",
   "name": "python",
   "nbconvert_exporter": "python",
   "pygments_lexer": "ipython3",
   "version": "3.11.5"
  }
 },
 "nbformat": 4,
 "nbformat_minor": 5
}
