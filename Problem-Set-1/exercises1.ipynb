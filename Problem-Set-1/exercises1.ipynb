{
 "cells": [
  {
   "cell_type": "markdown",
   "id": "23475a6f",
   "metadata": {
    "editable": false,
    "slideshow": {
     "slide_type": ""
    },
    "tags": []
   },
   "source": [
    "# Welcome to Week 1: Graphs\n",
    "\n",
    "In this week's programming exercise, you will be working on implementing a Graph class in Python. Throughout the exercise, you will be extending the class Graph by completing code stubs in their respective cells. You do not need to copy the code, it is enough to work in the cell under each exercise. Note that there are separate cells provided where you can (and should) test your code. During the exercise, you will (through customMagics) obtain a Python file (.py) which you should run against a set of unittests. Please avoid writing any unnecessary code in cells containing the `%%execwritefile` command. Doing this could alter the file `.py` and make it syntactically incorrect or interfere with the unittests. To prevent this stick to the following rules:'\n",
    " - ***Do not remove cells that start with ``%%execwritefile`` and do not remove that line.***\n",
    " - If a cell contains a `%%execwritefile` command at the top and a class definition you need to complete the given methods and adding helper methods is allowed, but do **not** add new functions or Python script to the cells (like global variables).\n",
    " - If a cell contains a `%%execwritefile` command at the top and **not** a class definition you must complete the given functions and you are free to add helper functions, new classes, and Python script that contains for example global variables. Note, that the use of global variables is almost always wrong except for a few use cases such as RNG for the numpy random generator methods.\n",
    " - If a cell does **not** contain a `%%execwritefile` command you can plot things, print variables, and write test cases. Here, you are free to do whatever you want.\n",
    " - If a cell does **not** contain a `%%execwritefile` command it should not contain functional code that is needed to run other functions or classes. The reason is that it is not copied to the `.py`. So, it can not be used during the unittesting.\n",
    "\n",
    "You do not need to look at the customMagic.py nor do more than glimpse at the test file, your exercise is contained in this workbook unless specified differently in this notebook's instructions. \n",
    "\n",
    "This exercise is given as a Jupyter notebook, you might run this in your browser by starting a notebook server or through VScode (PyCharm only allows for read-only mode for jupyter notebooks, unless you have Pycharm-pro which is a paid version or you need a student license). The simplest way to [install jupyter](https://docs.jupyter.org/en/latest/install/notebook-classic.html) notebooks is by installing [Anaconda](https://docs.anaconda.com/free/anaconda/install/), a custom python distribution and packagemanager used for Data Science. If you do not want to install all of Anaconda you can also install jupyter via pip: ``pip3 install jupyter``(`pip3` or `pip` will work depending on how you installed python3). You can find a tutorial for running the notebook [here](https://jupyter-notebook.readthedocs.io/en/latest/notebook.html). With VScode the IDE should guide you in installing the correct packages. \n",
    "\n",
    "***Hint: Jupyter Notebooks saves variables between runs. If you get unexpected results try restarting the kernel, this deletes any saved variables.*** \n",
    "\n",
    "Please fill in your student name down below"
   ]
  },
  {
   "cell_type": "code",
   "execution_count": 1,
   "id": "1d8fbb65-1526-499c-ab35-4ec157b8caa8",
   "metadata": {
    "editable": true,
    "slideshow": {
     "slide_type": ""
    },
    "tags": []
   },
   "outputs": [],
   "source": [
    "# FILL IN YOUR STUDENT NUMBER\n",
    "student = 3893995\n",
    "\n",
    "# Set this to false if you want the default screen width.\n",
    "WIDE_SCREEN = True"
   ]
  },
  {
   "cell_type": "code",
   "execution_count": 2,
   "id": "2f51569f",
   "metadata": {
    "ExecuteTime": {
     "end_time": "2024-01-19T10:20:08.920263757Z",
     "start_time": "2024-01-19T10:20:08.907961698Z"
    },
    "editable": false,
    "slideshow": {
     "slide_type": ""
    },
    "tags": []
   },
   "outputs": [
    {
     "data": {
      "text/html": [
       "<style>.jp-Notebook { padding-left: 1% !important; padding-right: 1% !important; width:100% !important; } </style>"
      ],
      "text/plain": [
       "<IPython.core.display.HTML object>"
      ]
     },
     "metadata": {},
     "output_type": "display_data"
    }
   ],
   "source": [
    "from custommagics import CustomMagics\n",
    "get_ipython().register_magics(CustomMagics)\n",
    "\n",
    "if WIDE_SCREEN:\n",
    "    import notebook\n",
    "    from IPython.display import display, HTML\n",
    "\n",
    "    if int(notebook.__version__.split(\".\")[0]) >= 7:    \n",
    "        display(HTML(\n",
    "            '<style>'\n",
    "                '.jp-Notebook { padding-left: 1% !important; padding-right: 1% !important; width:100% !important; } '\n",
    "            '</style>'\n",
    "        ))\n",
    "    else:\n",
    "        display(HTML(\"<style>.container { width:98% !important; }</style>\"))"
   ]
  },
  {
   "cell_type": "code",
   "execution_count": 3,
   "id": "f0d2899e",
   "metadata": {
    "ExecuteTime": {
     "end_time": "2024-01-19T10:20:13.144182399Z",
     "start_time": "2024-01-19T10:20:12.693456275Z"
    },
    "editable": false,
    "slideshow": {
     "slide_type": ""
    },
    "tags": []
   },
   "outputs": [
    {
     "name": "stdout",
     "output_type": "stream",
     "text": [
      "exercise1_3893995_notebook.py is backup to exercise1_3893995_notebook_backup.py\n",
      "Overwriting exercise1_3893995_notebook.py\n"
     ]
    }
   ],
   "source": [
    "%%execwritefile exercise1_{student}_notebook.py 0 \n",
    "\n",
    "# DO NOT CHANGE THIS CELL.\n",
    "# THESE ARE THE ONLY IMPORTS YOU ARE ALLOWED TO USE:\n",
    "\n",
    "import numpy as np\n",
    "import networkx as nx\n",
    "import matplotlib.pyplot as plt\n",
    "import copy"
   ]
  },
  {
   "cell_type": "code",
   "execution_count": 4,
   "id": "dc674e1b",
   "metadata": {
    "ExecuteTime": {
     "end_time": "2024-01-19T10:20:14.188805398Z",
     "start_time": "2024-01-19T10:20:14.175386296Z"
    },
    "editable": true,
    "slideshow": {
     "slide_type": ""
    },
    "tags": []
   },
   "outputs": [],
   "source": [
    "plt.matplotlib.rcParams['figure.figsize'] = [6, 4]"
   ]
  },
  {
   "cell_type": "markdown",
   "id": "4e940455",
   "metadata": {
    "editable": false,
    "slideshow": {
     "slide_type": ""
    },
    "tags": []
   },
   "source": [
    "# 1.0 Graph\n",
    "\n",
    "The following code outlines the basics of a Graph class. Study how this class works, and ensure you thoroughly study the docstrings to get a clear idea of how the class is intended to be implemented. \n",
    "\n",
    "Your task is to complete the `add_vertex` and `add_edge` class methods."
   ]
  },
  {
   "cell_type": "code",
   "execution_count": 5,
   "id": "ec8ab449",
   "metadata": {
    "ExecuteTime": {
     "end_time": "2024-01-19T10:20:15.997402528Z",
     "start_time": "2024-01-19T10:20:15.935996738Z"
    },
    "editable": true,
    "slideshow": {
     "slide_type": ""
    },
    "tags": []
   },
   "outputs": [
    {
     "name": "stdout",
     "output_type": "stream",
     "text": [
      "Appending to exercise1_3893995_notebook.py\n"
     ]
    }
   ],
   "source": [
    "%%execwritefile exercise1_{student}_notebook.py 1 -a\n",
    "\n",
    "class Graph():\n",
    "    \"\"\"\n",
    "    This is a class implementing a Graph.\n",
    "    The internal representation of this class is an adjacency list.\n",
    "    With set_adjacency_matrix and set_adjacency_list a graph can be retrieved with both representations.\n",
    "    However, the internal representation stays an adjacency list.\n",
    "\n",
    "    Attributes:\n",
    "        :param self.adjacency_list: This contains a dict with as keys the name of the vertices\n",
    "                               and as values their edges to other vertices.\n",
    "        :type self.adjacency_list: dict[int/str, set[int/str]]\n",
    "    \"\"\"\n",
    "    def __init__(self):\n",
    "        \"\"\"\n",
    "        This initializes the graph.\n",
    "        Note that this creates an empty graph.\n",
    "        \"\"\"\n",
    "        self.adjacency_list = {}\n",
    "\n",
    "    def add_vertex(self, vertex):\n",
    "        \"\"\"\n",
    "        This adds a vertex to the graph.\n",
    "        \n",
    "        :param vertex: This is the name of the vertex\n",
    "        :type vertex: int or str\n",
    "        \"\"\"\n",
    "        if vertex in self.adjacency_list:\n",
    "            raise ValueError(f\"The vertex name {vertex} already exist\")\n",
    "            \n",
    "        self.adjacency_list[vertex] = set()\n",
    "\n",
    "    def add_edge(self, source, destination):\n",
    "        \"\"\"\n",
    "        This adds an edge to the graph.\n",
    "\n",
    "        :param source: This is the name of the vertex where the edge comes from.\n",
    "        :type source: int or str\n",
    "        :param destination: This is the name of the vertex where the edge goes to.\n",
    "        :type destination: int or str\n",
    "        \"\"\"\n",
    "        if source not in self.adjacency_list:\n",
    "            raise ValueError(f\"The vertex name {source} does not exist in the graph\")\n",
    "        if destination not in self.adjacency_list:\n",
    "            raise ValueError(f\"The vertex name {destination} does not exist in the graph\")\n",
    "\n",
    "        self.adjacency_list[source].add(destination)\n",
    "        \n",
    "    def set_adjacency_list(self, adjacency_list):\n",
    "        \"\"\"\n",
    "        This uses the input to adjacency_list to set the graph.\n",
    "        This overwrites the current graph.\n",
    "\n",
    "        :param adjacency_list: This contains a dict with as keys the name of the vertices\n",
    "                               and as values their edges to other vertices.\n",
    "        :type adjacency_list: dict[int/str, set[int/str]]\n",
    "        \"\"\"\n",
    "        # Check the new graph for consistency (no edges to non-existing vertices).\n",
    "        for source, edges in adjacency_list.items():\n",
    "            for dest in edges:\n",
    "                if dest not in adjacency_list.keys():\n",
    "                    raise ValueError(f\"The vertex {dest} does not exist in the graph with vertices: {list(adjacency_list.keys())}\")\n",
    "\n",
    "            self.adjacency_list[source] = set(edges)\n",
    "\n",
    "    def get_adjacency_list(self):\n",
    "        \"\"\"\n",
    "        This method returns the adjacency list, which is the internal representation of the graph.\n",
    "\n",
    "        :return: A dictionary containing the adjacency_list\n",
    "        :rtype: dict[int/str, set[int/str]]\n",
    "        \"\"\"\n",
    "        return self.adjacency_list"
   ]
  },
  {
   "cell_type": "markdown",
   "id": "01d94a79",
   "metadata": {
    "editable": false,
    "slideshow": {
     "slide_type": ""
    },
    "tags": []
   },
   "source": [
    "## Test your code\n",
    "\n",
    "In the cell below you can test your code from the cell above (ensure you run the cell beforehand) to validate if `add_vertex` and `add_edge` works as intended.\n",
    "To do this create a ``Graph`` object, add vertices and edges and then use the ``get_adjacency_list`` to verify that your implementation works correctly."
   ]
  },
  {
   "cell_type": "code",
   "execution_count": 6,
   "id": "256fa5b9",
   "metadata": {
    "ExecuteTime": {
     "end_time": "2024-01-19T10:20:17.818054163Z",
     "start_time": "2024-01-19T10:20:17.775181352Z"
    },
    "editable": true,
    "slideshow": {
     "slide_type": ""
    },
    "tags": []
   },
   "outputs": [
    {
     "name": "stdout",
     "output_type": "stream",
     "text": [
      "{3: {1, 3}, 1: set(), 2: {1, 3}}\n"
     ]
    },
    {
     "data": {
      "text/plain": [
       "{3: {1, 3, 'B'}, 1: set(), 2: {1, 3}, 'B': {1}}"
      ]
     },
     "execution_count": 6,
     "metadata": {},
     "output_type": "execute_result"
    }
   ],
   "source": [
    "\n",
    "graph_example = Graph()\n",
    "graph_example.set_adjacency_list({3: [3, 1], 1: [], 2: [3, 1]})\n",
    "print(graph_example.get_adjacency_list())\n",
    "graph_example.add_vertex(\"B\")\n",
    "graph_example.add_edge(\"B\", 1)\n",
    "graph_example.add_edge(3, \"B\")\n",
    "\n",
    "graph_example.get_adjacency_list()"
   ]
  },
  {
   "cell_type": "markdown",
   "id": "9129cdc1",
   "metadata": {
    "slideshow": {
     "slide_type": ""
    },
    "tags": []
   },
   "source": [
    "## 1.1 Adjacency matrix representation\n",
    "\n",
    "We continue the work of building the Graph implementation. Initially, the class implements an adjacency list representation of a ``Graph``-object. In this exercise, you are tasked to implement the static method ``list_to_matrix``. This method should take as input the adjacency list representation of a ``Graph``-object and return a *2D numpy array* representing the same graph.  \n",
    "\n",
    "Think about why a static method is used instead of a class method. What would need to change in order to implement it as a class method? If you are confused about the distinction between static- and class methods see e.g. [this resource](https://stackoverflow.com/questions/136097/what-is-the-difference-between-staticmethod-and-classmethod-in-python)\n",
    "\n",
    "For your convenience, we have added a way to visualize the graph of a ``Graph``-object via the ``show()`` method. "
   ]
  },
  {
   "cell_type": "code",
   "execution_count": 7,
   "id": "95b701e2",
   "metadata": {
    "ExecuteTime": {
     "end_time": "2024-01-19T10:20:19.703415021Z",
     "start_time": "2024-01-19T10:20:19.658051921Z"
    },
    "editable": true,
    "slideshow": {
     "slide_type": ""
    },
    "tags": []
   },
   "outputs": [
    {
     "name": "stdout",
     "output_type": "stream",
     "text": [
      "Appending to exercise1_3893995_notebook.py\n"
     ]
    }
   ],
   "source": [
    "%%execwritefile exercise1_{student}_notebook.py 2 -a -c\n",
    "\n",
    "class Graph(Graph):\n",
    "    def get_adjacency_matrix(self):\n",
    "        \"\"\"\n",
    "        This method returns an adjacency matrix representation of the graph.\n",
    "\n",
    "        :return: A 2D numpy array containing the adjacency matrix\n",
    "        :rtype: np.ndarray[int]\n",
    "        \"\"\"\n",
    "        return Graph.list_to_matrix(self.adjacency_list)\n",
    "\n",
    "    @staticmethod\n",
    "    def list_to_matrix(adjacency_list):\n",
    "        \"\"\"\n",
    "        This static method transforms an adjacency list into an adjacency matrix.\n",
    "\n",
    "        :param adjacency_list: An adjacency list representing a graph.\n",
    "        :type adjacency_list: dict[int/str, set[int/str]]\n",
    "        :return: A 2D numpy array containing the adjacency matrix\n",
    "        :rtype: np.ndarray[bool]\n",
    "        \"\"\"\n",
    "\n",
    "        vertices = list(adjacency_list.keys())\n",
    "        vertices.sort()\n",
    "        n = len(vertices)\n",
    "        adjacency_matrix = np.zeros((n, n), dtype=int)\n",
    "        for i, vertex in enumerate(vertices):\n",
    "            for edge in adjacency_list[vertex]:\n",
    "                j = vertices.index(edge)\n",
    "                adjacency_matrix[i, j] = 1\n",
    "        return adjacency_matrix\n",
    "\n",
    "    def show(self):\n",
    "        \"\"\"\n",
    "        This method shows the current graph.\n",
    "        \"\"\"\n",
    "        graph = nx.from_numpy_array(self.get_adjacency_matrix(), create_using=nx.DiGraph)\n",
    "        nx.draw_shell(graph,\n",
    "                      labels=dict(enumerate(self.adjacency_list.keys())),\n",
    "                      with_labels=True,\n",
    "                      node_size=500,\n",
    "                      width=2,\n",
    "                      arrowsize=20)\n",
    "        plt.show()"
   ]
  },
  {
   "cell_type": "markdown",
   "id": "6dd56e39",
   "metadata": {
    "editable": false,
    "slideshow": {
     "slide_type": ""
    },
    "tags": []
   },
   "source": [
    "## Test your code\n",
    "\n",
    "Here you can test your code. One way to validate your implementation is to create a graph object and ensure that ``get_adjacency_matrix``, ``get_adjacency_list``, and the visualization all align. To visualize simply call the class method ``show()`` on a Graph object. \n"
   ]
  },
  {
   "cell_type": "code",
   "execution_count": 8,
   "id": "089724cd",
   "metadata": {
    "ExecuteTime": {
     "end_time": "2024-01-19T10:20:21.500876983Z",
     "start_time": "2024-01-19T10:20:21.376413882Z"
    },
    "editable": true,
    "slideshow": {
     "slide_type": ""
    },
    "tags": []
   },
   "outputs": [
    {
     "name": "stdout",
     "output_type": "stream",
     "text": [
      "{3: {1, 3}, 1: set(), 2: {1, 3}}\n",
      "[[0 0 0]\n",
      " [1 0 1]\n",
      " [1 0 1]]\n"
     ]
    },
    {
     "data": {
      "image/png": "[encoded data removed]",
      "text/plain": [
       "<Figure size 600x400 with 1 Axes>"
      ]
     },
     "metadata": {},
     "output_type": "display_data"
    }
   ],
   "source": [
    "G = Graph()\n",
    "G.set_adjacency_list({3: [3, 1], 1: [], 2: [3, 1]})\n",
    "print(G.get_adjacency_list())\n",
    "print(G.get_adjacency_matrix())\n",
    "G.show()\n"
   ]
  },
  {
   "cell_type": "markdown",
   "id": "42c704ff",
   "metadata": {
    "editable": false,
    "slideshow": {
     "slide_type": ""
    },
    "tags": []
   },
   "source": [
    "## 1.2 Update with adjacency matrix\n",
    "\n",
    "Now that we've added a way to obtain an adj. matrix representation a natural next step is to extend the class further to allow a way to update a ``Graph``-object with an adj. matrix. Your task is to implement ``matrix_to_list`` "
   ]
  },
  {
   "cell_type": "code",
   "execution_count": 9,
   "id": "cd2718c5",
   "metadata": {
    "ExecuteTime": {
     "end_time": "2024-01-19T10:20:23.557750913Z",
     "start_time": "2024-01-19T10:20:23.511482659Z"
    },
    "editable": true,
    "slideshow": {
     "slide_type": ""
    },
    "tags": []
   },
   "outputs": [
    {
     "name": "stdout",
     "output_type": "stream",
     "text": [
      "Appending to exercise1_3893995_notebook.py\n"
     ]
    }
   ],
   "source": [
    "%%execwritefile exercise1_{student}_notebook.py 3 -a -c\n",
    "\n",
    "class Graph(Graph):\n",
    "    def set_adjacency_matrix(self, adjacency_matrix):\n",
    "        \"\"\"\n",
    "        This class method expects an adjacency matrix as input, it then updates the Graph's internal\n",
    "        adjacency list which updates the Graph. Note that this will overwrite the current Graph.\n",
    "\n",
    "        :param adjacency_matrix: This contains the adjacency matrix.\n",
    "        :type adjacency_matrix: np.ndarray[int]\n",
    "        \"\"\"\n",
    "        adjacency_list = Graph.matrix_to_list(adjacency_matrix)\n",
    "        self.set_adjacency_list(adjacency_list)\n",
    "\n",
    "    @staticmethod\n",
    "    def matrix_to_list(adjacency_matrix):\n",
    "        \"\"\"\n",
    "        This static method transforms an adjacency matrix into an adjacency list.\n",
    "\n",
    "        :param adjacency_matrix: A 2D numpy array containing the adjacency matrix\n",
    "        :type adjacency_matrix: np.ndarray[int]\n",
    "        :return: An adjacency list representing a graph.\n",
    "        :rtype: dict[int, set[int]]\n",
    "        \"\"\"\n",
    "        adjacency_list = {}\n",
    "        for i, vertex in enumerate(adjacency_matrix):\n",
    "            adjacency_list[i] = set(np.where(vertex == 1)[0])\n",
    "        return adjacency_list"
   ]
  },
  {
   "cell_type": "markdown",
   "id": "1d9b15f7",
   "metadata": {
    "editable": false,
    "slideshow": {
     "slide_type": ""
    },
    "tags": []
   },
   "source": [
    "## Test your code\n",
    "\n",
    "Use the cell below to test your code. Check if ``matrix_to_list`` works as intended.\n",
    "\n",
    "A way to test would be to create a Graph object which is then updated with the new ``set_adjacency_matrix``-method and later inspeceted it with the ``show()``-method. You might also validate your work by printing the adjacency matrix using ``get_adjacency_matrix``."
   ]
  },
  {
   "cell_type": "code",
   "execution_count": 13,
   "id": "71b858c3",
   "metadata": {
    "ExecuteTime": {
     "end_time": "2024-01-19T10:20:25.052198317Z",
     "start_time": "2024-01-19T10:20:24.921799669Z"
    },
    "editable": true,
    "slideshow": {
     "slide_type": ""
    },
    "tags": []
   },
   "outputs": [
    {
     "name": "stdout",
     "output_type": "stream",
     "text": [
      "{0: set(), 1: set(), 2: {0, 1, 3}, 3: {1, 3}, 4: {1, 4}}\n",
      "[[0 0 0 0 0]\n",
      " [0 0 0 0 0]\n",
      " [1 1 0 1 0]\n",
      " [0 1 0 1 0]\n",
      " [0 1 0 0 1]]\n"
     ]
    },
    {
     "data": {
      "image/png": "[encoded data removed]",
      "text/plain": [
       "<Figure size 600x400 with 1 Axes>"
      ]
     },
     "metadata": {},
     "output_type": "display_data"
    }
   ],
   "source": [
    "G = Graph()\n",
    "G.set_adjacency_matrix(np.random.choice([0, 1], size=(5,5), p=[0.7, 0.3]))\n",
    "print(G.get_adjacency_list())\n",
    "print(G.get_adjacency_matrix())\n",
    "G.show()\n"
   ]
  },
  {
   "cell_type": "markdown",
   "id": "da37e779",
   "metadata": {
    "editable": false,
    "slideshow": {
     "slide_type": ""
    },
    "tags": []
   },
   "source": [
    "## 1.3 Added functionality for the Graph-class\n",
    "\n",
    "In some  The graph class can now also return the undirected variant of the current graph. "
   ]
  },
  {
   "cell_type": "code",
   "execution_count": 16,
   "id": "4476eb3b",
   "metadata": {
    "ExecuteTime": {
     "end_time": "2024-01-19T10:20:28.723126168Z",
     "start_time": "2024-01-19T10:20:28.681952894Z"
    },
    "editable": true,
    "slideshow": {
     "slide_type": ""
    },
    "tags": []
   },
   "outputs": [
    {
     "name": "stdout",
     "output_type": "stream",
     "text": [
      "Replace existing code exercise1_3893995_notebook.py\n"
     ]
    }
   ],
   "source": [
    "%%execwritefile exercise1_{student}_notebook.py 4 -a -c\n",
    "\n",
    "class Graph(Graph):\n",
    "    def to_undirected_graph(self):\n",
    "        \"\"\"\n",
    "        This method returns the undirected graph based on the direct graph (self).\n",
    "\n",
    "        :return: This returns a graph object which is undirected.\n",
    "        :rtype: Graph\n",
    "        \"\"\"\n",
    "        undirected_graph = Graph()\n",
    "        adjacency_list = copy.deepcopy(self.get_adjacency_list())\n",
    "        for vertex, edges in adjacency_list.items():\n",
    "            for edge in edges:\n",
    "                adjacency_list[edge].add(vertex)\n",
    "        undirected_graph.set_adjacency_list(adjacency_list)\n",
    "        return undirected_graph"
   ]
  },
  {
   "cell_type": "markdown",
   "id": "e2aa6cfa",
   "metadata": {},
   "source": [
    "## Test your code\n",
    "\n",
    "Use the cell below to test your code, and validate that  ``to_undirected_graph`` works as intended.\n",
    "\n",
    "\n",
    "You can do this by 1) creating a Graph object and show it, 2) apply ``to_undirected_graph`` to make an undirected version of the same graph and show it as well."
   ]
  },
  {
   "cell_type": "code",
   "execution_count": 19,
   "id": "e5f742ea",
   "metadata": {},
   "outputs": [],
   "source": [
    "x = np.random.choice([0, 1], size=(5,5), p=[0.7, 0.3])"
   ]
  },
  {
   "cell_type": "code",
   "execution_count": 20,
   "id": "59602429",
   "metadata": {},
   "outputs": [
    {
     "data": {
      "text/plain": [
       "array([[0, 0, 0, 0, 0],\n",
       "       [1, 0, 1, 0, 0],\n",
       "       [1, 0, 0, 1, 0],\n",
       "       [0, 0, 0, 1, 0],\n",
       "       [0, 1, 0, 0, 0]])"
      ]
     },
     "execution_count": 20,
     "metadata": {},
     "output_type": "execute_result"
    }
   ],
   "source": [
    "x"
   ]
  },
  {
   "cell_type": "code",
   "execution_count": 21,
   "id": "a34f909d",
   "metadata": {
    "ExecuteTime": {
     "end_time": "2024-01-19T10:20:30.279606202Z",
     "start_time": "2024-01-19T10:20:30.084984264Z"
    }
   },
   "outputs": [
    {
     "data": {
      "image/png": "[encoded data removed]",
      "text/plain": [
       "<Figure size 600x400 with 1 Axes>"
      ]
     },
     "metadata": {},
     "output_type": "display_data"
    },
    {
     "data": {
      "image/png": "[encoded data removed]",
      "text/plain": [
       "<Figure size 600x400 with 1 Axes>"
      ]
     },
     "metadata": {},
     "output_type": "display_data"
    }
   ],
   "source": [
    "G = Graph()\n",
    "G.set_adjacency_matrix(x)\n",
    "G.show()\n",
    "G.to_undirected_graph().show()"
   ]
  },
  {
   "cell_type": "markdown",
   "id": "0513728d",
   "metadata": {
    "editable": false,
    "slideshow": {
     "slide_type": ""
    },
    "tags": []
   },
   "source": [
    "## 1.4 Add method to the Graph class.\n",
    "\n",
    "Provide an implementation for exercise 3 from the Problem Set. That is, provide an implementation of your pseudocode algorithm that verifies whether an undirected graph contains at most two vertices with an odd number of neighbours. Make sure you finish [1.3](#1.3-Added-functionality-for-the-Graph-class) before attempting this exercise."
   ]
  },
  {
   "cell_type": "code",
   "execution_count": null,
   "id": "3dc2f3e7",
   "metadata": {
    "ExecuteTime": {
     "end_time": "2024-01-19T10:20:34.313441218Z",
     "start_time": "2024-01-19T10:20:34.270939022Z"
    },
    "editable": true,
    "slideshow": {
     "slide_type": ""
    },
    "tags": []
   },
   "outputs": [],
   "source": [
    "%%execwritefile exercise1_{student}_notebook.py 5 -a -c\n",
    "\n",
    "class Graph(Graph):\n",
    "    def has_two_or_less_odd_vertices(self):\n",
    "        \"\"\"\n",
    "        This method determines if an undirected graph has at most two vertices with an odd number of neighbours.\n",
    "        \n",
    "        Any graph can be used but should first be converted into a undirected graph, \n",
    "        which is already given in the code below.\n",
    "        \n",
    "        Note that a reflexive edge, i.e. an edge that connects a vertex to itself, should be ignored. \n",
    "        For example the partial adjacency list: `4: {4, 2, 1}` has an even number of neighbours.\n",
    "        \n",
    "        :return: True if graph contains at most two vertices with odd number of neighbours, False otherwise.\n",
    "        :rtype: bool\n",
    "        \"\"\"\n",
    "        g = self.to_undirected_graph()\n",
    "        raise NotImplementedError(\"Please complete this method\")"
   ]
  },
  {
   "cell_type": "markdown",
   "id": "c2b6cd3a",
   "metadata": {
    "editable": false,
    "slideshow": {
     "slide_type": ""
    },
    "tags": []
   },
   "source": [
    "## Test your code\n",
    "Use the cell below to check if ``count_odd_vertices`` works as intended."
   ]
  },
  {
   "cell_type": "code",
   "execution_count": null,
   "id": "aea641c1",
   "metadata": {
    "ExecuteTime": {
     "end_time": "2024-01-19T10:20:35.198186935Z",
     "start_time": "2024-01-19T10:20:35.114590734Z"
    }
   },
   "outputs": [],
   "source": [
    "G = Graph()\n",
    "G.set_adjacency_matrix(np.random.choice([0, 1], size=(5,5), p=[0.7, 0.3]))\n",
    "print(G.has_two_or_less_odd_vertices())\n",
    "G.show()\n"
   ]
  },
  {
   "cell_type": "markdown",
   "id": "89451e55",
   "metadata": {
    "editable": false,
    "slideshow": {
     "slide_type": ""
    },
    "tags": []
   },
   "source": [
    "## 1.5 Invert edges \n",
    "\n",
    "Implement your pseudocode algorithm for inverting all the edges of a directed graph by completing the ``invert_edges`` method. "
   ]
  },
  {
   "cell_type": "code",
   "execution_count": null,
   "id": "880d45a9",
   "metadata": {},
   "outputs": [],
   "source": [
    "%%execwritefile exercise1_{student}_notebook.py 6 -a -c\n",
    "\n",
    "class Graph(Graph):\n",
    "    def invert_edges(self):\n",
    "        \"\"\"\n",
    "        This method inverts all edges of a graph.\n",
    "\n",
    "        Note, that inverting the edges of an undirected graph returns the same graph.\n",
    "        \n",
    "        :return: A new graph with the edge inverted.\n",
    "        :rtype: Graph\n",
    "        \"\"\"\n",
    "        raise NotImplementedError(\"Please complete this method\")"
   ]
  },
  {
   "cell_type": "markdown",
   "id": "859c5970",
   "metadata": {
    "editable": false,
    "slideshow": {
     "slide_type": ""
    },
    "tags": []
   },
   "source": [
    "## Test your code\n",
    "Use the cell below to check that ``invert_edges`` works as intended."
   ]
  },
  {
   "cell_type": "code",
   "execution_count": null,
   "id": "4c9f4d42-2667-4fd4-8ba7-63f8e9bfc2c1",
   "metadata": {
    "editable": false,
    "slideshow": {
     "slide_type": ""
    },
    "tags": []
   },
   "outputs": [],
   "source": [
    "G = Graph()\n",
    "G.set_adjacency_matrix(np.random.choice([0, 1], size=(5,5), p=[0.7, 0.3]))\n",
    "G2 = G.invert_edges()\n",
    "G.show()\n",
    "G2.show()\n"
   ]
  },
  {
   "cell_type": "markdown",
   "id": "b0908e58-4937-4c3e-8281-c37711b4fb07",
   "metadata": {
    "editable": false,
    "slideshow": {
     "slide_type": ""
    },
    "tags": []
   },
   "source": [
    "# 2.0 UNITTESTS\n",
    "\n",
    "During this assignment, we copied all your code to the following **.py** file **\"exercise1_{student}_notebook.py\"**. You also tested your code along the way. However, it is possible that there are still a few errors. Therefore, it is good to run some unittest when you complete all coding. This gives you an extra chance to spot mistakes. Here, we added some unittest for you to use. Note, that they are merely a check to see if your **.py** is correct.\n",
    "\n",
    "From this point onwards we strongly advise renaming the **\"exercise1_{student}_notebook.py\"** file to the correct file name that you need to hand in **\"exercise1_{student}.py\"**. Now, you can adjust the **\"exercise1_{student}.py\"** file without the risk of overwriting it when you run the notebook again. This also enables the possibility to run the unittests. Note, that from now on if you make a change in the Python file and you want to go back to the notebook later that you also make this change in the notebook. To run the unittests go to the **\"unit_test.py\"** file and run the file in either PyCharm, VSCode, or a terminal. You can run it in a terminal using the following command: `python -m unittest --verbose unit_test.py`. `--verbose` is optional but gives you more details about which tests fail and which succeed.\n",
    "\n",
    "You are allowed to add your own unittests. \n",
    "\n",
    "## Uploading to Brightspace for Bonus\n",
    "\n",
    "Next, you can upload your Python file with the correct name on brightspace in the bonus assignment. Follow the instructions on this brightspace page carefully to have a successful submission. After you get the feedback for this exercise you can either continue working in the Python file to fix possible bugs or you can go back to the notebook and remake the Python file. ***Please be careful, do not update your code in both the Python file and notebook at the same time!***. If you go back to the notebook do not forget to update the notebook with any changes you made within the Python file. In this case, it is best to just delete the Python file as soon as you copied all changes."
   ]
  },
  {
   "cell_type": "code",
   "execution_count": null,
   "id": "3d015dff-ef8d-41e6-aeff-ae81bc29a132",
   "metadata": {},
   "outputs": [],
   "source": []
  }
 ],
 "metadata": {
  "kernelspec": {
   "display_name": "Python 3 (ipykernel)",
   "language": "python",
   "name": "python3"
  },
  "language_info": {
   "codemirror_mode": {
    "name": "ipython",
    "version": 3
   },
   "file_extension": ".py",
   "mimetype": "text/x-python",
   "name": "python",
   "nbconvert_exporter": "python",
   "pygments_lexer": "ipython3",
   "version": "3.10.13"
  }
 },
 "nbformat": 4,
 "nbformat_minor": 5
}
