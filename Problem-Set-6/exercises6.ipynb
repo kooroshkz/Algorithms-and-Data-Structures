{
 "cells": [
  {
   "cell_type": "markdown",
   "id": "23475a6f",
   "metadata": {
    "editable": false,
    "slideshow": {
     "slide_type": ""
    },
    "tags": []
   },
   "source": [
    "# Welcome to Lab 6: Backtracking\n",
    "\n",
    "In this week's exercises, we will focus on two concepts both related to making your search smarter. One is backtracking which prevents the exploration of state-spaces that are incorrect. The other one is the possibility to keep exploring after you already returned a solution. This is very helpful if you want to incorporate your search algorithm inside a larger algorithm. Note, that this is optional and focuses mainly on broadening your programming skill. Throughout the exercise, you will be extending the classes by completing code stubs in their respective cells. You do not need to copy the code, it is enough to work in the cell under each exercise. Note that there are separate cells provided where you can (and should) test your code. During the exercises, you will (through customMagics) obtain a Python file (.py) which you should run against a set of unittests. Please avoid writing any unnecessary code in cells containing the `%%execwritefile` command. Doing this could alter the file `.py` and make it syntactically incorrect or interfere with the unittests. To prevent this stick to the following rules:'\n",
    " - ***Do not remove cells that start with ``%%execwritefile`` and do not remove that line.***\n",
    " - If a cell contains a `%%execwritefile` command at the top and a class definition you need to complete the given methods and adding helper methods is allowed, but do **not** add new functions or Python script to the cells (like global variables).\n",
    " - If a cell contains a `%%execwritefile` command at the top and **not** a class definition you must complete the given functions and you are free to add helper functions, new classes, and Python script that contains for example global variables. Note, that the use of global variables is almost always wrong except for a few use cases such as RNG for the numpy random generator methods.\n",
    " - If a cell does **not** contain a `%%execwritefile` command you can plot things, print variables, and write test cases. Here, you are free to do whatever you want.\n",
    " - If a cell does **not** contain a `%%execwritefile` command it should not contain functional code that is needed to run other functions or classes. The reason is that it is not copied to the `.py`. So, it can not be used during the unittesting.\n",
    "\n",
    "You do not need to look at the `customMagic.py` nor do more than glimpse at the test file, your exercise is contained in this workbook unless specified differently in this notebook's instructions. \n",
    "\n",
    "***Hint: Jupyter Notebooks saves variables between runs. If you get unexpected results try restarting the kernel, this deletes any saved variables.*** \n",
    "\n",
    "Please fill in your student name down below"
   ]
  },
  {
   "cell_type": "code",
   "execution_count": 1,
   "id": "78cf4ce6-3998-4c5b-b2fb-d8b83c6336fc",
   "metadata": {
    "editable": true,
    "slideshow": {
     "slide_type": ""
    },
    "tags": []
   },
   "outputs": [],
   "source": [
    "# FILL IN YOU STUDENT NUMBER\n",
    "student = 3893995\n",
    "\n",
    "# Set this to false if you want the default screen width.\n",
    "WIDE_SCREEN = True"
   ]
  },
  {
   "cell_type": "code",
   "execution_count": 2,
   "id": "2f51569f",
   "metadata": {
    "ExecuteTime": {
     "end_time": "2024-01-19T10:20:08.920263757Z",
     "start_time": "2024-01-19T10:20:08.907961698Z"
    },
    "editable": false,
    "slideshow": {
     "slide_type": ""
    },
    "tags": []
   },
   "outputs": [
    {
     "data": {
      "text/html": [
       "<style>.jp-Notebook { padding-left: 1% !important; padding-right: 1% !important; width:100% !important; } </style>"
      ],
      "text/plain": [
       "<IPython.core.display.HTML object>"
      ]
     },
     "metadata": {},
     "output_type": "display_data"
    }
   ],
   "source": [
    "from custommagics import CustomMagics\n",
    "\n",
    "if WIDE_SCREEN:\n",
    "    import notebook\n",
    "    from IPython.display import display, HTML\n",
    "\n",
    "    if int(notebook.__version__.split(\".\")[0]) >= 7:    \n",
    "        display(HTML(\n",
    "            '<style>'\n",
    "                '.jp-Notebook { padding-left: 1% !important; padding-right: 1% !important; width:100% !important; } '\n",
    "            '</style>'\n",
    "        ))\n",
    "    else:\n",
    "        display(HTML(\"<style>.container { width:98% !important; }</style>\"))\n",
    "\n",
    "get_ipython().register_magics(CustomMagics)"
   ]
  },
  {
   "cell_type": "code",
   "execution_count": 3,
   "id": "dc271cbf-ca64-4f94-b215-4306c69b5667",
   "metadata": {
    "ExecuteTime": {
     "end_time": "2024-01-19T10:20:13.144182399Z",
     "start_time": "2024-01-19T10:20:12.693456275Z"
    },
    "editable": false,
    "slideshow": {
     "slide_type": ""
    },
    "tags": []
   },
   "outputs": [
    {
     "name": "stdout",
     "output_type": "stream",
     "text": [
      "Writing exercise6_3893995_notebook.py\n"
     ]
    }
   ],
   "source": [
    "%%execwritefile exercise6_{student}_notebook.py 0 \n",
    "\n",
    "# DO NOT CHANGE THIS CELL.\n",
    "# THESE ARE THE ONLY IMPORTS YOU ARE ALLOWED TO USE:\n",
    "\n",
    "import numpy as np\n",
    "import copy\n",
    "import networkx as nx\n",
    "import matplotlib.pyplot as plt\n",
    "\n",
    "RNG = np.random.default_rng()"
   ]
  },
  {
   "cell_type": "code",
   "execution_count": 4,
   "id": "022add5f-abf2-48f4-9416-3e579f078a80",
   "metadata": {
    "editable": true,
    "slideshow": {
     "slide_type": ""
    },
    "tags": []
   },
   "outputs": [],
   "source": [
    "plt.matplotlib.rcParams['figure.figsize'] = [6, 4]"
   ]
  },
  {
   "cell_type": "markdown",
   "id": "b89ae8a0-a4c3-4fef-b52f-456dbf5ea9b6",
   "metadata": {
    "editable": false,
    "slideshow": {
     "slide_type": ""
    },
    "tags": []
   },
   "source": [
    "# 1.0 Permutations Using Backtracking\n",
    "\n",
    "In lab 4 question 2.0 (State-Space for Permutations), we did an exhaustive search on a state-space with only valid solutions. So, if we use backtracking to solve this state-space it would only change the algorithm by adding an extra if-statement that returns always true. Obviously, this is not very useful, however, in question 2.1 (Permutations with Replacement) of lab 4, we do have a state-space with incorrect solutions and now implementing backtracking could actually reduce the complexity compared to exhaustive search. \n",
    "\n",
    "Now, implement backtracking on the state-space defined as all the permutations with replacement. You can assume that all objects in the list are unique.\n",
    "\n",
    "***Note, that to be able to do backtracking we need to give a list with the chosen items so far***"
   ]
  },
  {
   "cell_type": "code",
   "execution_count": 5,
   "id": "c24c9a1b-77be-4596-a830-0a81bdc982a5",
   "metadata": {
    "editable": true,
    "slideshow": {
     "slide_type": ""
    },
    "tags": []
   },
   "outputs": [
    {
     "name": "stdout",
     "output_type": "stream",
     "text": [
      "Appending to exercise6_3893995_notebook.py\n"
     ]
    }
   ],
   "source": [
    "%%execwritefile exercise6_{student}_notebook.py 10 -a -s\n",
    "\n",
    "class Permutations():\n",
    "    def __call__(self, list_):\n",
    "        \"\"\"\n",
    "        This method gives all the permutations of the list.\n",
    "        This is done by generating all state-space but \n",
    "        using backtracking to ignore incorrect solution/solution branches.\n",
    "        \n",
    "        :param list_: The list containing all the unique elements.\n",
    "        :type list_: list\n",
    "        :return: A list with all possible permutations.\n",
    "        :rtype: list[list[Objects]]\n",
    "        \"\"\"\n",
    "        # All actions are the same, so it is helpful to make an object attribute.\n",
    "        self.list = list_\n",
    "        return self.step([])\n",
    "\n",
    "    def step(self, chosen_list):\n",
    "        \"\"\"\n",
    "        This method adds one value to the new permutated list and\n",
    "        and calls next_step to generate a new set of actions.\n",
    "        \n",
    "        :param chosen_list: This list contains all objects chosen so far.\n",
    "        :type chosen_list: list[Objects]\n",
    "        :return: A list containing all the permutations, from the current space-state.\n",
    "        :type: list[list[Objects]]\n",
    "        \"\"\" \n",
    "        if len(chosen_list) == len(self.list):\n",
    "            return [[]] \n",
    "        permutations = []\n",
    "        for value in self.list:\n",
    "            new_permutation = [value]\n",
    "            next_permutations = self.next_step(chosen_list, value)\n",
    "            for permutation in next_permutations:\n",
    "                if self.is_not_incorrect(new_permutation + permutation):\n",
    "                    permutations.append(new_permutation + permutation)\n",
    "        return permutations\n",
    "        \n",
    "    def next_step(self, chosen_list, chosen_object):\n",
    "        \"\"\"\n",
    "        This method generates the actions that are possible for the next step and calls step with the updated state-space.\n",
    "        These actions consist of all elements of the original list. \n",
    "        Note, that if you saved them as an object attribute this method does not do much.\n",
    "\n",
    "        :param i: A counter how many elements are added to the new permutation.\n",
    "        :type i: int\n",
    "        :return: This method returns what self.step returns\n",
    "        :type: list[list[Objects]]\n",
    "        \"\"\"\n",
    "        return self.step(chosen_list + [chosen_object])\n",
    "        \n",
    "    def is_not_incorrect(self, chosen_list):\n",
    "        \"\"\"\n",
    "        This method returns if the state-space is (partially) correct aka if it can become a permutation.\n",
    "\n",
    "        :param chosen_list: A possible permutation of self.list\n",
    "        :type chosen_list: list[Objects]\n",
    "        :return: Return if the permutation variable is or is not a permutation.\n",
    "        :rtype: boolean\n",
    "        \"\"\"\n",
    "        return len(chosen_list) == len(set(chosen_list))"
   ]
  },
  {
   "cell_type": "markdown",
   "id": "44d6e203-3cc4-4d7d-a865-92fe2313ec3b",
   "metadata": {
    "editable": false,
    "slideshow": {
     "slide_type": ""
    },
    "tags": []
   },
   "source": [
    "## Test your code\n",
    "\n",
    "Below, you can test your backtrack algorithm for creating permutation using the class `Permutations`. "
   ]
  },
  {
   "cell_type": "code",
   "execution_count": 6,
   "id": "804f11be-4740-4c27-9e75-c574a647c077",
   "metadata": {},
   "outputs": [
    {
     "data": {
      "text/plain": [
       "[[1, 2, 3], [1, 3, 2], [2, 1, 3], [2, 3, 1], [3, 1, 2], [3, 2, 1]]"
      ]
     },
     "execution_count": 6,
     "metadata": {},
     "output_type": "execute_result"
    }
   ],
   "source": [
    "# Type your testing code here\n",
    "Permutations()([1, 2, 3])"
   ]
  },
  {
   "cell_type": "markdown",
   "id": "ea07a3f5-3873-4aa5-a88b-1ebd11b516a0",
   "metadata": {
    "editable": false,
    "slideshow": {
     "slide_type": ""
    },
    "tags": []
   },
   "source": [
    "# 2.0 n-Queen Problem\n",
    "\n",
    "In the lecture, you saw how the n-queen problem works and how it is coded using backtracking. Here, we will implement the constraints in two ways using the function we saw in the lecture and using the framework that we have been using since lecture 4. Below, you can also see a picture of how both algorithms are basically the same only in the framework we use more helper methods which makes each method smaller/simpler.\n",
    "\n",
    "<img src=\"n_queens_def_vs_class.png\" alt=\"drawing\" width=\"1350\"/>\n"
   ]
  },
  {
   "cell_type": "code",
   "execution_count": 7,
   "id": "0d9d5394-66db-4198-9c05-2968189f0cb8",
   "metadata": {
    "editable": true,
    "slideshow": {
     "slide_type": ""
    },
    "tags": []
   },
   "outputs": [
    {
     "name": "stdout",
     "output_type": "stream",
     "text": [
      "Appending to exercise6_3893995_notebook.py\n"
     ]
    }
   ],
   "source": [
    "%%execwritefile exercise6_{student}_notebook.py 20 -a -s\n",
    "\n",
    "def constraint(queens, col):\n",
    "    \"\"\"\n",
    "    The constraints for the n-queen problem\n",
    "\n",
    "    :param queens: The currently placed queens.\n",
    "    :type queens: list[int]\n",
    "    :param col: The column that the queen is placed in.\n",
    "    :type col: int\n",
    "    :return: If the constraint is satisfied or not.\n",
    "    :rtype: bool\n",
    "    \"\"\"\n",
    "    row = len(queens)\n",
    "    queens_row = 0\n",
    "    for queens_col in queens:\n",
    "        if col == queens_col or abs(col - queens_col) == abs(row - queens_row):\n",
    "            return False \n",
    "        queens_row += 1\n",
    "    return True\n",
    "\n",
    "def rec_nQueens(size, queens=None):\n",
    "    \"\"\"\n",
    "    Recursively computes a solution for the n-Queens puzzle.\n",
    "\n",
    "    :param size: The size of the puzzle\n",
    "    :type size: int\n",
    "    :param queens: The currently placed queens, e.g. [4,2] represent \n",
    "                   that on row 0 we placed a queen in the 4th position, \n",
    "                   and on row 1 we placed a queen in the 2nd position.\n",
    "                   This defaults to [].\n",
    "    :type queens: list[int], optional\n",
    "    :return: The (partial) list of queen positions.\n",
    "    :rtype: list[int]\n",
    "    \"\"\"\n",
    "    if queens is None:\n",
    "        queens = []\n",
    "    \n",
    "    if size <= len(queens):\n",
    "        return queens\n",
    "    \n",
    "    for col in range(size):\n",
    "        if constraint(queens, col):\n",
    "            queens.append(col)\n",
    "            candidate_sol = rec_nQueens(size, queens)\n",
    "            if candidate_sol:\n",
    "                return candidate_sol\n",
    "            queens.pop()\n",
    "    return False\n",
    "\n",
    "class N_Queens():\n",
    "    def __call__(self, size):\n",
    "        \"\"\"\n",
    "        Recursively computes a solution for the n-Queens puzzle.\n",
    "        \n",
    "        size is not a recursive part of n-queens.\n",
    "        So, we can store it in an object attribute.\n",
    "        \n",
    "        :param size:  The size of the puzzle\n",
    "        :type size: int\n",
    "        \"\"\"\n",
    "        self.size = size \n",
    "        return self.step([])\n",
    "\n",
    "    def step(self, queens):\n",
    "        \"\"\"\n",
    "        One step in solving the n-queens problem\n",
    "\n",
    "        :param queens: The currently placed queens, e.g. [4,2] represent \n",
    "                       that on row 0 we placed a queen in the 4th position, \n",
    "                       and on row 1 we placed a queen in the 2nd position.\n",
    "        :type queens: list[int]\n",
    "        :return: The (partial) list of queen positions.\n",
    "        :rtype: list[int]\n",
    "        \"\"\"\n",
    "        if self.size <= len(queens):\n",
    "            return queens\n",
    "        \n",
    "        for col in range(self.size):\n",
    "            candidate_sol = self.next_step(queens, col)\n",
    "            if candidate_sol:\n",
    "                return candidate_sol\n",
    "                \n",
    "        self.clean_up(queens)\n",
    "        return False\n",
    "        \n",
    "    def next_step(self, queens, col):\n",
    "        \"\"\"\n",
    "        Check if you can go to the next step.\n",
    "        \n",
    "        :param queens: The currently placed queens, e.g. [4,2] represent \n",
    "                       that on row 0 we placed a queen in the 4th position, \n",
    "                       and on row 1 we placed a queen in the 2nd position.\n",
    "        :type queens: list[int]\n",
    "        :param col: The column that is tried to be added.\n",
    "        :type col: int\n",
    "        :return: The return of the step method\n",
    "        :rtype: list[int]\n",
    "        \"\"\"\n",
    "        if self.constraint(queens, col):\n",
    "            queens.append(col)\n",
    "            return self.step(queens)\n",
    "        return False\n",
    "\n",
    "    def clean_up(self, queens):\n",
    "        \"\"\"\n",
    "        Clean up your previous division, in this case, remove the last queen of the board.\n",
    "        \"\"\"\n",
    "        queens.pop()\n",
    "    \n",
    "    def constraint(self, queens, col):\n",
    "        \"\"\"\n",
    "        Check if the constraints are satisfied.\n",
    "\n",
    "        :param queens: The currently placed queens, e.g. [4,2] represent \n",
    "                       that on row 0 we placed a queen in the 4th position, \n",
    "                       and on row 1 we placed a queen in the 2nd position.\n",
    "        :type queens: list[int]\n",
    "        :param col: The column that is tried to be added.\n",
    "        :type col: int\n",
    "        :return: The return of the step method\n",
    "        :rtype: list[int]\n",
    "            \"\"\"\n",
    "        row = len(queens)\n",
    "        queens_row = 0\n",
    "        for queens_col in queens:\n",
    "            if col == queens_col or abs(col - queens_col) == abs(row - queens_row):\n",
    "                return False\n",
    "            queens_row += 1\n",
    "        return True\n"
   ]
  },
  {
   "cell_type": "markdown",
   "id": "5b1a23a3-306c-4d31-8add-5205b9d0d96d",
   "metadata": {
    "editable": false,
    "slideshow": {
     "slide_type": ""
    },
    "tags": []
   },
   "source": [
    "## Test your code\n",
    "\n",
    "You can test your code below. Check if there is a difference between `N_Queens` and `rec_nQueens`."
   ]
  },
  {
   "cell_type": "code",
   "execution_count": 8,
   "id": "01abbe6a-4f32-418f-9df1-0778ca1e3384",
   "metadata": {
    "editable": true,
    "slideshow": {
     "slide_type": ""
    },
    "tags": []
   },
   "outputs": [
    {
     "data": {
      "text/plain": [
       "[0, 4, 7, 5, 2, 6, 1, 3]"
      ]
     },
     "execution_count": 8,
     "metadata": {},
     "output_type": "execute_result"
    }
   ],
   "source": [
    "# Write your tests here\n",
    "N_Queens()(8)\n"
   ]
  },
  {
   "cell_type": "markdown",
   "id": "434069d3-a546-4e05-9671-372e3704f483",
   "metadata": {
    "editable": false,
    "slideshow": {
     "slide_type": ""
    },
    "tags": []
   },
   "source": [
    "## 2.1 n-Rooks Problem\n",
    "\n",
    "Above, we implemented the n-queen problem. However, by changing the constraints we can also solve the n-Rook problem.\n",
    "\n",
    "Think about if this reduced state-space would also work for knights or any other chess pieces.\n",
    "\n",
    "This also illustrates why solving these problems in classes is helpful. Not only do we not need to change the name of each helper function/method. We can also use inheritance to avoid coping the code and using inheritance we can only overwrite the method we want to overwrite.\n"
   ]
  },
  {
   "cell_type": "code",
   "execution_count": 9,
   "id": "5ad9d8d2-f328-4629-aed1-2bd1871c502e",
   "metadata": {
    "editable": true,
    "slideshow": {
     "slide_type": ""
    },
    "tags": []
   },
   "outputs": [
    {
     "name": "stdout",
     "output_type": "stream",
     "text": [
      "Appending to exercise6_3893995_notebook.py\n"
     ]
    }
   ],
   "source": [
    "%%execwritefile exercise6_{student}_notebook.py 25 -a -s\n",
    "\n",
    "class N_rooks(N_Queens):\n",
    "    def constraint(self, rooks, col):\n",
    "        \"\"\"\n",
    "        Check if the constraints are satisfied.\n",
    "\n",
    "        :param rooks: The currently placed rooks, e.g. [4,2] represent \n",
    "                       that on row 0 we placed a queen in the 4th position, \n",
    "                       and on row 1 we placed a queen in the 2nd position.\n",
    "        :type rooks: list[int]\n",
    "        :param col: The column that is tried to be added.\n",
    "        :type col: int\n",
    "        :return: The return of the step method\n",
    "        :rtype: list[int]\n",
    "        \"\"\"\n",
    "        row = len(rooks)\n",
    "        rooks_row = 0\n",
    "        for rooks_col in rooks:\n",
    "            if col == rooks_col:\n",
    "                return False\n",
    "            rooks_row += 1\n",
    "        return True"
   ]
  },
  {
   "cell_type": "markdown",
   "id": "e342ff35-761f-46e4-8a8e-65b65ff6bac7",
   "metadata": {
    "editable": false,
    "slideshow": {
     "slide_type": ""
    },
    "tags": []
   },
   "source": [
    "## Test your code\n",
    "\n",
    "Below test your code. Check your `rec_nrooks` works correctly."
   ]
  },
  {
   "cell_type": "code",
   "execution_count": 10,
   "id": "07c6d972-5bc6-4681-b7bd-f82eaac62a50",
   "metadata": {},
   "outputs": [
    {
     "data": {
      "text/plain": [
       "[0, 1, 2, 3]"
      ]
     },
     "execution_count": 10,
     "metadata": {},
     "output_type": "execute_result"
    }
   ],
   "source": [
    "N_rooks()(4)"
   ]
  },
  {
   "cell_type": "markdown",
   "id": "4d4fc6c7-acd1-4885-8b34-a11457214656",
   "metadata": {
    "editable": false,
    "slideshow": {
     "slide_type": ""
    },
    "tags": []
   },
   "source": [
    "## 2.2 n-Queens Problem (all solutions)\n",
    "\n",
    "While sometimes returning one solution is good enough, other times we do want to know all solutions. Here, we will change the step method of `N_Queens` to create `N_Qeens_All` which now returns all possibilities. Again, we can use inheritance to not change the other helper methods.\n",
    "\n",
    "Hint: Sometimes clean-up is more difficult than just making copies.\n",
    "\n",
    "Also, think about how you could do this for the n-rook problem, or did you already do this?"
   ]
  },
  {
   "cell_type": "code",
   "execution_count": 11,
   "id": "1f3d9769-5c71-4562-a981-0ab63c3e5255",
   "metadata": {
    "editable": true,
    "slideshow": {
     "slide_type": ""
    },
    "tags": []
   },
   "outputs": [
    {
     "name": "stdout",
     "output_type": "stream",
     "text": [
      "Appending to exercise6_3893995_notebook.py\n"
     ]
    }
   ],
   "source": [
    "%%execwritefile exercise6_{student}_notebook.py 28 -a -s\n",
    "\n",
    "class N_Queens_All(N_Queens):        \n",
    "    def step(self, queens):\n",
    "        \"\"\"\n",
    "        One step in solving the n-queens problem\n",
    "\n",
    "        :param queens: The currently placed queens, e.g. [4,2] represent \n",
    "                       that on row 0 we placed a queen in the 4th position, \n",
    "                       and on row 1 we placed a queen in the 2nd position.\n",
    "        :type queens: list[int]\n",
    "        :return: The (partial) list of queen positions.\n",
    "        :rtype: list[int]\n",
    "        \"\"\"\n",
    "        if self.size <= len(queens):\n",
    "            return [queens]\n",
    "        \n",
    "        solutions = []\n",
    "        for col in range(self.size):\n",
    "            if self.constraint(queens, col):\n",
    "                queens.append(col)\n",
    "                candidate_queens = queens[:]\n",
    "                candidate_sol = self.step(candidate_queens)\n",
    "                if candidate_sol:\n",
    "                    solutions.extend(candidate_sol)\n",
    "                self.clean_up(queens)\n",
    "\n",
    "        return solutions"
   ]
  },
  {
   "cell_type": "markdown",
   "id": "83670646-6e98-4227-bccd-24a7e327eda7",
   "metadata": {
    "editable": false,
    "slideshow": {
     "slide_type": ""
    },
    "tags": []
   },
   "source": [
    "## Test your code\n",
    "\n",
    "You can test your code below. Check your `N_Queens_All` works correctly. Four queens should have two solutions."
   ]
  },
  {
   "cell_type": "code",
   "execution_count": 12,
   "id": "c3ff8869-8d55-4f7a-a3eb-f56fd2297c7b",
   "metadata": {},
   "outputs": [
    {
     "data": {
      "text/plain": [
       "[[1, 3, 0, 2], [2, 0, 3, 1]]"
      ]
     },
     "execution_count": 12,
     "metadata": {},
     "output_type": "execute_result"
    }
   ],
   "source": [
    "N_Queens_All()(4)"
   ]
  },
  {
   "cell_type": "markdown",
   "id": "001a06ef-cde6-4b71-8e46-f6ed6b991de4",
   "metadata": {
    "editable": false,
    "slideshow": {
     "slide_type": ""
    },
    "tags": []
   },
   "source": [
    "# Class Attribute vs Object Attributes\n",
    "\n",
    "Just a short summary of the difference between class and object attributes. An object attribute is a variable inside an object that for each class instance (object) is unique. So far, you have only been working with object attributes. They are often declared inside the `__init__` and class object itself has no access to them. For example, take the class below:\n",
    "\n",
    "```python\n",
    "class Test():\n",
    "    def __init__(self, value):\n",
    "        self.value = value\n",
    "```\n",
    "\n",
    "So far you made an object of the class and then you could access the attribute value of this object, like this:\n",
    "\n",
    "```python\n",
    "test_obj = Test(10)\n",
    "print(test_obj.value)\n",
    "```\n",
    "\n",
    "This works fine and prints the value `10`. However, the class object itself (`Test`) has no attribute `value` and can also not access it from its instances. So the following code does not work.\n",
    "```python\n",
    "Test.value\n",
    "```\n",
    "This will give the error `AttributeError: type object 'Test' has no attribute 'value'`.\n",
    "\n",
    "However, the class object itself can have attributes. These are shared between all object instances and the class object. This could be helpful to store general information of a class or store metadata of a class such as how many class instances (objects) of this class are being used. Often in gaming, you see this where you have a class that creates enemy objects and one of the class attributes is the number of enemies. This makes sense because the total number of enemies should not change for each enemy object. This is also memory efficient as it is only stored once.\n",
    "\n",
    "A class attribute is defined directly below the class. For example, in the next exercise, we will color a graph and the colors are stored in a class attribute like this:\n",
    "```python\n",
    "class Graph():\n",
    "    colors = ['r', 'g', 'b']\n",
    "```\n",
    "Now, both the class itself and its instances can access this attribute. For example, the following code would print twice the list `['r', 'g', 'b']`.\n",
    "```python\n",
    "print(Graph.colors)\n",
    "graph_obj = Graph()\n",
    "print(graph_obj.colors)\n",
    "```\n",
    "\n"
   ]
  },
  {
   "cell_type": "markdown",
   "id": "ef445104-5e3d-4859-b7cc-74cfa8819c0c",
   "metadata": {
    "editable": false,
    "slideshow": {
     "slide_type": ""
    },
    "tags": []
   },
   "source": [
    "# 3.0 Coloring Graphs\n",
    "\n",
    "In this exercise, we will color the nodes of a graph, where the rules are simple two nodes that are connected with an edge can not have the same color. Often these problems require you to find the minimal number of colors to do this. However, to make it less programming work and still practice backtracking we will focus on the following question: \"Can we color the graph with three colors, and if so give an example?\".\n",
    "\n",
    "We will use an adjacency list to represent the graph and a color list to represent the colors of each node. To wrap this all up needly we will use the `Graph` class which can be found below. Some functionality is already programmed. So take the time to see how this works. \n",
    "\n",
    "Your job is to finish the `color_the_graph` method. However, before you can start coloring the graph we need a way to add data to the `Graph` class. To do this you will use a setter, which is a method that makes sure, if you change an attribute of your class the rest of the attributes change accordingly. This prevents mistakes where for example the adjacency list is updated but not the color list. Setter are almost always named `set_....`."
   ]
  },
  {
   "cell_type": "code",
   "execution_count": 13,
   "id": "3fa18ef5-f42e-4a5d-a5d1-0506762d8611",
   "metadata": {
    "editable": true,
    "slideshow": {
     "slide_type": ""
    },
    "tags": []
   },
   "outputs": [
    {
     "name": "stdout",
     "output_type": "stream",
     "text": [
      "Appending to exercise6_3893995_notebook.py\n"
     ]
    }
   ],
   "source": [
    "%%execwritefile exercise6_{student}_notebook.py 30 -a -s\n",
    "\n",
    "class Graph():\n",
    "    \"\"\"\n",
    "    An undirected graph (not permitting loop) class with the ability to color the nodes using three colors ('r', 'g', or 'b'). \n",
    "    Two nodes that are connected through an edge can not have the same colors.\n",
    "\n",
    "    Class attributes:\n",
    "        :param colors: The possible colors to color the graph ('r', 'g', or 'b'). \n",
    "                       Note, you must use these strings otherwise the `show` method does not work.\n",
    "        :type colors: list[str]\n",
    "    \n",
    "    Object attributes:\n",
    "        :param adjacency_list: The representation of the graph.\n",
    "        :type adjacency_list: dict[str/int, set[str/int]]\n",
    "        :param color_list: A dictionary with as keys the nodes and as values the colors (R, G, B)\n",
    "        :type color_list: dict[str/int, str]\n",
    "    \"\"\"\n",
    "    colors = ['r', 'b', 'g']\n",
    "    \n",
    "    def __init__(self):\n",
    "        \"\"\"\n",
    "        The graph is always initialized empty, use the `set_graph` method to fill it.\n",
    "        \"\"\"\n",
    "        self.adjacency_list = {}\n",
    "        self.color_list = {}\n",
    "\n",
    "    @staticmethod\n",
    "    def generate_random_graph():\n",
    "        \"\"\"\n",
    "        This is a helper method to generate a random graph\n",
    "        \n",
    "        :return: This returns a random adjacency_list\n",
    "        :rtype: dict[str/int, set[str/int]]\n",
    "        \"\"\"\n",
    "        size = RNG.integers(3, 9)\n",
    "        \n",
    "        # add nodes\n",
    "        adjacency_list = {i if RNG.choice([True, False]) else str(i): set() for i in range(size)}\n",
    "        \n",
    "        # Add random directed edges\n",
    "        for node in adjacency_list.keys():\n",
    "            adjacency_list[node] = set(i if i in adjacency_list else str(i) for i in RNG.choice(list(range(size)), size=RNG.integers(0.9*size)) if i not in [int(node), str(node)])\n",
    "        # make the edges undirected\n",
    "        for source, destinations in adjacency_list.items():\n",
    "            for destination in destinations:\n",
    "                adjacency_list[destination].add(source)\n",
    "            \n",
    "        return adjacency_list       \n",
    "\n",
    "    def set_graph(self, adjacency_list):\n",
    "        \"\"\"\n",
    "        This method sets the graph using as input an adjacency list.\n",
    "\n",
    "        Hint: You need to change both the `adjacency_list` and the `color_list`. \n",
    "              Colors are by default None.\n",
    "\n",
    "        :param adjacency_list: The representation of the graph.\n",
    "        :type adjacency_list: dict[str/int, set[str/int]]\n",
    "        \"\"\"\n",
    "        self.adjacency_list = adjacency_list\n",
    "        for node in adjacency_list:\n",
    "            self.color_list[node] = None     \n",
    "\n",
    "    def show(self):\n",
    "        \"\"\"\n",
    "        This method shows the current graph.\n",
    "        \"\"\"\n",
    "        n_vertices = len(self.adjacency_list)\n",
    "        matrix = np.zeros((n_vertices, n_vertices))\n",
    "        key_to_index = dict(zip(self.adjacency_list.keys(), range(n_vertices)))\n",
    "        for vertex, edges in self.adjacency_list.items():\n",
    "            for edge in edges:\n",
    "                matrix[key_to_index[vertex], key_to_index[edge]] = 1\n",
    "        \n",
    "        graph = nx.from_numpy_array(matrix, create_using=nx.DiGraph)\n",
    "        nx.draw_shell(graph,\n",
    "                      labels=dict(enumerate(self.adjacency_list.keys())),\n",
    "                      with_labels=True,\n",
    "                      node_size=500,\n",
    "                      width=2,\n",
    "                      arrowsize=1,\n",
    "                      node_color=[c if c is not None else 'grey' for c in self.color_list.values()])\n",
    "        plt.show()"
   ]
  },
  {
   "cell_type": "markdown",
   "id": "9f0d53eb-eb69-4a7c-8cc0-e7d80313c682",
   "metadata": {
    "editable": false,
    "slideshow": {
     "slide_type": ""
    },
    "tags": []
   },
   "source": [
    "## Test your code\n",
    "\n",
    "You can test your code below. Check if your `set_graph` works correctly."
   ]
  },
  {
   "cell_type": "code",
   "execution_count": 14,
   "id": "c571602b-701b-4dc8-a42a-2ad3c83b2a4f",
   "metadata": {},
   "outputs": [
    {
     "data": {
      "image/png": "[encoded data removed]",
      "text/plain": [
       "<Figure size 600x400 with 1 Axes>"
      ]
     },
     "metadata": {},
     "output_type": "display_data"
    }
   ],
   "source": [
    "# Write your own test here.\n",
    "graph = Graph()\n",
    "graph.set_graph({'A': {'B', 'C'}, 'B': {'A', 'C'}, 'C': {'A', 'B'}})\n",
    "graph.show()\n"
   ]
  },
  {
   "cell_type": "markdown",
   "id": "208945d6-11de-43d8-9be6-7f13fa0dd763",
   "metadata": {
    "editable": false,
    "slideshow": {
     "slide_type": ""
    },
    "tags": []
   },
   "source": [
    "## 3.1 Coloring Graphs\n",
    "\n",
    "Here, you will write a backtracking algorithm to solve the coloring of the graph problem. Because `_step`, `_next_step`, and `_is_not_incorrect` are helper methods and should not be used outside this class they start with a `_`. You can ignore it as long as you do not forget that they start with an underscore.\n",
    "\n",
    "Hint 1: To get a better idea of what is happening, you could show the graph each time you change the color of a node.\n",
    "\n",
    "Hint 2: Again, cleaning up is often harder than copying state-spaces. It is recommended that you only clean up the `color_list`."
   ]
  },
  {
   "cell_type": "code",
   "execution_count": 15,
   "id": "43d466c3-33c5-4ff5-b9ac-7b18ec88c519",
   "metadata": {
    "editable": true,
    "slideshow": {
     "slide_type": ""
    },
    "tags": []
   },
   "outputs": [
    {
     "name": "stdout",
     "output_type": "stream",
     "text": [
      "Appending to exercise6_3893995_notebook.py\n"
     ]
    }
   ],
   "source": [
    "%%execwritefile exercise6_{student}_notebook.py 35 -a -s -c\n",
    "\n",
    "class Graph(Graph):\n",
    "    def color_the_graph(self):\n",
    "        \"\"\"\n",
    "        This method colors the graph and returns if it was successful or not.\n",
    "\n",
    "        :return: If the graph is colored\n",
    "        :rtype: bool\n",
    "        \"\"\"\n",
    "        nodes = list(self.adjacency_list.keys())\n",
    "        return self._step(nodes)\n",
    "\n",
    "        def _step(self, nodes):\n",
    "            \"\"\"\n",
    "            One step in the coloring of the graph.\n",
    "\n",
    "            :param nodes: A list of nodes that are not colored yet.\n",
    "            :type nodes: list[int/str]\n",
    "            \"\"\"\n",
    "            if not nodes:\n",
    "                return True\n",
    "\n",
    "            node = nodes[0]\n",
    "            colors = ['r', 'g', 'b']\n",
    "            for color in colors:\n",
    "                self.color_list[node] = color\n",
    "                if self._is_correct(node):\n",
    "                    if self._step(self._next_step(nodes)):\n",
    "                        return True\n",
    "            self._clean_up(node)\n",
    "            return False\n",
    "\n",
    "    def _clean_up(self, node):\n",
    "        \"\"\"\n",
    "        If all possible actions in step fail, it makes sure that any decisions are undone.\n",
    "\n",
    "        :param node: The current node that is being colored\n",
    "        :type node: int/str\n",
    "        \"\"\"\n",
    "        self.color_list[node] = None\n",
    "    \n",
    "    def _next_step(self, nodes):\n",
    "        \"\"\"\n",
    "        This method can help to go to the next step and it makes sure that the nodes list is correct.\n",
    "        \n",
    "        :param nodes: A list of nodes that are not colored yet.\n",
    "        :type nodes: list[int/str]\n",
    "        \"\"\"\n",
    "        return nodes[1:]\n",
    "    \n",
    "    def _is_correct(self, node):\n",
    "        \"\"\"\n",
    "        This method checks if node is colored correctly.\n",
    "        \n",
    "        :param node: The current node that is being colored\n",
    "        :type node: int/str\n",
    "        \"\"\"\n",
    "        for neighbor in self.adjacency_list[node]:\n",
    "            if self.color_list[neighbor] == self.color_list[node]:\n",
    "                return False\n",
    "        return True"
   ]
  },
  {
   "cell_type": "markdown",
   "id": "0ae1ee40-8faa-4f97-9207-09ecfd201a0a",
   "metadata": {
    "editable": false,
    "slideshow": {
     "slide_type": ""
    },
    "tags": []
   },
   "source": [
    "## Test your code\n",
    "\n",
    "You can test your code below. Check if your `color_the_graph` method works correctly."
   ]
  },
  {
   "cell_type": "markdown",
   "id": "3bd1cf44-7b5d-4f85-8564-ed3f6efc536f",
   "metadata": {
    "editable": false,
    "slideshow": {
     "slide_type": ""
    },
    "tags": []
   },
   "source": [
    "# 4.0 Search with Generators \n",
    "\n",
    "## ***All exercises below are additional content for extra practice, they only count for a small percentage of the bonus (TestExpert). So, you can skip to section [5.0 Unittests](#5.0-UNITTESTS) if you do not want to do these exercises.***\n",
    "\n",
    "So, far we have seen several approaches to create solutions for a problem. We can create one solution or all solutions, use backtracking or exhaustive search, and use depth-first search or breath-first search. However, sometimes it is helpful if you can create one solutions and then create another one if needed. This is especially helpful if creating all solutions is not feasible. An example could be if need permutations to solve some other algorithm, but we do not know which permutation leads to a correct answer. Now, we could make all permutations but this is a bit expensive if the second permutation is the one that we need. Therefore, we can use generators in Python, which gives a the opportunity to first check if a certain permutation is correct before generating the next.\n",
    "\n",
    "## 4.1 Yield Keyword\n",
    "\n",
    "The `yield` keyword makes it possible to make a generator. `yield` is similar to `return` however if you call `next()` on an object that uses yield the code goes back to the `yield` statement and keeps running. So, this makes it possible to \"go out\" of a certain function and then go \"back in\". Let see how this works in an example.\n",
    "\n",
    "```python\n",
    "def func_a():\n",
    "    print(\"function a\")\n",
    "    yield 1\n",
    "    print(\"function a\")\n",
    "    yield 2\n",
    "\n",
    "def func_b():\n",
    "    generator_a = func_a()\n",
    "    print(f\"function b called next {next(generator_a)} times.\")\n",
    "    print(f\"function b called next {next(generator_a)} times.\")\n",
    "\n",
    "func_b()\n",
    "```\n",
    "\n",
    "This code will print:\n",
    "```\n",
    "function a\n",
    "function b called next 1 times.\n",
    "function a\n",
    "function b called next 2 times.\n",
    "```\n",
    "\n",
    "As you can see `func_b` can ask for a result of `func_a` and then do something before asking for another result of `func_a`. If you did see the function `next` before this is one of the main mechanisms behind  a for loop. So the example above would also work with a for loop. Thus, the code below would have exactly the same output as the code above.\n",
    "\n",
    "```python\n",
    "def func_a():\n",
    "    print(\"function a\")\n",
    "    yield 1\n",
    "    print(\"function a\")\n",
    "    yield 2\n",
    "\n",
    "def func_b():\n",
    "    for answer_a in func_a():\n",
    "        print(f\"function b called next {answer_a} times.\")\n",
    "\n",
    "func_b()\n",
    "```\n",
    "\n",
    "The final thing you need to understand is how `return` works in combination with `yield`. The simple answer is that `return` does not work normally because it will not return any value and it will just stop the generator. This can be seen in the code below. Note, that the print before `return` is executed.\n",
    "\n",
    "```python\n",
    "def func_a():\n",
    "    print(\"function a\")\n",
    "    yield 1\n",
    "    print(\"function a\")\n",
    "    return\n",
    "    yield 2\n",
    "\n",
    "def func_b():\n",
    "    for answer_a in func_a():\n",
    "        print(f\"function b called next {answer_a} times.\")\n",
    "\n",
    "func_b()\n",
    "```\n",
    "\n",
    "The code above will print:\n",
    "```\n",
    "function a\n",
    "function b called next 1 times.\n",
    "function a\n",
    "```\n",
    "\n",
    "## 4.2 Permutation Generators\n",
    "\n",
    "In this exercise, you will make again an algorithm that uses backtracking to create all permutations. However, this time you will make a generator that gives back one answer each time.\n",
    "\n",
    "Hint: To stop the generator from creating certain state-spaces, you can use `return`.\n",
    "\n",
    "***A Warning, working with yield in recursive functions can be extremely difficult!***"
   ]
  },
  {
   "cell_type": "code",
   "execution_count": 16,
   "id": "bbfa1626-9492-410c-8d65-df1ded99b371",
   "metadata": {
    "editable": true,
    "slideshow": {
     "slide_type": ""
    },
    "tags": []
   },
   "outputs": [
    {
     "name": "stdout",
     "output_type": "stream",
     "text": [
      "Appending to exercise6_3893995_notebook.py\n"
     ]
    }
   ],
   "source": [
    "%%execwritefile exercise6_{student}_notebook.py 40 -a -s\n",
    "\n",
    "class PermutationsGenerator(Permutations):\n",
    "    def step(self, chosen_list):\n",
    "        \"\"\"\n",
    "        This method adds one value to the new permutated list and\n",
    "        and calls next_step to generate a new set of actions.\n",
    "        \n",
    "        :param chosen_list: This list contains all objects chosen so far.\n",
    "        :type chosen_list: list[Objects]\n",
    "        :return: A list containing all the permutations, from the current space-state.\n",
    "        :type: list[list[Objects]]\n",
    "        \"\"\"\n",
    "        if len(chosen_list) == len(self.objects):\n",
    "            yield chosen_list\n",
    "        else:\n",
    "            for obj in self.objects:\n",
    "                if obj not in chosen_list:\n",
    "                    new_chosen = chosen_list + [obj]\n",
    "                    yield from self.step(new_chosen)"
   ]
  },
  {
   "cell_type": "markdown",
   "id": "09262c41-ed34-477b-85f3-618a370fd35c",
   "metadata": {
    "editable": false,
    "slideshow": {
     "slide_type": ""
    },
    "tags": []
   },
   "source": [
    "## Test your code\n",
    "\n",
    "You can test your code below. Check if your `PermutationsGenerator` class works correctly. You can print the content of a generator by using a for loop."
   ]
  },
  {
   "cell_type": "markdown",
   "id": "2c3e25e3",
   "metadata": {
    "editable": false,
    "slideshow": {
     "slide_type": ""
    },
    "tags": []
   },
   "source": [
    "# 5.0 UNITTESTS\n",
    "\n",
    "During this assignment, we copied all your code to the following **.py** file **\"exercise6_{student}_notebook.py\"**. You also tested your code along the way. However, it is possible that there are still a few errors. Therefore, it is good to run some unittest when you complete all coding. This gives you an extra chance to spot mistakes. Here, we added some unittest for you to use. Note, that they are merely a check to see if your **.py** is correct.\n",
    "\n",
    "From this point onwards we strongly advise renaming the **\"exercise6_{student}_notebook.py\"** file to the correct file name that you need to hand in **\"exercise6_{student}.py\"**. Now, you can adjust the **\"exercise6_{student}.py\"** file without the risk of overwriting it when you run the notebook again. This also enables the possibility to run the unittests. Note, that from now on if you make a change in the Python file and you want to go back to the notebook later that you also make this change in the notebook. To run the unittests go to the **\"unit_test.py\"** file and run the file in either PyCharm, VSCode, or a terminal. You can run it in a terminal using the following command: `python -m unittest --verbose unit_test.py`. `--verbose` is optional but gives you more details about which tests fail and which succeed.\n",
    "\n",
    "You are allowed to add your own unittests. \n",
    "\n",
    "## Uploading to Brightspace for Bonus\n",
    "\n",
    "Next, you can upload your Python file with the correct name on brightspace in the bonus assignment. Follow the instructions on this brightspace page carefully to have a successful submission. After you get the feedback for this exercise you can either continue working in the Python file to fix possible bugs or you can go back to the notebook and remake the Python file. ***Please be careful, do not update your code in both the Python file and notebook at the same time!***. If you go back to the notebook do not forget to update the notebook with any changes you made within the Python file. In this case, it is best to just delete the Python file as soon as you copied all changes.\n",
    "\n",
    "***NOTE, that you can now also upload the exercises from week 1! The process is exactly the same only there is no unittest.***"
   ]
  },
  {
   "cell_type": "code",
   "execution_count": null,
   "id": "b31894c7-deff-42b0-8d83-f7a8ecbd2eab",
   "metadata": {},
   "outputs": [],
   "source": []
  }
 ],
 "metadata": {
  "kernelspec": {
   "display_name": "Python 3 (ipykernel)",
   "language": "python",
   "name": "python3"
  },
  "language_info": {
   "codemirror_mode": {
    "name": "ipython",
    "version": 3
   },
   "file_extension": ".py",
   "mimetype": "text/x-python",
   "name": "python",
   "nbconvert_exporter": "python",
   "pygments_lexer": "ipython3",
   "version": "3.10.13"
  }
 },
 "nbformat": 4,
 "nbformat_minor": 5
}
