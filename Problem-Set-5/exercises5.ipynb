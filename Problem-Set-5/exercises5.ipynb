{
 "cells": [
  {
   "cell_type": "markdown",
   "id": "23475a6f",
   "metadata": {
    "editable": false,
    "slideshow": {
     "slide_type": ""
    },
    "tags": []
   },
   "source": [
    "# Welcome to Week 5: Exhaustive Search \\& Brute Force Search\n",
    "\n",
    "In this week's programming exercise, we will look at algorithms that are designed to systematically find solutions for problems in a \"dumb\" way. This means that they are theoretically not optimized to find solutions fast nor efficiently. Note, that designing an efficient algorithm is different from implementing it efficiently. These kinds of algorithms are often called brute force algorithms, as it is effectively just throwing a lot of computer power at the problem, or exhaustive search which stands for just exhausting all options to find a solution. \n",
    "\n",
    "Throughout the exercise, you will be extending the classes by completing code stubs in their respective cells. You do not need to copy the code, it is enough to work in the cell under each exercise. Note that there are separate cells provided where you can (and should) test your code. During the exercises, you will (through customMagics) obtain a Python file (.py) which you should run against a set of unittests. Please avoid writing any unnecessary code in cells containing the `%%execwritefile` command. Doing this could alter the file `.py` and make it syntactically incorrect or interfere with the unittests. To prevent this stick to the following rules:'\n",
    " - ***Do not remove cells that start with ``%%execwritefile`` and do not remove that line.***\n",
    " - If a cell contains a `%%execwritefile` command at the top and a class definition you need to complete the given methods and adding helper methods is allowed, but do **not** add new functions or Python script to the cells (like global variables).\n",
    " - If a cell contains a `%%execwritefile` command at the top and **not** a class definition you must complete the given functions and you are free to add helper functions, new classes, and Python script that contains for example global variables. Note, that the use of global variables is almost always wrong except for a few use cases such as RNG for the numpy random generator methods.\n",
    " - If a cell does **not** contain a `%%execwritefile` command you can plot things, print variables, and write test cases. Here, you are free to do whatever you want.\n",
    " - If a cell does **not** contain a `%%execwritefile` command it should not contain functional code that is needed to run other functions or classes. The reason is that it is not copied to the `.py`. So, it can not be used during the unittesting.\n",
    "\n",
    "You do not need to look at the `customMagic.py` nor do more than glimpse at the test file, your exercise is contained in this workbook unless specified differently in this notebook's instructions. \n",
    "\n",
    "***Hint: Jupyter Notebooks saves variables between runs. If you get unexpected results try restarting the kernel, this deletes any saved variables.*** \n",
    "\n",
    "Please fill in your student name down below"
   ]
  },
  {
   "cell_type": "code",
   "execution_count": 1,
   "id": "78cf4ce6-3998-4c5b-b2fb-d8b83c6336fc",
   "metadata": {
    "editable": true,
    "slideshow": {
     "slide_type": ""
    },
    "tags": []
   },
   "outputs": [],
   "source": [
    "# FILL IN YOU STUDENT NUMBER\n",
    "student = 3893995\n",
    "\n",
    "# Set this to false if you want the default screen width.\n",
    "WIDE_SCREEN = True"
   ]
  },
  {
   "cell_type": "code",
   "execution_count": 2,
   "id": "2f51569f",
   "metadata": {
    "ExecuteTime": {
     "end_time": "2024-01-19T10:20:08.920263757Z",
     "start_time": "2024-01-19T10:20:08.907961698Z"
    },
    "editable": false,
    "slideshow": {
     "slide_type": ""
    },
    "tags": []
   },
   "outputs": [
    {
     "data": {
      "text/html": [
       "<style>.jp-Notebook { padding-left: 1% !important; padding-right: 1% !important; width:100% !important; } </style>"
      ],
      "text/plain": [
       "<IPython.core.display.HTML object>"
      ]
     },
     "metadata": {},
     "output_type": "display_data"
    }
   ],
   "source": [
    "from custommagics import CustomMagics\n",
    "import timeit\n",
    "import matplotlib.pyplot as plt\n",
    "\n",
    "if WIDE_SCREEN:\n",
    "    import notebook\n",
    "    from IPython.display import display, HTML\n",
    "\n",
    "    if int(notebook.__version__.split(\".\")[0]) >= 7:    \n",
    "        display(HTML(\n",
    "            '<style>'\n",
    "                '.jp-Notebook { padding-left: 1% !important; padding-right: 1% !important; width:100% !important; } '\n",
    "            '</style>'\n",
    "        ))\n",
    "    else:\n",
    "        display(HTML(\"<style>.container { width:98% !important; }</style>\"))\n",
    "\n",
    "get_ipython().register_magics(CustomMagics)\n",
    "\n"
   ]
  },
  {
   "cell_type": "code",
   "execution_count": 3,
   "id": "dc271cbf-ca64-4f94-b215-4306c69b5667",
   "metadata": {
    "ExecuteTime": {
     "end_time": "2024-01-19T10:20:13.144182399Z",
     "start_time": "2024-01-19T10:20:12.693456275Z"
    },
    "editable": false,
    "slideshow": {
     "slide_type": ""
    },
    "tags": []
   },
   "outputs": [
    {
     "name": "stdout",
     "output_type": "stream",
     "text": [
      "Writing exercise5_3893995_notebook.py\n"
     ]
    }
   ],
   "source": [
    "%%execwritefile exercise5_{student}_notebook.py 0 \n",
    "\n",
    "# DO NOT CHANGE THIS CELL.\n",
    "# THESE ARE THE ONLY IMPORTS YOU ARE ALLOWED TO USE:\n",
    "\n",
    "import numpy as np\n",
    "import networkx as nx\n",
    "import matplotlib.pyplot as plt\n",
    "import copy\n",
    "from tree import hierarchy_pos\n",
    "\n",
    "RNG = np.random.default_rng()"
   ]
  },
  {
   "cell_type": "markdown",
   "id": "b8458c2a-a159-4b95-adb7-97e10945d24e",
   "metadata": {
    "editable": false,
    "slideshow": {
     "slide_type": ""
    },
    "tags": []
   },
   "source": [
    "# 1.0 Nearest Neighbour Problem\n",
    "\n",
    "A common problem in AI is finding the nearest neighbor of a vector in some vector space. While there are smart ways of doing this it is often done with brute force where the distance is calculated between all vectors and the current vector and the neighbour with the shortest distance is of course the nearest neighbour. So, to solve it we need to generate all distances and then choose the smallest one. In the image below, you can find an example of why finding the nearest neighbor can be helpful in AI. Here, you see three groups of points that belong to the same group and you want to know to which group the new point (denoted with an \"x\") belongs to. Here, the answer is probably orange (group 2). Doing a nearest neighbour search would be one way to group new points.\n",
    "\n",
    "<img src=\"clustering.png\" alt=\"drawing\" width=\"350\"/>\n",
    "\n",
    "Below, you will implement two functions. In the first functions, you will implement a nearest neighbour search and, in the second function, you will use this to determine the group of the new point. \n",
    "\n",
    "## 1.1 Find Nearest Neighbour\n",
    "\n",
    "Implement `nearest_neighbour` and `distance`. `distance` can be used as a helper function to calculate the distance between two 2Dvectors."
   ]
  },
  {
   "cell_type": "code",
   "execution_count": 18,
   "id": "2da15203-35df-44fe-bf93-2d4c2be9caff",
   "metadata": {
    "editable": true,
    "slideshow": {
     "slide_type": ""
    },
    "tags": []
   },
   "outputs": [
    {
     "name": "stdout",
     "output_type": "stream",
     "text": [
      "Replace existing code exercise5_3893995_notebook.py\n"
     ]
    }
   ],
   "source": [
    "%%execwritefile exercise5_{student}_notebook.py 10 -a -s\n",
    "\n",
    "def distance(pointA, pointB):\n",
    "    \"\"\"\n",
    "    This calculates the Euclidean distance between two points: https://en.wikipedia.org/wiki/Euclidean_distance\n",
    "\n",
    "    :param pointA: The first coordinate\n",
    "    :type pointA: list[float] or np.ndarray[(2,), float]\n",
    "    :param pointB: The second coordinate\n",
    "    :type pointB: list[float] or np.ndarray[(2,), float]\n",
    "    :return: The distance between the two points\n",
    "    :rtype: float\n",
    "    \"\"\"\n",
    "    return np.linalg.norm(np.array(pointA) - np.array(pointB))\n",
    "\n",
    "def nearest_neighbour(data, point):\n",
    "    \"\"\"\n",
    "    This function finds the nearest neighbour of \"point\" in the \"data\".\n",
    "\n",
    "    :param data: All the points (neighbours) that need to be compared to \"point\".\n",
    "    :type data: np.ndarray[(n, 2), float]\n",
    "    :param point: The point of which you want to find the closest neighbour.\n",
    "    :type point: list[float] or np.ndarray[(2,), float]\n",
    "    :return: The nearest neighbour and the distance to that neighbour.\n",
    "    :rtype: tuple[np.ndarray[(2,), float], float]\n",
    "    \"\"\"\n",
    "    return min([(neighbour, distance(neighbour, point)) for neighbour in data if not np.array_equal(neighbour, point)], key=lambda x: x[1])"
   ]
  },
  {
   "cell_type": "markdown",
   "id": "80c4bb06-0024-44b1-bf85-2a35572c825b",
   "metadata": {
    "editable": false,
    "slideshow": {
     "slide_type": ""
    },
    "tags": []
   },
   "source": [
    "## Test your code\n",
    "\n",
    "Below, you can test your code for the function `nearest_neighbour` and `distance`. No example tests are given, so think of a way to properly test the functions and do it."
   ]
  },
  {
   "cell_type": "code",
   "execution_count": 19,
   "id": "e323df7a-afbb-4809-8038-d5b98c0007a5",
   "metadata": {
    "editable": true,
    "slideshow": {
     "slide_type": ""
    },
    "tags": []
   },
   "outputs": [
    {
     "name": "stdout",
     "output_type": "stream",
     "text": [
      "(array([0, 0]), 1.0)\n"
     ]
    }
   ],
   "source": [
    "# Type here your tests\n",
    "\n",
    "data = np.array([[0, 0], [1, 1], [2, 2], [3, 3], [4, 4]])\n",
    "point = [0, 1]\n",
    "print(nearest_neighbour(data, point))"
   ]
  },
  {
   "cell_type": "markdown",
   "id": "c9aa2222-5808-4ff3-8b1d-d714c1644c63",
   "metadata": {
    "editable": false,
    "slideshow": {
     "slide_type": ""
    },
    "tags": []
   },
   "source": [
    "## 1.2 Find Nearest Group\n",
    "\n",
    "Implement `classify_point` by going through all the groups and check which group has the nearest neighbour."
   ]
  },
  {
   "cell_type": "code",
   "execution_count": 20,
   "id": "b46f3fb5-d8b2-41ad-b920-4352fe0a7191",
   "metadata": {
    "editable": true,
    "slideshow": {
     "slide_type": ""
    },
    "tags": []
   },
   "outputs": [
    {
     "name": "stdout",
     "output_type": "stream",
     "text": [
      "Appending to exercise5_3893995_notebook.py\n"
     ]
    }
   ],
   "source": [
    "%%execwritefile exercise5_{student}_notebook.py 15 -a -s\n",
    "\n",
    "def classify_point(data, point):\n",
    "    \"\"\"\n",
    "    This function finds the nearest group based on the nearest neighbour of each group.\n",
    "    Use `nearest_neighbour` in this function.\n",
    "\n",
    "    :param data: A list of groups, where each group consists of all the points (neighbours) that need to be compared to \"point\".\n",
    "    :type data: list[np.ndarray[(Any, 2), float]]\n",
    "    :param point: The point of which you want to find the closest group.\n",
    "    :type point: list[float] or np.ndarray[(2,), float]\n",
    "    :return: The nearest group and the nearest neighbour.\n",
    "    :rtype: tuple[int, np.ndarray[(Any, 2), float]]\n",
    "    \"\"\"\n",
    "    return min([(i, nearest_neighbour(group, point)) for i, group in enumerate(data)], key=lambda x: x[1][1])"
   ]
  },
  {
   "cell_type": "markdown",
   "id": "8422d121-290f-4500-8f3c-0cb91f3a3908",
   "metadata": {
    "editable": false,
    "slideshow": {
     "slide_type": ""
    },
    "tags": []
   },
   "source": [
    "## Test your code\n",
    "\n",
    "Below, you can test your code for the function `classify_point`. An example demo is already included where each group is printed as well as the nearest neighbour of each group."
   ]
  },
  {
   "cell_type": "code",
   "execution_count": 21,
   "id": "f14fcf91-0d66-4352-8963-93ad49b32268",
   "metadata": {
    "editable": true,
    "slideshow": {
     "slide_type": ""
    },
    "tags": []
   },
   "outputs": [
    {
     "name": "stdout",
     "output_type": "stream",
     "text": [
      "The nearest neighbour of point (5, 5) is (array([5.23838491, 4.42224142]), 0.6250058735688694) which belongs to group 1.\n"
     ]
    },
    {
     "data": {
      "image/png": "[encoded data removed]",
      "text/plain": [
       "<Figure size 500x400 with 1 Axes>"
      ]
     },
     "metadata": {},
     "output_type": "display_data"
    }
   ],
   "source": [
    "plt.matplotlib.rcParams['figure.figsize'] = [5, 4]  # This changes the size of the plot\n",
    "\n",
    "\"\"\"\n",
    "Below you can change the parameters of the demo\n",
    "\"\"\"\n",
    "centers = [(3, 8), (5, 3), (8, 6)]  # this changes where approximately the middle of each group is\n",
    "n_points = 20  # The number of points of each group\n",
    "new_point = (5,5)  # The coordinate of the new point\n",
    "\n",
    "\"\"\"\n",
    "You do not need to change the code below for the demo.\n",
    "\"\"\"\n",
    "data = []\n",
    "for i, (x, y) in enumerate(centers):\n",
    "    data.append(np.array(list(zip(RNG.normal(x, 1, n_points), RNG.normal(y, 1, n_points)))))\n",
    "    plt.plot(data[-1][:,0], data[-1][:,1], 'o', label=f\"group {i+1}\")\n",
    "\n",
    "plt.plot(*nearest_neighbour(data[0], new_point)[0], 'k.', label=\"nearest point\")\n",
    "plt.plot(*nearest_neighbour(data[1], new_point)[0], 'k.')\n",
    "plt.plot(*nearest_neighbour(data[2], new_point)[0], 'k.')\n",
    "\n",
    "nearest_group, nearest_point = classify_point(data, new_point)\n",
    "print(f\"The nearest neighbour of point {new_point} is {tuple(nearest_point)} which belongs to group {nearest_group}.\")\n",
    "\n",
    "plt.plot(*new_point, 'x', color='k')\n",
    "plt.legend()\n",
    "plt.xlim(0, 10)\n",
    "plt.ylim(0, 10)\n",
    "plt.show()"
   ]
  },
  {
   "cell_type": "markdown",
   "id": "d6f6c46b-23f1-49af-bdb7-9aac531d105d",
   "metadata": {
    "editable": false,
    "slideshow": {
     "slide_type": ""
    },
    "tags": []
   },
   "source": [
    "# 2.0 Exhaustive Search\n",
    "\n",
    "Last week, we implemented a couple of algorithms for problems that require exhaustive search. So, if you did not do the permutation problem or the Manhattan problem you can do them for this week as well as they are good exercises for exhaustive search. However, if you have already done them, look back at them and see why they are exhaustive search algorithms.\n",
    "\n",
    "# 2.1 Multiple Ring Puzzle\n",
    "\n",
    "Often puzzles in games can be solved with exhaustive search, not only because of their form but also because their search-space is small enough to make this strategy feasible. In this exercise, we will solve a puzzle that consists of multiple rings that need to be turned until the right combination is found which unlocks the door. Each ring has three possibilities A, B, and C, see below for an abstract image where the current combination is \"A A A\". Work out what the search-space is, how many combinations there are, and why this strategy is feasible to do when gaming. This problem has size 3 as it contains 3 rings , however, you could at more rings how will this affect the algorithm? In other words, what is the complexity of this puzzle and what would you say that the limit is how big this problem can grow before it would not be possible to use exhaustive search? \n",
    "\n",
    "<img src=\"door.png\" alt=\"drawing\" width=\"250\"/>\n",
    "\n",
    "Below, you can find the datastructure for the `DoorRingPuzzle`, your goal is to open the door by turning the rings, `turn_ring`. To check if the door opens you can use `open_door`. You are not allowed to change the datastructure or directly modify the attributes of both classes. However, study both classes `Ring` and `DoorRingPuzzle` to understand how they work and then write an exhaustive search algorithm to solve the problem.\n",
    "\n",
    "This week we will continue using the framework for last week. So, complete the class `SolveDoorRingPuzzle`. We will use depth-first search to find all solutions for the exhaustive search.\n",
    "\n",
    "***Before, you start programming think about how to the problem on paper and think about a pseudo algorithm.***"
   ]
  },
  {
   "cell_type": "code",
   "execution_count": 22,
   "id": "8b3369f3-4d8f-483d-be18-a0a236f6842d",
   "metadata": {
    "editable": false,
    "slideshow": {
     "slide_type": ""
    },
    "tags": []
   },
   "outputs": [
    {
     "name": "stdout",
     "output_type": "stream",
     "text": [
      "Appending to exercise5_3893995_notebook.py\n"
     ]
    }
   ],
   "source": [
    "%%execwritefile exercise5_{student}_notebook.py 20 -a -s\n",
    "\n",
    "class Ring():\n",
    "    \"\"\"\n",
    "    One ring of the door.\n",
    "    \"\"\"\n",
    "    def __init__(self, current=0, size=3):\n",
    "        \"\"\"\n",
    "        Attributes:\n",
    "            :param current: Current value that is on top of the ring.\n",
    "            :type current: int\n",
    "            :param size: The number of options that this ring has.\n",
    "            :type size: int\n",
    "            :param answer: the correct position of this ring.\n",
    "            :type answer: int            \n",
    "        \"\"\"\n",
    "        self.__current = current\n",
    "        self.__size = size\n",
    "        self.__answer = RNG.integers(size)\n",
    "\n",
    "    def turn(self):\n",
    "        \"\"\"\n",
    "        This method turns the ring clockwise and\n",
    "        returns if the ring is in the original order.\n",
    "\n",
    "        :return: if the ring is in the original order.\n",
    "        :rtype: boolean\n",
    "        \"\"\"\n",
    "        self.__current = (self.__current + 1) % self.__size\n",
    "        return not self.__current\n",
    "\n",
    "    def correct(self):\n",
    "        \"\"\"\n",
    "        This method check if the ring is currently in the right position.\n",
    "        \"\"\"\n",
    "        return self.__current == self.__answer\n",
    "        \n",
    "    def __repr__(self):\n",
    "        return f\"Ring({chr(self.__current + 65)})\"\n",
    "\n",
    "class DoorRingPuzzle():\n",
    "    \"\"\"\n",
    "    This class represents a door with a certain amount of rings \n",
    "    that need to be positioned in the correct order to open the door.\n",
    "    \"\"\"\n",
    "    def __init__(self, n_rings=None, size=3):\n",
    "        \"\"\"\n",
    "        This initialized the door. \n",
    "        \n",
    "        Attributes:\n",
    "            :param rings: The rings of the door.\n",
    "            :type rings: list[Ring}\n",
    "\n",
    "\n",
    "        :param n_rings: The number of rings this door has, defaults to 3\n",
    "        :type n_rings: int, optional\n",
    "        :param size: The size of each ring (number of options), defaults to 3\n",
    "                     This can also be a list with the size of each individual ring.\n",
    "                     This list should have the same length as n_rings.\n",
    "        :type size: list[int] or int, optional\n",
    "        \"\"\"\n",
    "        if not isinstance(size, int):\n",
    "            if n_rings != len(size) and not n_rings is None:\n",
    "                raise ValueError(\"The number of rings should be equal to the number of sizes that are given for each individual ring!\")\n",
    "            self.__rings = [Ring(0, s) for s in size]            \n",
    "        else:\n",
    "            if n_rings is None:\n",
    "                n_rings = 3\n",
    "            self.__rings = [Ring(0, size) for _ in range(n_rings)]\n",
    "\n",
    "    def turn_ring(self, ring):\n",
    "        \"\"\"\n",
    "        This method can rotate one ring clockwise.\n",
    "        It also tells the user if the ring is back in its original position.\n",
    "        Thus with the \"A\" on top.\n",
    "\n",
    "        :param ring: The ring that is rotated.\n",
    "        :type ring: int\n",
    "        :return: If the ring is in its original position.\n",
    "        :rtype: boolean\n",
    "        \"\"\"\n",
    "        return self.__rings[ring].turn()\n",
    "\n",
    "    def open_door(self):\n",
    "        \"\"\"\n",
    "        This method checks if you can open the door.\n",
    "\n",
    "        :return: If opening the door succeeded.\n",
    "        :rtype: boolean\n",
    "        \"\"\"\n",
    "        for ring in self.__rings:\n",
    "            if not ring.correct():\n",
    "                return False\n",
    "        return True\n",
    "\n",
    "    def __len__(self):\n",
    "        \"\"\"\n",
    "        This gives the length of the door which\n",
    "        is defined as the number of rings.\n",
    "        \"\"\"\n",
    "        return len(self.__rings)\n",
    "\n",
    "    def __repr__(self):\n",
    "        return str(self.__rings)    "
   ]
  },
  {
   "cell_type": "code",
   "execution_count": 26,
   "id": "f76ba28d-a47e-40eb-83c5-2215f7d12c0c",
   "metadata": {
    "editable": true,
    "slideshow": {
     "slide_type": ""
    },
    "tags": []
   },
   "outputs": [
    {
     "name": "stdout",
     "output_type": "stream",
     "text": [
      "Replace existing code exercise5_3893995_notebook.py\n"
     ]
    }
   ],
   "source": [
    "%%execwritefile exercise5_{student}_notebook.py 25 -a -s\n",
    "\n",
    "class SolveDoorRingPuzzle():\n",
    "    def __call__(self, door):\n",
    "        \"\"\"\n",
    "        This method solves the door with \"n\" rings problem.\n",
    "        You do not need to return anything because of side effects.\n",
    "        See, this exercise of ITP on an explanation of side effects:\n",
    "        https://joshhug.github.io/LeidenITP/labs/lab7/#exercise-1-shopping-list-standard\n",
    "\n",
    "        :param door: The door that needs to be opened.\n",
    "        :type door: DoorRingPuzzle\n",
    "        \"\"\"\n",
    "        self.door = door\n",
    "    \n",
    "    def step(self, ring):\n",
    "        \"\"\"\n",
    "        This is one step in the exhaustive search algorithm which uses depth-first search.\n",
    "\n",
    "        :param ring: The ring that is currently turned.\n",
    "        :type ring: int\n",
    "        :return: If the door is opened in the current configuration.\n",
    "        :rtype: boolean\n",
    "        \"\"\"\n",
    "        if ring == len(self.door):\n",
    "            return self.door.open_door()\n",
    "        if self.door.turn_ring(ring):\n",
    "            return self.step(ring + 1)\n",
    "        return self.step(ring)\n",
    "            \n",
    "    def next_step(self, ring):\n",
    "        \"\"\"\n",
    "        This determines the next step in the exhaustive search.\n",
    "    \n",
    "        :param ring: The ring that is currently turned.\n",
    "        :type ring: int\n",
    "        :return: This method returns what self.step returns\n",
    "        :type: boolean\n",
    "        \"\"\"\n",
    "        return self.step(ring)\n"
   ]
  },
  {
   "cell_type": "markdown",
   "id": "087dba9b-930c-41b5-8bc3-156cb86d04ed",
   "metadata": {
    "editable": false,
    "slideshow": {
     "slide_type": ""
    },
    "tags": []
   },
   "source": [
    "## Test your code\n",
    "\n",
    "Below, you can test your code for `SolveDoorRingPuzzle`. Note, that only a basic example is given. Write tests for other examples yourself."
   ]
  },
  {
   "cell_type": "code",
   "execution_count": 27,
   "id": "2aec2950-9d77-4323-9664-74a2d76d4cf3",
   "metadata": {
    "editable": true,
    "slideshow": {
     "slide_type": ""
    },
    "tags": []
   },
   "outputs": [
    {
     "data": {
      "text/plain": [
       "(False, [Ring(A), Ring(A), Ring(A)])"
      ]
     },
     "execution_count": 27,
     "metadata": {},
     "output_type": "execute_result"
    }
   ],
   "source": [
    "door = DoorRingPuzzle()\n",
    "SolveDoorRingPuzzle()(door)\n",
    "door.open_door(), door"
   ]
  },
  {
   "cell_type": "markdown",
   "id": "996079d3-99a4-4009-949c-05f1afcb6146",
   "metadata": {
    "editable": false,
    "slideshow": {
     "slide_type": ""
    },
    "tags": []
   },
   "source": [
    "# 3.0 Ternary Tree \n",
    "\n",
    "In the second lab, we made binary trees and binary search trees and you probably noticed that the binary search tree algorithms were easier to implement because there was just a straightforward algorithm that led to the answer and you did not have to do any searching. For example, to find the highest value in a binary search tree you can just traverse the tree by always taking the right `node` until the next one is None, while for a binary tree, you need to go through the whole tree and to find the highest value. So was finding the highest number in a binary tree exhaustive search? Try to find out by looking at your code for lab 2. \n",
    "\n",
    "In this exercise, we will implement an exhaustive search using a depth-first search approach to find a value in a ternary tree. The approach should be very similar to finding a value in a binary tree. However, before we can search a tree we need to make the tree. Therefore, you need to implement an add method for a ternary tree. Before, you implement the `add` method make sure you understand the `Node` class."
   ]
  },
  {
   "cell_type": "code",
   "execution_count": null,
   "id": "5c15dc9c-18f3-4543-a7fd-9d6310eae9bb",
   "metadata": {
    "editable": true,
    "slideshow": {
     "slide_type": ""
    },
    "tags": []
   },
   "outputs": [],
   "source": [
    "%%execwritefile exercise5_{student}_notebook.py 30 -a -s\n",
    "\n",
    "class Node():\n",
    "    def __init__(self, value, left=None, middle=None, right=None):\n",
    "        \"\"\"\n",
    "        This is a node for a ternary tree.\n",
    "\n",
    "        Attributes:\n",
    "            :param info: The value of the node.\n",
    "            :type: info: int\n",
    "            :param left: The left child of the node, defaults to None\n",
    "            :type left: Node, optional\n",
    "            :param middle: The left child of the node, defaults to None\n",
    "            :type middle: Node, optional\n",
    "            :param right: The left child of the node, defaults to None\n",
    "            :type right: Node, optional\n",
    "        \"\"\"\n",
    "        self.info = value\n",
    "        self.left = left\n",
    "        self.middle = middle\n",
    "        self.right = right\n",
    "\n",
    "    def __repr__(self):\n",
    "        return f\"Node({self.info}) -> {self.left.info if self.left is not None else 'None', self.middle.info if self.middle is not None else 'None', self.right.info if self.right is not None else 'None'}\"\n",
    "\n",
    "class TernaryTree():\n",
    "    def __init__(self):\n",
    "        \"\"\"\n",
    "        This initializes the tree which is always initialized as an empty tree.\n",
    "\n",
    "        Attributes:\n",
    "            :param root: The root of the tree\n",
    "            :type root: Node\n",
    "        \"\"\"\n",
    "        self.root = None\n",
    "\n",
    "    def add(self, value):\n",
    "        \"\"\"\n",
    "        Randomly add values to the tree.\n",
    "        You could do this by randomly traversing the tree and \n",
    "        add a new node when a empty leaf node is found.\n",
    "\n",
    "        :param value: The value that is added to the tree\n",
    "        :type value: int       \n",
    "        \"\"\"\n",
    "        raise NotImplementedError(\"Please complete this method\")    \n",
    "\n",
    "    def show(self):\n",
    "        \"\"\"\n",
    "        This method shows the tree, where the root node is colored blue, \n",
    "        the left nodes are colored green, and the right nodes are colored red.\n",
    "        \"\"\"\n",
    "        if self.root is None:\n",
    "            raise ValueError(\"This is an empty tree and can not be show.\")\n",
    "            \n",
    "        # Recursively add all edges and nodes.\n",
    "        def add_node_edge(G, color_map, parent_graph_node, node):\n",
    "            # In case of printing a binary tree check if a node exists\n",
    "            if node.info in G:\n",
    "                i = 2\n",
    "                while f\"{node.info}_{i}\" in G:\n",
    "                    i += 1\n",
    "                node_name = f\"{node.info}_{i}\"\n",
    "            else:\n",
    "                node_name = node.info\n",
    "            G.add_node(node_name)\n",
    "\n",
    "            # Make root node or edge to parent node\n",
    "            if parent_graph_node is not None:\n",
    "                G.add_edge(parent_graph_node, node_name)\n",
    "            \n",
    "            if node.left is not None:\n",
    "                add_node_edge(G, color_map, node_name, node.left)\n",
    "            if node.middle is not None:\n",
    "                add_node_edge(G, color_map, node_name, node.middle)\n",
    "            if node.right is not None:\n",
    "                add_node_edge(G, color_map, node_name, node.right)\n",
    "        \n",
    "        # Make the graph\n",
    "        G = nx.DiGraph()\n",
    "        color_map = []\n",
    "        add_node_edge(G, color_map, None, self.root)\n",
    "        name_root = self.root.info\n",
    "\n",
    "        # Generate the node positions\n",
    "        pos = hierarchy_pos(G, root=self.root.info, leaf_vs_root_factor=1)\n",
    "        new_pos = {k:v for k,v in pos.items() if str(k)[0] != 'N'}\n",
    "        k = G.subgraph(new_pos.keys())\n",
    "\n",
    "        nx.draw(k, pos=new_pos, with_labels=True, node_size=1000)\n",
    "\n",
    "        # Set the plot settings\n",
    "        x, y = zip(*pos.values())\n",
    "        x_min, x_max = min(x), max(x)\n",
    "        plt.xlim(1.015*x_min-0.015*x_max, 1.015*x_max-0.015*x_min)\n",
    "        plt.ylim(min(y)-0.08, max(y)+0.08)\n",
    "        plt.show()"
   ]
  },
  {
   "cell_type": "markdown",
   "id": "45fbc342-b470-4491-854a-4fc2ec9ab07d",
   "metadata": {
    "editable": false,
    "slideshow": {
     "slide_type": ""
    },
    "tags": []
   },
   "source": [
    "## Test your code\n",
    "\n",
    "Below, you can test your code for the method `add`. Make sure that if you add an element to the tree, it works as intended. Note, that similar to lab 2 it is possible to `show` the tree."
   ]
  },
  {
   "cell_type": "code",
   "execution_count": null,
   "id": "ee0ccec9-36cd-459f-a92a-c7299b194284",
   "metadata": {},
   "outputs": [],
   "source": [
    "plt.matplotlib.rcParams['figure.figsize'] = [20, 4]  # This changes the size of the plot\n",
    "# type your test code here"
   ]
  },
  {
   "cell_type": "markdown",
   "id": "f509bafd-ae27-475c-9132-548c974c0254",
   "metadata": {
    "editable": false,
    "slideshow": {
     "slide_type": ""
    },
    "tags": []
   },
   "source": [
    "## 3.1 Exhaustive Ternary Tree Search\n",
    "\n",
    "Now, that we can make a tree, implement an exhaustive search algorithm that finds a node or returns `None` if the ndde is not found.\n",
    "\n",
    "So far, we had a class that only did the exhaustive search algorithm. However, this time we have already a class `TernaryTree` and we add a search method to the class instead of `__call__`. To help structure the code we can use two internal helper methods `_step`. It is made static because it does not use the class itself, so it does not need the argument `self`. However, it definitely belongs to the class as it is a helper method of `search`."
   ]
  },
  {
   "cell_type": "code",
   "execution_count": null,
   "id": "4a46b2be-73be-4831-97e3-d3fb0acf5421",
   "metadata": {
    "editable": true,
    "slideshow": {
     "slide_type": ""
    },
    "tags": []
   },
   "outputs": [],
   "source": [
    "%%execwritefile exercise5_{student}_notebook.py 35 -a -s -c\n",
    "\n",
    "class TernaryTree(TernaryTree):\n",
    "    def search(self, value):\n",
    "        \"\"\"\n",
    "        This method search for a node with the value \"value\".\n",
    "        If the node is not found it returns None.\n",
    "\n",
    "        :param value: The value that is search for.\n",
    "        :type value: int\n",
    "        :return: This returns the node\n",
    "        :rtype: Node\n",
    "        \"\"\"\n",
    "        raise NotImplementedError(\"Please complete this method\")\n",
    "        \n",
    "    @staticmethod\n",
    "    def _step(current_node, value):\n",
    "        \"\"\"\n",
    "        This is a recursive helper method for \"search\".\n",
    "        This makes it possible to do the exhaustive search.\n",
    "        \n",
    "        :param value: The value that is search for.\n",
    "        :type value: int\n",
    "        :param current_node: The current node in the Ternary tree.\n",
    "        :type current_node: Node\n",
    "        :return: This returns the node\n",
    "        :rtype: Node\n",
    "        \"\"\"\n",
    "        raise NotImplementedError(\"Please complete this method\")\n",
    "    "
   ]
  },
  {
   "cell_type": "markdown",
   "id": "5c2c677e-48d1-4eb6-a11e-375c1db3bb64",
   "metadata": {
    "editable": false,
    "slideshow": {
     "slide_type": ""
    },
    "tags": []
   },
   "source": [
    "## Test your code\n",
    "\n",
    "Below, you can test your code for the method `search`."
   ]
  },
  {
   "cell_type": "code",
   "execution_count": null,
   "id": "d2aff1b3-44ae-4cd5-a4c1-ed9938958eba",
   "metadata": {},
   "outputs": [],
   "source": [
    "plt.matplotlib.rcParams['figure.figsize'] = [20, 4]  # This changes the size of the plot\n",
    "# type your test code here\n"
   ]
  },
  {
   "cell_type": "markdown",
   "id": "68765e48-dc5b-44c1-b903-6598455d374b",
   "metadata": {
    "editable": false,
    "slideshow": {
     "slide_type": ""
    },
    "tags": []
   },
   "source": [
    "# 4.0 Hamiltonian circuits\n",
    "\n",
    "## ***All exercises below are additional content for extra practice, they only count for a small percentage of the bonus (TestExpert). So, you can skip to section [5.0 Unittests](#5.0-UNITTESTS) if you do not want to do these exercises.***\n",
    "\n",
    "In the theory, you created a pseudo algorithm to find all possible Hamiltonian circuits (question 1c). Here, we will implement that algorithm and use it to find the shortest Hamiltonian circuit. This is a version of the Traveling Sales Problem as you also return to your start position. One way to brute force a solution is to use exhaustive search to find all possible paths and then check them one by one which is the shortest route.\n",
    "\n",
    "You should have already written code to create the Hamiltonian circuits, otherwise, do problem set 4 first. Therefore, only one function is provided which should return the shortest path given a completely undirected graph (also called a fully connected graph). Also, the undirect graph class is given. \n",
    "\n",
    "Hint: It is recommended to first make all Hamiltonian circuits and then check the length of each one of them. "
   ]
  },
  {
   "cell_type": "code",
   "execution_count": null,
   "id": "2b955716-bca3-49ad-9298-73fbababa8fd",
   "metadata": {
    "editable": true,
    "slideshow": {
     "slide_type": ""
    },
    "tags": []
   },
   "outputs": [],
   "source": [
    "%%execwritefile exercise5_{student}_notebook.py 40 -a -s\n",
    "\n",
    "class CompleteGraph():\n",
    "    def __init__(self, size=5):\n",
    "        \"\"\"\n",
    "        This initializes a complete graph with certain size.\n",
    "        The internal representation is an adjacency matrix.\n",
    "\n",
    "        :param size: The size of the graph, i.e., the number of nodes.\n",
    "        :type size: int\n",
    "        \"\"\"\n",
    "        self.adjacency_matrix = np.zeros((size, size))\n",
    "        for i in range(size):\n",
    "            for j in range(i):\n",
    "                self.adjacency_matrix[i,j] = self.adjacency_matrix[j,i] = RNG.integers(1, 10)\n",
    "\n",
    "    def __getitem__(self, index):\n",
    "        \"\"\"\n",
    "        This makes the graph indexable as if you are directly indexing \"self.adjacency_matrix\"\n",
    "        \"\"\"\n",
    "        return self.adjacency_matrix[index]\n",
    "\n",
    "    def __repr__(self):\n",
    "        return repr(self.adjacency_matrix)\n",
    "            \n",
    "    def show(self):\n",
    "        \"\"\"\n",
    "        This method shows the current graph.\n",
    "        \"\"\"\n",
    "        graph = nx.from_numpy_array(self.adjacency_matrix, create_using=nx.DiGraph)\n",
    "        pos = nx.shell_layout(graph)\n",
    "        edge_labels = nx.get_edge_attributes(graph, \"weight\")\n",
    "        nx.draw_networkx(graph, \n",
    "                         pos,\n",
    "                         with_labels=True,\n",
    "                         node_size=400,\n",
    "                         width=2,\n",
    "                         arrowsize=15)\n",
    "        nx.draw_networkx_edge_labels(graph, pos, edge_labels, label_pos=0.15, font_size=10)\n",
    "        plt.show()\n",
    "\n",
    "def find_shortest_circuit(graph):\n",
    "    \"\"\"\n",
    "    This function finds the shortest Hamiltonian circuit in a graph and\n",
    "    returns the path and the length of this path.\n",
    "\n",
    "    :param graph: The graph\n",
    "    :type graph: CompleteGraph\n",
    "    :return: The shortest circuit and its cost\n",
    "    :rtype: tuple[tuple[int], int]\n",
    "    \"\"\"\n",
    "    raise NotImplementedError(\"Please complete this method\")\n",
    "\n",
    "def length_of_circuit(graph, cycle):\n",
    "    \"\"\"\n",
    "    This is a helper function to calculate the length of one circuit.\n",
    "\n",
    "    :param graph: The graph which the cycle traverses\n",
    "    :type graph: CompleteGraph\n",
    "    :param cycle: The cycle that encodes the circuit. \n",
    "                  This should be just a list of nodes.\n",
    "    :type cycle: list[int]\n",
    "    :return: The length of this circuit\n",
    "    :rtype: int\n",
    "    \"\"\"\n",
    "    raise NotImplementedError(\"Please complete this method\")"
   ]
  },
  {
   "cell_type": "markdown",
   "id": "a6ab5422-8d02-44f4-8440-d5bb4ade9865",
   "metadata": {
    "editable": false,
    "slideshow": {
     "slide_type": ""
    },
    "tags": []
   },
   "source": [
    "## Test your code\n",
    "\n",
    "Below, you can test your code for the function `find_shortest_circuit`. A simple example is already given. Make sure you also test different graphs with different sizes."
   ]
  },
  {
   "cell_type": "code",
   "execution_count": null,
   "id": "c0899772-d385-4945-adb2-bb4a47351dab",
   "metadata": {},
   "outputs": [],
   "source": [
    "plt.matplotlib.rcParams['figure.figsize'] = [8, 6]  # This changes the size of the plot\n",
    "\n",
    "g = CompleteGraph(4)\n",
    "print(g)\n",
    "print(find_shortest_circuit(g))\n",
    "g.show()"
   ]
  },
  {
   "cell_type": "markdown",
   "id": "2c3e25e3",
   "metadata": {
    "editable": false,
    "slideshow": {
     "slide_type": ""
    },
    "tags": []
   },
   "source": [
    "# 5.0 UNITTESTS\n",
    "\n",
    "During this assignment, we copied all your code to the following **.py** file **\"exercise5_{student}_notebook.py\"**. You also tested your code along the way. However, it is possible that there are still a few errors. Therefore, it is good to run some unittest when you complete all coding. This gives you an extra chance to spot mistakes. Here, we added some unittest for you to use. Note, that they are merely a check to see if your **.py** is correct.\n",
    "\n",
    "From this point onwards we strongly advise renaming the **\"exercise5_{student}_notebook.py\"** file to the correct file name that you need to hand in **\"exercise5_{student}.py\"**. Now, you can adjust the **\"exercise5_{student}.py\"** file without the risk of overwriting it when you run the notebook again. This also enables the possibility to run the unittests. Note, that from now on if you make a change in the Python file and you want to go back to the notebook later that you also make this change in the notebook. To run the unittests go to the **\"unit_test.py\"** file and run the file in either PyCharm, VSCode, or a terminal. You can run it in a terminal using the following command: `python -m unittest --verbose unit_test.py`. `--verbose` is optional but gives you more details about which tests fail and which succeed.\n",
    "\n",
    "You are allowed to add your own unittests. \n",
    "\n",
    "## Uploading to Brightspace for Bonus\n",
    "\n",
    "Next, you can upload your Python file with the correct name on brightspace in the bonus assignment. Follow the instructions on this brightspace page carefully to have a successful submission. After you get the feedback for this exercise you can either continue working in the Python file to fix possible bugs or you can go back to the notebook and remake the Python file. ***Please be careful, do not update your code in both the Python file and notebook at the same time!***. If you go back to the notebook do not forget to update the notebook with any changes you made within the Python file. In this case, it is best to just delete the Python file as soon as you copied all changes.\n",
    "\n",
    "***NOTE, that you can now also upload the exercises from week 1! The process is exactly the same only there is no unittest.***"
   ]
  },
  {
   "cell_type": "code",
   "execution_count": null,
   "id": "83fd0eaa-fd1f-4c1c-b51b-0f27825e8998",
   "metadata": {
    "editable": false,
    "slideshow": {
     "slide_type": ""
    },
    "tags": []
   },
   "outputs": [],
   "source": []
  }
 ],
 "metadata": {
  "kernelspec": {
   "display_name": "Python 3 (ipykernel)",
   "language": "python",
   "name": "python3"
  },
  "language_info": {
   "codemirror_mode": {
    "name": "ipython",
    "version": 3
   },
   "file_extension": ".py",
   "mimetype": "text/x-python",
   "name": "python",
   "nbconvert_exporter": "python",
   "pygments_lexer": "ipython3",
   "version": "3.10.13"
  }
 },
 "nbformat": 4,
 "nbformat_minor": 5
}
