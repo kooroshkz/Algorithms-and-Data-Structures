{
 "cells": [
  {
   "cell_type": "markdown",
   "id": "23475a6f",
   "metadata": {
    "editable": false,
    "slideshow": {
     "slide_type": ""
    },
    "tags": []
   },
   "source": [
    "# Welcome to Lab 10: Dynamic Programming 2\n",
    "\n",
    "In this lab, we will see for a second time how dynamic programming can speed up our algorithms and possibly reduce their complexity.\n",
    "\n",
    "Throughout the exercise, you will be extending the classes by completing code stubs in their respective cells. You do not need to copy the code, it is enough to work in the cell under each exercise. Note that there are separate cells provided where you can (and should) test your code. During the exercises, you will (through customMagics) obtain a Python file (.py) which you should run against a set of unittests. Please avoid writing any unnecessary code in cells containing the `%%execwritefile` command. Doing this could alter the file `.py` and make it syntactically incorrect or interfere with the unittests. To prevent this stick to the following rules:'\n",
    " - ***Do not remove cells that start with ``%%execwritefile`` and do not remove that line.***\n",
    " - If a cell contains a `%%execwritefile` command at the top and a class definition you need to complete the given methods and adding helper methods is allowed, but do **not** add new functions or Python script to the cells (like global variables).\n",
    " - If a cell contains a `%%execwritefile` command at the top and **not** a class definition you must complete the given functions and you are free to add helper functions, new classes, and Python script that contains for example global variables. Note, that the use of global variables is almost always wrong except for a few use cases such as RNG for the numpy random generator methods.\n",
    " - If a cell does **not** contain a `%%execwritefile` command you can plot things, print variables, and write test cases. Here, you are free to do whatever you want.\n",
    " - If a cell does **not** contain a `%%execwritefile` command it should not contain functional code that is needed to run other functions or classes. The reason is that it is not copied to the `.py`. So, it can not be used during the unittesting.\n",
    "\n",
    "You do not need to look at the `customMagic.py` nor do more than glimpse at the test file, your exercise is contained in this workbook unless specified differently in this notebook's instructions. \n",
    "\n",
    "***Hint: Jupyter Notebooks saves variables between runs. If you get unexpected results try restarting the kernel, this deletes any saved variables.*** \n",
    "\n",
    "Please fill in your student name down below"
   ]
  },
  {
   "cell_type": "code",
   "execution_count": null,
   "id": "78cf4ce6-3998-4c5b-b2fb-d8b83c6336fc",
   "metadata": {
    "editable": true,
    "slideshow": {
     "slide_type": ""
    },
    "tags": []
   },
   "outputs": [],
   "source": [
    "# FILL IN YOU STUDENT NUMBER\n",
    "student = 1000000\n",
    "\n",
    "# Set this to false if you want the default screen width.\n",
    "WIDE_SCREEN = True"
   ]
  },
  {
   "cell_type": "code",
   "execution_count": null,
   "id": "2f51569f",
   "metadata": {
    "ExecuteTime": {
     "end_time": "2024-01-19T10:20:08.920263757Z",
     "start_time": "2024-01-19T10:20:08.907961698Z"
    },
    "editable": false,
    "slideshow": {
     "slide_type": ""
    },
    "tags": []
   },
   "outputs": [],
   "source": [
    "from custommagics import CustomMagics\n",
    "import timeit\n",
    "from itertools import product\n",
    "\n",
    "if WIDE_SCREEN:\n",
    "    import notebook\n",
    "    from IPython.display import display, HTML\n",
    "\n",
    "    if int(notebook.__version__.split(\".\")[0]) >= 7:    \n",
    "        display(HTML(\n",
    "            '<style>'\n",
    "                '.jp-Notebook { padding-left: 1% !important; padding-right: 1% !important; width:100% !important; } '\n",
    "            '</style>'\n",
    "        ))\n",
    "    else:\n",
    "        display(HTML(\"<style>.container { width:98% !important; }</style>\"))\n",
    "\n",
    "get_ipython().register_magics(CustomMagics)"
   ]
  },
  {
   "cell_type": "code",
   "execution_count": null,
   "id": "dc271cbf-ca64-4f94-b215-4306c69b5667",
   "metadata": {
    "ExecuteTime": {
     "end_time": "2024-01-19T10:20:13.144182399Z",
     "start_time": "2024-01-19T10:20:12.693456275Z"
    },
    "editable": false,
    "slideshow": {
     "slide_type": ""
    },
    "tags": []
   },
   "outputs": [],
   "source": [
    "%%execwritefile exercise10_{student}_notebook.py 0 \n",
    "\n",
    "# DO NOT CHANGE THIS CELL.\n",
    "# THESE ARE THE ONLY IMPORTS YOU ARE ALLOWED TO USE:\n",
    "\n",
    "import numpy as np\n",
    "import copy\n",
    "import networkx as nx\n",
    "import matplotlib.pyplot as plt\n",
    "\n",
    "RNG = np.random.default_rng()"
   ]
  },
  {
   "cell_type": "code",
   "execution_count": null,
   "id": "022add5f-abf2-48f4-9416-3e579f078a80",
   "metadata": {},
   "outputs": [],
   "source": [
    "plt.matplotlib.rcParams['figure.figsize'] = [30, 10]"
   ]
  },
  {
   "cell_type": "markdown",
   "id": "8940fb1c-7ab3-474b-b795-ca06dbb6ee9f",
   "metadata": {
    "editable": false,
    "slideshow": {
     "slide_type": ""
    },
    "tags": []
   },
   "source": [
    "# 1.0 Tribonacci Sequence\n",
    "\n",
    "Last week, we saw the Fibonacci sequence when dynamic programming was used the complexity was reduced substantially. This week we will look at the Tribonacci sequence, which has an even better complexity improvement when programmed using dynamic programming.\n",
    "\n",
    "The Tribonacci sequence is similar to the Fibonacci sequence but instead of having two starting numbers it has three starting numbers tri(0) = 0, tri(1) = 0, tri(1) = 1 and the formula to calculate any Tribonacci number is: tri(n) = tri(n-3) + tri(n-2) + tri(n-1).\n",
    "\n",
    "In this exercise, it is up to you if you want to use top-down or bottom-up dynamic programming."
   ]
  },
  {
   "cell_type": "code",
   "execution_count": null,
   "id": "69a8c618-572b-4b29-9205-b967979f883b",
   "metadata": {
    "editable": true,
    "slideshow": {
     "slide_type": ""
    },
    "tags": []
   },
   "outputs": [],
   "source": [
    "%%execwritefile exercise10_{student}_notebook.py 100 -a -s\n",
    "\n",
    "class Tribonacci():\n",
    "    \"\"\"\n",
    "    This class has one object attribute:\n",
    "        :param tribo_numbers: A dictionary with the Tribonacci number, where the dictionary works like this: tri(key) = value\n",
    "        :type tribo_numbers: dict[int, int]\n",
    "    \"\"\"\n",
    "    def __init__(self):\n",
    "        \"\"\"\n",
    "        Here the Tribonacci numbers are initialized for the function because they are always the same.\n",
    "        See, the object attributes described above.\n",
    "        \"\"\"\n",
    "        self.tribo_numbers = ...\n",
    "        raise NotImplementedError(\"Please complete this method.\")\n",
    "\n",
    "    def __call__(self, n):\n",
    "        \"\"\"\n",
    "        This method calculates the nth Tribonacci number using dynamic programming.\n",
    "\n",
    "        :param n: The nth Tribonacci number\n",
    "        :type n: int\n",
    "        :return: tri(n)\n",
    "        :rtype: int\n",
    "        \"\"\"\n",
    "        raise NotImplementedError(\"Please complete this method.\")\n",
    "            \n",
    "    def step(self, n):\n",
    "        \"\"\"\n",
    "        This calculates recursively the nth Tribonacci number.\n",
    "        \n",
    "        :param n: The nth Tribonacci number\n",
    "        :type n: int\n",
    "        :return: tri(n)\n",
    "        :rtype: int\n",
    "        \"\"\"\n",
    "        raise NotImplementedError(\"Please complete this method.\")\n",
    "        "
   ]
  },
  {
   "cell_type": "markdown",
   "id": "64d4f49a-79e6-491f-b36a-bee6ef346cb1",
   "metadata": {
    "editable": false,
    "slideshow": {
     "slide_type": ""
    },
    "tags": []
   },
   "source": [
    "## Test your code\n",
    "\n",
    "In the cell below, you can test your `Tribonacci` class."
   ]
  },
  {
   "cell_type": "code",
   "execution_count": null,
   "id": "fdabb7b7-8ab7-4edb-ab31-9fbfb18266d8",
   "metadata": {},
   "outputs": [],
   "source": [
    "# Type your testing code here\n"
   ]
  },
  {
   "cell_type": "markdown",
   "id": "dcfeb3b8-e0d2-4a17-81fd-beedcf2189f0",
   "metadata": {
    "editable": false,
    "slideshow": {
     "slide_type": ""
    },
    "tags": []
   },
   "source": [
    "# 2.0 Coin Change Problem\n",
    "\n",
    "Two weeks ago, we solved the coin problem using divide and conquer. While this approach worked, it was not very fast and even giving back all possibilities for giving back for 50 cents took a long time. This week we will apply dynamic programming on top of the divide-and-conquer approach to make the algorithm faster. The approach will be the same as two weeks ago where we do take the largest coin or not. See the description below.\n",
    "\n",
    "## 2.1 Description of 2.0 Coin Change Problem lab 8:\n",
    "\n",
    "In the coin problem, we have an unlimited amount of coins of the following type: 1 cent, 2 cents, 5 cents, 10 cents, 20 cents, 50 cents, 1 euro, and 2 euros. The goal is to find all ways to give change for a certain amount so for example if we want to give change for 5 cents we can do that in 4 ways: 5x 1 cent, 3x 1 cent + 1x 2 cents, 1x 1 cent + 2x 2 cents, and 1x 5 cents. Note, that there is no order in which we give the change. So, the only thing that matters is what coins and how many of these coins we use.\n",
    "\n",
    "Try to come up with a pseudo-algorithm that uses Divide and Conquer to solve this problem. The idea should be similar to the equal subset problem where you split the problem into two subproblems, where in one case you choose to use the largest coin and in the other case you don't. \n",
    "\n",
    "## 2.2 Dynamic Programming \n",
    "\n",
    "As said this week we will do the same, however, we store all sub-results so they can be used for other calculations. Also, to avoid floating point errors, we will represent all amounts in cents. So 1 euro will be 100 cents. \n",
    "\n",
    "***Write down a pseudo algorithm before you start programming and the recurrence equation.***"
   ]
  },
  {
   "cell_type": "code",
   "execution_count": null,
   "id": "88466c38-0b90-40fe-8e52-62d2c383ed8d",
   "metadata": {
    "editable": true,
    "slideshow": {
     "slide_type": ""
    },
    "tags": []
   },
   "outputs": [],
   "source": [
    "%%execwritefile exercise10_{student}_notebook.py 200 -a -s\n",
    "\n",
    "class CoinChange():\n",
    "    \"\"\"\n",
    "    This class has one class attribute:\n",
    "        :param coins: This is a list containing all coins\n",
    "        :type coins: list[int]\n",
    "        \n",
    "    This class has one object attribute:\n",
    "        :param coin_change: A dictionary, where the keys are the change amount and max coin id, and the values are a list containing all combinations to give the change back limited by the max coin. \n",
    "        :type coin_change: dict[tuple[int], list[list[int]]]\n",
    "    \"\"\"\n",
    "    coins = [200, 100, 50, 20, 10, 5, 2, 1]\n",
    "\n",
    "    def __init__(self):\n",
    "        self.coin_change = {(0, c): [[]] for c in range(len(CoinChange.coins))}\n",
    "    \n",
    "    def __call__(self, amount):\n",
    "        \"\"\"\n",
    "        This method calculates all possible ways to give change for the amount.\n",
    "\n",
    "        :param amount: The amount that is the sum of the change.\n",
    "        :type amount: int\n",
    "        :return: A list with all possible ways to give change. The change consists of a list of coins.\n",
    "        :rtype: list[list[int]]\n",
    "        \"\"\"\n",
    "        raise NotImplementedError(\"Please complete this method\")\n",
    "\n",
    "    def step(self, amount, max_coin_id):\n",
    "        \"\"\"\n",
    "        One step in the divide and conquer algorithm.\n",
    "\n",
    "        :param leftover_amount: The leftover amount of change. This is the original amount minus the change.\n",
    "        :type leftover_amount: int\n",
    "        :param change: A list of coins.\n",
    "        :type change: list[int]\n",
    "        :param max_coin_id: The index of the largest coin that this step can use.\n",
    "        :type max_coin_id: int\n",
    "        :return: A list with all possible ways to give change. The change consists of a list of coins.\n",
    "        :rtype: list[list[int]]\n",
    "        \"\"\"\n",
    "        raise NotImplementedError(\"Please complete this method\")\n"
   ]
  },
  {
   "cell_type": "markdown",
   "id": "7be6627f-b4aa-4bd1-9214-75c931290001",
   "metadata": {
    "editable": false,
    "slideshow": {
     "slide_type": ""
    },
    "tags": []
   },
   "source": [
    "## Test your code\n",
    "\n",
    "In the cell below, you can test your `CoinChange` class."
   ]
  },
  {
   "cell_type": "code",
   "execution_count": null,
   "id": "6da32098-bbcd-422c-b027-bb7f9a2e127b",
   "metadata": {
    "editable": true,
    "slideshow": {
     "slide_type": ""
    },
    "tags": []
   },
   "outputs": [],
   "source": [
    "# Type your testing code here\n"
   ]
  },
  {
   "cell_type": "markdown",
   "id": "5adc6fec-7e68-4aa8-920f-6ed59270825a",
   "metadata": {
    "editable": false,
    "slideshow": {
     "slide_type": ""
    },
    "tags": []
   },
   "source": [
    "# 3.0 Collatz Conjecture\n",
    "\n",
    "In this exercise, we will work with the Collatz Conjecture. This states that a sequence generated by the rules below will always end in a one. Here, we will just assume that it is true and we will try to find the number up to $n$ that generates the longest sequence. The rules are:\n",
    "\n",
    "| | |\n",
    "|---------------------------------------------------------------------|--------------------------------------------|\n",
    "| If the number is even divide the number by two                      | $f(n) = f(n)\\ /\\ 2 \\text{, if  }n\\ \\%\\ 2 = 0 $ |\n",
    "| If the number is uneven multiply the number by three and add one    | $f(n) =  f(n) * 3 + 1 \\text{, if  }n\\ \\%\\ 2 = 1 $ |\n",
    "\n",
    "You can read this [wiki article](https://en.wikipedia.org/wiki/Collatz_conjecture) to find more information about the Collatz Conjecture.\n",
    "\n",
    "If we are assuming that all sequences and in a 1 then the last number before the 1 are always 2, 4, 8, and 16. From here the previous number can either be a 5 or 32. Also, the process is deterministic meaning that for a certain starting number the sequence is always the same. Therefore, dynamic programming can help us to make the process faster by storing for intermediate results how long the sequence was. Think about what the recurrence equation could be and if we could better use top-down or bottom-up dynamic programming (or does it not matter).\n",
    "\n",
    "\n"
   ]
  },
  {
   "cell_type": "code",
   "execution_count": null,
   "id": "e56f2eb5-0ebd-4f15-9fab-052800d265fb",
   "metadata": {
    "editable": true,
    "slideshow": {
     "slide_type": ""
    },
    "tags": []
   },
   "outputs": [],
   "source": [
    "%%execwritefile exercise10_{student}_notebook.py 300 -a -s\n",
    "\n",
    "class Collatz():\n",
    "    \"\"\"\n",
    "    This class has one object attribute:\n",
    "        :param collatz_number: Think about how to store the intermediate results\n",
    "        :type collatz_number: dict[...]\n",
    "    \"\"\"\n",
    "    def __init__(self):\n",
    "        self.collatz_number = ...\n",
    "        raise NotImplementedError(\"Please complete this method\")\n",
    "\n",
    "    def __call__(self, max_):\n",
    "        \"\"\"\n",
    "        This method finds the starting number below `max_` with the longest sequence.\n",
    "\n",
    "        Note, that if two starting numbers have the same sequence length the smallest number is the tie breaker.\n",
    "\n",
    "        :param max_: The maximum starting number\n",
    "        :type max_: int\n",
    "        :return: The starting number with the longest sequence and the length of this sequence.\n",
    "        :rtype: int, int\n",
    "        \"\"\"\n",
    "        raise NotImplementedError(\"Please complete this method\")\n",
    "\n",
    "    def step(self, number):\n",
    "        \"\"\"\n",
    "        This method calculates the next number in the sequences and returns its length.\n",
    "\n",
    "        :param number: The current number\n",
    "        :type number: int\n",
    "        :return: The length of the sequences\n",
    "        :rtype: int\n",
    "        \"\"\"\n",
    "        raise NotImplementedError(\"Please complete this method\")          \n",
    "    "
   ]
  },
  {
   "cell_type": "markdown",
   "id": "35876b18-73a3-4ff9-8d7c-73e41fee650f",
   "metadata": {
    "editable": false,
    "slideshow": {
     "slide_type": ""
    },
    "tags": []
   },
   "source": [
    "## Test your code\n",
    "\n",
    "In the cell below, you can test your `Collatz` class."
   ]
  },
  {
   "cell_type": "code",
   "execution_count": null,
   "id": "d04d821c-a0a6-4bdb-88a5-3b14d0f3cce9",
   "metadata": {},
   "outputs": [],
   "source": [
    "# Type your testing code here\n",
    "collatz_func = Collatz()\n",
    "collatz_func(1000000)"
   ]
  },
  {
   "cell_type": "markdown",
   "id": "6e012d42-7c3c-472c-aa40-5b8fca776474",
   "metadata": {
    "editable": false,
    "slideshow": {
     "slide_type": ""
    },
    "tags": []
   },
   "source": [
    "# 4.0 Knapsack Problem\n",
    "\n",
    "So far we used dynamic programming in combination with recursion or more generally with a search algorithm. However, we can also solve a dynamic programming problem by writing down a recurrence relation and filling in the corresponding table bottom-up to find a solution. For example, in the knapsack problem, the table would look something like this:\n",
    "\n",
    "| i     |    subset         | Weights |   |   |   |     |\n",
    "|------|-------------|----------|---|---|---|-----|\n",
    "|     |       | 0        | 1 | 2 | 3 | ... |\n",
    "| 0    | $\\phi$      |      0    | 0  | 0  | 0  |  0   |\n",
    "| 1    | {1}         |          |   |   |   |     |\n",
    "| 2    | {1,2}       |          |   |   |   |     |\n",
    "| 3    | {1,2,3}     |          |   |   |   |     |\n",
    "| .... | {1,2,3,...} |          |   |   |   |     |\n",
    "\n",
    "The idea here is that you solve for a subset of the items in the knapsack problem. So, for example, the first line is the empty subset therefore the value is always zero. Now, each row, you add a new item and you can answer the question for each weight: what is worth more adding this item or not adding this item? Similar to the coin problem if you add the item you lose space/weight and you take the best solution possible with the reduced space/weight. If you do not add the item you can just look at the subset where you did not take the item.\n",
    "\n",
    "***Before, you start programming make a recurrence equation fill in the table and think about an algorithm to solve it!***"
   ]
  },
  {
   "cell_type": "code",
   "execution_count": null,
   "id": "aec08f8a-5e0a-43e5-b381-78d8a42a25c0",
   "metadata": {
    "editable": true,
    "slideshow": {
     "slide_type": ""
    },
    "tags": []
   },
   "outputs": [],
   "source": [
    "%%execwritefile exercise10_{student}_notebook.py 400 -a -s\n",
    "\n",
    "def knapsack1(max_weights, items):\n",
    "    \"\"\"\n",
    "    This function returns the optimal value you can fit in the knapsack given the max weight and the items.\n",
    "    The optimal value is returned by returning the filled-in dynamic programming table.\n",
    "\n",
    "    :param max_weights: The maximum weight that is allowed in the knapsack.\n",
    "    :type max_weights: int\n",
    "    :param items: The items set you can choose from. Each item has a weight and value represented by a (weight, value) pair.\n",
    "    :type items: list[tuple[int]]\n",
    "    :return: The filled-in dynamic programming table.\n",
    "    :rtype: ndarray(int, (max_weights+1, len(items)+1))\n",
    "    \"\"\" \n",
    "    raise NotImplementedError(\"Please complete this function\")\n"
   ]
  },
  {
   "cell_type": "markdown",
   "id": "4f7e28fe-803d-42f9-8151-27441315d558",
   "metadata": {
    "editable": false,
    "slideshow": {
     "slide_type": ""
    },
    "tags": []
   },
   "source": [
    "## Test your code\n",
    "\n",
    "In the cell below, you can test your `knapsack` function."
   ]
  },
  {
   "cell_type": "code",
   "execution_count": null,
   "id": "7063fa01-a0b5-4526-b2ae-401686177092",
   "metadata": {},
   "outputs": [],
   "source": [
    "# Type your testing code here \n",
    "number_of_items = RNG.integers(2,11)\n",
    "max_weight = 8\n",
    "items = [(RNG.integers(1,5), RNG.integers(10,21)) for i in range(number_of_items)]\n",
    "print(items)\n",
    "knapsack1(max_weight, items)"
   ]
  },
  {
   "cell_type": "markdown",
   "id": "24ba463e-ce8b-4eb3-86c3-23666a75acbf",
   "metadata": {
    "editable": false,
    "slideshow": {
     "slide_type": ""
    },
    "tags": []
   },
   "source": [
    "# 4.1 Knapsack Problem\n",
    "\n",
    "In the previous exercise, we determined the maximum value you can fit in a knapsack given a list of items and a max weight. In this exercise, we also want to track which items are in the knapsack given a subset of items and weights. "
   ]
  },
  {
   "cell_type": "code",
   "execution_count": null,
   "id": "ce1771a5-a0cd-480a-ad36-9ca1cc841b24",
   "metadata": {
    "editable": true,
    "slideshow": {
     "slide_type": ""
    },
    "tags": []
   },
   "outputs": [],
   "source": [
    "%%execwritefile exercise10_{student}_notebook.py 410 -a -s\n",
    "\n",
    "def knapsack2(max_weights, items):\n",
    "    \"\"\"\n",
    "    This function returns the optimal value you can fit in the knapsack given the max weight and the items.\n",
    "    The optimal value is returned by returning the filled-in dynamic programming table and \n",
    "    the dictionary containing which items you need to fill the knapsack optimally.\n",
    "\n",
    "    :param max_weights: The maximum weight that is allowed in the knapsack.\n",
    "    :type max_weights: int\n",
    "    :param items: The items set you can choose from. Each item has a weight and value represented by a (weight, value) pair.\n",
    "    :type items: list[tuple[int]]\n",
    "    :return: The filled-in table for the value and a table (dictionary) that tells you if an item is used or not for a certain subset and weight.\n",
    "    :rtype: ndarray(int, (max_weights+1, len(items)+1)), dict[tuple[int], list[int]]\n",
    "    \"\"\" \n",
    "    is_used_table = {(0,i) : [] for i in range(max_weights+1)}\n",
    "    is_used_table |= {(i,0) : [] for i in range(len(items)+1)}\n",
    "    \n",
    "    raise NotImplementedError(\"Please complete this function\")\n"
   ]
  },
  {
   "cell_type": "markdown",
   "id": "f53a3943-c1e7-467c-9c3b-1bf44838487b",
   "metadata": {
    "editable": false,
    "slideshow": {
     "slide_type": ""
    },
    "tags": []
   },
   "source": [
    "## Test your code\n",
    "\n",
    "In the cell below, you can test your `knapsack` function."
   ]
  },
  {
   "cell_type": "code",
   "execution_count": null,
   "id": "9e925b40-6485-4924-81b3-0ef376c0064f",
   "metadata": {},
   "outputs": [],
   "source": [
    "# Type your testing code here \n",
    "number_of_items = RNG.integers(2,11)\n",
    "max_weight = 8\n",
    "items = [(RNG.integers(1,5), RNG.integers(10,21)) for i in range(number_of_items)]\n",
    "print(items)\n",
    "knapsack2(max_weight, items)"
   ]
  },
  {
   "cell_type": "markdown",
   "id": "ce54c388-769e-4c25-a436-a00081dea7d1",
   "metadata": {
    "editable": false,
    "slideshow": {
     "slide_type": ""
    },
    "tags": []
   },
   "source": [
    "# 5.0 Rod Cutting Problem\n",
    "\n",
    "In this exercise, we will solve the rod-cutting problem. In this problem, you have a rod of size $n$ and you can sell this rod as one piece or you can cut it (multiple times) and sell all cuts. The rod sizes that you can sell are the natural number from 1 to $n$ and each length has its own price. For example, you have a rod of length 4 and the prices are length 1: 1 euro, length 2: 5 euros, length 3: 8 euros, length 4: 9 euros. Therefore, we can sell the rod in the following ways, with a total sum of:\n",
    " - 4 * 1 (length 1) = 4 euros\n",
    " - 2 * 1 (length 1) + 1 * 5 (length 2) = 7 euros\n",
    " - 2 * 5 (length 2) = 10 euros\n",
    " - 1 * 1 (length 1) + 1 * 8 (length 3) = 9 euros\n",
    " - 1 * 9 (length 4) = 9 euros\n",
    "\n",
    "Here, you can see that the best thing we can do is cut the rod in half and sell two rods with length 2 for a total amount of 10.\n",
    "\n",
    "## 5.1 Rod Cutting Using Divide & Conquer\n",
    "\n",
    "There are multiple ways of solving this problem. Below, we wrote a very suboptimal solution for the problem. What is the complexity of this approach? Can you reduce the complexity of this problem using divide and conquer? What would be the new complexity?\n",
    "\n",
    "***Below, implement a divide-and-conquer algorithm that reduces the time complexity.***"
   ]
  },
  {
   "cell_type": "code",
   "execution_count": null,
   "id": "75e45ed2-174d-4eeb-bcce-53bdb608d6fa",
   "metadata": {
    "editable": true,
    "slideshow": {
     "slide_type": ""
    },
    "tags": []
   },
   "outputs": [],
   "source": [
    "%%execwritefile exercise10_{student}_notebook.py 510 -a -s\n",
    "\n",
    "def rod_cutting(sell_prices, rod_size=5):\n",
    "    \"\"\"\n",
    "    This function calculates how a rod with a certain size can best be sold.\n",
    "    This can be either as a whole or in (several) slices.\n",
    "\n",
    "    :param sell_prices: The price per rod length\n",
    "    :type sell_prices: list[int]\n",
    "    :param rod_size: The size of the rod uncut.\n",
    "    :type rod_size: int\n",
    "    :return: The maximum value for which this rod can be sold.\n",
    "    :rtype: int\n",
    "    \"\"\"\n",
    "    current_prices = 0\n",
    "    # Loop through all possible combinations of cutting the rod.\n",
    "    for cuts in product(range(rod_size+1), repeat=rod_size):\n",
    "        # Check if this is a possible way of cutting the rod\n",
    "        if sum(cuts) == rod_size:\n",
    "            total_sell_price = sum(sell_prices[cut] for cut in cuts)\n",
    "            current_prices = max(current_prices, total_sell_price)\n",
    "            \n",
    "    return current_prices\n",
    "                \n",
    "class RodCuttingDivideAndConquer():\n",
    "    def __call__(self, sell_prices, rod_size=5):\n",
    "        \"\"\"\n",
    "        This method calculates how a rod with a certain size can best be sold.\n",
    "        This can be either as a whole or in (several) slices.\n",
    "    \n",
    "        :param sell_prices: The price per rod length\n",
    "        :type sell_prices: list[int]\n",
    "        :param rod_size: The size of the rod uncut.\n",
    "        :type rod_size: int\n",
    "        :return: The maximum value for which this rod can be sold.\n",
    "        :rtype: int\n",
    "        \"\"\"\n",
    "        self.sell_prices = sell_prices\n",
    "        return self.step(rod_size, rod_size)\n",
    "\n",
    "    def step(self, rod_size, max_cutsize):\n",
    "        \"\"\"\n",
    "        This method recursively calculates how a rod with a certain size can best be sold,\n",
    "        given a maximum cut size.\n",
    "\n",
    "        :param rod_size: The size of the rod uncut.\n",
    "        :type rod_size: int\n",
    "        :param max_cutsize: The maximum size of the rod that can be cut off.\n",
    "        :type max_cutsize: int\n",
    "        :return: The maximum value for which this rod can be sold.\n",
    "        :rtype: int\n",
    "        \"\"\"\n",
    "        raise NotImplementedError(\"Please complete this method\")\n",
    "        \n",
    "        "
   ]
  },
  {
   "cell_type": "markdown",
   "id": "11edeeaf-3826-43db-a4ec-2a7cebf70fc9",
   "metadata": {
    "editable": false,
    "slideshow": {
     "slide_type": ""
    },
    "tags": []
   },
   "source": [
    "## Test your code\n",
    "\n",
    "In the cell below, you can test your `RodCuttingDivideAndConquer` class."
   ]
  },
  {
   "cell_type": "code",
   "execution_count": null,
   "id": "7a5d9ddc-87dd-4938-952e-ecd219553f61",
   "metadata": {},
   "outputs": [],
   "source": [
    "# Each index represent a rod length so index 1 has a length of 1 with the price of 1.\n",
    "sell_prices = [0, 1, 5, 8, 9, 10, 17, 17, 20]\n",
    "\n",
    "rod_cut_function = RodCuttingDivideAndConquer()\n",
    "print(f\"The rod cutting sell price using the default algorithm: {rod_cutting(sell_prices)}\")\n",
    "print(f\"The rod cutting sell price using the divide-and-conquer algorithm: {rod_cut_function(sell_prices)}\")\n"
   ]
  },
  {
   "cell_type": "markdown",
   "id": "18506b0f-88ed-4e7b-8a7a-bd3fe92a59a5",
   "metadata": {
    "editable": false,
    "slideshow": {
     "slide_type": ""
    },
    "tags": []
   },
   "source": [
    "## 5.2 Rod Cutting Using Divide & Conquer and Dynamic Programming\n",
    "\n",
    "In the exercise above, we significantly reduced the complexity using divide and conquer, however, several subproblems are the same (similar to the Coin Problem). Therefore, we could use dynamic programming to even further reduce the complexity. What would this new complexity be? what is the recurrence equation? And what would the dynamic programming table look like? \n",
    "\n",
    "***Try to answer the questions above before you start programming.*** "
   ]
  },
  {
   "cell_type": "code",
   "execution_count": null,
   "id": "59c8cb50-c648-44f9-ba76-f2edb741a4d0",
   "metadata": {
    "editable": true,
    "slideshow": {
     "slide_type": ""
    },
    "tags": []
   },
   "outputs": [],
   "source": [
    "%%execwritefile exercise10_{student}_notebook.py 520 -a -s\n",
    "\n",
    "class RodCuttingDynamicProgramming():\n",
    "    def __call__(self, sell_prices, rod_size=5):\n",
    "        \"\"\"\n",
    "        This method calculates how a rod with a certain size can best be sold.\n",
    "        This can be either as a whole or in (several) slices.\n",
    "    \n",
    "        :param sell_prices: The price per rod length\n",
    "        :type sell_prices: list[int]\n",
    "        :param rod_size: The size of the rod uncut.\n",
    "        :type rod_size: int\n",
    "        :return: The maximum value for which this rod can be sold.\n",
    "        :rtype: int\n",
    "        \"\"\"\n",
    "        raise NotImplementedError(\"Please complete this method\")\n",
    "\n",
    "    def step(self, rod_size, max_cutsize):\n",
    "        \"\"\"\n",
    "        This method recursively calculates how a rod with a certain size can best be sold,\n",
    "        given a maximum cut size.\n",
    "\n",
    "        :param rod_size: The size of the rod uncut.\n",
    "        :type rod_size: int\n",
    "        :param max_cutsize: The maximum size of the rod that can be cut off.\n",
    "        :type max_cutsize: int\n",
    "        :return: The maximum value for which this rod can be sold.\n",
    "        :rtype: int\n",
    "        \"\"\"\n",
    "        raise NotImplementedError(\"Please complete this method\")\n",
    "        "
   ]
  },
  {
   "cell_type": "markdown",
   "id": "d084cf33-9299-422e-b017-80291d4d04ea",
   "metadata": {
    "editable": false,
    "slideshow": {
     "slide_type": ""
    },
    "tags": []
   },
   "source": [
    "## Test your code\n",
    "\n",
    "In the cell below, you can test your `RodCuttingDivideAndConquer` class."
   ]
  },
  {
   "cell_type": "code",
   "execution_count": null,
   "id": "4c68ed2a-6c22-4827-8c8d-d908c543d10f",
   "metadata": {},
   "outputs": [],
   "source": [
    "# Each index represent a rod length so index 1 has a length of 1 with the price of 1.\n",
    "sell_prices = [0, 1, 5, 8, 9, 10, 17, 17, 20]\n",
    "\n",
    "rod_cut_function = RodCuttingDynamicProgramming()\n",
    "print(f\"The rod cutting sell price using the divide-and-conquer algorithm: {rod_cut_function(sell_prices)}\")\n"
   ]
  },
  {
   "cell_type": "markdown",
   "id": "dff86dbb-2b2a-4acb-b17a-e25834481ba1",
   "metadata": {
    "editable": false,
    "slideshow": {
     "slide_type": ""
    },
    "tags": []
   },
   "source": [
    "## 5.3 Rod Cutting Using Dynamic Programming\n",
    "\n",
    "So far, we have reduced the time complexity to a polynomial function, and while this is a really big improvement from the naive/suboptimal algorithm. It came at the cost of using more memory. In this course, we do not cover space complexity (memory usage), but in this case, it is $n^2$, which can be easily seen by the fact that we use a table with rows and columns. However, this could be reduced to $n$, in other words, there is a dynamic programming solution that uses a table with one row. Try to find a bottom-up dynamic programming algorithm that has the same complexity as our divide-and-conquer top-down dynamic programming algorithm but uses only one row. In other words, the recurrence relation should only depend on the rod size and not the max cutting size. What is this new recurrence relation?\n",
    "\n",
    "***Try to answer the questions above before you start programming.*** "
   ]
  },
  {
   "cell_type": "code",
   "execution_count": null,
   "id": "df148a97-eff5-4072-8321-17d72ac2d200",
   "metadata": {
    "editable": true,
    "slideshow": {
     "slide_type": ""
    },
    "tags": []
   },
   "outputs": [],
   "source": [
    "%%execwritefile exercise10_{student}_notebook.py 530 -a -s\n",
    "\n",
    "def rod_cutting_dynamic_programming(sell_prices, rod_size=5):\n",
    "    \"\"\"\n",
    "    This function calculates how a rod with a certain size can best be sold.\n",
    "    This can be either as a whole or in (several) slices.\n",
    "\n",
    "    Use bottom-up dynamic programming to find the answer.\n",
    "\n",
    "    :param sell_prices: The price per rod length\n",
    "    :type sell_prices: list[int]\n",
    "    :param rod_size: The size of the rod uncut.\n",
    "    :type rod_size: int\n",
    "    :return: The maximum value for which this rod can be sold.\n",
    "    :rtype: int\n",
    "    \"\"\"\n",
    "    raise NotImplementedError(\"Please complete this function\")\n",
    "        "
   ]
  },
  {
   "cell_type": "markdown",
   "id": "e6488a43-bccf-4201-a0f0-ddd50eea50ce",
   "metadata": {
    "editable": false,
    "slideshow": {
     "slide_type": ""
    },
    "tags": []
   },
   "source": [
    "## Test your code\n",
    "\n",
    "In the cell below, you can test your `rod_cutting_dynamic_programming` class."
   ]
  },
  {
   "cell_type": "code",
   "execution_count": null,
   "id": "b1c4c070-10f5-46c2-9bb9-04506e1d56a1",
   "metadata": {
    "editable": true,
    "slideshow": {
     "slide_type": ""
    },
    "tags": []
   },
   "outputs": [],
   "source": [
    "# Each index represents a rod length so index 1 has a length of 1 with the price of 1.\n",
    "sell_prices = [0, 1, 5, 8, 9, 10, 17, 17, 20]\n",
    "print(f\"The rod cutting sell price using a bottum-up dynamic programming algorithm: {rod_cutting_dynamic_programming(sell_prices)}\")\n"
   ]
  },
  {
   "cell_type": "markdown",
   "id": "76d79565-07ef-4987-924b-8a8a0a2a5a81",
   "metadata": {
    "editable": false,
    "slideshow": {
     "slide_type": ""
    },
    "tags": []
   },
   "source": [
    "## 5.4 Rod Cutting Problem Speed Test\n",
    "\n",
    "In the previous exercises we made 4 algorithms, here we will test each one and see how fast they are. Keep in mind that a speed-test can reflect complexity but speed and complexity are not the same!\n"
   ]
  },
  {
   "cell_type": "code",
   "execution_count": null,
   "id": "e12a2756-600e-4b67-b5cf-3c935ea42a79",
   "metadata": {
    "editable": false,
    "slideshow": {
     "slide_type": ""
    },
    "tags": []
   },
   "outputs": [],
   "source": [
    "sell_prices_small = [0, 1, 5, 8, 9, 10, 17, 20]\n",
    "sell_prices =  [0, 1, 5, 8, 9, 10, 17, 20, 25, 29, 32, 33, 39, 42, 49, 59, 62, 68, 73, 80, 100]\n",
    "\n",
    "print(\"Starting measuring performance ...\")\n",
    "print(f\"Solving the rod cut problem using the default algorithm with a reduced problem size:\\t\\t\\t\",\n",
    "      format(timeit.timeit(f\"[rod_cutting({sell_prices_small}, i) for i in range({len(sell_prices_small)})]\",\n",
    "                    setup=\"from __main__ import rod_cutting\",\n",
    "                    number=1), \".6f\"),\n",
    "      \"seconds\")\n",
    "print(f\"Solving the rod cut problem using the divide-and-conquer algorithm:\\t\\t\\t\\t\\t\",\n",
    "      format(timeit.timeit(f\"[RodCuttingDivideAndConquer()({sell_prices2}, i) for i in range({len(sell_prices2)})]\",\n",
    "                    setup=\"from __main__ import RodCuttingDivideAndConquer\",\n",
    "                    number=10)/10, \".6f\"),\n",
    "      \"seconds\")\n",
    "print(f\"Solving the rod cut problem using the divide-and-conquer plus top-down dynamic programming algorithm:\\t\",\n",
    "      format(timeit.timeit(f\"[RodCuttingDynamicProgramming()({sell_prices}, i) for i in range({len(sell_prices)})]\",\n",
    "                    setup=\"from __main__ import RodCuttingDynamicProgramming\",\n",
    "                    number=10)/10, \".6f\"),\n",
    "      \"seconds\")\n",
    "print(f\"Solving the rod cut problem using a bottom-up dynamic programming algorithm:\\t\\t\\t\\t\",\n",
    "      format(timeit.timeit(f\"[rod_cutting_dynamic_programming({sell_prices}, i) for i in range({len(sell_prices)})]\",\n",
    "                    setup=\"from __main__ import rod_cutting_dynamic_programming\",\n",
    "                    number=10)/10, \".6f\"),\n",
    "      \"seconds\")"
   ]
  },
  {
   "cell_type": "markdown",
   "id": "2c3e25e3",
   "metadata": {
    "editable": false,
    "slideshow": {
     "slide_type": ""
    },
    "tags": []
   },
   "source": [
    "# 6.0 UNITTESTS\n",
    "\n",
    "During this assignment, we copied all your code to the following **.py** file **\"exercise10_{student}_notebook.py\"**. You also tested your code along the way. However, it is possible that there are still a few errors. Therefore, it is good to run some unittest when you complete all coding. This gives you an extra chance to spot mistakes. Here, we added some unittest for you to use. Note, that they are merely a check to see if your **.py** is correct.\n",
    "\n",
    "From this point onwards we strongly advise renaming the **\"exercise10_{student}_notebook.py\"** file to the correct file name that you need to hand in **\"exercise10_{student}.py\"**. Now, you can adjust the **\"exercise10_{student}.py\"** file without the risk of overwriting it when you run the notebook again. This also enables the possibility to run the unittests. Note, that from now on if you make a change in the Python file and you want to go back to the notebook later that you also make this change in the notebook. To run the unittests go to the **\"unit_test.py\"** file and run the file in either PyCharm, VSCode, or a terminal. You can run it in a terminal using the following command: `python -m unittest --verbose unit_test.py`. `--verbose` is optional but gives you more details about which tests fail and which succeed.\n",
    "\n",
    "You are allowed to add your own unittests. \n",
    "\n",
    "## Uploading to Brightspace for Bonus\n",
    "\n",
    "Next, you can upload your Python file with the correct name on brightspace in the bonus assignment. Follow the instructions on this brightspace page carefully to have a successful submission. After you get the feedback for this exercise you can either continue working in the Python file to fix possible bugs or you can go back to the notebook and remake the Python file. ***Please be careful, do not update your code in both the Python file and notebook at the same time!***. If you go back to the notebook do not forget to update the notebook with any changes you made within the Python file. In this case, it is best to just delete the Python file as soon as you copied all changes.\n",
    "\n",
    "***NOTE, that you can now also upload the exercises from week 1! The process is exactly the same only there is no unittest.***"
   ]
  },
  {
   "cell_type": "code",
   "execution_count": null,
   "id": "b31894c7-deff-42b0-8d83-f7a8ecbd2eab",
   "metadata": {},
   "outputs": [],
   "source": []
  }
 ],
 "metadata": {
  "kernelspec": {
   "display_name": "Python 3 (ipykernel)",
   "language": "python",
   "name": "python3"
  },
  "language_info": {
   "codemirror_mode": {
    "name": "ipython",
    "version": 3
   },
   "file_extension": ".py",
   "mimetype": "text/x-python",
   "name": "python",
   "nbconvert_exporter": "python",
   "pygments_lexer": "ipython3",
   "version": "3.11.5"
  }
 },
 "nbformat": 4,
 "nbformat_minor": 5
}
